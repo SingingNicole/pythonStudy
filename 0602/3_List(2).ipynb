{
 "cells": [
  {
   "cell_type": "markdown",
   "id": "2efd25c8",
   "metadata": {},
   "source": [
    "## List(2)"
   ]
  },
  {
   "cell_type": "markdown",
   "id": "8c2436d8",
   "metadata": {},
   "source": [
    "##### 리스트 자료형(추가)\n",
    "- set: 중복값을 허용하지 않음\n",
    "- tuple: 한번 저장하면 데이터를 유지, 수정 불가\n",
    "- dictionary: {name: value, name: value}로 짝지어진 형태"
   ]
  },
  {
   "cell_type": "markdown",
   "id": "1040ebaf",
   "metadata": {},
   "source": [
    "#### 2차원 리스트"
   ]
  }
 ],
 "metadata": {
  "kernelspec": {
   "display_name": "Python 3 (ipykernel)",
   "language": "python",
   "name": "python3"
  },
  "language_info": {
   "codemirror_mode": {
    "name": "ipython",
    "version": 3
   },
   "file_extension": ".py",
   "mimetype": "text/x-python",
   "name": "python",
   "nbconvert_exporter": "python",
   "pygments_lexer": "ipython3",
   "version": "3.10.9"
  }
 },
 "nbformat": 4,
 "nbformat_minor": 5
}
