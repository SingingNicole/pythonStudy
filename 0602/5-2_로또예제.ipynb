{
 "cells": [
  {
   "cell_type": "code",
   "execution_count": 1,
   "id": "40da8652",
   "metadata": {},
   "outputs": [],
   "source": [
    "## 선언된 함수를 이용해 로또 추첨기를 만들어보세요\n",
    "# 6개의 숫자는 중복되지 않아야 합니다\n",
    "# 다 뽑았으면 정렬해서 출력해주세요"
   ]
  },
  {
   "cell_type": "code",
   "execution_count": 2,
   "id": "9eb71c00",
   "metadata": {},
   "outputs": [],
   "source": [
    "import random\n",
    "# 1부터 45 중 난수값을 가져오는 함수\n",
    "def getNumber():\n",
    "    return random.randrange(1, 46)"
   ]
  },
  {
   "cell_type": "code",
   "execution_count": 4,
   "id": "d3f93b86",
   "metadata": {},
   "outputs": [
    {
     "name": "stdout",
     "output_type": "stream",
     "text": [
      "** 로또 추첨을 시작합니다.\n",
      "로또 번호 -->[11, 28, 31, 32, 34, 37]\n"
     ]
    }
   ],
   "source": [
    "# 비어 있는 리스트 lotto 선언\n",
    "lotto = []\n",
    "print(\"** 로또 추첨을 시작합니다. **\")\n",
    "\n",
    "while True:\n",
    "    num = getNumber()\n",
    "    \n",
    "    if lotto.count(num) == 0: # 리스트 안에 뽑아 온 숫자가 없을 경우 append\n",
    "        lotto.append(num)\n",
    "    if len(lotto) >= 6: # 리스트의 길이가 6 이상일 경우 break(while 중지)\n",
    "        break\n",
    "        \n",
    "print(\"로또 번호 -->\", end = \"\")\n",
    "lotto.sort()\n",
    "print(lotto)"
   ]
  }
 ],
 "metadata": {
  "kernelspec": {
   "display_name": "Python 3 (ipykernel)",
   "language": "python",
   "name": "python3"
  },
  "language_info": {
   "codemirror_mode": {
    "name": "ipython",
    "version": 3
   },
   "file_extension": ".py",
   "mimetype": "text/x-python",
   "name": "python",
   "nbconvert_exporter": "python",
   "pygments_lexer": "ipython3",
   "version": "3.10.9"
  }
 },
 "nbformat": 4,
 "nbformat_minor": 5
}
