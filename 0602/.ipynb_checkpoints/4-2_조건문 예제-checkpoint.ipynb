{
 "cells": [
  {
   "cell_type": "code",
   "execution_count": 1,
   "id": "ead06850",
   "metadata": {},
   "outputs": [
    {
     "name": "stdout",
     "output_type": "stream",
     "text": [
      "2023 <class 'int'>\n"
     ]
    }
   ],
   "source": [
    "# 날짜와 관련된 datetime util을 import한다.\n",
    "import datetime\n",
    "\n",
    "today = datetime.date.today()\n",
    "y = today.year\n",
    "print(y, type(y))"
   ]
  },
  {
   "cell_type": "code",
   "execution_count": 10,
   "id": "2099f64a",
   "metadata": {},
   "outputs": [
    {
     "name": "stdout",
     "output_type": "stream",
     "text": [
      "태어난 연도를 입력하세요.\n",
      "2023\n",
      "학생이 아닙니다.\n"
     ]
    }
   ],
   "source": [
    "import datetime\n",
    "\n",
    "today = datetime.date.today()\n",
    "y = today.year\n",
    "\n",
    "print(\"태어난 연도를 입력하세요.\")\n",
    "birthYear = int(input())\n",
    "\n",
    "age = y - birthYear + 1\n",
    "\n",
    "if age <= 26 and age >= 20:\n",
    "    print(\"대학생\")\n",
    "elif age < 20 and age >= 17:\n",
    "    print(\"고등학생\")\n",
    "elif age < 17 and age >=14:\n",
    "    print(\"중학생\")\n",
    "elif age < 14 and age >= 8:\n",
    "    print(\"초등학생\")\n",
    "else:\n",
    "    print(\"학생이 아닙니다.\")"
   ]
  },
  {
   "cell_type": "markdown",
   "id": "3c0dc6df",
   "metadata": {},
   "source": [
    "- stu 변수를 선언 후 값을 지정하여 마지막에 print(stu)도 가능"
   ]
  },
  {
   "cell_type": "markdown",
   "id": "4862fde3",
   "metadata": {},
   "source": [
    "- 긴 문자열을 입력할 때는 ''' / '''을 사용한다."
   ]
  },
  {
   "cell_type": "code",
   "execution_count": 38,
   "id": "e4f67b75",
   "metadata": {},
   "outputs": [
    {
     "name": "stdout",
     "output_type": "stream",
     "text": [
      "A의 주사위값:  1\n",
      "B의 주사위값:  1\n",
      "비김\n"
     ]
    }
   ],
   "source": [
    "'''\n",
    "두 사람이 주사위를 던져 더 큰 수가 나오면 이기는 게임을 작성\n",
    "A가 이기거나 B가 이기거나 비기는 결과가 나오도록 프로그램을 작성하시오.\n",
    "'''\n",
    "\n",
    "import random #난수 발생하는 모듈\n",
    "num_a = random.randrange(1, 7) #1부터 6까지 숫자 중 하나의 값을 무작위 추출\n",
    "num_b = random.randrange(1, 7) #1부터 6까지 숫자 중 하나의 값을 무작위 추출\n",
    "\n",
    "result = \"\"\n",
    "\n",
    "if num_a > num_b:\n",
    "    result = \"A의 승리\"\n",
    "elif num_a < num_b:\n",
    "    result = \"B의 승리\"\n",
    "else:\n",
    "    result = \"비김\"\n",
    "\n",
    "print(\"A의 주사위값: \", num_a)\n",
    "print(\"B의 주사위값: \", num_b)\n",
    "print(result)"
   ]
  },
  {
   "cell_type": "code",
   "execution_count": null,
   "id": "c4f220b5",
   "metadata": {},
   "outputs": [],
   "source": []
  }
 ],
 "metadata": {
  "kernelspec": {
   "display_name": "Python 3 (ipykernel)",
   "language": "python",
   "name": "python3"
  },
  "language_info": {
   "codemirror_mode": {
    "name": "ipython",
    "version": 3
   },
   "file_extension": ".py",
   "mimetype": "text/x-python",
   "name": "python",
   "nbconvert_exporter": "python",
   "pygments_lexer": "ipython3",
   "version": "3.10.9"
  }
 },
 "nbformat": 4,
 "nbformat_minor": 5
}
