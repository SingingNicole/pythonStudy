{
 "cells": [
  {
   "cell_type": "markdown",
   "id": "77c3719b",
   "metadata": {},
   "source": [
    "## py3 실행코드"
   ]
  },
  {
   "cell_type": "code",
   "execution_count": 1,
   "id": "4abb29b0",
   "metadata": {},
   "outputs": [
    {
     "name": "stdout",
     "output_type": "stream",
     "text": [
      "[0, 1, 2] [0, 1]\n"
     ]
    }
   ],
   "source": [
    "a = [0, 1, 2, 3, 4]\n",
    "print(a[:3], a[:-3])"
   ]
  },
  {
   "cell_type": "code",
   "execution_count": 2,
   "id": "13282f6e",
   "metadata": {},
   "outputs": [
    {
     "name": "stdout",
     "output_type": "stream",
     "text": [
      "[4, 3, 2, 1, 0]\n"
     ]
    }
   ],
   "source": [
    "a = [0, 1, 2, 3, 4]\n",
    "print(a[::-1])"
   ]
  },
  {
   "cell_type": "code",
   "execution_count": 7,
   "id": "a2782ecb",
   "metadata": {},
   "outputs": [
    {
     "name": "stdout",
     "output_type": "stream",
     "text": [
      "[['egg', 'salad', 'bread'], ['lamb', 'chicken'], ['apple']]\n"
     ]
    }
   ],
   "source": [
    "first = [\"egg\", \"salad\", \"bread\", \"soup\", \"cafe\"]\n",
    "second = [\"fish\", \"lamb\", \"pork\", \"beef\", \"chicken\"]\n",
    "third = [\"apple\", \"banana\", \"orange\", \"grape\", \"mango\"]\n",
    "\n",
    "order = [first, second, third]\n",
    "\n",
    "john = [order[0][:-2], second[1::3], third[0]] # thrid의 경우 'apple'이라는 문자열인 상태이다.\n",
    "\n",
    "del john[2] # 문자열 'apple' 삭제\n",
    "\n",
    "john.extend([order[2][0:1]]) # ['apple'] 배열이 추가된다.\n",
    "\n",
    "print(john)"
   ]
  },
  {
   "cell_type": "code",
   "execution_count": 8,
   "id": "3188c19f",
   "metadata": {},
   "outputs": [
    {
     "name": "stdout",
     "output_type": "stream",
     "text": [
      "[1, 2, 3, 4] None\n"
     ]
    }
   ],
   "source": [
    "list_a = [3, 2, 1, 4]\n",
    "list_b = list_a.sort()\n",
    "print(list_a, list_b)"
   ]
  },
  {
   "cell_type": "code",
   "execution_count": 9,
   "id": "3c3d8790",
   "metadata": {},
   "outputs": [
    {
     "name": "stdout",
     "output_type": "stream",
     "text": [
      "None\n"
     ]
    }
   ],
   "source": [
    "a = [5, 7, 3]\n",
    "b = [3, 9, 1]\n",
    "c = a + b\n",
    "c = c.sort()\n",
    "print(c)"
   ]
  },
  {
   "cell_type": "code",
   "execution_count": 10,
   "id": "bc0b345e",
   "metadata": {},
   "outputs": [
    {
     "name": "stdout",
     "output_type": "stream",
     "text": [
      "['grape', 'strawberry', 'melon'] ['banana', 'strawberry']\n"
     ]
    }
   ],
   "source": [
    "fruits = [\"apple\", \"banana\", \"cherry\", \"grape\", \"strawberry\", \"melon\"]\n",
    "print(fruits[-3:], fruits[1::3])"
   ]
  },
  {
   "cell_type": "code",
   "execution_count": 11,
   "id": "6a6eb3ac",
   "metadata": {},
   "outputs": [
    {
     "name": "stdout",
     "output_type": "stream",
     "text": [
      "[1, 2, 3, 4, 1, 2, 3, 4]\n"
     ]
    }
   ],
   "source": [
    "num = [1, 2, 3, 4]\n",
    "\n",
    "# 배열과 정수를 곱할 경우 배열이 두 번 저장된다.\n",
    "print(num * 2)"
   ]
  },
  {
   "cell_type": "code",
   "execution_count": 4,
   "id": "5ce5146b",
   "metadata": {},
   "outputs": [
    {
     "name": "stdout",
     "output_type": "stream",
     "text": [
      "False 6\n"
     ]
    }
   ],
   "source": [
    "a = [1, 2, 3, 5]\n",
    "b = [\"a\", \"b\", \"c\", \"d\", \"e\"]\n",
    "\n",
    "a.append(\"g\")\n",
    "b.append(6)\n",
    "print(\"g\" in b, len(b))"
   ]
  },
  {
   "cell_type": "code",
   "execution_count": 13,
   "id": "eed0a087",
   "metadata": {},
   "outputs": [
    {
     "name": "stdout",
     "output_type": "stream",
     "text": [
      "['Hankook', 'is', 'academic', 'located', 'South Korea']\n"
     ]
    }
   ],
   "source": [
    "list_a = [\"Hankook\", \"University\", \"is\", \"an\", \"academic\", \"institute\", \"located\", \"in\", \"South Korea\"]\n",
    "list_b = []\n",
    "\n",
    "for i in range(len(list_a)):\n",
    "    if i % 2 != 1:\n",
    "        list_b.append(list_a[i])\n",
    "        \n",
    "print(list_b)"
   ]
  },
  {
   "cell_type": "code",
   "execution_count": 15,
   "id": "99cfde46",
   "metadata": {},
   "outputs": [
    {
     "name": "stdout",
     "output_type": "stream",
     "text": [
      "입학 연도를 입력하세요: \"2022\"\n",
      "<class 'str'>\n"
     ]
    }
   ],
   "source": [
    "admission_year = input(\"입학 연도를 입력하세요: \") # input으로 입력받은 값은 무조건 'str' 타입이다.\n",
    "print(type(admission_year))"
   ]
  },
  {
   "cell_type": "code",
   "execution_count": 1,
   "id": "47e4890b",
   "metadata": {},
   "outputs": [
    {
     "name": "stdout",
     "output_type": "stream",
     "text": [
      "['Korea', 'Japan', 'China', ['Seoul', [2, 3], 'Beijing']]\n"
     ]
    }
   ],
   "source": [
    "country = [\"Korea\", \"Japan\", \"China\"]\n",
    "capital = [\"Seoul\", \"Tokyo\", \"Beijing\"]\n",
    "\n",
    "index = [1, 2, 3]\n",
    "\n",
    "country.append(capital)\n",
    "\n",
    "country[3][1] = index[1:] # tokyo 값에 index 배열의 1번 이후 인덱스 값의 배열을 저장\n",
    "\n",
    "print(country)"
   ]
  },
  {
   "cell_type": "code",
   "execution_count": 5,
   "id": "6eaf6777",
   "metadata": {},
   "outputs": [
    {
     "name": "stdout",
     "output_type": "stream",
     "text": [
      "['Thu', 'Fri']\n"
     ]
    }
   ],
   "source": [
    "week1 = [\"Mon\", \"Tue\", \"Wed\"]\n",
    "week2 = [\"Thu\", \"Fri\", \"Sat\", \"Sun\"]\n",
    "# [\"Thu\", \"Fri\"] 가 답이 되도록 week3 작성\n",
    "week3 = [week1 + week2] # week3는 길이가 1인 배열이면 무엇이든 상관 없다.\n",
    "# week1과 week2를 더한 week3은 길이가 1인 이차원 배열이 된다.\n",
    "\n",
    "print(week2[:len(week3) + 1]) # len(week3) + 1 = 2"
   ]
  },
  {
   "cell_type": "code",
   "execution_count": 2,
   "id": "89533845",
   "metadata": {},
   "outputs": [
    {
     "name": "stdout",
     "output_type": "stream",
     "text": [
      "True\n",
      "False\n"
     ]
    }
   ],
   "source": [
    "a = 1\n",
    "b = 1\n",
    "print(a is b)\n",
    "\n",
    "a2 = 300\n",
    "b2 = 300\n",
    "print(a2 is b2)"
   ]
  },
  {
   "cell_type": "code",
   "execution_count": 3,
   "id": "9b631024",
   "metadata": {},
   "outputs": [
    {
     "name": "stdout",
     "output_type": "stream",
     "text": [
      "True\n",
      "False\n"
     ]
    }
   ],
   "source": [
    "a = [5, 4, 3, 2, 1]\n",
    "b = a\n",
    "c = [5, 4, 3, 2, 1]\n",
    "\n",
    "print(a is b)\n",
    "print(a is c)"
   ]
  }
 ],
 "metadata": {
  "kernelspec": {
   "display_name": "Python 3 (ipykernel)",
   "language": "python",
   "name": "python3"
  },
  "language_info": {
   "codemirror_mode": {
    "name": "ipython",
    "version": 3
   },
   "file_extension": ".py",
   "mimetype": "text/x-python",
   "name": "python",
   "nbconvert_exporter": "python",
   "pygments_lexer": "ipython3",
   "version": "3.10.9"
  }
 },
 "nbformat": 4,
 "nbformat_minor": 5
}
