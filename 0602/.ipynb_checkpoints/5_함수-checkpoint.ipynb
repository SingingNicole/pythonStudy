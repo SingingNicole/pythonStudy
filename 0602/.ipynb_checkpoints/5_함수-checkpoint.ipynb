{
 "cells": [
  {
   "cell_type": "markdown",
   "id": "1b95e6a4",
   "metadata": {},
   "source": [
    "## 함수"
   ]
  },
  {
   "cell_type": "markdown",
   "id": "176a4fa3",
   "metadata": {},
   "source": [
    "###### 함수의 선언\n",
    "\n",
    "- def 함수 이름(매개변수 ... ):\n",
    "\n",
    "        (들여쓰기로 수행문 나타냄)\n",
    "    \n",
    "        return<반환값>"
   ]
  },
  {
   "cell_type": "code",
   "execution_count": 2,
   "id": "ce38be0b",
   "metadata": {
    "scrolled": true
   },
   "outputs": [
    {
     "name": "stdout",
     "output_type": "stream",
     "text": [
      "변 x의 길이: 10\n",
      "변 y의 길이: 20\n",
      "사각형의 넓이: 200\n"
     ]
    }
   ],
   "source": [
    "# 함수 선언\n",
    "def calculate_rectangle_area(x, y):\n",
    "    return x * y\n",
    "\n",
    "rectangle_x = 10\n",
    "rectangle_y = 20\n",
    "print(\"변 x의 길이:\", rectangle_x)\n",
    "print(\"변 y의 길이:\", rectangle_y)\n",
    "\n",
    "# 넓이를 구하는 함수 호출\n",
    "print(\"사각형의 넓이:\", calculate_rectangle_area(rectangle_x, rectangle_y))"
   ]
  },
  {
   "cell_type": "code",
   "execution_count": 8,
   "id": "12be04cc",
   "metadata": {},
   "outputs": [
    {
     "name": "stdout",
     "output_type": "stream",
     "text": [
      "151\n"
     ]
    }
   ],
   "source": [
    "# 함수 f(x) = 2x + 7\n",
    "def f(x):\n",
    "    return 2 * x + 7\n",
    "\n",
    "# 함수 g(x) = x^2\n",
    "def g(x):\n",
    "    return x ** 2\n",
    "\n",
    "# 전역변수 x\n",
    "x = 2 # 이므로 f(x) = 11, g(x) = 4 / f(g(x)) = 15, g(f(x)) = 121\n",
    "\n",
    "print(f(x) + g(x) + f(g(x)) + g(f(x))) # 11 + 4 + 15 + 121 = 151"
   ]
  },
  {
   "cell_type": "markdown",
   "id": "80b39059",
   "metadata": {},
   "source": [
    "###### 변수의 사용 범위\n",
    "\n",
    "\n",
    "    지역 변수와 전역 변수가 존재한다.\n",
    "    \n",
    "    - 지역 변수: 해당 호출 지역 내에서만 유효\n",
    "    - 전역 변수: 해당 프로그램에서 유효"
   ]
  },
  {
   "cell_type": "code",
   "execution_count": 6,
   "id": "2b1895b3",
   "metadata": {},
   "outputs": [
    {
     "name": "stdout",
     "output_type": "stream",
     "text": [
      "5\n",
      "9\n",
      "3\n"
     ]
    }
   ],
   "source": [
    "def f(x):\n",
    "    y = x\n",
    "    # 지역변수이므로 해당 함수 내에서만 유효하다.\n",
    "    x = 5\n",
    "    print(x)\n",
    "    return y * y\n",
    "\n",
    "x = 3\n",
    "print(f(x))\n",
    "# 전역변수 x의 값이 출력된다.\n",
    "print(x)"
   ]
  },
  {
   "cell_type": "code",
   "execution_count": 11,
   "id": "13cce169",
   "metadata": {},
   "outputs": [
    {
     "name": "stdout",
     "output_type": "stream",
     "text": [
      "10\n",
      "In Funtion: 20\n",
      "In main: 10\n"
     ]
    },
    {
     "ename": "NameError",
     "evalue": "name 't' is not defined",
     "output_type": "error",
     "traceback": [
      "\u001b[1;31m---------------------------------------------------------------------------\u001b[0m",
      "\u001b[1;31mNameError\u001b[0m                                 Traceback (most recent call last)",
      "Cell \u001b[1;32mIn[11], line 9\u001b[0m\n\u001b[0;32m      7\u001b[0m test(x)\n\u001b[0;32m      8\u001b[0m \u001b[38;5;28mprint\u001b[39m(\u001b[38;5;124m\"\u001b[39m\u001b[38;5;124mIn main:\u001b[39m\u001b[38;5;124m\"\u001b[39m, x)\n\u001b[1;32m----> 9\u001b[0m \u001b[38;5;28mprint\u001b[39m(\u001b[38;5;124m\"\u001b[39m\u001b[38;5;124mIn main:\u001b[39m\u001b[38;5;124m\"\u001b[39m, \u001b[43mt\u001b[49m)\n",
      "\u001b[1;31mNameError\u001b[0m: name 't' is not defined"
     ]
    }
   ],
   "source": [
    "def test(t):\n",
    "    print(x)\n",
    "    t = 20\n",
    "    print(\"In Funtion:\", t)\n",
    "\n",
    "x = 10\n",
    "test(x)\n",
    "print(\"In main:\", x)\n",
    "# t는 지역변수이므로 함수 test 안에서만 활용 가능하다.\n",
    "print(\"In main:\", t)"
   ]
  },
  {
   "cell_type": "code",
   "execution_count": 13,
   "id": "ddbe566b",
   "metadata": {},
   "outputs": [
    {
     "name": "stdout",
     "output_type": "stream",
     "text": [
      "I love London!\n",
      "I love Paris!\n"
     ]
    }
   ],
   "source": [
    "def f():\n",
    "    s = \"I love London!\"\n",
    "    # 함수 호출 시 지역변수 s의 문자열을 출력한다.\n",
    "    print(s)\n",
    "    \n",
    "s = \"I love Paris!\"\n",
    "f()\n",
    "# 전역변수로 호출된 문자열 s를 출력한다\n",
    "print(s)"
   ]
  },
  {
   "cell_type": "markdown",
   "id": "94a9618e",
   "metadata": {},
   "source": [
    "- global 키워드로 변수를 전역변수로 선언할 수 있다"
   ]
  },
  {
   "cell_type": "code",
   "execution_count": 16,
   "id": "79969c66",
   "metadata": {},
   "outputs": [
    {
     "name": "stdout",
     "output_type": "stream",
     "text": [
      "I love London!\n",
      "I love London!\n",
      "100\n"
     ]
    }
   ],
   "source": [
    "def f():\n",
    "    global s # global로 s를 전역변수로 선언한다.\n",
    "    s = \"I love London!\"\n",
    "    global a\n",
    "    a = 100\n",
    "    print(s)\n",
    "\n",
    "s = \"I love Paris!\"\n",
    "a = 10\n",
    "f()\n",
    "print(s)\n",
    "print(a)"
   ]
  },
  {
   "cell_type": "code",
   "execution_count": 18,
   "id": "95d62875",
   "metadata": {},
   "outputs": [
    {
     "name": "stdout",
     "output_type": "stream",
     "text": [
      "In Program - 1\n",
      "a: 5 b: 7 a + b: 12\n",
      "In Function\n",
      "a: 5 b: 7 a + b: 12 total: 12\n",
      "After Calculation\n",
      "Total: 12  Sum: 12\n"
     ]
    }
   ],
   "source": [
    "def calculate(x, y):\n",
    "    global total\n",
    "    total = x + y                   # 새로운 값이 할당되어 함수 안 total은 지역 변수가 됨\n",
    "    print(\"In Function\")\n",
    "    print(\"a:\", str(a), \"b:\", str(b), \"a + b:\", str(a+b), \"total:\", str(total))\n",
    "    return total\n",
    "\n",
    "a = 5                               # a와 b는 전역 변수\n",
    "b = 7\n",
    "total = 0                           # 전역 변수 total\n",
    "print(\"In Program - 1\")\n",
    "print(\"a:\", str(a), \"b:\", str(b), \"a + b:\", str(a+b))\n",
    "\n",
    "sum = calculate (a, b)\n",
    "print(\"After Calculation\")\n",
    "print(\"Total:\", str(total), \" Sum:\", str(sum)) # 지역 변수는 전역 변수에 영향을 주지 않음"
   ]
  },
  {
   "cell_type": "markdown",
   "id": "3af2a9e0",
   "metadata": {},
   "source": [
    "###### 함수의 선언\n",
    "\n",
    " - 객체 호출(call by object reference)방식.\n",
    "\n",
    "    새로운 값을 할당하거나 해당 객체를 지울 때는 영향을 주지 않지만, 객체에 해당 값을 추가할 때는 영향을 받는다."
   ]
  },
  {
   "cell_type": "code",
   "execution_count": 10,
   "id": "45e27e83",
   "metadata": {},
   "outputs": [
    {
     "name": "stdout",
     "output_type": "stream",
     "text": [
      "[0, 1]\n"
     ]
    }
   ],
   "source": [
    "def spam(eggs):\n",
    "    # 1이라는 객체를 단순 저장\n",
    "    eggs.append(1)\n",
    "    \n",
    "    # 객체에 새로운 값 할당 => 객체 호출 방식으로 함수를 호출해 영향을 주지 않는다.\n",
    "    # eggs라는 독립적인 배열이 형성, 자신만의 메모리 주소를 가진다.\n",
    "    eggs = [2, 3]\n",
    "\n",
    "ham = [0]\n",
    "\n",
    "spam(ham) # 단순히 ham 배열에 1이라는 요소가 추가된다.\n",
    "\n",
    "print(ham)"
   ]
  },
  {
   "cell_type": "markdown",
   "id": "eda767d8",
   "metadata": {},
   "source": [
    "- 재귀함수\n",
    "\n",
    "    함수가 함수 내에서 자기 자신을 호출하는 경우이다."
   ]
  },
  {
   "cell_type": "code",
   "execution_count": 17,
   "id": "74949763",
   "metadata": {},
   "outputs": [
    {
     "name": "stdout",
     "output_type": "stream",
     "text": [
      "Input Number for Factorial Calculation: 7\n",
      "5040\n"
     ]
    }
   ],
   "source": [
    "def factorial(n):\n",
    "    if n == 1:\n",
    "        return 1\n",
    "    else:\n",
    "        return n * factorial(n - 1) # n != 1일 경우 재귀호출.\n",
    "\n",
    "print(factorial(int(input(\"Input Number for Factorial Calculation: \"))))"
   ]
  },
  {
   "cell_type": "markdown",
   "id": "697bb117",
   "metadata": {},
   "source": [
    "- 디폴트 인수\n",
    "\n",
    "   매개변수에 기본값을 지정하여 사용하고, 인수로 넘어 온 값이 없으면 지정된 기본값을 사용한다."
   ]
  },
  {
   "cell_type": "code",
   "execution_count": 19,
   "id": "915f7ccf",
   "metadata": {},
   "outputs": [
    {
     "name": "stdout",
     "output_type": "stream",
     "text": [
      "Hello Soldesk, My name is Sungchul\n",
      "Hello TEAMLAB, My name is Sungchul\n"
     ]
    }
   ],
   "source": [
    "def print_something_2(my_name, your_name = \"TEAMLAB\"):\n",
    "    print(\"Hello {0}, My name is {1}\".format(your_name, my_name))\n",
    "    \n",
    "print_something_2(\"Sungchul\", \"Soldesk\")\n",
    "# 변수 your_name에 해당하는 값을 입력하지 않아 기본값인 TEAMLAB이 디폴트로 사용된다.\n",
    "print_something_2(\"Sungchul\")"
   ]
  },
  {
   "cell_type": "markdown",
   "id": "274f82d7",
   "metadata": {},
   "source": [
    "- 가변 인수\n",
    "\n",
    "    함수의 매개변수 개수가 정해지지 않았지만 함수를 사용해야 할 때 가변 인수를 선언한다.\n",
    "    \n",
    "    *기호(asterisk)를 사용하여 나타낸다.\n",
    "    \n",
    "    튜플 자료 형태로 저장되므로 항상 맨 마지막 자리에 위치해야 한다.\n",
    "    \n",
    "    인덱스(args[0], args[1])를 활용하여 변수에 접근할 수 있다."
   ]
  },
  {
   "cell_type": "code",
   "execution_count": 5,
   "id": "0818bb22",
   "metadata": {},
   "outputs": [
    {
     "name": "stdout",
     "output_type": "stream",
     "text": [
      "(3, 4, 5)\n",
      "15\n"
     ]
    }
   ],
   "source": [
    "def asterisk_test(a, b, *args):\n",
    "    # *args: 가변 인수. 할당되고 남은 것들이 모두 *args에 할당된다.\n",
    "    print(args) # 괄호로 묶어서 출력 => 튜플(tuple) 자료의 형태.\n",
    "    return a + b + sum(args)\n",
    "\n",
    "print(asterisk_test(1, 2, 3, 4, 5))"
   ]
  },
  {
   "cell_type": "code",
   "execution_count": 6,
   "id": "e2f86e61",
   "metadata": {},
   "outputs": [
    {
     "name": "stdout",
     "output_type": "stream",
     "text": [
      "(1, 2, [3, 4, 5])\n"
     ]
    }
   ],
   "source": [
    "def asterisk_test_2(*args):\n",
    "    x, y, *z = args # 언패킹\n",
    "    # 입력받은 가변 인수의 개수를 정확히 안다면 x, y, z = args로 언패킹 할 수 있지만 개수를 모르는 경우 * 사용\n",
    "    return x, y, z\n",
    "\n",
    "# 할당하고 남은 변수를 한 번에 배열로 출력 가능하다.\n",
    "print(asterisk_test_2(1, 2, 3, 4, 5))"
   ]
  },
  {
   "cell_type": "code",
   "execution_count": 7,
   "id": "c90309b8",
   "metadata": {},
   "outputs": [
    {
     "ename": "ValueError",
     "evalue": "too many values to unpack (expected 2)",
     "output_type": "error",
     "traceback": [
      "\u001b[1;31m---------------------------------------------------------------------------\u001b[0m",
      "\u001b[1;31mValueError\u001b[0m                                Traceback (most recent call last)",
      "Cell \u001b[1;32mIn[7], line 6\u001b[0m\n\u001b[0;32m      3\u001b[0m     x, y, \u001b[38;5;241m*\u001b[39mz \u001b[38;5;241m=\u001b[39m args\n\u001b[0;32m      4\u001b[0m     \u001b[38;5;28;01mreturn\u001b[39;00m x, y, z\n\u001b[1;32m----> 6\u001b[0m a, b \u001b[38;5;241m=\u001b[39m asterisk_test_3(\u001b[38;5;241m1\u001b[39m, \u001b[38;5;241m2\u001b[39m, \u001b[38;5;241m3\u001b[39m, \u001b[38;5;241m4\u001b[39m, \u001b[38;5;241m5\u001b[39m)\n\u001b[0;32m      7\u001b[0m \u001b[38;5;28mprint\u001b[39m(a, b)\n",
      "\u001b[1;31mValueError\u001b[0m: too many values to unpack (expected 2)"
     ]
    }
   ],
   "source": [
    "# 변수의 개수가 맞지 않을 경우 오류가 발생한다.\n",
    "def asterisk_test_3(*args):\n",
    "    x, y, *z = args\n",
    "    return x, y, z\n",
    "\n",
    "a, b = asterisk_test_3(1, 2, 3, 4, 5)\n",
    "print(a, b)"
   ]
  },
  {
   "cell_type": "markdown",
   "id": "77d81cde",
   "metadata": {},
   "source": [
    "- 키워드 가변인수\n",
    "\n",
    "    ** 형태로 함수의 매개변수를 표시한다.\n",
    "    \n",
    "    딕셔너리 자료 형태로 사용할 수 있다."
   ]
  },
  {
   "cell_type": "code",
   "execution_count": 8,
   "id": "fd196d7f",
   "metadata": {},
   "outputs": [
    {
     "name": "stdout",
     "output_type": "stream",
     "text": [
      "{'first': 3, 'second': 4, 'third': 5}\n",
      "First value is 3\n",
      "Second value is 4\n",
      "Third value is 5\n"
     ]
    }
   ],
   "source": [
    "def kwargs_test(**kwargs):\n",
    "    print(kwargs) # dictionary 자료형으로 저장되어 key:value 형태로 저장된다.\n",
    "    print(\"First value is {first}\".format(**kwargs)) # ** 표시로 언패킹/패킹 전환\n",
    "    print(\"Second value is {second}\".format(**kwargs))\n",
    "    print(\"Third value is {third}\".format(**kwargs))\n",
    "    \n",
    "kwargs_test(first = 3, second = 4, third = 5)"
   ]
  }
 ],
 "metadata": {
  "kernelspec": {
   "display_name": "Python 3 (ipykernel)",
   "language": "python",
   "name": "python3"
  },
  "language_info": {
   "codemirror_mode": {
    "name": "ipython",
    "version": 3
   },
   "file_extension": ".py",
   "mimetype": "text/x-python",
   "name": "python",
   "nbconvert_exporter": "python",
   "pygments_lexer": "ipython3",
   "version": "3.10.9"
  }
 },
 "nbformat": 4,
 "nbformat_minor": 5
}
