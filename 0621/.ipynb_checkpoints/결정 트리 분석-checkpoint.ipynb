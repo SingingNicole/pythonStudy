{
 "cells": [
  {
   "cell_type": "code",
   "execution_count": null,
   "id": "05445d9b",
   "metadata": {},
   "outputs": [],
   "source": [
    "!pip install pydotplus\n",
    "# 아나콘다 prompt 창에서 conda install python-graphviz"
   ]
  },
  {
   "cell_type": "code",
   "execution_count": null,
   "id": "e238fe07",
   "metadata": {},
   "outputs": [],
   "source": []
  }
 ],
 "metadata": {
  "kernelspec": {
   "display_name": "Python 3 (ipykernel)",
   "language": "python",
   "name": "python3"
  },
  "language_info": {
   "codemirror_mode": {
    "name": "ipython",
    "version": 3
   },
   "file_extension": ".py",
   "mimetype": "text/x-python",
   "name": "python",
   "nbconvert_exporter": "python",
   "pygments_lexer": "ipython3",
   "version": "3.10.9"
  }
 },
 "nbformat": 4,
 "nbformat_minor": 5
}
