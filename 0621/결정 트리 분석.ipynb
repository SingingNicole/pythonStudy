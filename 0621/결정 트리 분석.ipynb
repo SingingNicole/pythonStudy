{
 "cells": [
  {
   "cell_type": "code",
   "execution_count": 1,
   "id": "8af2ede9",
   "metadata": {},
   "outputs": [
    {
     "name": "stdout",
     "output_type": "stream",
     "text": [
      "Collecting pydotplus\n",
      "  Downloading pydotplus-2.0.2.tar.gz (278 kB)\n",
      "     -------------------------------------- 278.7/278.7 kB 5.7 MB/s eta 0:00:00\n",
      "  Preparing metadata (setup.py): started\n",
      "  Preparing metadata (setup.py): finished with status 'done'\n",
      "Requirement already satisfied: pyparsing>=2.0.1 in c:\\users\\soldesk\\anaconda3\\lib\\site-packages (from pydotplus) (3.0.9)\n",
      "Building wheels for collected packages: pydotplus\n",
      "  Building wheel for pydotplus (setup.py): started\n",
      "  Building wheel for pydotplus (setup.py): finished with status 'done'\n",
      "  Created wheel for pydotplus: filename=pydotplus-2.0.2-py3-none-any.whl size=24578 sha256=33a7527412183f67dc7f7befe781045e5666670da8a856b2cd8b75c78ddc6bce\n",
      "  Stored in directory: c:\\users\\soldesk\\appdata\\local\\pip\\cache\\wheels\\5c\\94\\1f\\953aa60af58ef512e5256e538ff0772c340229e5996ac51fd6\n",
      "Successfully built pydotplus\n",
      "Installing collected packages: pydotplus\n",
      "Successfully installed pydotplus-2.0.2\n"
     ]
    }
   ],
   "source": [
    "!pip install pydotplus\n",
    "# 아나콘다 prompt 창에서 conda install python-graphviz"
   ]
  },
  {
   "cell_type": "code",
   "execution_count": 1,
   "id": "e0b4e6da",
   "metadata": {},
   "outputs": [],
   "source": [
    "from sklearn.datasets import load_breast_cancer\n",
    "from sklearn import tree\n",
    "import pydotplus"
   ]
  },
  {
   "cell_type": "code",
   "execution_count": 2,
   "id": "b620b957",
   "metadata": {},
   "outputs": [],
   "source": [
    "wdbc = load_breast_cancer()"
   ]
  },
  {
   "cell_type": "code",
   "execution_count": 3,
   "id": "3abc44db",
   "metadata": {},
   "outputs": [],
   "source": [
    "# 결정 트리 학습\n",
    "# 동질성을 가장 잘 확보할 수 있도록 질문을 만든다. - 부분집합은 2개\n",
    "decision_tree = tree.DecisionTreeClassifier(max_depth=4, random_state=1)\n",
    "dt = decision_tree.fit(wdbc.data, wdbc.target)"
   ]
  },
  {
   "cell_type": "code",
   "execution_count": 4,
   "id": "e417da8c",
   "metadata": {},
   "outputs": [
    {
     "name": "stdout",
     "output_type": "stream",
     "text": [
      "결정 트리의 정확률= 0.9824253075571178\n"
     ]
    }
   ],
   "source": [
    "res = dt.predict(wdbc.data)\n",
    "# 예측 결과 출력\n",
    "print('결정 트리의 정확률=', sum(res==wdbc.target)/len(res))"
   ]
  },
  {
   "cell_type": "code",
   "execution_count": 5,
   "id": "e5320d6c",
   "metadata": {},
   "outputs": [],
   "source": [
    "dot=  tree.export_graphviz(dt, out_file=None, feature_names=wdbc.feature_names, class_names=wdbc.target_names, filled=True, node_ids=True, rounded=True)\n",
    "graph = pydotplus.graph_from_dot_data(dot)"
   ]
  },
  {
   "cell_type": "code",
   "execution_count": 7,
   "id": "cf5e944a",
   "metadata": {},
   "outputs": [],
   "source": [
    "import os"
   ]
  },
  {
   "cell_type": "code",
   "execution_count": 8,
   "id": "b7c7b470",
   "metadata": {},
   "outputs": [
    {
     "data": {
      "text/plain": [
       "True"
      ]
     },
     "execution_count": 8,
     "metadata": {},
     "output_type": "execute_result"
    }
   ],
   "source": [
    "# 결정 트리를 위한 그림 저장\n",
    "graph.write_png('./content/tree.png')"
   ]
  },
  {
   "cell_type": "code",
   "execution_count": 9,
   "id": "a11c3586",
   "metadata": {},
   "outputs": [],
   "source": [
    "x_test = wdbc.data[0:1]\n",
    "path = dt.decision_path(x_test)\n",
    "path_seq = path.toarray()[0]"
   ]
  },
  {
   "cell_type": "code",
   "execution_count": 10,
   "id": "7e1e45ef",
   "metadata": {},
   "outputs": [],
   "source": [
    "for n, value in enumerate(path_seq):\n",
    "    node = graph.get_node(str(n))[0]\n",
    "    if value == 0:\n",
    "        node.set_fillcolor('white')\n",
    "    else:\n",
    "        node.set_fillcolor('green') # 의사결정 node를 초록색으로 표시"
   ]
  },
  {
   "cell_type": "code",
   "execution_count": 11,
   "id": "b454c949",
   "metadata": {},
   "outputs": [
    {
     "data": {
      "text/plain": [
       "True"
      ]
     },
     "execution_count": 11,
     "metadata": {},
     "output_type": "execute_result"
    }
   ],
   "source": [
    "# 의사결정 경로를 포함한 그림 저장\n",
    "graph.write_png('./tree_with_path.png')"
   ]
  }
 ],
 "metadata": {
  "kernelspec": {
   "display_name": "Python 3 (ipykernel)",
   "language": "python",
   "name": "python3"
  },
  "language_info": {
   "codemirror_mode": {
    "name": "ipython",
    "version": 3
   },
   "file_extension": ".py",
   "mimetype": "text/x-python",
   "name": "python",
   "nbconvert_exporter": "python",
   "pygments_lexer": "ipython3",
   "version": "3.10.9"
  }
 },
 "nbformat": 4,
 "nbformat_minor": 5
}
