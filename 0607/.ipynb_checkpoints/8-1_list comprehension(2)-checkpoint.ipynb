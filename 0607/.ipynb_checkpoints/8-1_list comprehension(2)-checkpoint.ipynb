{
 "cells": [
  {
   "cell_type": "code",
   "execution_count": 5,
   "id": "89d9e4e3",
   "metadata": {},
   "outputs": [],
   "source": [
    "def sclar_vector_product(scalar, vector):\n",
    "    result = []\n",
    "    for value in vector:\n",
    "        result.append(scalar * value)\n",
    "    return result\n",
    "\n",
    "iteration_max = 10000\n",
    "\n",
    "vector = list(range(iteration_max))\n",
    "scalar = 2\n",
    "\n",
    "for _ in range(iteration_max):\n",
    "    sclar_vector_product(scalar, vector)"
   ]
  },
  {
   "cell_type": "code",
   "execution_count": 2,
   "id": "0fca3bda",
   "metadata": {},
   "outputs": [],
   "source": [
    "iteration_max = 10000\n",
    "\n",
    "vector = list(range(iteration_max))\n",
    "scalar = 2\n",
    "\n",
    "for _ in range(iteration_max):\n",
    "    [scalar * value for value in range(iteration_max)]"
   ]
  },
  {
   "cell_type": "markdown",
   "id": "b73dc195",
   "metadata": {},
   "source": [
    "- enumerate() 함수"
   ]
  },
  {
   "cell_type": "code",
   "execution_count": 3,
   "id": "8da7d4a4",
   "metadata": {},
   "outputs": [
    {
     "name": "stdout",
     "output_type": "stream",
     "text": [
      "{0: 'TEAMLAB', 1: 'is', 2: 'an', 3: 'academic', 4: 'institute', 5: 'located', 6: 'in', 7: 'South', 8: 'Korea.'}\n"
     ]
    }
   ],
   "source": [
    "print({i:j for i, j in enumerate('TEAMLAB is an academic institute located in South Korea.'.split())})"
   ]
  },
  {
   "cell_type": "markdown",
   "id": "febe12e0",
   "metadata": {},
   "source": [
    "    for문을 대괄호로 묶으면 list, 대괄호로 묶으면 dictionary comprehension이 됨.\n",
    "        - 인덱스를 key, 단어를 값으로 묶어 출력한다."
   ]
  },
  {
   "cell_type": "code",
   "execution_count": 6,
   "id": "7d3cfeac",
   "metadata": {},
   "outputs": [
    {
     "name": "stdout",
     "output_type": "stream",
     "text": [
      "{0: 't', 1: 'e', 2: 's', 3: 't'}\n"
     ]
    }
   ],
   "source": [
    "di = {i: j for i, j in enumerate('t e s t'.split())}\n",
    "\n",
    "print(di)"
   ]
  },
  {
   "cell_type": "markdown",
   "id": "f5a522db",
   "metadata": {},
   "source": [
    "- zip() 함수"
   ]
  }
 ],
 "metadata": {
  "kernelspec": {
   "display_name": "Python 3 (ipykernel)",
   "language": "python",
   "name": "python3"
  },
  "language_info": {
   "codemirror_mode": {
    "name": "ipython",
    "version": 3
   },
   "file_extension": ".py",
   "mimetype": "text/x-python",
   "name": "python",
   "nbconvert_exporter": "python",
   "pygments_lexer": "ipython3",
   "version": "3.10.9"
  }
 },
 "nbformat": 4,
 "nbformat_minor": 5
}
