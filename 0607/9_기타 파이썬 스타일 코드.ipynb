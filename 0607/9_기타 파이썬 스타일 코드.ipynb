{
 "cells": [
  {
   "cell_type": "markdown",
   "id": "9cb0c91d",
   "metadata": {},
   "source": [
    "#### 람다 함수"
   ]
  },
  {
   "cell_type": "markdown",
   "id": "826147e0",
   "metadata": {},
   "source": [
    "- 람다 함수\n",
    "    - 함수의 이름 지정 없이 함수처럼 사용할 수 없는 익명의 함수이다.\n",
    "    - 별도의 def나 return문을 작성하지 않는다."
   ]
  },
  {
   "cell_type": "code",
   "execution_count": 1,
   "id": "afdb579e",
   "metadata": {},
   "outputs": [
    {
     "name": "stdout",
     "output_type": "stream",
     "text": [
      "5\n"
     ]
    }
   ],
   "source": [
    "f = lambda x, y: x + y\n",
    "\n",
    "print(f(1, 4))"
   ]
  },
  {
   "cell_type": "markdown",
   "id": "e3501b05",
   "metadata": {},
   "source": [
    "       - 람다 함수는 별도로 변수에 저장하지 않고 바로 사용 가능하다."
   ]
  },
  {
   "cell_type": "code",
   "execution_count": 2,
   "id": "77e9340c",
   "metadata": {
    "scrolled": true
   },
   "outputs": [
    {
     "name": "stdout",
     "output_type": "stream",
     "text": [
      "4\n"
     ]
    }
   ],
   "source": [
    "print((lambda x, y: x + y)(1, 3))"
   ]
  },
  {
   "cell_type": "markdown",
   "id": "98e0c7a7",
   "metadata": {},
   "source": [
    "        - 매개변수와 인수의 개수가 맞지 않으면 오류가 발생한다."
   ]
  },
  {
   "cell_type": "markdown",
   "id": "72a8f9eb",
   "metadata": {},
   "source": [
    "#### 맵 /  리듀스"
   ]
  },
  {
   "cell_type": "markdown",
   "id": "b4dcee3c",
   "metadata": {},
   "source": [
    "- map()함수\n",
    "\n",
    "    - 연속 데이터를 저장하는 시퀀스형에서 요소마다 같은 기능을 적용할 때 사용한다.\n",
    "    - 리스트나 튜플처럼 요소가 있는 시퀀스 자료형에 사용된다.\n",
    "    - 파이썬 3에서는 list()로 감싸주어야 결과가 list로 반환된다."
   ]
  },
  {
   "cell_type": "code",
   "execution_count": 3,
   "id": "5926cf9f",
   "metadata": {
    "scrolled": false
   },
   "outputs": [
    {
     "name": "stdout",
     "output_type": "stream",
     "text": [
      "[1, 4, 9, 16, 25]\n"
     ]
    }
   ],
   "source": [
    "ex = [1, 2, 3, 4, 5]\n",
    "f = lambda x: x ** 2\n",
    "\n",
    "print(list(map(f, ex)))"
   ]
  },
  {
   "cell_type": "markdown",
   "id": "6ad7e42b",
   "metadata": {},
   "source": [
    "        - map과 lambda 함수는 list comprehension 방식으로 더 쉽게 작성 가능하다."
   ]
  },
  {
   "cell_type": "code",
   "execution_count": 4,
   "id": "fe4b7f8f",
   "metadata": {
    "scrolled": true
   },
   "outputs": [
    {
     "name": "stdout",
     "output_type": "stream",
     "text": [
      "[1, 4, 9, 16, 25]\n"
     ]
    }
   ],
   "source": [
    "ex = [1, 2, 3, 4, 5]\n",
    "print([x ** 2 for x in ex])"
   ]
  },
  {
   "cell_type": "code",
   "execution_count": 5,
   "id": "918a778e",
   "metadata": {},
   "outputs": [
    {
     "data": {
      "text/plain": [
       "[1, 4, 3, 16, 5]"
      ]
     },
     "execution_count": 5,
     "metadata": {},
     "output_type": "execute_result"
    }
   ],
   "source": [
    "list(map(lambda x: x ** 2 if x % 2 == 0 else x, ex)) # map 함수 사용\n",
    "[x ** 2 if x % 2 == 0 else x for x in ex] # 리스트 컴프리헨션 사용 => 더 직관적"
   ]
  },
  {
   "cell_type": "markdown",
   "id": "c4c9e0bc",
   "metadata": {},
   "source": [
    "- reduce() 함수\n",
    "    - 시퀀스 자료형에 차례대로 함수를 적용햐여 모든 값을 통합하는 함수"
   ]
  },
  {
   "cell_type": "code",
   "execution_count": 6,
   "id": "b06fe252",
   "metadata": {
    "scrolled": true
   },
   "outputs": [
    {
     "name": "stdout",
     "output_type": "stream",
     "text": [
      "15\n"
     ]
    }
   ],
   "source": [
    "from functools import reduce\n",
    "print(reduce(lambda x, y: x + y, [1, 2, 3, 4, 5]))"
   ]
  },
  {
   "cell_type": "markdown",
   "id": "d89d59ef",
   "metadata": {},
   "source": [
    "#### * 기호의 활용"
   ]
  },
  {
   "cell_type": "markdown",
   "id": "220b3272",
   "metadata": {},
   "source": [
    "- 언패킹 기능\n",
    "    - 리스트, 튜플, 딕셔너리와 같이 여러 개의 데이터를 담는 자료형에서는 해당 데이터를 언패킹하는 기능을 한다."
   ]
  },
  {
   "cell_type": "code",
   "execution_count": 9,
   "id": "d6225e55",
   "metadata": {},
   "outputs": [
    {
     "name": "stdout",
     "output_type": "stream",
     "text": [
      "1 2 3 4 5 6\n",
      "<class 'tuple'>\n"
     ]
    }
   ],
   "source": [
    "def asterisk_test(a, args): # a와 args(* 기호 X)를 매개변수로 받는다.\n",
    "    print(a, *args) # *기호로 언패킹되어 튜플에 존재하는 각각의 변수로 출력된다.\n",
    "    print(type(args))\n",
    "    \n",
    "asterisk_test(1, (2, 3, 4, 5, 6))"
   ]
  },
  {
   "cell_type": "code",
   "execution_count": 10,
   "id": "24a23cec",
   "metadata": {},
   "outputs": [
    {
     "name": "stdout",
     "output_type": "stream",
     "text": [
      "1 (1, 2, 3, 4)\n",
      "<class 'tuple'>\n"
     ]
    }
   ],
   "source": [
    "def a_test2(a, *args):\n",
    "    print(a, args)\n",
    "    print(type(args))\n",
    "    \n",
    "a_test2(1, *(1, 2, 3, 4))"
   ]
  },
  {
   "cell_type": "markdown",
   "id": "5eb3e352",
   "metadata": {},
   "source": [
    "    - zip() 함수와 함께 언패킹 기능을 유용하게 사용할 수 있다."
   ]
  },
  {
   "cell_type": "code",
   "execution_count": 11,
   "id": "13093f2e",
   "metadata": {},
   "outputs": [
    {
     "name": "stdout",
     "output_type": "stream",
     "text": [
      "(1, 3, 5)\n",
      "<class 'tuple'>\n",
      "(2, 4, 6)\n",
      "<class 'tuple'>\n"
     ]
    }
   ],
   "source": [
    "for data in zip(*[[1, 2], [3, 4], [5, 6]]):\n",
    "    print(data)\n",
    "    print(type(data))"
   ]
  },
  {
   "cell_type": "markdown",
   "id": "5e97670a",
   "metadata": {},
   "source": [
    "        - 딕셔너리 형의 언패킹도 가능"
   ]
  },
  {
   "cell_type": "code",
   "execution_count": 13,
   "id": "4d615010",
   "metadata": {},
   "outputs": [
    {
     "name": "stdout",
     "output_type": "stream",
     "text": [
      "10 1 2 3\n"
     ]
    }
   ],
   "source": [
    "def asterisk_test(a, b, c, d):\n",
    "    print(a, b, c, d)\n",
    "    \n",
    "data = {\"b\":1, \"c\":2, \"d\":3}\n",
    "asterisk_test(10, **data)"
   ]
  },
  {
   "cell_type": "markdown",
   "id": "d0e71671",
   "metadata": {},
   "source": [
    "#### 선형대수학"
   ]
  },
  {
   "cell_type": "markdown",
   "id": "9b29f818",
   "metadata": {},
   "source": [
    "- 파이썬 스타일로 표현한 벡터의 연산"
   ]
  },
  {
   "cell_type": "code",
   "execution_count": 14,
   "id": "d51bb020",
   "metadata": {},
   "outputs": [
    {
     "name": "stdout",
     "output_type": "stream",
     "text": [
      "[7, 10]\n"
     ]
    }
   ],
   "source": [
    "u = [2, 2]\n",
    "v = [2, 3]\n",
    "z = [3, 5]\n",
    "\n",
    "result = [sum(t) for t in zip(u, v, z)]\n",
    "print(result)"
   ]
  },
  {
   "cell_type": "markdown",
   "id": "46f6e25a",
   "metadata": {},
   "source": [
    "        - 변수의 수가 많을 경우 * 기호를 이용한다."
   ]
  },
  {
   "cell_type": "code",
   "execution_count": 15,
   "id": "20edc37c",
   "metadata": {
    "scrolled": false
   },
   "outputs": [
    {
     "data": {
      "text/plain": [
       "[7, 10]"
      ]
     },
     "execution_count": 15,
     "metadata": {},
     "output_type": "execute_result"
    }
   ],
   "source": [
    "def vector_addition(*args):\n",
    "    return [sum(t) for t in zip(*args)]\n",
    "\n",
    "vector_addition(u, v, z)"
   ]
  },
  {
   "cell_type": "markdown",
   "id": "6cac2ebe",
   "metadata": {},
   "source": [
    "- 스칼라와 벡터의 곱셈 연산\n",
    "    - 분배 법칙을 적용하여 계산한다."
   ]
  },
  {
   "cell_type": "code",
   "execution_count": 16,
   "id": "96443ea8",
   "metadata": {},
   "outputs": [
    {
     "name": "stdout",
     "output_type": "stream",
     "text": [
      "[10, 12, 14]\n"
     ]
    }
   ],
   "source": [
    "u = [1, 2, 3]\n",
    "v = [4, 4, 4]\n",
    "alpha = 2\n",
    "\n",
    "result = [alpha * sum(t) for t in zip(u, v)]\n",
    "\n",
    "print(result)"
   ]
  },
  {
   "cell_type": "markdown",
   "id": "22cce40d",
   "metadata": {},
   "source": [
    "- 파이썬에서의 행렬 연산\n",
    "    - 파이썬에서는 별표( * )와 zip() 함수를 활용하여 행렬을 계산할 수 있다."
   ]
  },
  {
   "cell_type": "code",
   "execution_count": 17,
   "id": "1148834a",
   "metadata": {
    "scrolled": true
   },
   "outputs": [
    {
     "name": "stdout",
     "output_type": "stream",
     "text": [
      "[[8, 14], [10, 12]]\n"
     ]
    }
   ],
   "source": [
    "matrix_a = [[3, 6], [4, 5]]\n",
    "matrix_b = [[5, 8], [6, 7]]\n",
    "result = [[sum(row) for row in zip(*t)] for t in zip(matrix_a, matrix_b)]\n",
    "# 해당 식의 t는 튜플을 의미한다. => *로 언패킹되어 (3, 5) / (6, 8) ... 로 row 변수에 할당된다.\n",
    "\n",
    "print(result)"
   ]
  },
  {
   "cell_type": "markdown",
   "id": "361b6461",
   "metadata": {},
   "source": [
    "    - matrix_a와 matrix_b에서 zip() 함수를 통해 같은 인덱스의 값을 찾는다.\n",
    "        => [3, 5] / [6, 8] / [4, 6] / [5, 7]\n",
    "    - * 기호를 활용한 언패킹과 zip(*t)를 활용해 해당 값들을 튜플로 row 변수에 적용하여 sum() 한다."
   ]
  },
  {
   "cell_type": "markdown",
   "id": "7fc5dbab",
   "metadata": {},
   "source": [
    "- 파이썬과 행렬의 동치"
   ]
  },
  {
   "cell_type": "code",
   "execution_count": 34,
   "id": "3a5fe23d",
   "metadata": {},
   "outputs": [
    {
     "name": "stdout",
     "output_type": "stream",
     "text": [
      "True 동치\n",
      "False 동치가 아님\n"
     ]
    }
   ],
   "source": [
    "# row[0] == value 코드로 각 요소의 값을 비교한다.\n",
    "\n",
    "matrix_a = [[1, 2], [3, 4]]\n",
    "matrix_b = [[1, 2], [3, 4]]\n",
    "\n",
    "val1 = all([row[0] == value for t in zip(matrix_a, matrix_b) #([1, 2], [1, 2], ...) 모양의 튜플 생성\n",
    "     for row in zip(*t) # 튜플을 언패킹하여 각 row에 저장\n",
    "     for value in row]) # row의 값(value) 비교(boolean)\n",
    "\n",
    "if val1:\n",
    "    print(val1, \"동치\")\n",
    "else:\n",
    "    print(val1, \"동치가 아님\")\n",
    "\n",
    "matrix_b = [[5, 8], [6, 7]]\n",
    "\n",
    "val2 = all([all([row[0] == value for value in row])\n",
    "    for t in zip(matrix_a, matrix_b)\n",
    "    for row in zip(*t)])\n",
    "\n",
    "if val2:\n",
    "    print(val2, \"동치\")\n",
    "else: \n",
    "    print(val2, \"동치가 아님\")"
   ]
  },
  {
   "cell_type": "markdown",
   "id": "f785ba62",
   "metadata": {},
   "source": [
    "- 전치행렬\n",
    "    - 주어진 m * n의 행렬에서 행과 열을 바꾸어 다시 만든 행렬이다."
   ]
  },
  {
   "cell_type": "code",
   "execution_count": 35,
   "id": "a650e863",
   "metadata": {},
   "outputs": [
    {
     "name": "stdout",
     "output_type": "stream",
     "text": [
      "[[1, 4], [2, 5], [3, 6]]\n"
     ]
    }
   ],
   "source": [
    "matrix_a = [[1, 2, 3], [4, 5, 6]]\n",
    "result = [[element for element in t] for t in zip(*matrix_a)]\n",
    "# * matrix로 리스트를 zip([1, 2, 3], [4, 5, 6])으로 언패킹한다.\n",
    "# 언패킹한 상태에서 zip() 함수가 사용되어 같은 위치의 값이 t에 할당된다([1, 4], [2, 5], [3, 6])\n",
    "# 따라서 [t for t in zip(*matrix_a)] = [(1, 4), (2, 5), (3, 6)]\n",
    "\n",
    "print(result)"
   ]
  },
  {
   "cell_type": "markdown",
   "id": "859a9e19",
   "metadata": {},
   "source": [
    "- 행렬의 곱셈\n",
    "    - 앞 행렬의 열과 뒤 행렬의 행을 선형 결합한다.\n",
    "    - 코드 구현을 위해서는 전치행렬의 기법을 사용하여 한 행렬에 열의 값, 다른 행렬에 행의 값을 추출하여 곱한다."
   ]
  },
  {
   "cell_type": "code",
   "execution_count": 36,
   "id": "be958076",
   "metadata": {},
   "outputs": [
    {
     "name": "stdout",
     "output_type": "stream",
     "text": [
      "[[5, 8], [5, 6]]\n"
     ]
    }
   ],
   "source": [
    "matrix_a = [[1, 1, 2], [2, 1, 1]]\n",
    "matrix_b = [[1, 1], [2, 1], [1, 3]]\n",
    "\n",
    "result = [[sum(a * b for a, b in zip(row_a, column_b)) # 행과 열에서 같은 인덱스값을 뽑아 sum()함수로 출력(3)\n",
    "          for column_b in zip(*matrix_b)] # 열의 값(2)\n",
    "          for row_a in matrix_a] # 행의 값(1)\n",
    "\n",
    "print(result)"
   ]
  }
 ],
 "metadata": {
  "kernelspec": {
   "display_name": "Python 3 (ipykernel)",
   "language": "python",
   "name": "python3"
  },
  "language_info": {
   "codemirror_mode": {
    "name": "ipython",
    "version": 3
   },
   "file_extension": ".py",
   "mimetype": "text/x-python",
   "name": "python",
   "nbconvert_exporter": "python",
   "pygments_lexer": "ipython3",
   "version": "3.10.9"
  }
 },
 "nbformat": 4,
 "nbformat_minor": 5
}
