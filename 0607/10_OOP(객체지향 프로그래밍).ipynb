{
 "cells": [
  {
   "cell_type": "markdown",
   "id": "37eea310",
   "metadata": {},
   "source": [
    "## 클래스 생성"
   ]
  },
  {
   "cell_type": "code",
   "execution_count": 1,
   "id": "d4868f70",
   "metadata": {},
   "outputs": [],
   "source": [
    "# class 객체의 생성: 이름(카멜표기법)\n",
    "class SoccerPlayer(object):\n",
    "    # __init__: self(인스턴스)와 나머지 속성 / 값 저장\n",
    "    def __init__(self, name, position, back_number):\n",
    "        self.name = name\n",
    "        self.position = position\n",
    "        self.back_number = back_number\n",
    "        \n",
    "    def change_back_number(self, new_number):\n",
    "        print('선수의 등번호 변경: from %d to %d' %(self.back_number, new_number))\n",
    "        self.back_number = new_number\n",
    "    \n",
    "    # __str__(): 객체가 가지고 있는 값을 문자열로 return 해 준다(java의 toString과 유사).\n",
    "    def __str__(self):\n",
    "        return \"hello. I'm %s. I play in %s in center.\" %(self.name, self.position)"
   ]
  },
  {
   "cell_type": "code",
   "execution_count": 2,
   "id": "98e94ab6",
   "metadata": {
    "scrolled": false
   },
   "outputs": [
    {
     "name": "stdout",
     "output_type": "stream",
     "text": [
      "hello. I'm heung-min. I play in SS in center.\n"
     ]
    }
   ],
   "source": [
    "hm = SoccerPlayer('heung-min', 'SS', 7)\n",
    "print(hm)"
   ]
  },
  {
   "cell_type": "code",
   "execution_count": 3,
   "id": "1b20832f",
   "metadata": {},
   "outputs": [
    {
     "name": "stdout",
     "output_type": "stream",
     "text": [
      "hm 선수의 등 번호: 7\n"
     ]
    }
   ],
   "source": [
    "print('hm 선수의 등 번호:', hm.back_number)"
   ]
  },
  {
   "cell_type": "markdown",
   "id": "b4d92516",
   "metadata": {},
   "source": [
    "        - 속성에 새로운 값을 부여할 수도 있다."
   ]
  },
  {
   "cell_type": "code",
   "execution_count": 4,
   "id": "5476361a",
   "metadata": {},
   "outputs": [
    {
     "name": "stdout",
     "output_type": "stream",
     "text": [
      "hm 선수의 등 번호: 77\n"
     ]
    }
   ],
   "source": [
    "hm.back_number = 77\n",
    "print('hm 선수의 등 번호:', hm.back_number)"
   ]
  },
  {
   "cell_type": "code",
   "execution_count": 5,
   "id": "314fce85",
   "metadata": {
    "scrolled": true
   },
   "outputs": [
    {
     "name": "stdout",
     "output_type": "stream",
     "text": [
      "선수의 등번호 변경: from 77 to 777\n",
      "hm 선수의 바뀐 등 번호: 777\n"
     ]
    }
   ],
   "source": [
    "hm.change_back_number(777)\n",
    "print('hm 선수의 바뀐 등 번호:', hm.back_number)"
   ]
  },
  {
   "cell_type": "markdown",
   "id": "476a8806",
   "metadata": {},
   "source": [
    "- 다른 방식으로 데이터 저장하기\n",
    "    - 리스트와 함수보다는 하나의 객체로 생성하여 배포했을 때 훨씬 쉽게 사용 가능하다.\n",
    "    - 코드를 더 손쉽게 선언할 수 있다."
   ]
  },
  {
   "cell_type": "code",
   "execution_count": 12,
   "id": "4924a35e",
   "metadata": {},
   "outputs": [
    {
     "name": "stdout",
     "output_type": "stream",
     "text": [
      "[['Messi', 'MF', 10], ['Ramos', 'DF', 4], ['Ronaldo', 'CF', 7], ['Park', 'WF', 13], ['Buffon', 'GK', 1]]\n",
      "['Messi', 'MF', 10]\n"
     ]
    }
   ],
   "source": [
    "# 데이터\n",
    "names = [\"Messi\", \"Ramos\", \"Ronaldo\", \"Park\", \"Buffon\"]\n",
    "positions = [\"MF\", \"DF\", \"CF\", \"WF\", \"GK\"]\n",
    "numbers = [10, 4, 7, 13, 1]\n",
    "\n",
    "# 이차원 리스트\n",
    "players = [[name, position, number] for name, position, number in zip(names, positions, numbers)]\n",
    "print(players)\n",
    "print(players[0])"
   ]
  },
  {
   "cell_type": "code",
   "execution_count": 13,
   "id": "e6986e60",
   "metadata": {},
   "outputs": [
    {
     "name": "stdout",
     "output_type": "stream",
     "text": [
      "hello. I'm Messi. I play in MF in center.\n"
     ]
    }
   ],
   "source": [
    "# 전체 SoccerPlayer 코드\n",
    "class SoccerPlayer(object):\n",
    "    def __init__(self, name, position, back_number):\n",
    "        self.name = name\n",
    "        self.position = position\n",
    "        self.back_number = back_number\n",
    "        \n",
    "    def change_back_number(self, new_number):\n",
    "        print('선수의 등번호를 변경한다: from %d to %d' %(self.back_number, new_number))\n",
    "        self.back_number = new_number\n",
    "    \n",
    "    def __str__(self):\n",
    "        return \"hello. I'm %s. I play in %s in center.\" %(self.name, self.position)\n",
    "    \n",
    "# 클래스 - 인스턴스\n",
    "player_objects = [SoccerPlayer(name, position, number) \n",
    "                  for name, position, number in zip(names, positions, numbers)]\n",
    "print(player_objects[0])"
   ]
  },
  {
   "cell_type": "markdown",
   "id": "129095d4",
   "metadata": {},
   "source": [
    "## 파이썬 객체 지향 프로그래밍의 특징"
   ]
  },
  {
   "cell_type": "markdown",
   "id": "1af17cfc",
   "metadata": {},
   "source": [
    "#### 1. 재사용성(상속)\n",
    "- 무엇인가를 물려받는 것을 뜻한다.\n",
    "- 부모 클래스에 정의된 속성과 메서드를 자식 클래스가 물려받아 사용한다."
   ]
  },
  {
   "cell_type": "code",
   "execution_count": 14,
   "id": "bb8db713",
   "metadata": {},
   "outputs": [],
   "source": [
    "class Person(object): # 부모 클래스 Person 선언\n",
    "    def __init__(self, name, age, gender):\n",
    "        self.name = name\n",
    "        self.age = age\n",
    "        self.gender = gender\n",
    "        \n",
    "    def about_me(self): # 메서드 선언\n",
    "        print('저의 이름은', self.name, '이고요, 제 나이는', str(self.age), '살입니다.')"
   ]
  },
  {
   "cell_type": "code",
   "execution_count": 15,
   "id": "cc472cd7",
   "metadata": {},
   "outputs": [],
   "source": [
    "class Employee(Person): # 부모 클래스 person으로부터 상속\n",
    "    def __init__(self, name, age, gender, salary, hire_date): # 부모 객체 사용\n",
    "        super().__init__(name, age, gender)\n",
    "        self.salary = salary\n",
    "        self.hire_date = hire_date # 속성값 추가\n",
    "    \n",
    "    def do_work(self): # 새로운 메서드 추가\n",
    "        print('열심히 일을 한다.')\n",
    "        \n",
    "    def about_me(self): # 부모 클래스 함수의 재정의\n",
    "        super().about_me() # 부모 클래스 함수 사용\n",
    "        print('제 급여는', self.salary, '원이고, 제 입사일은', self.hire_date, '입니다.')"
   ]
  },
  {
   "cell_type": "markdown",
   "id": "b350a681",
   "metadata": {},
   "source": [
    "#### 2. 다형성"
   ]
  },
  {
   "cell_type": "markdown",
   "id": "016faee0",
   "metadata": {},
   "source": [
    "#### 3. 가시성"
   ]
  }
 ],
 "metadata": {
  "kernelspec": {
   "display_name": "Python 3 (ipykernel)",
   "language": "python",
   "name": "python3"
  },
  "language_info": {
   "codemirror_mode": {
    "name": "ipython",
    "version": 3
   },
   "file_extension": ".py",
   "mimetype": "text/x-python",
   "name": "python",
   "nbconvert_exporter": "python",
   "pygments_lexer": "ipython3",
   "version": "3.10.9"
  }
 },
 "nbformat": 4,
 "nbformat_minor": 5
}
