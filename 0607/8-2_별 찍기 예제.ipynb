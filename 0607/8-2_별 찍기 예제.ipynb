{
 "cells": [
  {
   "cell_type": "code",
   "execution_count": 6,
   "id": "7dae44c7",
   "metadata": {},
   "outputs": [
    {
     "name": "stdout",
     "output_type": "stream",
     "text": [
      "*\n",
      "**\n",
      "***\n",
      "****\n",
      "*****\n"
     ]
    }
   ],
   "source": [
    "star = ['*' * (i + 1) for i in range(5)]\n",
    "\n",
    "for i in range(5):\n",
    "    print(star[i])"
   ]
  },
  {
   "cell_type": "markdown",
   "id": "e2583eaf",
   "metadata": {},
   "source": [
    "- 강사님 코드"
   ]
  },
  {
   "cell_type": "code",
   "execution_count": 7,
   "id": "7d98eb21",
   "metadata": {},
   "outputs": [
    {
     "name": "stdout",
     "output_type": "stream",
     "text": [
      "*\n",
      "**\n",
      "***\n",
      "****\n",
      "*****\n"
     ]
    }
   ],
   "source": [
    "star_list = ['*' * i for i in range(1, 6)]\n",
    "\n",
    "for s in star_list:\n",
    "    print(s)"
   ]
  }
 ],
 "metadata": {
  "kernelspec": {
   "display_name": "Python 3 (ipykernel)",
   "language": "python",
   "name": "python3"
  },
  "language_info": {
   "codemirror_mode": {
    "name": "ipython",
    "version": 3
   },
   "file_extension": ".py",
   "mimetype": "text/x-python",
   "name": "python",
   "nbconvert_exporter": "python",
   "pygments_lexer": "ipython3",
   "version": "3.10.9"
  }
 },
 "nbformat": 4,
 "nbformat_minor": 5
}
