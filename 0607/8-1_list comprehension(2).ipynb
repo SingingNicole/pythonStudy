{
 "cells": [
  {
   "cell_type": "code",
   "execution_count": 5,
   "id": "284853b9",
   "metadata": {},
   "outputs": [],
   "source": [
    "def sclar_vector_product(scalar, vector):\n",
    "    result = []\n",
    "    for value in vector:\n",
    "        result.append(scalar * value)\n",
    "    return result\n",
    "\n",
    "iteration_max = 10000\n",
    "\n",
    "vector = list(range(iteration_max))\n",
    "scalar = 2\n",
    "\n",
    "for _ in range(iteration_max):\n",
    "    sclar_vector_product(scalar, vector)"
   ]
  },
  {
   "cell_type": "code",
   "execution_count": 2,
   "id": "1940cdd3",
   "metadata": {},
   "outputs": [],
   "source": [
    "iteration_max = 10000\n",
    "\n",
    "vector = list(range(iteration_max))\n",
    "scalar = 2\n",
    "\n",
    "for _ in range(iteration_max):\n",
    "    [scalar * value for value in range(iteration_max)]"
   ]
  },
  {
   "cell_type": "markdown",
   "id": "8302020c",
   "metadata": {},
   "source": [
    "- enumerate() 함수"
   ]
  },
  {
   "cell_type": "code",
   "execution_count": 3,
   "id": "4927fbfb",
   "metadata": {},
   "outputs": [
    {
     "name": "stdout",
     "output_type": "stream",
     "text": [
      "{0: 'TEAMLAB', 1: 'is', 2: 'an', 3: 'academic', 4: 'institute', 5: 'located', 6: 'in', 7: 'South', 8: 'Korea.'}\n"
     ]
    }
   ],
   "source": [
    "print({i:j for i, j in enumerate('TEAMLAB is an academic institute located in South Korea.'.split())})"
   ]
  },
  {
   "cell_type": "markdown",
   "id": "5a725c4e",
   "metadata": {},
   "source": [
    "    for문을 대괄호로 묶으면 list, 대괄호로 묶으면 dictionary comprehension이 됨.\n",
    "        - 인덱스를 key, 단어를 값으로 묶어 출력한다."
   ]
  },
  {
   "cell_type": "code",
   "execution_count": 6,
   "id": "8e5b3f32",
   "metadata": {},
   "outputs": [
    {
     "name": "stdout",
     "output_type": "stream",
     "text": [
      "{0: 't', 1: 'e', 2: 's', 3: 't'}\n"
     ]
    }
   ],
   "source": [
    "di = {i: j for i, j in enumerate('t e s t'.split())}\n",
    "\n",
    "print(di)"
   ]
  },
  {
   "cell_type": "markdown",
   "id": "3969d43d",
   "metadata": {},
   "source": [
    "- zip() 함수\n",
    "    - 1개 이상의 리스트 값이 같은 인덱스에 있을 때 병렬로 묶는 함수"
   ]
  },
  {
   "cell_type": "code",
   "execution_count": 7,
   "id": "247b578d",
   "metadata": {},
   "outputs": [
    {
     "name": "stdout",
     "output_type": "stream",
     "text": [
      "a1 b1\n",
      "a2 b2\n",
      "a3 b3\n"
     ]
    }
   ],
   "source": [
    "alist = ['a1', 'a2', 'a3']\n",
    "blist = ['b1', 'b2', 'b3']\n",
    "\n",
    "for a, b in zip(alist, blist):\n",
    "    print(a, b)"
   ]
  },
  {
   "cell_type": "code",
   "execution_count": 8,
   "id": "f2ae6b07",
   "metadata": {
    "scrolled": true
   },
   "outputs": [
    {
     "name": "stdout",
     "output_type": "stream",
     "text": [
      "('a1', 'b1', 'c1')\n",
      "('a2', 'b2', 'c2')\n",
      "('a3', 'b3', 'c3')\n"
     ]
    }
   ],
   "source": [
    "alist = ['a1', 'a2', 'a3']\n",
    "blist = ['b1', 'b2', 'b3']\n",
    "clist = ['c1', 'c2', 'c3']\n",
    "\n",
    "for z1 in zip(alist, blist, clist):\n",
    "    print(z1)"
   ]
  },
  {
   "cell_type": "markdown",
   "id": "140394ce",
   "metadata": {},
   "source": [
    "        - 하나라도 인덱스 값이 일치하지 않는 요소가 있을 경우 출력하지 않는다."
   ]
  },
  {
   "cell_type": "code",
   "execution_count": 9,
   "id": "69e7b610",
   "metadata": {},
   "outputs": [
    {
     "name": "stdout",
     "output_type": "stream",
     "text": [
      "(1, 4, 8)\n",
      "(2, 5, 9)\n",
      "(3, 6, 10)\n"
     ]
    }
   ],
   "source": [
    "alist = [1, 2, 3]\n",
    "blist = [4, 5, 6, 7]\n",
    "clist = [8, 9, 10, 11]\n",
    "\n",
    "for z1 in zip(alist, blist, clist):\n",
    "    print(z1)"
   ]
  },
  {
   "cell_type": "markdown",
   "id": "a09334ce",
   "metadata": {},
   "source": [
    "    - 같은 인덱스에 있는 숫자를 추출하여 sum() 함수를 적용하면 각각의 값을 더해 출력할 수 있다."
   ]
  },
  {
   "cell_type": "code",
   "execution_count": 10,
   "id": "07535181",
   "metadata": {},
   "outputs": [
    {
     "name": "stdout",
     "output_type": "stream",
     "text": [
      "(1, 10, 100) (2, 20, 200) (3, 30, 300)\n"
     ]
    }
   ],
   "source": [
    "a, b, c = zip((1, 2, 3), (10, 20, 30), (100, 200, 300))\n",
    "print(a, b, c)"
   ]
  },
  {
   "cell_type": "code",
   "execution_count": 12,
   "id": "b2be9e3b",
   "metadata": {
    "scrolled": false
   },
   "outputs": [
    {
     "name": "stdout",
     "output_type": "stream",
     "text": [
      "[111, 222, 333]\n"
     ]
    }
   ],
   "source": [
    "print([sum(x) for x in zip((1, 2, 3), (10, 20, 30), (100, 200, 300))])"
   ]
  },
  {
   "cell_type": "code",
   "execution_count": 13,
   "id": "e681596f",
   "metadata": {},
   "outputs": [
    {
     "name": "stdout",
     "output_type": "stream",
     "text": [
      "0 a1 b1\n",
      "1 a2 b2\n",
      "2 a3 b3\n"
     ]
    }
   ],
   "source": [
    "alist = ['a1', 'a2', 'a3']\n",
    "blist = ['b1', 'b2', 'b3']\n",
    "\n",
    "for i, (a, b) in enumerate(zip(alist, blist)):\n",
    "    print(i, a, b)"
   ]
  },
  {
   "cell_type": "code",
   "execution_count": null,
   "id": "eafb7f82",
   "metadata": {},
   "outputs": [],
   "source": []
  }
 ],
 "metadata": {
  "kernelspec": {
   "display_name": "Python 3 (ipykernel)",
   "language": "python",
   "name": "python3"
  },
  "language_info": {
   "codemirror_mode": {
    "name": "ipython",
    "version": 3
   },
   "file_extension": ".py",
   "mimetype": "text/x-python",
   "name": "python",
   "nbconvert_exporter": "python",
   "pygments_lexer": "ipython3",
   "version": "3.10.9"
  }
 },
 "nbformat": 4,
 "nbformat_minor": 5
}
