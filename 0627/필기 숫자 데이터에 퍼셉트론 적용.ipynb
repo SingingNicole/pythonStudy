{
 "cells": [
  {
   "cell_type": "code",
   "execution_count": 1,
   "id": "ec10a894",
   "metadata": {},
   "outputs": [],
   "source": [
    "from sklearn import datasets\n",
    "from sklearn.linear_model import Perceptron\n",
    "from sklearn.model_selection import train_test_split\n",
    "import numpy as np"
   ]
  },
  {
   "cell_type": "code",
   "execution_count": 2,
   "id": "3e48e393",
   "metadata": {},
   "outputs": [],
   "source": [
    "# 데이터셋을 읽고 훈련 집합과 테스트 집합으로 분할\n",
    "digit = datasets.load_digits()\n",
    "x_train, x_test, y_train, y_test = train_test_split(digit.data, digit.target, train_size=0.6)"
   ]
  },
  {
   "cell_type": "code",
   "execution_count": 4,
   "id": "7c0a413f",
   "metadata": {},
   "outputs": [
    {
     "data": {
      "text/plain": [
       "Perceptron(eta0=0.001, max_iter=100)"
      ]
     },
     "execution_count": 4,
     "metadata": {},
     "output_type": "execute_result"
    }
   ],
   "source": [
    "# fit 함수로 Perceptron 학습\n",
    "p = Perceptron(max_iter=100, eta0=0.001, verbose=0)\n",
    "p.fit(x_train, y_train)"
   ]
  },
  {
   "cell_type": "code",
   "execution_count": 5,
   "id": "b2fce91d",
   "metadata": {},
   "outputs": [],
   "source": [
    "res = p.predict(x_test) # 테스트 집합으로 예측"
   ]
  },
  {
   "cell_type": "code",
   "execution_count": 6,
   "id": "a0df134d",
   "metadata": {},
   "outputs": [
    {
     "name": "stdout",
     "output_type": "stream",
     "text": [
      "[[68.  0.  0.  0.  0.  1.  0.  0.  0.  1.]\n",
      " [ 0. 70.  0.  1.  1.  1.  3.  1.  8.  1.]\n",
      " [ 0.  0. 72.  4.  0.  0.  0.  0.  4.  0.]\n",
      " [ 0.  0.  0. 57.  0.  0.  0.  0.  0.  0.]\n",
      " [ 0.  1.  0.  0. 72.  0.  0.  2.  0.  3.]\n",
      " [ 0.  0.  0.  2.  0. 71.  0.  0.  0.  0.]\n",
      " [ 0.  0.  0.  0.  0.  1. 64.  0.  0.  0.]\n",
      " [ 0.  1.  1.  0.  1.  0.  0. 65.  3.  1.]\n",
      " [ 0.  0.  0.  1.  0.  0.  0.  0. 53.  1.]\n",
      " [ 0.  0.  0.  5.  4.  2.  0.  1.  1. 70.]]\n"
     ]
    }
   ],
   "source": [
    "# 혼동 행렬\n",
    "conf = np.zeros((10, 10))\n",
    "for i in range(len(res)):\n",
    "    conf[res[i]][y_test[i]]+=1\n",
    "print(conf)"
   ]
  },
  {
   "cell_type": "code",
   "execution_count": 7,
   "id": "51b63fab",
   "metadata": {},
   "outputs": [
    {
     "name": "stdout",
     "output_type": "stream",
     "text": [
      "테스트 집합에 대한 정확률은  92.07232267037551 %입니다.\n"
     ]
    }
   ],
   "source": [
    "# 정확률 계산\n",
    "no_correct = 0\n",
    "for i in range(10):\n",
    "    no_correct += conf[i][i]\n",
    "accuracy = no_correct / len(res)\n",
    "print(\"테스트 집합에 대한 정확률은 \", accuracy*100, \"%입니다.\")"
   ]
  }
 ],
 "metadata": {
  "kernelspec": {
   "display_name": "Python 3 (ipykernel)",
   "language": "python",
   "name": "python3"
  },
  "language_info": {
   "codemirror_mode": {
    "name": "ipython",
    "version": 3
   },
   "file_extension": ".py",
   "mimetype": "text/x-python",
   "name": "python",
   "nbconvert_exporter": "python",
   "pygments_lexer": "ipython3",
   "version": "3.10.9"
  }
 },
 "nbformat": 4,
 "nbformat_minor": 5
}
