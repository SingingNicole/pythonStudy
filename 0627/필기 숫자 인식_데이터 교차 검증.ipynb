{
 "cells": [
  {
   "cell_type": "code",
   "execution_count": 1,
   "id": "93f076f2",
   "metadata": {},
   "outputs": [
    {
     "name": "stdout",
     "output_type": "stream",
     "text": [
      "[0.975      0.95       0.98328691 0.99164345 0.96100279]\n",
      "정확률(평균)=97.219, 표준편차 =0.015\n"
     ]
    }
   ],
   "source": [
    "from sklearn import datasets\n",
    "from sklearn import svm\n",
    "from sklearn.model_selection import cross_val_score\n",
    "import numpy as np\n",
    "\n",
    "digit=datasets.load_digits()\n",
    "s=svm.SVC(gamma=0.001)\n",
    "accuracies=cross_val_score(s,digit.data,digit.target,cv=5) # 5-겹 교차 검증\n",
    "\n",
    "print(accuracies)\n",
    "print(\"정확률(평균)=%0.3f, 표준편차 =%0.3f\"%(accuracies.mean()*100,accuracies.std()))"
   ]
  },
  {
   "cell_type": "code",
   "execution_count": null,
   "id": "262cf92e",
   "metadata": {},
   "outputs": [],
   "source": []
  }
 ],
 "metadata": {
  "kernelspec": {
   "display_name": "Python 3 (ipykernel)",
   "language": "python",
   "name": "python3"
  },
  "language_info": {
   "codemirror_mode": {
    "name": "ipython",
    "version": 3
   },
   "file_extension": ".py",
   "mimetype": "text/x-python",
   "name": "python",
   "nbconvert_exporter": "python",
   "pygments_lexer": "ipython3",
   "version": "3.10.9"
  }
 },
 "nbformat": 4,
 "nbformat_minor": 5
}
