{
 "cells": [
  {
   "cell_type": "code",
   "execution_count": 1,
   "id": "0d6c5659",
   "metadata": {},
   "outputs": [],
   "source": [
    "from sklearn.linear_model import Perceptron"
   ]
  },
  {
   "cell_type": "code",
   "execution_count": 2,
   "id": "11014596",
   "metadata": {},
   "outputs": [],
   "source": [
    "# 훈련 집합 구축\n",
    "X = [[0, 0], [0, 1], [1, 0], [1, 1]]\n",
    "y = [-1, 1, 1, 1]"
   ]
  },
  {
   "cell_type": "code",
   "execution_count": 3,
   "id": "4ffe67a8",
   "metadata": {},
   "outputs": [
    {
     "data": {
      "text/plain": [
       "Perceptron()"
      ]
     },
     "execution_count": 3,
     "metadata": {},
     "output_type": "execute_result"
    }
   ],
   "source": [
    "# fit 함수로 Perceptron 학습\n",
    "p = Perceptron()\n",
    "p.fit(X, y)"
   ]
  },
  {
   "cell_type": "code",
   "execution_count": 4,
   "id": "ce241476",
   "metadata": {},
   "outputs": [
    {
     "name": "stdout",
     "output_type": "stream",
     "text": [
      "학습된 퍼셉트론의 매개변수: [[2. 2.]] [-1.]\n",
      "훈련집합에 대한 예측: [-1  1  1  1]\n",
      "정확률 측정: 100.0 %\n"
     ]
    }
   ],
   "source": [
    "print(\"학습된 퍼셉트론의 매개변수:\", p.coef_, p.intercept_)\n",
    "print(\"훈련집합에 대한 예측:\", p.predict(X))\n",
    "print(\"정확률 측정:\", p.score(X, y) * 100, \"%\")"
   ]
  },
  {
   "cell_type": "code",
   "execution_count": null,
   "id": "537e8290",
   "metadata": {},
   "outputs": [],
   "source": []
  }
 ],
 "metadata": {
  "kernelspec": {
   "display_name": "Python 3 (ipykernel)",
   "language": "python",
   "name": "python3"
  },
  "language_info": {
   "codemirror_mode": {
    "name": "ipython",
    "version": 3
   },
   "file_extension": ".py",
   "mimetype": "text/x-python",
   "name": "python",
   "nbconvert_exporter": "python",
   "pygments_lexer": "ipython3",
   "version": "3.10.9"
  }
 },
 "nbformat": 4,
 "nbformat_minor": 5
}
