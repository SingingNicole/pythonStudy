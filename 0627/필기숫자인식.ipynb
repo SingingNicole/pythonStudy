{
 "cells": [
  {
   "cell_type": "code",
   "execution_count": 1,
   "metadata": {
    "colab": {
     "base_uri": "https://localhost:8080/"
    },
    "executionInfo": {
     "elapsed": 3253,
     "status": "ok",
     "timestamp": 1668563943189,
     "user": {
      "displayName": "강사이수진",
      "userId": "15916893577319574250"
     },
     "user_tz": -540
    },
    "id": "nTW8Jvi6KHmB",
    "outputId": "b3be6452-f2d8-4bde-b821-4b3468ca159e"
   },
   "outputs": [
    {
     "name": "stdout",
     "output_type": "stream",
     "text": [
      "예측값은 [0 1 2]\n",
      "참값은 0 1 2\n",
      "화소 특징을 사용했을 때 정확률= 100.0 %\n"
     ]
    }
   ],
   "source": [
    "from sklearn import datasets\n",
    "from sklearn import svm\n",
    "\n",
    "digit=datasets.load_digits()\n",
    "\n",
    "# svm의 분류기 모델 SC를 학습\n",
    "s=svm.SVC(gamma=0.1,C=10)\n",
    "s.fit(digit.data,digit.target) # digit 데이터로 모델링\n",
    "\n",
    "# 훈련 집합의 앞에 있는 샘플 3개를 새로운 샘플로 간주하고 인식해봄\n",
    "new_d=[digit.data[0],digit.data[1],digit.data[2]]\n",
    "res=s.predict(new_d)\n",
    "print(\"예측값은\", res)\n",
    "print(\"참값은\", digit.target[0],digit.target[1],digit.target[2])\n",
    "\n",
    "# 훈련 집합을 테스트 집합으로 간주하여 인식해보고 정확률을 측정\n",
    "res=s.predict(digit.data)\n",
    "correct=[i for i in range(len(res)) if res[i]==digit.target[i]]\n",
    "accuracy=len(correct)/len(res)\n",
    "print(\"화소 특징을 사용했을 때 정확률=\",accuracy*100, \"%\")"
   ]
  },
  {
   "cell_type": "code",
   "execution_count": 2,
   "metadata": {
    "colab": {
     "base_uri": "https://localhost:8080/"
    },
    "executionInfo": {
     "elapsed": 1330,
     "status": "ok",
     "timestamp": 1668566841607,
     "user": {
      "displayName": "강사이수진",
      "userId": "15916893577319574250"
     },
     "user_tz": -540
    },
    "id": "0n-zme_UTbBW",
    "outputId": "b0e0ecc6-a83a-4a3c-8a50-1892b37358a7"
   },
   "outputs": [
    {
     "name": "stdout",
     "output_type": "stream",
     "text": [
      "[[73.  0.  0.  0.  0.  0.  0.  0.  0.  0.]\n",
      " [ 0. 64.  0.  0.  0.  0.  1.  0.  0.  0.]\n",
      " [ 0.  0. 69.  0.  0.  0.  0.  0.  0.  0.]\n",
      " [ 0.  0.  0. 74.  0.  0.  0.  0.  0.  0.]\n",
      " [ 0.  0.  0.  0. 63.  0.  0.  0.  0.  0.]\n",
      " [ 0.  0.  0.  1.  0. 73.  0.  0.  0.  1.]\n",
      " [ 0.  0.  0.  0.  0.  1. 72.  0.  0.  0.]\n",
      " [ 0.  0.  0.  1.  0.  0.  0. 77.  0.  0.]\n",
      " [ 0.  0.  0.  1.  0.  0.  1.  0. 69.  0.]\n",
      " [ 0.  0.  0.  1.  0.  1.  0.  0.  0. 76.]]\n",
      "테스트 집합에 대한 정확률은 98.74826147426981 %입니다.\n"
     ]
    }
   ],
   "source": [
    "from sklearn import datasets\n",
    "from sklearn import svm\n",
    "from sklearn.model_selection import train_test_split\n",
    "import numpy as np\n",
    "\n",
    "# 데이터셋을 읽고 훈련 집합과 테스트 집합으로 분할\n",
    "digit=datasets.load_digits()\n",
    "x_train,x_test,y_train,y_test=train_test_split(digit.data,digit.target,train_size=0.6)\n",
    "\n",
    "# svm의 분류 모델 SVC를 학습\n",
    "s=svm.SVC(gamma=0.001)\n",
    "s.fit(x_train,y_train)\n",
    "\n",
    "res=s.predict(x_test)\n",
    "\n",
    "# 혼동 행렬 구함\n",
    "conf=np.zeros((10,10))\n",
    "for i in range(len(res)):\n",
    "    conf[res[i]][y_test[i]]+=1\n",
    "print(conf)\n",
    "\n",
    "# 정확률 측정하고 출력\n",
    "no_correct=0\n",
    "for i in range(10):\n",
    "    no_correct+=conf[i][i]\n",
    "accuracy=no_correct/len(res)\n",
    "print(\"테스트 집합에 대한 정확률은\", accuracy*100, \"%입니다.\")"
   ]
  },
  {
   "cell_type": "code",
   "execution_count": 3,
   "metadata": {
    "colab": {
     "base_uri": "https://localhost:8080/"
    },
    "executionInfo": {
     "elapsed": 1812,
     "status": "ok",
     "timestamp": 1668568038954,
     "user": {
      "displayName": "강사이수진",
      "userId": "15916893577319574250"
     },
     "user_tz": -540
    },
    "id": "sxgfdU4bZ4rh",
    "outputId": "78110267-1b10-4673-e695-08371b6c0c9d"
   },
   "outputs": [
    {
     "name": "stdout",
     "output_type": "stream",
     "text": [
      "[0.975      0.95       0.98328691 0.99164345 0.96100279]\n",
      "정확률(평균)=97.219, 표준편차 =0.015\n"
     ]
    }
   ],
   "source": [
    "from sklearn import datasets\n",
    "from sklearn import svm\n",
    "from sklearn.model_selection import cross_val_score\n",
    "import numpy as np\n",
    "\n",
    "digit=datasets.load_digits()\n",
    "s=svm.SVC(gamma=0.001)\n",
    "accuracies=cross_val_score(s,digit.data,digit.target,cv=5) # 5-겹 교차 검증\n",
    "\n",
    "print(accuracies)\n",
    "print(\"정확률(평균)=%0.3f, 표준편차 =%0.3f\"%(accuracies.mean()*100,accuracies.std()))"
   ]
  },
  {
   "cell_type": "code",
   "execution_count": null,
   "metadata": {
    "id": "lrFaubYkXOpv"
   },
   "outputs": [],
   "source": []
  }
 ],
 "metadata": {
  "colab": {
   "authorship_tag": "ABX9TyM/3jBumntlF8lXeJh4a5UQ",
   "provenance": []
  },
  "kernelspec": {
   "display_name": "Python 3 (ipykernel)",
   "language": "python",
   "name": "python3"
  },
  "language_info": {
   "codemirror_mode": {
    "name": "ipython",
    "version": 3
   },
   "file_extension": ".py",
   "mimetype": "text/x-python",
   "name": "python",
   "nbconvert_exporter": "python",
   "pygments_lexer": "ipython3",
   "version": "3.10.9"
  }
 },
 "nbformat": 4,
 "nbformat_minor": 1
}
