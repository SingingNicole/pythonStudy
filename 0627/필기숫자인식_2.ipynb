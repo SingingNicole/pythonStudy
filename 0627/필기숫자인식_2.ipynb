{
 "cells": [
  {
   "cell_type": "code",
   "execution_count": 1,
   "id": "23b23dfd",
   "metadata": {},
   "outputs": [
    {
     "name": "stdout",
     "output_type": "stream",
     "text": [
      "예측값은 [0 1 2]\n",
      "참값은 0 1 2\n"
     ]
    }
   ],
   "source": [
    "from sklearn import datasets\n",
    "from sklearn import svm\n",
    "\n",
    "digit=datasets.load_digits()\n",
    "\n",
    "# svm의 분류기 모델 SC를 학습\n",
    "s=svm.SVC(gamma=0.1,C=10)\n",
    "s.fit(digit.data,digit.target) # digit 데이터로 모델링\n",
    "\n",
    "# 훈련 집합의 앞에 있는 샘플 3개를 새로운 샘플로 간주하고 인식해봄\n",
    "new_d=[digit.data[0],digit.data[1],digit.data[2]]\n",
    "res=s.predict(new_d)\n",
    "print(\"예측값은\", res)\n",
    "print(\"참값은\", digit.target[0],digit.target[1],digit.target[2])"
   ]
  },
  {
   "cell_type": "code",
   "execution_count": 2,
   "id": "2e61824c",
   "metadata": {},
   "outputs": [
    {
     "name": "stdout",
     "output_type": "stream",
     "text": [
      "화소 특징을 사용했을 때 정확률= 100.0 %\n"
     ]
    }
   ],
   "source": [
    "# 훈련 집합을 테스트 집합으로 간주하여 인식해보고 정확률을 측정\n",
    "res=s.predict(digit.data)\n",
    "correct=[i for i in range(len(res)) if res[i]==digit.target[i]]\n",
    "accuracy=len(correct)/len(res)\n",
    "print(\"화소 특징을 사용했을 때 정확률=\",accuracy*100, \"%\")"
   ]
  }
 ],
 "metadata": {
  "kernelspec": {
   "display_name": "Python 3 (ipykernel)",
   "language": "python",
   "name": "python3"
  },
  "language_info": {
   "codemirror_mode": {
    "name": "ipython",
    "version": 3
   },
   "file_extension": ".py",
   "mimetype": "text/x-python",
   "name": "python",
   "nbconvert_exporter": "python",
   "pygments_lexer": "ipython3",
   "version": "3.10.9"
  }
 },
 "nbformat": 4,
 "nbformat_minor": 5
}
