{
 "cells": [
  {
   "cell_type": "code",
   "execution_count": 1,
   "id": "27f3a870",
   "metadata": {},
   "outputs": [
    {
     "name": "stdout",
     "output_type": "stream",
     "text": [
      "[[71.  0.  0.  0.  0.  0.  0.  0.  0.  0.]\n",
      " [ 0. 73.  0.  0.  0.  0.  1.  0.  3.  0.]\n",
      " [ 0.  0. 73.  0.  0.  0.  0.  0.  0.  0.]\n",
      " [ 0.  0.  0. 70.  0.  0.  0.  0.  0.  0.]\n",
      " [ 0.  0.  0.  0. 61.  0.  0.  0.  0.  0.]\n",
      " [ 0.  0.  0.  0.  0. 77.  0.  0.  0.  0.]\n",
      " [ 0.  0.  0.  0.  0.  0. 78.  0.  0.  0.]\n",
      " [ 0.  0.  0.  1.  0.  0.  0. 71.  0.  0.]\n",
      " [ 0.  0.  0.  1.  0.  0.  0.  0. 60.  1.]\n",
      " [ 0.  0.  0.  0.  0.  1.  0.  1.  0. 76.]]\n",
      "테스트 집합에 대한 정확률은 98.74826147426981 %입니다.\n"
     ]
    }
   ],
   "source": [
    "from sklearn import datasets\n",
    "from sklearn import svm\n",
    "from sklearn.model_selection import train_test_split\n",
    "import numpy as np\n",
    "\n",
    "# 데이터셋을 읽고 훈련 집합과 테스트 집합으로 분할\n",
    "digit=datasets.load_digits()\n",
    "x_train,x_test,y_train,y_test=train_test_split(digit.data,digit.target,train_size=0.6)\n",
    "\n",
    "# svm의 분류 모델 SVC를 학습\n",
    "s=svm.SVC(gamma=0.001)\n",
    "s.fit(x_train,y_train)\n",
    "\n",
    "res=s.predict(x_test)\n",
    "# 혼동 행렬 구함\n",
    "conf=np.zeros((10,10))\n",
    "for i in range(len(res)):\n",
    "    conf[res[i]][y_test[i]]+=1\n",
    "print(conf)\n",
    "\n",
    "# 정확률 측정하고 출력\n",
    "no_correct=0\n",
    "for i in range(10):\n",
    "    no_correct+=conf[i][i]\n",
    "accuracy=no_correct/len(res)\n",
    "print(\"테스트 집합에 대한 정확률은\", accuracy*100, \"%입니다.\")"
   ]
  },
  {
   "cell_type": "code",
   "execution_count": null,
   "id": "50647064",
   "metadata": {},
   "outputs": [],
   "source": []
  }
 ],
 "metadata": {
  "kernelspec": {
   "display_name": "Python 3 (ipykernel)",
   "language": "python",
   "name": "python3"
  },
  "language_info": {
   "codemirror_mode": {
    "name": "ipython",
    "version": 3
   },
   "file_extension": ".py",
   "mimetype": "text/x-python",
   "name": "python",
   "nbconvert_exporter": "python",
   "pygments_lexer": "ipython3",
   "version": "3.10.9"
  }
 },
 "nbformat": 4,
 "nbformat_minor": 5
}
