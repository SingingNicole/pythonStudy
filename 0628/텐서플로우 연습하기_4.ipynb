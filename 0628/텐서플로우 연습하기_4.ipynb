{
 "cells": [
  {
   "cell_type": "code",
   "execution_count": 1,
   "id": "690e292f",
   "metadata": {},
   "outputs": [],
   "source": [
    "import tensorflow as tf"
   ]
  },
  {
   "cell_type": "code",
   "execution_count": 2,
   "id": "76076c5d",
   "metadata": {},
   "outputs": [],
   "source": [
    "# OR 데이터 구축\n",
    "x=[[0.0,0.0],[0.0,1.0],[1.0,0.0],[1.0,1.0]]\n",
    "y=[[-1],[1],[1],[1]]"
   ]
  },
  {
   "cell_type": "code",
   "execution_count": 3,
   "id": "9754afce",
   "metadata": {},
   "outputs": [],
   "source": [
    "# 가중치 초기화\n",
    "w=tf.Variable(tf.random.uniform([2,1],-0.5,0.5))\n",
    "b=tf.Variable(tf.zeros([1]))"
   ]
  },
  {
   "cell_type": "code",
   "execution_count": 4,
   "id": "cb6a1afa",
   "metadata": {},
   "outputs": [],
   "source": [
    "# 옵티마이저\n",
    "opt=tf.keras.optimizers.SGD(learning_rate=0.1)"
   ]
  },
  {
   "cell_type": "code",
   "execution_count": 5,
   "id": "da96b169",
   "metadata": {},
   "outputs": [],
   "source": [
    "# 전방 계산(식 (4.3))\n",
    "def forward():\n",
    "    s=tf.add(tf.matmul(x,w),b)\n",
    "    o=tf.tanh(s)\n",
    "    return o"
   ]
  },
  {
   "cell_type": "code",
   "execution_count": 6,
   "id": "c3b5ba95",
   "metadata": {},
   "outputs": [],
   "source": [
    "# 손실 함수 정의\n",
    "def loss():\n",
    "    o=forward()\n",
    "    return tf.reduce_mean((y-o)**2)"
   ]
  },
  {
   "cell_type": "code",
   "execution_count": 8,
   "id": "0931a5df",
   "metadata": {},
   "outputs": [
    {
     "name": "stdout",
     "output_type": "stream",
     "text": [
      "loss at epoch 0 = 0.74797267\n",
      "loss at epoch 100 = 0.08970438\n",
      "loss at epoch 200 = 0.041806415\n",
      "loss at epoch 300 = 0.026383556\n",
      "loss at epoch 400 = 0.019039216\n"
     ]
    }
   ],
   "source": [
    "# 500세대까지 학습(100세대마다 학습 정보 출력)\n",
    "for i in range(500):\n",
    "    opt.minimize(loss, var_list=[w,b])\n",
    "    if(i%100==0): print('loss at epoch',i,'=',loss().numpy())"
   ]
  }
 ],
 "metadata": {
  "kernelspec": {
   "display_name": "Python 3 (ipykernel)",
   "language": "python",
   "name": "python3"
  },
  "language_info": {
   "codemirror_mode": {
    "name": "ipython",
    "version": 3
   },
   "file_extension": ".py",
   "mimetype": "text/x-python",
   "name": "python",
   "nbconvert_exporter": "python",
   "pygments_lexer": "ipython3",
   "version": "3.10.9"
  }
 },
 "nbformat": 4,
 "nbformat_minor": 5
}
