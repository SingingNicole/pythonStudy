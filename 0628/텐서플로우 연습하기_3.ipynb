{
 "cells": [
  {
   "cell_type": "code",
   "execution_count": 1,
   "id": "e6b6753d",
   "metadata": {},
   "outputs": [],
   "source": [
    "import tensorflow as tf"
   ]
  },
  {
   "cell_type": "code",
   "execution_count": 2,
   "id": "4f994445",
   "metadata": {},
   "outputs": [],
   "source": [
    "# OR 데이터 구축\n",
    "x = [[0.0, 0.0], [0.0, 1.0], [1.0, 0.0], [1.0, 1.0]]\n",
    "y = [[-1], [1], [1], [1]]"
   ]
  },
  {
   "cell_type": "code",
   "execution_count": 3,
   "id": "5c5b721e",
   "metadata": {},
   "outputs": [],
   "source": [
    "# [그림 4-3(b)]의 퍼셉트론\n",
    "w=tf.Variable([[1.0],[1.0]])\n",
    "b=tf.Variable(-0.5)"
   ]
  },
  {
   "cell_type": "code",
   "execution_count": 4,
   "id": "ebeabc02",
   "metadata": {},
   "outputs": [],
   "source": [
    "# 식 4.3의 퍼셉트론 동작\n",
    "s=tf.add(tf.matmul(x,w),b)\n",
    "o=tf.sign(s)"
   ]
  },
  {
   "cell_type": "code",
   "execution_count": 5,
   "id": "7db0bb4a",
   "metadata": {},
   "outputs": [
    {
     "name": "stdout",
     "output_type": "stream",
     "text": [
      "tf.Tensor(\n",
      "[[-1.]\n",
      " [ 1.]\n",
      " [ 1.]\n",
      " [ 1.]], shape=(4, 1), dtype=float32)\n"
     ]
    }
   ],
   "source": [
    "print(o)"
   ]
  }
 ],
 "metadata": {
  "kernelspec": {
   "display_name": "Python 3 (ipykernel)",
   "language": "python",
   "name": "python3"
  },
  "language_info": {
   "codemirror_mode": {
    "name": "ipython",
    "version": 3
   },
   "file_extension": ".py",
   "mimetype": "text/x-python",
   "name": "python",
   "nbconvert_exporter": "python",
   "pygments_lexer": "ipython3",
   "version": "3.10.9"
  }
 },
 "nbformat": 4,
 "nbformat_minor": 5
}
