{
 "cells": [
  {
   "cell_type": "code",
   "execution_count": 1,
   "id": "ee394ee7",
   "metadata": {},
   "outputs": [],
   "source": [
    "import tensorflow as tf\n",
    "import tensorflow.keras.datasets as ds"
   ]
  },
  {
   "cell_type": "code",
   "execution_count": 2,
   "id": "ccd7a7e0",
   "metadata": {},
   "outputs": [
    {
     "name": "stdout",
     "output_type": "stream",
     "text": [
      "Downloading data from https://storage.googleapis.com/tensorflow/tf-keras-datasets/mnist.npz\n",
      "11490434/11490434 [==============================] - 2s 0us/step\n",
      "MNIST:  (60000, 28, 28) (60000,) (60000, 10)\n"
     ]
    }
   ],
   "source": [
    "# MNIST(필기 숫자 데이터) 읽고 텐서 모양 출력\n",
    "(x_train, y_train),(x_test, y_test)=ds.mnist.load_data()\n",
    "yy_train=tf.one_hot(y_train,10,dtype=tf.int8) # 원핫 코드로 변환\n",
    "print(\"MNIST: \",x_train.shape,y_train.shape,yy_train.shape)"
   ]
  },
  {
   "cell_type": "code",
   "execution_count": 3,
   "id": "153c597f",
   "metadata": {},
   "outputs": [
    {
     "name": "stdout",
     "output_type": "stream",
     "text": [
      "Downloading data from https://www.cs.toronto.edu/~kriz/cifar-10-python.tar.gz\n",
      "170498071/170498071 [==============================] - 30s 0us/step\n",
      "CIFAR-10:  (50000, 32, 32, 3) (50000, 1) (50000, 1, 10)\n"
     ]
    }
   ],
   "source": [
    "# CIFAR-10(원핫코드) 읽고 텐서 모양 출력\n",
    "(x_train,y_train),(x_test,y_test)=ds.cifar10.load_data()\n",
    "yy_train=tf.one_hot(y_train,10,dtype=tf.int8)\n",
    "print(\"CIFAR-10: \",x_train.shape,y_train.shape,yy_train.shape)"
   ]
  },
  {
   "cell_type": "code",
   "execution_count": 4,
   "id": "b7d3f179",
   "metadata": {},
   "outputs": [
    {
     "name": "stdout",
     "output_type": "stream",
     "text": [
      "Downloading data from https://storage.googleapis.com/tensorflow/tf-keras-datasets/boston_housing.npz\n",
      "57026/57026 [==============================] - 0s 0us/step\n",
      "Boston Housing:  (404, 13) (404,)\n"
     ]
    }
   ],
   "source": [
    "# Boston Housing 읽고 텐서 모양 출력\n",
    "(x_train,y_train),(x_test,y_test)=ds.boston_housing.load_data()\n",
    "print(\"Boston Housing: \",x_train.shape,y_train.shape)"
   ]
  },
  {
   "cell_type": "code",
   "execution_count": 5,
   "id": "f8603e12",
   "metadata": {},
   "outputs": [
    {
     "name": "stdout",
     "output_type": "stream",
     "text": [
      "Downloading data from https://storage.googleapis.com/tensorflow/tf-keras-datasets/reuters.npz\n",
      "2110848/2110848 [==============================] - 1s 0us/step\n",
      "Reuters:  (8982,) (8982,)\n"
     ]
    }
   ],
   "source": [
    "# Reuters(뉴스 기사 분류) 읽고 텐서 모양 출력\n",
    "(x_train,y_train),(x_test,y_test)=ds.reuters.load_data()\n",
    "print(\"Reuters: \",x_train.shape,y_train.shape)"
   ]
  }
 ],
 "metadata": {
  "kernelspec": {
   "display_name": "Python 3 (ipykernel)",
   "language": "python",
   "name": "python3"
  },
  "language_info": {
   "codemirror_mode": {
    "name": "ipython",
    "version": 3
   },
   "file_extension": ".py",
   "mimetype": "text/x-python",
   "name": "python",
   "nbconvert_exporter": "python",
   "pygments_lexer": "ipython3",
   "version": "3.10.9"
  }
 },
 "nbformat": 4,
 "nbformat_minor": 5
}
