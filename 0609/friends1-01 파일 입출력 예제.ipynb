{
 "cells": [
  {
   "cell_type": "code",
   "execution_count": 1,
   "id": "3d50f4af",
   "metadata": {},
   "outputs": [
    {
     "data": {
      "text/plain": [
       "['.ipynb_checkpoints', 'friends1-01 파일 입출력 예제.ipynb', 'friends101.txt']"
      ]
     },
     "execution_count": 1,
     "metadata": {},
     "output_type": "execute_result"
    }
   ],
   "source": [
    "import re, os # import를 한 번에 여러번 할 수 있다.\n",
    "\n",
    "os.listdir() # 읽어 올 파일이 있는지 디렉토리 체크"
   ]
  },
  {
   "cell_type": "code",
   "execution_count": 7,
   "id": "aa9a9cfc",
   "metadata": {},
   "outputs": [
    {
     "name": "stdout",
     "output_type": "stream",
     "text": [
      "The One Where Monica Gets a New Roommate (The Pilot-The Uncut Version)\n",
      "Written by: Marta Kauffman & \n"
     ]
    }
   ],
   "source": [
    "# 파일 읽어오기\n",
    "f = open('friends101.txt', 'r', encoding = 'utf8')\n",
    "\n",
    "script101 = f.read()\n",
    "\n",
    "print(script101[:100]) # 파일을 잘 가져 왔는지 100자만 보기\n",
    "\n",
    "f.close()"
   ]
  },
  {
   "cell_type": "markdown",
   "id": "a73caf62",
   "metadata": {},
   "source": [
    "- 특정 인물의 대사만 모으기"
   ]
  },
  {
   "cell_type": "code",
   "execution_count": 4,
   "id": "36da9cfc",
   "metadata": {},
   "outputs": [
    {
     "name": "stdout",
     "output_type": "stream",
     "text": [
      "Monica: There's nothing to tell! He's just some guy I work with!\n",
      "Monica: Okay, everybody relax. This is not even a date. It's just two people going out to dinner and- not having sex.\n",
      "Monica: And they weren't looking at you before?!\n"
     ]
    }
   ],
   "source": [
    "m_lines = re.findall(r'Monica:.+', script101)\n",
    "\n",
    "for item in m_lines[:3]:\n",
    "    print(item)"
   ]
  },
  {
   "cell_type": "code",
   "execution_count": 5,
   "id": "ae4e0d02",
   "metadata": {},
   "outputs": [],
   "source": [
    "f = open('monica.txt', 'w', encoding = 'utf8')\n",
    "monica = \"\"\n",
    "\n",
    "for i in m_lines:\n",
    "    monica += i + '\\n'\n",
    "    \n",
    "f.write(monica)\n",
    "f.close()"
   ]
  },
  {
   "cell_type": "markdown",
   "id": "d229b4c5",
   "metadata": {},
   "source": [
    "- 등장인물 리스트 만들기"
   ]
  },
  {
   "cell_type": "code",
   "execution_count": 12,
   "id": "79e43a33",
   "metadata": {
    "scrolled": true
   },
   "outputs": [
    {
     "name": "stdout",
     "output_type": "stream",
     "text": [
      "{'Frannie:', 'Joey:', 'Monica:', 'Customer:', 'Waitress:', 'Scene:', 'Chandler:', 'All:', 'Note:', 'Paul:', 'Phoebe:', 'Ross:', 'Rachel:'}\n"
     ]
    }
   ],
   "source": [
    "print(set(re.findall(r'[A-Z][a-z]+:', script101)))"
   ]
  },
  {
   "cell_type": "markdown",
   "id": "114710e4",
   "metadata": {},
   "source": [
    "- 등장인물 리스트에서 : 제거"
   ]
  },
  {
   "cell_type": "code",
   "execution_count": 14,
   "id": "d67b5413",
   "metadata": {
    "scrolled": true
   },
   "outputs": [
    {
     "name": "stdout",
     "output_type": "stream",
     "text": [
      "['Frannie', 'Joey', 'Monica', 'Customer', 'Waitress', 'Scene', 'Chandler', 'All', 'Note', 'Paul', 'Phoebe', 'Ross', 'Rachel']\n"
     ]
    }
   ],
   "source": [
    "# 인덱스 슬라이싱을 이용하여 : 문자열 삭제\n",
    "names = [x[:-1] for x in list(set(re.findall(r'[A-Z][a-z]+:', script101)))]\n",
    "\n",
    "print(names)"
   ]
  },
  {
   "cell_type": "markdown",
   "id": "e0c17463",
   "metadata": {},
   "source": [
    "- 지문만 출력하기\n",
    "    - 괄호 안의 문자열만 출력하는 방법"
   ]
  },
  {
   "cell_type": "code",
   "execution_count": 16,
   "id": "5aed17f4",
   "metadata": {},
   "outputs": [
    {
     "data": {
      "text/plain": [
       "['(The Pilot-The Uncut Version)',\n",
       " '(Note: The previously unseen parts of this episode are shown in blue text.)',\n",
       " '(They all stare, bemused.)',\n",
       " '(mortified)',\n",
       " '(explaining to the others)']"
      ]
     },
     "execution_count": 16,
     "metadata": {},
     "output_type": "execute_result"
    }
   ],
   "source": [
    "re.findall(r'\\([A-Za-z].+[a-z|\\.]\\)', script101)[:5] # 괄호 안에 있는 지문을 찾는 패턴식으로 테스트"
   ]
  },
  {
   "cell_type": "markdown",
   "id": "0e56c4d2",
   "metadata": {},
   "source": [
    "- 특정 단어의 예문만 모아 파일로 저장"
   ]
  },
  {
   "cell_type": "code",
   "execution_count": 17,
   "id": "4f5f7b6a",
   "metadata": {
    "scrolled": true
   },
   "outputs": [
    {
     "name": "stdout",
     "output_type": "stream",
     "text": [
      "['The One Where Monica Gets a New Roommate (The Pilot-The Uncut Version)\\n', 'Written by: Marta Kauffman & David Crane\\n', 'Transcribed by: guineapig\\n']\n"
     ]
    }
   ],
   "source": [
    "with open('friends101.txt', 'r', encoding = 'utf8') as f:\n",
    "    sentences = f.readlines()\n",
    "\n",
    "print(sentences[:3])"
   ]
  },
  {
   "cell_type": "code",
   "execution_count": 19,
   "id": "24b2e281",
   "metadata": {},
   "outputs": [
    {
     "name": "stdout",
     "output_type": "stream",
     "text": [
      "[\"Rachel: Ooh, I was kinda hoping that wouldn't be an issue... [Scene: Monica's Apartment, everyone is there and watching a Spanish Soap on TV and are trying to figure out what is going on.]\\n\", \"Chandler: I would have to say that is an 'L'-shaped bracket.\\n\", 'Monica: Why?! Why? Why, why would anybody do something like that?\\n']\n"
     ]
    }
   ],
   "source": [
    "lines = [i for i in sentences if re.match(r'[A-Z][a-z]+:', i) and re.search('would', i)]\n",
    "# 조건식에 해당하면서 would 문자열을 포함하는 문자열들을 반환한다.\n",
    "print(lines[:3])"
   ]
  },
  {
   "cell_type": "code",
   "execution_count": 20,
   "id": "0e25cb13",
   "metadata": {
    "scrolled": true
   },
   "outputs": [
    {
     "name": "stdout",
     "output_type": "stream",
     "text": [
      "Rachel: Ooh, I was kinda hoping that wouldn't be an issue... [Scene: Monica's Apartment, everyone is there and watching a Spanish Soap on TV and are trying to figure out what is going on.]\n",
      "\n",
      "Chandler: I would have to say that is an 'L'-shaped bracket.\n",
      "\n",
      "Monica: Why?! Why? Why, why would anybody do something like that?\n",
      "\n"
     ]
    }
   ],
   "source": [
    "for i in lines[:3]:\n",
    "    print(i)"
   ]
  },
  {
   "cell_type": "code",
   "execution_count": 21,
   "id": "8f9a4b2d",
   "metadata": {},
   "outputs": [],
   "source": [
    "# 텍스트 파일로 저장하기\n",
    "new_file = open('would.txt', 'w', encoding='utf8')\n",
    "\n",
    "# 리스트인 경우 writelines 메서드를 이용하여 가져온다.\n",
    "new_file.writelines(lines)\n",
    "new_file.close()"
   ]
  },
  {
   "cell_type": "markdown",
   "id": "74b69091",
   "metadata": {},
   "source": [
    "- 예제: 이메일 주소만 반환하기"
   ]
  },
  {
   "cell_type": "code",
   "execution_count": 39,
   "id": "c8f94f7b",
   "metadata": {},
   "outputs": [
    {
     "name": "stdout",
     "output_type": "stream",
     "text": [
      "['greatking@naver.com', 'travel@daum.net', 'apple@gmail.com', 'life@abc.co.kr']\n"
     ]
    }
   ],
   "source": [
    "a = '''\n",
    "제 이메일 주소는 greatking@naver.com입니다. 오늘 저는 travel@daum.net라는 주소로 메일을\n",
    "보내려고 합니다. 저는 apple@gmail.com과 life@abc.co.kr메일도 사용하고 있습니다.\n",
    "'''\n",
    "\n",
    "# 해당 텍스트에서 메일 주소만 추출해 리스트로 반환해주세요\n",
    "email_list = re.findall(r'[A-Za-z0-9]+@[a-z.]+', a)\n",
    "\n",
    "print(email_list)"
   ]
  }
 ],
 "metadata": {
  "kernelspec": {
   "display_name": "Python 3 (ipykernel)",
   "language": "python",
   "name": "python3"
  },
  "language_info": {
   "codemirror_mode": {
    "name": "ipython",
    "version": 3
   },
   "file_extension": ".py",
   "mimetype": "text/x-python",
   "name": "python",
   "nbconvert_exporter": "python",
   "pygments_lexer": "ipython3",
   "version": "3.10.9"
  }
 },
 "nbformat": 4,
 "nbformat_minor": 5
}
