{
 "cells": [
  {
   "cell_type": "code",
   "execution_count": 1,
   "id": "c89fd48f",
   "metadata": {
    "scrolled": true
   },
   "outputs": [
    {
     "data": {
      "text/plain": [
       "['.ipynb_checkpoints',\n",
       " 'abc.csv',\n",
       " 'friends1-01 파일 입출력 예제.ipynb',\n",
       " 'friends101.txt',\n",
       " 'monica.txt',\n",
       " 'popSeoul2023.csv',\n",
       " 'scv_file 처리.ipynb',\n",
       " 'would.txt',\n",
       " '서울시 외국인 인구 분석하기.ipynb']"
      ]
     },
     "execution_count": 1,
     "metadata": {},
     "output_type": "execute_result"
    }
   ],
   "source": [
    "import usecsv, os\n",
    "\n",
    "os.listdir()"
   ]
  },
  {
   "cell_type": "code",
   "execution_count": 2,
   "id": "d1255cc9",
   "metadata": {},
   "outputs": [
    {
     "name": "stdout",
     "output_type": "stream",
     "text": [
      "[['Gu', 'Korean', 'Foreigner', 'Senior'], ['Total', 9426404.0, 241604.0, 1690961.0], ['Jongrogu', 141060.0, 11152.0, 28265.0]]\n"
     ]
    }
   ],
   "source": [
    "total = usecsv.opencsv('popSeoul2023.csv')\n",
    "\n",
    "newPop = usecsv.switch(total)\n",
    "\n",
    "print(newPop[:3])"
   ]
  },
  {
   "cell_type": "markdown",
   "id": "5d80afa4",
   "metadata": {},
   "source": [
    "- 외국인 비율이 3%가 넘는 경우만 출력하기"
   ]
  },
  {
   "cell_type": "code",
   "execution_count": 12,
   "id": "e0ed6be9",
   "metadata": {},
   "outputs": [
    {
     "name": "stdout",
     "output_type": "stream",
     "text": [
      "['Total', 9426404.0, 241604.0, 1690961.0]\n",
      "2.4990049656558\n",
      "Total : 2.499\n"
     ]
    }
   ],
   "source": [
    "i = newPop[1]\n",
    "\n",
    "print(i)\n",
    "print(i[2] / (i[1] + i[2]) * 100)\n",
    "\n",
    "foreign = round(i[2] / (i[1] + i[2]) * 100, 3)\n",
    "print(i[0], ':', foreign)"
   ]
  },
  {
   "cell_type": "code",
   "execution_count": 16,
   "id": "90c1d795",
   "metadata": {},
   "outputs": [
    {
     "name": "stdout",
     "output_type": "stream",
     "text": [
      "Total 2.5\n",
      "Jongrogu 7.3\n",
      "Jongru 7.9\n",
      "Yongsangu 6.3\n",
      "Seongdonggu 2.4\n",
      "Kwangjingu 4.0\n",
      "Dongdaemoongu 4.9\n",
      "Jungranggu 1.3\n",
      "Seongbukgu 2.7\n",
      "Gangbukgu 1.4\n",
      "Dobonggu 0.8\n",
      "Nowonggu 0.9\n",
      "Eunpyonggu 0.8\n",
      "Seodaemungu 4.2\n",
      "Mapogu 2.9\n",
      "Yangcheongu 0.7\n",
      "Gangseogu 0.9\n",
      "Gurogu 5.5\n",
      "Guemcheongu 5.4\n",
      "Youngdeungpogu 5.6\n",
      "Dongjakgu 2.6\n",
      "Kwanakgu 2.9\n",
      "Seoucheogu 1.0\n",
      "Gangnamgu 0.9\n",
      "Songpagu 0.9\n",
      "Gangdonggu 0.9\n"
     ]
    }
   ],
   "source": [
    "for i in newPop:\n",
    "    foreign = 0\n",
    "    try:\n",
    "        foreign = round(i[2] / (i[1] + i[2]) * 100, 1)\n",
    "        print(i[0], foreign)\n",
    "    except:\n",
    "        pass"
   ]
  },
  {
   "cell_type": "code",
   "execution_count": 27,
   "id": "706d77a4",
   "metadata": {},
   "outputs": [],
   "source": [
    "newP = [['구', '한국인', '외국인 비율(%)']]\n",
    "\n",
    "for i in newPop:\n",
    "    foreign = 0\n",
    "    try:\n",
    "        foreign = round(i[2] / (i[1] + i[2]) * 100, 1)\n",
    "        if foreign > 3:\n",
    "            newP.append([i[0], i[1], i[2], foreign])\n",
    "    except:\n",
    "        pass\n",
    "\n",
    "usecsv.writecsv('newPop.csv', newP)"
   ]
  },
  {
   "cell_type": "code",
   "execution_count": 33,
   "id": "811d3b21",
   "metadata": {
    "scrolled": true
   },
   "outputs": [
    {
     "name": "stdout",
     "output_type": "stream",
     "text": [
      "[['구', '한국인', '외국인 비율(%)'], ['Jongru', 120963.0, 10427.0, 7.9], ['Jongrogu', 141060.0, 11152.0, 7.3], ['Yongsangu', 217756.0, 14726.0, 6.3], ['Youngdeungpogu', 376614.0, 22385.0, 5.6], ['Gurogu', 395183.0, 22800.0, 5.5], ['Guemcheongu', 229307.0, 13160.0, 5.4], ['Dongdaemoongu', 337574.0, 17310.0, 4.9], ['Seodaemungu', 308437.0, 13529.0, 4.2], ['Kwangjingu', 336801.0, 14124.0, 4.0]]\n"
     ]
    }
   ],
   "source": [
    "popF = newP[1:]\n",
    "popF.sort(key=lambda x : -x[3]) # lambda식을 활용하여 정렬할 기준 지정(3번째 index 값)\n",
    "# -기호를 붙여 내림차순으로 정렬하였다.\n",
    "\n",
    "head = ['구', '한국인', '외국인 비율(%)']\n",
    "popF.insert(0, head)\n",
    "print(popF)"
   ]
  }
 ],
 "metadata": {
  "kernelspec": {
   "display_name": "Python 3 (ipykernel)",
   "language": "python",
   "name": "python3"
  },
  "language_info": {
   "codemirror_mode": {
    "name": "ipython",
    "version": 3
   },
   "file_extension": ".py",
   "mimetype": "text/x-python",
   "name": "python",
   "nbconvert_exporter": "python",
   "pygments_lexer": "ipython3",
   "version": "3.10.9"
  }
 },
 "nbformat": 4,
 "nbformat_minor": 5
}
