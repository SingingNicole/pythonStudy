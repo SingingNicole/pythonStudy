{
 "cells": [
  {
   "cell_type": "code",
   "execution_count": 1,
   "id": "1cc3de9f",
   "metadata": {
    "scrolled": false
   },
   "outputs": [
    {
     "data": {
      "text/plain": [
       "['.ipynb_checkpoints',\n",
       " 'friends1-01 파일 입출력 예제.ipynb',\n",
       " 'friends101.txt',\n",
       " 'monica.txt',\n",
       " 'popSeoul2023.csv',\n",
       " 'scv_file 처리.ipynb',\n",
       " 'usecsv.py',\n",
       " 'would.txt']"
      ]
     },
     "execution_count": 1,
     "metadata": {},
     "output_type": "execute_result"
    }
   ],
   "source": [
    "# os, csv 모듈 import, 디렉토리 확인\n",
    "import os, csv\n",
    "os.listdir()"
   ]
  },
  {
   "cell_type": "markdown",
   "id": "57036bcc",
   "metadata": {},
   "source": [
    "- 파이썬에서 csv 파일 읽기"
   ]
  },
  {
   "cell_type": "code",
   "execution_count": 2,
   "id": "1be0cec5",
   "metadata": {
    "scrolled": true
   },
   "outputs": [
    {
     "name": "stdout",
     "output_type": "stream",
     "text": [
      "<_csv.reader object at 0x0000016B2CC1B520>\n",
      "[['Gu', 'Korean', 'Foreigner', 'Senior'], ['Total', '9,426,404', '241,604', '1,690,961'], ['Jongrogu', '141,060', '11,152', '28,265'], ['Jongru', '120,963', '10,427', '25,353'], ['Yongsangu', '217,756', '14,726', '39,478'], ['Seongdonggu', '280,240', '7,000', '48,238'], ['Kwangjingu', '336,801', '14,124', '54,854'], ['Dongdaemoongu', '337,574', '17,310', '65,154'], ['Jungranggu', '385,003', '4,925', '76,116'], ['Seongbukgu', '430,100', '11,755', '78,427'], ['Gangbukgu', '292,762', '4,172', '67,056'], ['Dobonggu', '310,509', '2,349', '68,114'], ['Nowonggu', '502,515', '4,474', '93,279'], ['Eunpyonggu', '464,871', '3,895', '90,556'], ['Seodaemungu', '308,437', '13,529', '56,785'], ['Mapogu', '365,570', '10,972', '56,582'], ['Yangcheongu', '439,219', '3,126', '73,522'], ['Gangseogu', '568,287', '5,424', '98,659'], ['Gurogu', '395,183', '22,800', '77,259'], ['Guemcheongu', '229,307', '13,160', '43,772'], ['Youngdeungpogu', '376,614', '22,385', '66,014'], ['Dongjakgu', '380,201', '10,176', '68,766'], ['Kwanakgu', '487,815', '14,813', '83,420'], ['Seoucheogu', '404,831', '4,148', '63,328'], ['Gangnamgu', '532,798', '5,019', '83,097'], ['Songpagu', '658,006', '5,698', '105,161'], ['Gangdonggu', '459,982', '4,045', '79,706']]\n"
     ]
    }
   ],
   "source": [
    "f = open('popSeoul2023.csv', 'r')\n",
    "\n",
    "# csv 파일은 2차원 리스트 형식으로 읽어 온다.\n",
    "new_csv = csv.reader(f)\n",
    "\n",
    "popSeoul2023_list = []\n",
    "for i in new_csv:\n",
    "    popSeoul2023_list.append(i)\n",
    "    \n",
    "f.close()\n",
    "\n",
    "print(new_csv) # csv.reader object 주소값이 출력된다.\n",
    "print(popSeoul2023_list) # 2차원 리스트로 출력된다."
   ]
  },
  {
   "cell_type": "code",
   "execution_count": 5,
   "id": "31f7dd73",
   "metadata": {
    "scrolled": false
   },
   "outputs": [
    {
     "name": "stdout",
     "output_type": "stream",
     "text": [
      "[['Gu', 'Korean', 'Foreigner', 'Senior'], ['Total', '9,426,404', '241,604', '1,690,961'], ['Jongrogu', '141,060', '11,152', '28,265'], ['Jongru', '120,963', '10,427', '25,353'], ['Yongsangu', '217,756', '14,726', '39,478'], ['Seongdonggu', '280,240', '7,000', '48,238'], ['Kwangjingu', '336,801', '14,124', '54,854'], ['Dongdaemoongu', '337,574', '17,310', '65,154'], ['Jungranggu', '385,003', '4,925', '76,116'], ['Seongbukgu', '430,100', '11,755', '78,427'], ['Gangbukgu', '292,762', '4,172', '67,056'], ['Dobonggu', '310,509', '2,349', '68,114'], ['Nowonggu', '502,515', '4,474', '93,279'], ['Eunpyonggu', '464,871', '3,895', '90,556'], ['Seodaemungu', '308,437', '13,529', '56,785'], ['Mapogu', '365,570', '10,972', '56,582'], ['Yangcheongu', '439,219', '3,126', '73,522'], ['Gangseogu', '568,287', '5,424', '98,659'], ['Gurogu', '395,183', '22,800', '77,259'], ['Guemcheongu', '229,307', '13,160', '43,772'], ['Youngdeungpogu', '376,614', '22,385', '66,014'], ['Dongjakgu', '380,201', '10,176', '68,766'], ['Kwanakgu', '487,815', '14,813', '83,420'], ['Seoucheogu', '404,831', '4,148', '63,328'], ['Gangnamgu', '532,798', '5,019', '83,097'], ['Songpagu', '658,006', '5,698', '105,161'], ['Gangdonggu', '459,982', '4,045', '79,706']]\n"
     ]
    }
   ],
   "source": [
    "# function을 만들어 편하게 데이터를 가져 올 수도 있다.\n",
    "def open_csv(file_name):\n",
    "    file = open(file_name, 'r')\n",
    "    reader = csv.reader(file)\n",
    "    data = []\n",
    "    \n",
    "    for i in reader:\n",
    "        data.append(i)\n",
    "    file.close()\n",
    "    \n",
    "    return data\n",
    "\n",
    "print(open_csv('popSeoul2023.csv'))"
   ]
  },
  {
   "cell_type": "markdown",
   "id": "ef59ca07",
   "metadata": {},
   "source": [
    "- 배열 데이터를 csv 파일로 만들기"
   ]
  },
  {
   "cell_type": "code",
   "execution_count": 6,
   "id": "9ead784b",
   "metadata": {},
   "outputs": [],
   "source": [
    "a = [['구','전체','내국인','외국인'],\n",
    "['서초구','169518','411515','407672'],\n",
    "['강남구','234885','536710','531777'],\n",
    "['송파구','286119','668638','662961'],\n",
    "['강동구','202861','465496','461630']]\n",
    "\n",
    "f = open('abc.csv', 'w', newline='')\n",
    "csv_writer = csv.writer(f, delimiter = ',')\n",
    "csv_writer.writerows(a)\n",
    "\n",
    "f.close()"
   ]
  },
  {
   "cell_type": "markdown",
   "id": "aa5ec10f",
   "metadata": {},
   "source": [
    "- 모듈 import하여 csv 파일 활용\n",
    "    - 같은 경로의 py 파일은 별 다른 처리 없이 import 가능\n",
    "    - 다른 경로에서 사용하고 싶을 경우 anaconda3 > Lib 폴더에 추가한다."
   ]
  },
  {
   "cell_type": "code",
   "execution_count": 10,
   "id": "2fff61c4",
   "metadata": {},
   "outputs": [],
   "source": [
    "import usecsv # Lib 폴더에 있다면 그냥 import 가능하다.\n",
    "# 가져온 데이터는 모두 문자형."
   ]
  },
  {
   "cell_type": "markdown",
   "id": "49a9ecb6",
   "metadata": {},
   "source": [
    "- 문자형 자료를 숫자형으로 바꾸기"
   ]
  },
  {
   "cell_type": "code",
   "execution_count": 11,
   "id": "bd9a1f61",
   "metadata": {
    "scrolled": false
   },
   "outputs": [
    {
     "name": "stdout",
     "output_type": "stream",
     "text": [
      "123456759.0 <class 'float'>\n"
     ]
    }
   ],
   "source": [
    "# re.sub() 함수를 사용하여 ',' 문자를 제거한다.\n",
    "import re\n",
    "\n",
    "j = '123,456,759'\n",
    "\n",
    "n = float(re.sub(',', '', j))\n",
    "\n",
    "print(n, type(n)) # ',' 문자를 삭제하여 float 형변환이 가능해졌다."
   ]
  },
  {
   "cell_type": "code",
   "execution_count": 13,
   "id": "25df91a9",
   "metadata": {},
   "outputs": [
    {
     "name": "stdout",
     "output_type": "stream",
     "text": [
      "['123!', 151767.0, 11093.0, 27394.0, '', '!!!$%']\n"
     ]
    }
   ],
   "source": [
    "i = ['123!', '151,767', '11,093', '27,394', '', '!!!$%']\n",
    "\n",
    "# 숫자만 체크하여 형변환한다.\n",
    "for j in i:\n",
    "    try:\n",
    "        i[i.index(j)] = float(re.sub(',', '', j))\n",
    "    except:\n",
    "        pass\n",
    "    \n",
    "print(i)"
   ]
  },
  {
   "cell_type": "code",
   "execution_count": 20,
   "id": "c0b9c60c",
   "metadata": {},
   "outputs": [
    {
     "name": "stdout",
     "output_type": "stream",
     "text": [
      "[['Gu', 'Korean', 'Foreigner', 'Senior'], ['Total', 9426404.0, 241604.0, 1690961.0], ['Jongrogu', 141060.0, 11152.0, 28265.0], ['Jongru', 120963.0, 10427.0, 25353.0], ['Yongsangu', 217756.0, 14726.0, 39478.0]]\n"
     ]
    }
   ],
   "source": [
    "import usecsv\n",
    "\n",
    "popS = usecsv.opencsv('popSeoul2023.csv')\n",
    "\n",
    "for i in popS:\n",
    "    for j in i:\n",
    "        try:\n",
    "            i[i.index(j)] = float(re.sub(',', '', j))\n",
    "        except:\n",
    "            pass\n",
    "\n",
    "print(popS[:5])"
   ]
  }
 ],
 "metadata": {
  "kernelspec": {
   "display_name": "Python 3 (ipykernel)",
   "language": "python",
   "name": "python3"
  },
  "language_info": {
   "codemirror_mode": {
    "name": "ipython",
    "version": 3
   },
   "file_extension": ".py",
   "mimetype": "text/x-python",
   "name": "python",
   "nbconvert_exporter": "python",
   "pygments_lexer": "ipython3",
   "version": "3.10.9"
  }
 },
 "nbformat": 4,
 "nbformat_minor": 5
}
