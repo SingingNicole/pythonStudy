{
 "cells": [
  {
   "cell_type": "code",
   "execution_count": 1,
   "id": "d087639a",
   "metadata": {},
   "outputs": [],
   "source": [
    "import re, usecsv, os"
   ]
  },
  {
   "cell_type": "code",
   "execution_count": 2,
   "id": "9952497d",
   "metadata": {},
   "outputs": [],
   "source": [
    "# 영문을 English 객체에 저장합니다\n",
    "English = \"She is a vegetarian. She does not eat meat. She thinks that animals should not be killed. It is hard for her to hang out with people. Many people like to eat meat. She told his parents not to have meat. They laughed at her. She realized they couldn\\'t give up meat.\"\n",
    "\n",
    "# 영문을 구글 번역기로 번역해 Korean 객체에 저장\n",
    "Korean = \"그녀는 채식주의자입니다. 그녀는 고기를 먹지 않습니다. 그녀는 동물을 죽이지 말아야한다고 생각합니다. 그녀가 사람들과 어울리는 것은 어렵습니다. 많은 사람들이 고기를 좋아합니다. 그녀는 부모에게 고기를 먹지 말라고 말했습니다. 그들은 그녀를 비웃었다. 그녀는 그들이 고기를 포기할 수 없다는 것을 깨달았습니다.\""
   ]
  },
  {
   "cell_type": "code",
   "execution_count": null,
   "id": "a000bb30",
   "metadata": {},
   "outputs": [],
   "source": [
    "# split으로 문장을 구분해 각각 리스트로 나눈다.\n",
    "\n",
    "\n",
    "# csv 파일로 저장한다."
   ]
  }
 ],
 "metadata": {
  "kernelspec": {
   "display_name": "Python 3 (ipykernel)",
   "language": "python",
   "name": "python3"
  },
  "language_info": {
   "codemirror_mode": {
    "name": "ipython",
    "version": 3
   },
   "file_extension": ".py",
   "mimetype": "text/x-python",
   "name": "python",
   "nbconvert_exporter": "python",
   "pygments_lexer": "ipython3",
   "version": "3.10.9"
  }
 },
 "nbformat": 4,
 "nbformat_minor": 5
}
