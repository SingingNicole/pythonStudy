{
 "cells": [
  {
   "cell_type": "code",
   "execution_count": 1,
   "id": "1f4d6640",
   "metadata": {
    "scrolled": true
   },
   "outputs": [
    {
     "data": {
      "text/plain": [
       "['.ipynb_checkpoints',\n",
       " 'abc.csv',\n",
       " 'apt_202305.csv',\n",
       " 'friends1-01 파일 입출력 예제.ipynb',\n",
       " 'friends101.txt',\n",
       " 'monica.txt',\n",
       " 'newPop.csv',\n",
       " 'popSeoul2023.csv',\n",
       " 'scv_file 처리.ipynb',\n",
       " 'would.txt',\n",
       " '부동산 실거래가 분석.ipynb',\n",
       " '서울시 외국인 인구 분석하기.ipynb']"
      ]
     },
     "execution_count": 1,
     "metadata": {},
     "output_type": "execute_result"
    }
   ],
   "source": [
    "import usecsv, os\n",
    "\n",
    "os.listdir()"
   ]
  },
  {
   "cell_type": "code",
   "execution_count": 17,
   "id": "479feb1c",
   "metadata": {
    "scrolled": true
   },
   "outputs": [
    {
     "name": "stdout",
     "output_type": "stream",
     "text": [
      "[['시군구', '번지', '단지명', '전용면적(㎡)', '거래금액(만원)', '층', '도로명', '거래유형'], ['강원도 강릉시 교동', 1982.0, '강릉교동롯데캐슬1단지', 135.1727, 59000.0, 4.0, '화부산로99번길 12', '중개거래'], ['강원도 강릉시 교동', 1983.0, '강릉교동롯데캐슬2단지', 135.1008, 51500.0, 9.0, '화부산로111번길 24', '중개거래']]\n",
      "32501\n"
     ]
    }
   ],
   "source": [
    "apt = usecsv.switch(usecsv.opencsv('apt_202305.csv'))\n",
    "print(apt[:3])\n",
    "print(len(apt))"
   ]
  },
  {
   "cell_type": "code",
   "execution_count": 3,
   "id": "a48fdf9c",
   "metadata": {},
   "outputs": [
    {
     "name": "stdout",
     "output_type": "stream",
     "text": [
      "시군구 단지명 전용면적(㎡) 거래금액(만원)\n",
      "강원도 강릉시 교동 강릉교동롯데캐슬1단지 135.1727 59,000\n",
      "강원도 강릉시 교동 강릉교동롯데캐슬2단지 135.1008 51,500\n",
      "강원도 강릉시 교동 교동1주공 59.89 23,200\n",
      "강원도 강릉시 교동 교동3주공 59.86 27,000\n"
     ]
    }
   ],
   "source": [
    "# 리스트 안의 특정 데이터만 가져올 수 있다.\n",
    "for i in apt[:5]:\n",
    "    print(i[0], i[2], i[3], i[4])"
   ]
  },
  {
   "cell_type": "code",
   "execution_count": 18,
   "id": "e7275e43",
   "metadata": {},
   "outputs": [
    {
     "name": "stdout",
     "output_type": "stream",
     "text": [
      "강원도 강릉시 교동 강릉교동롯데캐슬1단지 135.1727 59000.0 4.0\n",
      "강원도 강릉시 교동 강릉교동롯데캐슬2단지 135.1008 51500.0 9.0\n",
      "강원도 강릉시 입암동 이안강릉타운 157.34 43000.0 3.0\n",
      "강원도 강릉시 홍제동 강릉홍제힐스테이트 129.689 44500.0 8.0\n",
      "강원도 원주시 반곡동 반곡벽산블루밍1차 147.232 42300.0 10.0\n",
      "강원도 원주시 판부면 서곡리 원주더샵아파트 148.648 43000.0 7.0\n",
      "강원도 원주시 행구동 효성백년가약 128.701 32700.0 4.0\n",
      "강원도 원주시 행구동 효성백년가약 128.701 30500.0 2.0\n",
      "강원도 원주시 행구동 효성백년가약 128.701 31700.0 15.0\n",
      "강원도 춘천시 근화동 신성미소지움 133.97 44500.0 5.0\n",
      "강원도 춘천시 동면 만천리 한일유앤아이 166.5906 39000.0 7.0\n",
      "강원도 춘천시 석사동 신도브래뉴 128.1497 38000.0 13.0\n",
      "강원도 춘천시 석사동 현진에버빌2차 153.57 59500.0 6.0\n",
      "강원도 춘천시 온의동 온의롯데캐슬스카이클래스 125.709 70000.0 21.0\n",
      "강원도 춘천시 우두동 강변코아루 146.026 42000.0 8.0\n",
      "강원도 춘천시 우두동 롯데인벤스 147.47 33000.0 14.0\n",
      "강원도 춘천시 우두동 롯데인벤스 147.47 38000.0 2.0\n",
      "강원도 춘천시 퇴계동 휴먼시아남춘천1단지 134.89 53500.0 9.0\n",
      "강원도 춘천시 퇴계동 휴먼시아남춘천1단지 121.95 48500.0 1.0\n",
      "강원도 춘천시 효자동 현진에버빌3차 124.804 43900.0 3.0\n",
      "강원도 춘천시 효자동 현진에버빌3차 124.804 46300.0 1.0\n",
      "강원도 춘천시 후평동 춘천더샵 127.2412 38200.0 4.0\n",
      "강원도 춘천시 후평동 춘천더샵 145.5773 47800.0 23.0\n",
      "강원도 춘천시 후평동 춘천더샵 145.4234 42400.0 10.0\n"
     ]
    }
   ],
   "source": [
    "# 강원도 120제곱미터 3억 이상\n",
    "# 필요 데이터: 시군구, 전용면적, 거래금액\n",
    "import re\n",
    "\n",
    "for i in apt:\n",
    "    try:\n",
    "          if i[3] > 120 and i[4] >= 30000 and re.match('강원', i[0]):\n",
    "            print(i[0], i[2], i[3], i[4], i[-3])\n",
    "    except:\n",
    "        pass"
   ]
  },
  {
   "cell_type": "markdown",
   "id": "0ac29346",
   "metadata": {},
   "source": [
    "- 조건에 맞는 파일만 저장하기\n",
    "    - 해당 조건문으로 만든 list를 append하여 새 csv 파일로 만들 수 있다."
   ]
  },
  {
   "cell_type": "code",
   "execution_count": 20,
   "id": "0859ce28",
   "metadata": {},
   "outputs": [],
   "source": [
    "new_list = []\n",
    "for i in apt:\n",
    "    try:\n",
    "        if i[3] > 120 and i[4] >= 30000 and re.match('강원', i[0]):\n",
    "            new_list.append([i[0], i[2], i[3], i[4], i[-3]])\n",
    "    except:\n",
    "        pass\n",
    "    \n",
    "usecsv.writecsv('over120_lower30000.csv', new_list)"
   ]
  }
 ],
 "metadata": {
  "kernelspec": {
   "display_name": "Python 3 (ipykernel)",
   "language": "python",
   "name": "python3"
  },
  "language_info": {
   "codemirror_mode": {
    "name": "ipython",
    "version": 3
   },
   "file_extension": ".py",
   "mimetype": "text/x-python",
   "name": "python",
   "nbconvert_exporter": "python",
   "pygments_lexer": "ipython3",
   "version": "3.10.9"
  }
 },
 "nbformat": 4,
 "nbformat_minor": 5
}
