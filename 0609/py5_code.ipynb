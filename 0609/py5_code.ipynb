{
 "cells": [
  {
   "cell_type": "code",
   "execution_count": 1,
   "id": "92e82a9c",
   "metadata": {},
   "outputs": [
    {
     "name": "stdout",
     "output_type": "stream",
     "text": [
      "Before: 10\n",
      "in Function: 20\n",
      "After: 10\n"
     ]
    }
   ],
   "source": [
    "def test(t):\n",
    "    t = 20\n",
    "    print(\"in Function:\", t)\n",
    "\n",
    "x = 10\n",
    "print(\"Before:\", x)\n",
    "\n",
    "test(x) # test를 수행한 결과가 출력된다.\n",
    "\n",
    "print(\"After:\", x) # t가 전역변수이므로 영향을 주지 않는다."
   ]
  },
  {
   "cell_type": "code",
   "execution_count": 3,
   "id": "be093db6",
   "metadata": {},
   "outputs": [
    {
     "name": "stdout",
     "output_type": "stream",
     "text": [
      "None\n"
     ]
    }
   ],
   "source": [
    "def sorting_function(list_value):\n",
    "    return list_value.sort()\n",
    "\n",
    "print(sorting_function([5, 4, 3, 2, 1])) # sort() 메서드가 return되어 None이 출력된다."
   ]
  },
  {
   "cell_type": "code",
   "execution_count": 12,
   "id": "e340d28c",
   "metadata": {},
   "outputs": [
    {
     "name": "stderr",
     "output_type": "stream",
     "text": [
      "<>:6: SyntaxWarning: \"is\" with a literal. Did you mean \"==\"?\n",
      "<>:6: SyntaxWarning: \"is\" with a literal. Did you mean \"==\"?\n",
      "C:\\Users\\soldesk\\AppData\\Local\\Temp\\ipykernel_8904\\921025538.py:6: SyntaxWarning: \"is\" with a literal. Did you mean \"==\"?\n",
      "  if number is 100:\n"
     ]
    },
    {
     "data": {
      "text/plain": [
       "''"
      ]
     },
     "execution_count": 12,
     "metadata": {},
     "output_type": "execute_result"
    }
   ],
   "source": [
    "def midterm(number):\n",
    "    \n",
    "    result = \"\"\n",
    "    \n",
    "    if number.isdigit() is True:\n",
    "        if number is 100:\n",
    "            if number / 10 == 1:\n",
    "                return True\n",
    "    else:\n",
    "        result = False\n",
    "        \n",
    "    return result\n",
    "\n",
    "number = \"100\"\n",
    "midterm(number)"
   ]
  },
  {
   "cell_type": "code",
   "execution_count": 15,
   "id": "baa05adb",
   "metadata": {},
   "outputs": [
    {
     "name": "stdout",
     "output_type": "stream",
     "text": [
      "None\n"
     ]
    }
   ],
   "source": [
    "def is_yes(your_answer):\n",
    "    if your_answer.upper() == \"YES\"or you_answer.upper() == \"Y\":\n",
    "        result = your_answer.lower()\n",
    "        \n",
    "print(is_yes(\"Yes\")) # 함수를 return하면 무조건 None!!!!"
   ]
  },
  {
   "cell_type": "code",
   "execution_count": 16,
   "id": "c8ab4a47",
   "metadata": {},
   "outputs": [
    {
     "name": "stdout",
     "output_type": "stream",
     "text": [
      "False\n"
     ]
    }
   ],
   "source": [
    "def add_and_mul(a, b, c):\n",
    "    return b + a *c + b\n",
    "\n",
    "print(add_and_mul(3, 4, 5) == 63) "
   ]
  },
  {
   "cell_type": "code",
   "execution_count": 17,
   "id": "6e3d1f03",
   "metadata": {
    "scrolled": true
   },
   "outputs": [
    {
     "ename": "TypeError",
     "evalue": "args_test_3() missing 1 required keyword-only argument: 'three'",
     "output_type": "error",
     "traceback": [
      "\u001b[1;31m---------------------------------------------------------------------------\u001b[0m",
      "\u001b[1;31mTypeError\u001b[0m                                 Traceback (most recent call last)",
      "Cell \u001b[1;32mIn[17], line 5\u001b[0m\n\u001b[0;32m      2\u001b[0m     \u001b[38;5;28mprint\u001b[39m(one \u001b[38;5;241m+\u001b[39m two \u001b[38;5;241m+\u001b[39m \u001b[38;5;28msum\u001b[39m(args))\n\u001b[0;32m      3\u001b[0m     \u001b[38;5;28mprint\u001b[39m(args)\n\u001b[1;32m----> 5\u001b[0m \u001b[43margs_test_3\u001b[49m\u001b[43m(\u001b[49m\u001b[38;5;241;43m3\u001b[39;49m\u001b[43m,\u001b[49m\u001b[43m \u001b[49m\u001b[38;5;241;43m4\u001b[39;49m\u001b[43m,\u001b[49m\u001b[43m \u001b[49m\u001b[38;5;241;43m5\u001b[39;49m\u001b[43m,\u001b[49m\u001b[43m \u001b[49m\u001b[38;5;241;43m6\u001b[39;49m\u001b[43m,\u001b[49m\u001b[43m \u001b[49m\u001b[38;5;241;43m7\u001b[39;49m\u001b[43m)\u001b[49m\n",
      "\u001b[1;31mTypeError\u001b[0m: args_test_3() missing 1 required keyword-only argument: 'three'"
     ]
    }
   ],
   "source": [
    "def args_test_3(one, two, *args, three): # *args로 묶을 때는 해당 변수가 가장 마지막에 위치해야 한다.\n",
    "    print(one + two + sum(args))\n",
    "    print(args)\n",
    "    \n",
    "args_test_3(3, 4, 5, 6, 7)"
   ]
  },
  {
   "cell_type": "code",
   "execution_count": 18,
   "id": "f4466735",
   "metadata": {},
   "outputs": [
    {
     "name": "stdout",
     "output_type": "stream",
     "text": [
      "['green', 'blue']\n"
     ]
    }
   ],
   "source": [
    "def rain(colors):\n",
    "    colors.append(\"purple\")\n",
    "    colors = [\"green\", \"blue\"] # colors에 해당 요소로 값이 재할당된다(덮어씌여짐)\n",
    "    return colors\n",
    "\n",
    "rainbow = [\"red\", \"orange\"]\n",
    "print(rain(rainbow))"
   ]
  },
  {
   "cell_type": "code",
   "execution_count": 20,
   "id": "efe2945a",
   "metadata": {},
   "outputs": [
    {
     "name": "stdout",
     "output_type": "stream",
     "text": [
      "8\n",
      "None\n"
     ]
    }
   ],
   "source": [
    "def function(value):\n",
    "    print(value ** 3)\n",
    "    \n",
    "print(function(2)) # function 2가 return한 값은 없으므로 해당 시점에서  None이 출력된다."
   ]
  },
  {
   "cell_type": "code",
   "execution_count": 23,
   "id": "b5f715e1",
   "metadata": {},
   "outputs": [
    {
     "name": "stdout",
     "output_type": "stream",
     "text": [
      "appl\n"
     ]
    }
   ],
   "source": [
    "def get_apple(fruit):\n",
    "    fruit = list(fruit)\n",
    "    fruit.append(\"e\")\n",
    "    fruit = [\"apple\"]\n",
    "    return fruit\n",
    "\n",
    "fruit = \"appl\"\n",
    "get_apple(fruit)\n",
    "print(fruit) # 함수에서 return된 값이 아니라 전역변수 fruit의 값이 출력된다."
   ]
  },
  {
   "cell_type": "code",
   "execution_count": 24,
   "id": "d9508291",
   "metadata": {},
   "outputs": [
    {
     "name": "stdout",
     "output_type": "stream",
     "text": [
      "I Love You543210\n"
     ]
    }
   ],
   "source": [
    "def return_sentence(sentence, n):\n",
    "    sentence += str(n)\n",
    "    \n",
    "    n -= 1\n",
    "    \n",
    "    if n < 0:\n",
    "        return sentence # n이 0이 될때까지 계속 반복?\n",
    "    else:\n",
    "        return(return_sentence(sentence, n))\n",
    "    \n",
    "sentence = \"I Love You\"\n",
    "print(return_sentence(sentence, 5))"
   ]
  },
  {
   "cell_type": "code",
   "execution_count": 25,
   "id": "db172942",
   "metadata": {},
   "outputs": [
    {
     "name": "stdout",
     "output_type": "stream",
     "text": [
      "['x']\n"
     ]
    }
   ],
   "source": [
    "def test(x, y):\n",
    "    temp = x\n",
    "    x = y\n",
    "    y = temp\n",
    "    return y.append(x)\n",
    "\n",
    "x = [\"y\"]\n",
    "y = [\"x\"]\n",
    "\n",
    "test(x, y)\n",
    "print(y) # 전역변수 출력!!"
   ]
  },
  {
   "cell_type": "code",
   "execution_count": 26,
   "id": "26650e84",
   "metadata": {
    "scrolled": true
   },
   "outputs": [
    {
     "name": "stdout",
     "output_type": "stream",
     "text": [
      "Odd\n",
      "Even\n"
     ]
    }
   ],
   "source": [
    "def countdown(n):\n",
    "    if n % 2 == 0:\n",
    "        print(\"Even\") # 짝수가 되는 시점에서 n의 값을 변경하지 않기 때문에 해당 시점에서 반복 종료\n",
    "    else:\n",
    "        print(\"Odd\")\n",
    "        countdown(n - 1)\n",
    "\n",
    "countdown(3)"
   ]
  },
  {
   "cell_type": "code",
   "execution_count": 28,
   "id": "4252c878",
   "metadata": {},
   "outputs": [
    {
     "name": "stdout",
     "output_type": "stream",
     "text": [
      "120\n"
     ]
    }
   ],
   "source": [
    "def factorial_calculator(n):\n",
    "    if n in (0, 1):\n",
    "        return 1\n",
    "    else:\n",
    "        return n * factorial_calculator(n - 1)\n",
    "    \n",
    "print(factorial_calculator(5))"
   ]
  },
  {
   "cell_type": "code",
   "execution_count": 29,
   "id": "e61035ad",
   "metadata": {},
   "outputs": [
    {
     "name": "stdout",
     "output_type": "stream",
     "text": [
      "15\n"
     ]
    }
   ],
   "source": [
    "def calculate_rectangle_area(rectangle_x, rectangle_y):\n",
    "    rectangle_x = 3\n",
    "    rectangle_y = 5\n",
    "    result = rectangle_x * rectangle_y\n",
    "    return result\n",
    "\n",
    "rectangle_x = 2\n",
    "rectangle_y = 4\n",
    "\n",
    "# 함수 내에서 사용될때는 지역변수를 사용한 값을 return하여 출력한다.\n",
    "print(calculate_rectangle_area(rectangle_x, rectangle_y))"
   ]
  },
  {
   "cell_type": "code",
   "execution_count": 30,
   "id": "707c8fff",
   "metadata": {},
   "outputs": [
    {
     "name": "stdout",
     "output_type": "stream",
     "text": [
      "Value: 10\n",
      "Value: 20\n"
     ]
    }
   ],
   "source": [
    "def exam_func():\n",
    "    x = 10\n",
    "    print(\"Value:\", x)\n",
    "    \n",
    "x = 20\n",
    "exam_func()\n",
    "print(\"Value:\", x)"
   ]
  },
  {
   "cell_type": "code",
   "execution_count": 31,
   "id": "70384b90",
   "metadata": {},
   "outputs": [
    {
     "name": "stdout",
     "output_type": "stream",
     "text": [
      "None\n"
     ]
    }
   ],
   "source": [
    "country = [\"Korea\", \"Japan\", \"China\"]\n",
    "country.append(\"Remove\")\n",
    "print(country.remove(\"Remove\")) # 함수를 출력하면 무조건 None!!"
   ]
  }
 ],
 "metadata": {
  "kernelspec": {
   "display_name": "Python 3 (ipykernel)",
   "language": "python",
   "name": "python3"
  },
  "language_info": {
   "codemirror_mode": {
    "name": "ipython",
    "version": 3
   },
   "file_extension": ".py",
   "mimetype": "text/x-python",
   "name": "python",
   "nbconvert_exporter": "python",
   "pygments_lexer": "ipython3",
   "version": "3.10.9"
  }
 },
 "nbformat": 4,
 "nbformat_minor": 5
}
