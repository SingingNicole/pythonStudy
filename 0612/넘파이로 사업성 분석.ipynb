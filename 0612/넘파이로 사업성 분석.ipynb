{
 "cells": [
  {
   "cell_type": "markdown",
   "id": "65f38892",
   "metadata": {},
   "source": [
    "- 현금의 가치 구하기"
   ]
  },
  {
   "cell_type": "code",
   "execution_count": 1,
   "id": "f46f1194",
   "metadata": {},
   "outputs": [
    {
     "name": "stdout",
     "output_type": "stream",
     "text": [
      "95.23809523809524\n",
      "90.70294784580499\n"
     ]
    }
   ],
   "source": [
    "discount = .05\n",
    "cashflow = 100\n",
    "\n",
    "def presentvalue(n):\n",
    "    return (cashflow / ((1 + discount) ** n))\n",
    "\n",
    "print(presentvalue(1))\n",
    "print(presentvalue(2))"
   ]
  },
  {
   "cell_type": "markdown",
   "id": "8f1f1d9c",
   "metadata": {},
   "source": [
    "- 20년동안 발생할 현재 가치 구하기"
   ]
  },
  {
   "cell_type": "code",
   "execution_count": 2,
   "id": "dd95c0c1",
   "metadata": {},
   "outputs": [
    {
     "name": "stdout",
     "output_type": "stream",
     "text": [
      "100.0\n",
      "95.23809523809524\n",
      "90.70294784580499\n",
      "86.3837598531476\n",
      "82.27024747918819\n",
      "78.35261664684589\n",
      "74.62153966366274\n",
      "71.06813301301213\n",
      "67.6839362028687\n",
      "64.46089162177971\n",
      "61.39132535407592\n",
      "58.46792890864373\n",
      "55.68374181775592\n",
      "53.03213506452945\n",
      "50.506795299551854\n",
      "48.101709809096995\n",
      "45.811152199140004\n",
      "43.62966876108571\n",
      "41.5520654867483\n",
      "39.57339570166504\n"
     ]
    }
   ],
   "source": [
    "for i in range(20):\n",
    "    print(presentvalue(i))"
   ]
  },
  {
   "cell_type": "markdown",
   "id": "092956b9",
   "metadata": {},
   "source": [
    "- 놀이공원 사업의 사업성 분석"
   ]
  },
  {
   "cell_type": "code",
   "execution_count": 3,
   "id": "5b26fbdf",
   "metadata": {},
   "outputs": [],
   "source": [
    "import numpy as np\n",
    "import numpy_financial as npf"
   ]
  },
  {
   "cell_type": "code",
   "execution_count": 4,
   "id": "dc6b44df",
   "metadata": {},
   "outputs": [
    {
     "name": "stdout",
     "output_type": "stream",
     "text": [
      "[-750 -250  100  100  100  100  100  100  100  100  100  100  100  100\n",
      "  100  100  100  100  100  100]\n"
     ]
    }
   ],
   "source": [
    "# 현금 흐름\n",
    "cf = [-750, -250, 100, 100, 100, 100, 100, 100, 100, 100, 100, 100, 100, 100, 100, 100, 100, 100, 100, 100]\n",
    "\n",
    "# 배열로 변경\n",
    "cashflow = np.array(cf)\n",
    "\n",
    "print(cashflow)"
   ]
  },
  {
   "cell_type": "code",
   "execution_count": 6,
   "id": "fb174385",
   "metadata": {},
   "outputs": [
    {
     "name": "stdout",
     "output_type": "stream",
     "text": [
      "0.06434936937255653\n",
      "174.4011295118405\n"
     ]
    }
   ],
   "source": [
    "# 사업 수익률\n",
    "print(npf.irr(cashflow))\n",
    "\n",
    "# 순현재가치\n",
    "print(npf.npv(0.045, cashflow))"
   ]
  }
 ],
 "metadata": {
  "kernelspec": {
   "display_name": "Python 3 (ipykernel)",
   "language": "python",
   "name": "python3"
  },
  "language_info": {
   "codemirror_mode": {
    "name": "ipython",
    "version": 3
   },
   "file_extension": ".py",
   "mimetype": "text/x-python",
   "name": "python",
   "nbconvert_exporter": "python",
   "pygments_lexer": "ipython3",
   "version": "3.10.9"
  }
 },
 "nbformat": 4,
 "nbformat_minor": 5
}
