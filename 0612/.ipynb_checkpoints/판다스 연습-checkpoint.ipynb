{
 "cells": [
  {
   "cell_type": "code",
   "execution_count": 2,
   "id": "c4acc8f2",
   "metadata": {},
   "outputs": [],
   "source": [
    "import pandas as pd"
   ]
  },
  {
   "cell_type": "code",
   "execution_count": 3,
   "id": "f9c74a4d",
   "metadata": {
    "scrolled": true
   },
   "outputs": [
    {
     "name": "stdout",
     "output_type": "stream",
     "text": [
      "a    1\n",
      "b    2\n",
      "c    3\n",
      "d    4\n",
      "dtype: int64\n",
      "Index(['a', 'b', 'c', 'd'], dtype='object')\n"
     ]
    }
   ],
   "source": [
    "# 판다스 자료구조\n",
    "\n",
    "# Series - 딕셔너리\n",
    "# DataFrame - 표\n",
    "\n",
    "a = pd.Series([1, 2, 3, 4], index = ['a', 'b', 'c', 'd'])\n",
    "print(a)\n",
    "print(a.index)"
   ]
  },
  {
   "cell_type": "markdown",
   "id": "7b430b31",
   "metadata": {},
   "source": [
    "- 판다스에서 데이터프레임 만들기\n",
    "    - 판다스에서 지원하는 DataFrame 함수로 데이터프레임 생성"
   ]
  },
  {
   "cell_type": "code",
   "execution_count": 4,
   "id": "17e33a34",
   "metadata": {
    "scrolled": true
   },
   "outputs": [
    {
     "name": "stdout",
     "output_type": "stream",
     "text": [
      "    name  age  score\n",
      "0   Mark   33   91.3\n",
      "1   Jane   32   83.4\n",
      "2  Chris   44   77.5\n",
      "3   Ryan   42   87.7\n"
     ]
    }
   ],
   "source": [
    "data = {'name' : ['Mark','Jane','Chris','Ryan'],\n",
    "       'age': [33, 32, 44, 42],\n",
    "       'score': [91.3, 83.4, 77.5, 87.7]}\n",
    "\n",
    "df = pd.DataFrame(data)\n",
    "print(df)"
   ]
  },
  {
   "cell_type": "code",
   "execution_count": 5,
   "id": "dbab7894",
   "metadata": {},
   "outputs": [
    {
     "name": "stdout",
     "output_type": "stream",
     "text": [
      "name     MarkJaneChrisRyan\n",
      "age                    151\n",
      "score                339.9\n",
      "dtype: object\n"
     ]
    }
   ],
   "source": [
    "# 합 구하기\n",
    "print(df.sum())"
   ]
  },
  {
   "cell_type": "code",
   "execution_count": 6,
   "id": "3cf9cbf4",
   "metadata": {
    "scrolled": true
   },
   "outputs": [
    {
     "name": "stdout",
     "output_type": "stream",
     "text": [
      "age      37.750\n",
      "score    84.975\n",
      "dtype: float64\n"
     ]
    },
    {
     "name": "stderr",
     "output_type": "stream",
     "text": [
      "C:\\Users\\soldesk\\AppData\\Local\\Temp\\ipykernel_7472\\2807316344.py:1: FutureWarning: The default value of numeric_only in DataFrame.mean is deprecated. In a future version, it will default to False. In addition, specifying 'numeric_only=None' is deprecated. Select only valid columns or specify the value of numeric_only to silence this warning.\n",
      "  print(df.mean())\n"
     ]
    }
   ],
   "source": [
    "# 평균 구하기\n",
    "print(df.mean())"
   ]
  },
  {
   "cell_type": "code",
   "execution_count": 9,
   "id": "dc2548fd",
   "metadata": {},
   "outputs": [
    {
     "name": "stdout",
     "output_type": "stream",
     "text": [
      "[0    33\n",
      "1    32\n",
      "2    44\n",
      "3    42\n",
      "Name: age, dtype: int64]\n",
      "0    33\n",
      "1    32\n",
      "2    44\n",
      "3    42\n",
      "Name: age, dtype: int64\n",
      "0    33\n",
      "1    32\n",
      "2    44\n",
      "3    42\n",
      "Name: age, dtype: int64\n"
     ]
    }
   ],
   "source": [
    "# 해당 컬럼에 맞는 값만 추출할 수도 있다.\n",
    "print([df.age])\n",
    "print(df.age)\n",
    "print(df['age'])"
   ]
  },
  {
   "cell_type": "markdown",
   "id": "84549a9e",
   "metadata": {},
   "source": [
    "- apt csv 활용"
   ]
  },
  {
   "cell_type": "code",
   "execution_count": 21,
   "id": "b0fdbb54",
   "metadata": {},
   "outputs": [
    {
     "name": "stdout",
     "output_type": "stream",
     "text": [
      "32500\n"
     ]
    }
   ],
   "source": [
    "df = pd.read_csv('apt.csv', encoding='cp949')\n",
    "print(len(df))"
   ]
  },
  {
   "cell_type": "code",
   "execution_count": 13,
   "id": "a3c368b9",
   "metadata": {},
   "outputs": [
    {
     "name": "stdout",
     "output_type": "stream",
     "text": [
      "                 지역         아파트       면적   층      가격\n",
      "32495  충청북도 충주시 호암동        호반현대  84.9600   7  18,500\n",
      "32496  충청북도 충주시 호암동       호암동수채  84.9289   6  25,200\n",
      "32497  충청북도 충주시 호암동  호암리버빌(1단지)  84.6800   6  22,900\n",
      "32498  충청북도 충주시 호암동     호암힐데스하임  99.8000  13  46,000\n",
      "32499  충청북도 충주시 호암동     호암힐데스하임  99.8700  24  50,000\n"
     ]
    }
   ],
   "source": [
    "print(df.tail())"
   ]
  },
  {
   "cell_type": "code",
   "execution_count": 12,
   "id": "ff8db3f1",
   "metadata": {
    "scrolled": true
   },
   "outputs": [
    {
     "name": "stdout",
     "output_type": "stream",
     "text": [
      "           지역          아파트        면적   층      가격\n",
      "0  강원도 강릉시 교동  강릉교동롯데캐슬1단지  135.1727   4  59,000\n",
      "1  강원도 강릉시 교동  강릉교동롯데캐슬2단지  135.1008   9  51,500\n",
      "2  강원도 강릉시 교동        교동1주공   59.8900  12  23,200\n",
      "3  강원도 강릉시 교동        교동3주공   59.8600  10  27,000\n",
      "4  강원도 강릉시 교동        교동3주공   59.7900   4  26,000\n"
     ]
    }
   ],
   "source": [
    "print(df.head())"
   ]
  },
  {
   "cell_type": "code",
   "execution_count": 14,
   "id": "581f9ed2",
   "metadata": {},
   "outputs": [
    {
     "name": "stdout",
     "output_type": "stream",
     "text": [
      "32495    충청북도 충주시 호암동\n",
      "32496    충청북도 충주시 호암동\n",
      "32497    충청북도 충주시 호암동\n",
      "32498    충청북도 충주시 호암동\n",
      "32499    충청북도 충주시 호암동\n",
      "Name: 지역, dtype: object\n"
     ]
    }
   ],
   "source": [
    "print(df.지역.tail())"
   ]
  },
  {
   "cell_type": "code",
   "execution_count": 16,
   "id": "33327333",
   "metadata": {
    "scrolled": true
   },
   "outputs": [
    {
     "name": "stdout",
     "output_type": "stream",
     "text": [
      "                   지역          아파트        면적   층      가격\n",
      "0          강원도 강릉시 교동  강릉교동롯데캐슬1단지  135.1727   4  59,000\n",
      "1          강원도 강릉시 교동  강릉교동롯데캐슬2단지  135.1008   9  51,500\n",
      "45        강원도 강릉시 입암동       이안강릉타운  157.3400   3  43,000\n",
      "443       강원도 원주시 단계동        라이프타운  134.7600   7  22,000\n",
      "479       강원도 원주시 단구동           두산  134.9700   7  20,000\n",
      "...               ...          ...       ...  ..     ...\n",
      "32199  충청북도 청주흥덕구 비하동  청주비하계룡리슈빌2차  155.3889   1  45,000\n",
      "32232  충청북도 청주흥덕구 신봉동         삼정백조  203.1600   1  27,000\n",
      "32385    충청북도 충주시 연수동      연수힐스테이트  143.2109   9  44,000\n",
      "32388    충청북도 충주시 연수동       유원하나1차  130.9050  12  21,000\n",
      "32474    충청북도 충주시 칠금동           삼일  215.3500   7  28,600\n",
      "\n",
      "[854 rows x 5 columns]\n"
     ]
    }
   ],
   "source": [
    "print(df[df.면적 > 130])"
   ]
  },
  {
   "cell_type": "code",
   "execution_count": 20,
   "id": "226ce715",
   "metadata": {},
   "outputs": [
    {
     "data": {
      "text/html": [
       "<div>\n",
       "<style scoped>\n",
       "    .dataframe tbody tr th:only-of-type {\n",
       "        vertical-align: middle;\n",
       "    }\n",
       "\n",
       "    .dataframe tbody tr th {\n",
       "        vertical-align: top;\n",
       "    }\n",
       "\n",
       "    .dataframe thead th {\n",
       "        text-align: right;\n",
       "    }\n",
       "</style>\n",
       "<table border=\"1\" class=\"dataframe\">\n",
       "  <thead>\n",
       "    <tr style=\"text-align: right;\">\n",
       "      <th></th>\n",
       "      <th>지역</th>\n",
       "      <th>아파트</th>\n",
       "      <th>면적</th>\n",
       "      <th>층</th>\n",
       "      <th>가격</th>\n",
       "    </tr>\n",
       "  </thead>\n",
       "  <tbody>\n",
       "    <tr>\n",
       "      <th>45</th>\n",
       "      <td>강원도 강릉시 입암동</td>\n",
       "      <td>이안강릉타운</td>\n",
       "      <td>157.3400</td>\n",
       "      <td>3</td>\n",
       "      <td>43,000</td>\n",
       "    </tr>\n",
       "    <tr>\n",
       "      <th>955</th>\n",
       "      <td>강원도 춘천시 동면 만천리</td>\n",
       "      <td>한일유앤아이</td>\n",
       "      <td>166.5906</td>\n",
       "      <td>7</td>\n",
       "      <td>39,000</td>\n",
       "    </tr>\n",
       "    <tr>\n",
       "      <th>1000</th>\n",
       "      <td>강원도 춘천시 석사동</td>\n",
       "      <td>현진에버빌2차</td>\n",
       "      <td>153.5700</td>\n",
       "      <td>6</td>\n",
       "      <td>59,500</td>\n",
       "    </tr>\n",
       "    <tr>\n",
       "      <th>1673</th>\n",
       "      <td>경기도 고양일산동구 식사동</td>\n",
       "      <td>위시티블루밍3단지</td>\n",
       "      <td>218.6600</td>\n",
       "      <td>20</td>\n",
       "      <td>140,000</td>\n",
       "    </tr>\n",
       "    <tr>\n",
       "      <th>1687</th>\n",
       "      <td>경기도 고양일산동구 식사동</td>\n",
       "      <td>위시티일산자이2단지</td>\n",
       "      <td>238.9914</td>\n",
       "      <td>16</td>\n",
       "      <td>121,000</td>\n",
       "    </tr>\n",
       "    <tr>\n",
       "      <th>...</th>\n",
       "      <td>...</td>\n",
       "      <td>...</td>\n",
       "      <td>...</td>\n",
       "      <td>...</td>\n",
       "      <td>...</td>\n",
       "    </tr>\n",
       "    <tr>\n",
       "      <th>31360</th>\n",
       "      <td>충청북도 청주상당구 용담동</td>\n",
       "      <td>가좌마을용담이-편한세상</td>\n",
       "      <td>167.5642</td>\n",
       "      <td>5</td>\n",
       "      <td>44,500</td>\n",
       "    </tr>\n",
       "    <tr>\n",
       "      <th>31574</th>\n",
       "      <td>충청북도 청주서원구 분평동</td>\n",
       "      <td>보성</td>\n",
       "      <td>156.7400</td>\n",
       "      <td>3</td>\n",
       "      <td>19,300</td>\n",
       "    </tr>\n",
       "    <tr>\n",
       "      <th>32199</th>\n",
       "      <td>충청북도 청주흥덕구 비하동</td>\n",
       "      <td>청주비하계룡리슈빌2차</td>\n",
       "      <td>155.3889</td>\n",
       "      <td>1</td>\n",
       "      <td>45,000</td>\n",
       "    </tr>\n",
       "    <tr>\n",
       "      <th>32232</th>\n",
       "      <td>충청북도 청주흥덕구 신봉동</td>\n",
       "      <td>삼정백조</td>\n",
       "      <td>203.1600</td>\n",
       "      <td>1</td>\n",
       "      <td>27,000</td>\n",
       "    </tr>\n",
       "    <tr>\n",
       "      <th>32474</th>\n",
       "      <td>충청북도 충주시 칠금동</td>\n",
       "      <td>삼일</td>\n",
       "      <td>215.3500</td>\n",
       "      <td>7</td>\n",
       "      <td>28,600</td>\n",
       "    </tr>\n",
       "  </tbody>\n",
       "</table>\n",
       "<p>279 rows × 5 columns</p>\n",
       "</div>"
      ],
      "text/plain": [
       "                   지역           아파트        면적   층       가격\n",
       "45        강원도 강릉시 입암동        이안강릉타운  157.3400   3   43,000\n",
       "955    강원도 춘천시 동면 만천리        한일유앤아이  166.5906   7   39,000\n",
       "1000      강원도 춘천시 석사동       현진에버빌2차  153.5700   6   59,500\n",
       "1673   경기도 고양일산동구 식사동     위시티블루밍3단지  218.6600  20  140,000\n",
       "1687   경기도 고양일산동구 식사동    위시티일산자이2단지  238.9914  16  121,000\n",
       "...               ...           ...       ...  ..      ...\n",
       "31360  충청북도 청주상당구 용담동  가좌마을용담이-편한세상  167.5642   5   44,500\n",
       "31574  충청북도 청주서원구 분평동            보성  156.7400   3   19,300\n",
       "32199  충청북도 청주흥덕구 비하동   청주비하계룡리슈빌2차  155.3889   1   45,000\n",
       "32232  충청북도 청주흥덕구 신봉동          삼정백조  203.1600   1   27,000\n",
       "32474    충청북도 충주시 칠금동            삼일  215.3500   7   28,600\n",
       "\n",
       "[279 rows x 5 columns]"
      ]
     },
     "execution_count": 20,
     "metadata": {},
     "output_type": "execute_result"
    }
   ],
   "source": [
    "df[df.면적 > 150]"
   ]
  },
  {
   "cell_type": "code",
   "execution_count": 23,
   "id": "d5fd8e1d",
   "metadata": {},
   "outputs": [
    {
     "name": "stdout",
     "output_type": "stream",
     "text": [
      "29200    14300\n",
      "29256    10800\n",
      "Name: 가격, dtype: int64\n"
     ]
    }
   ],
   "source": [
    "print(df.가격[(df.면적 > 130) & (df.가격 < 15000)])"
   ]
  },
  {
   "cell_type": "code",
   "execution_count": 26,
   "id": "f3a02ccc",
   "metadata": {},
   "outputs": [
    {
     "data": {
      "text/html": [
       "<div>\n",
       "<style scoped>\n",
       "    .dataframe tbody tr th:only-of-type {\n",
       "        vertical-align: middle;\n",
       "    }\n",
       "\n",
       "    .dataframe tbody tr th {\n",
       "        vertical-align: top;\n",
       "    }\n",
       "\n",
       "    .dataframe thead th {\n",
       "        text-align: right;\n",
       "    }\n",
       "</style>\n",
       "<table border=\"1\" class=\"dataframe\">\n",
       "  <thead>\n",
       "    <tr style=\"text-align: right;\">\n",
       "      <th></th>\n",
       "      <th>지역</th>\n",
       "      <th>아파트</th>\n",
       "      <th>가격</th>\n",
       "    </tr>\n",
       "  </thead>\n",
       "  <tbody>\n",
       "    <tr>\n",
       "      <th>3801</th>\n",
       "      <td>경기도 성남분당구 백현동</td>\n",
       "      <td>판교푸르지오그랑블</td>\n",
       "      <td>360000</td>\n",
       "    </tr>\n",
       "    <tr>\n",
       "      <th>3981</th>\n",
       "      <td>경기도 성남분당구 정자동</td>\n",
       "      <td>분당파크뷰</td>\n",
       "      <td>320000</td>\n",
       "    </tr>\n",
       "    <tr>\n",
       "      <th>3982</th>\n",
       "      <td>경기도 성남분당구 정자동</td>\n",
       "      <td>분당파크뷰</td>\n",
       "      <td>290000</td>\n",
       "    </tr>\n",
       "    <tr>\n",
       "      <th>3983</th>\n",
       "      <td>경기도 성남분당구 정자동</td>\n",
       "      <td>분당파크뷰</td>\n",
       "      <td>250000</td>\n",
       "    </tr>\n",
       "    <tr>\n",
       "      <th>3984</th>\n",
       "      <td>경기도 성남분당구 정자동</td>\n",
       "      <td>분당파크뷰</td>\n",
       "      <td>220000</td>\n",
       "    </tr>\n",
       "    <tr>\n",
       "      <th>...</th>\n",
       "      <td>...</td>\n",
       "      <td>...</td>\n",
       "      <td>...</td>\n",
       "    </tr>\n",
       "    <tr>\n",
       "      <th>22262</th>\n",
       "      <td>서울특별시 용산구 이촌동</td>\n",
       "      <td>한강맨숀</td>\n",
       "      <td>418000</td>\n",
       "    </tr>\n",
       "    <tr>\n",
       "      <th>22264</th>\n",
       "      <td>서울특별시 용산구 한강로3가</td>\n",
       "      <td>센트럴파크</td>\n",
       "      <td>300000</td>\n",
       "    </tr>\n",
       "    <tr>\n",
       "      <th>22265</th>\n",
       "      <td>서울특별시 용산구 한남동</td>\n",
       "      <td>한남더힐</td>\n",
       "      <td>270000</td>\n",
       "    </tr>\n",
       "    <tr>\n",
       "      <th>22413</th>\n",
       "      <td>서울특별시 중구 장충동1가</td>\n",
       "      <td>장충동라임카운티</td>\n",
       "      <td>260000</td>\n",
       "    </tr>\n",
       "    <tr>\n",
       "      <th>22424</th>\n",
       "      <td>서울특별시 중구 회현동1가</td>\n",
       "      <td>SK리더스뷰남산</td>\n",
       "      <td>270000</td>\n",
       "    </tr>\n",
       "  </tbody>\n",
       "</table>\n",
       "<p>219 rows × 3 columns</p>\n",
       "</div>"
      ],
      "text/plain": [
       "                    지역        아파트      가격\n",
       "3801     경기도 성남분당구 백현동  판교푸르지오그랑블  360000\n",
       "3981     경기도 성남분당구 정자동      분당파크뷰  320000\n",
       "3982     경기도 성남분당구 정자동      분당파크뷰  290000\n",
       "3983     경기도 성남분당구 정자동      분당파크뷰  250000\n",
       "3984     경기도 성남분당구 정자동      분당파크뷰  220000\n",
       "...                ...        ...     ...\n",
       "22262    서울특별시 용산구 이촌동       한강맨숀  418000\n",
       "22264  서울특별시 용산구 한강로3가      센트럴파크  300000\n",
       "22265    서울특별시 용산구 한남동       한남더힐  270000\n",
       "22413   서울특별시 중구 장충동1가   장충동라임카운티  260000\n",
       "22424   서울특별시 중구 회현동1가   SK리더스뷰남산  270000\n",
       "\n",
       "[219 rows x 3 columns]"
      ]
     },
     "execution_count": 26,
     "metadata": {},
     "output_type": "execute_result"
    }
   ],
   "source": [
    "df.loc[:,['지역', '아파트', '가격']][df.가격 > 200000]"
   ]
  },
  {
   "cell_type": "code",
   "execution_count": 27,
   "id": "7a94c058",
   "metadata": {},
   "outputs": [
    {
     "data": {
      "text/html": [
       "<div>\n",
       "<style scoped>\n",
       "    .dataframe tbody tr th:only-of-type {\n",
       "        vertical-align: middle;\n",
       "    }\n",
       "\n",
       "    .dataframe tbody tr th {\n",
       "        vertical-align: top;\n",
       "    }\n",
       "\n",
       "    .dataframe thead th {\n",
       "        text-align: right;\n",
       "    }\n",
       "</style>\n",
       "<table border=\"1\" class=\"dataframe\">\n",
       "  <thead>\n",
       "    <tr style=\"text-align: right;\">\n",
       "      <th></th>\n",
       "      <th>지역</th>\n",
       "      <th>아파트</th>\n",
       "      <th>면적</th>\n",
       "      <th>층</th>\n",
       "      <th>가격</th>\n",
       "    </tr>\n",
       "  </thead>\n",
       "  <tbody>\n",
       "    <tr>\n",
       "      <th>55</th>\n",
       "      <td>강원도 강릉시 입암동</td>\n",
       "      <td>입암6주공</td>\n",
       "      <td>59.99</td>\n",
       "      <td>12</td>\n",
       "      <td>18600</td>\n",
       "    </tr>\n",
       "    <tr>\n",
       "      <th>56</th>\n",
       "      <td>강원도 강릉시 입암동</td>\n",
       "      <td>입암6주공</td>\n",
       "      <td>49.62</td>\n",
       "      <td>12</td>\n",
       "      <td>13000</td>\n",
       "    </tr>\n",
       "    <tr>\n",
       "      <th>57</th>\n",
       "      <td>강원도 강릉시 입암동</td>\n",
       "      <td>입암6주공</td>\n",
       "      <td>49.62</td>\n",
       "      <td>4</td>\n",
       "      <td>12800</td>\n",
       "    </tr>\n",
       "    <tr>\n",
       "      <th>58</th>\n",
       "      <td>강원도 강릉시 입암동</td>\n",
       "      <td>입암6주공</td>\n",
       "      <td>59.99</td>\n",
       "      <td>9</td>\n",
       "      <td>16100</td>\n",
       "    </tr>\n",
       "    <tr>\n",
       "      <th>59</th>\n",
       "      <td>강원도 강릉시 입암동</td>\n",
       "      <td>입암6주공</td>\n",
       "      <td>59.99</td>\n",
       "      <td>9</td>\n",
       "      <td>16100</td>\n",
       "    </tr>\n",
       "  </tbody>\n",
       "</table>\n",
       "</div>"
      ],
      "text/plain": [
       "             지역    아파트     면적   층     가격\n",
       "55  강원도 강릉시 입암동  입암6주공  59.99  12  18600\n",
       "56  강원도 강릉시 입암동  입암6주공  49.62  12  13000\n",
       "57  강원도 강릉시 입암동  입암6주공  49.62   4  12800\n",
       "58  강원도 강릉시 입암동  입암6주공  59.99   9  16100\n",
       "59  강원도 강릉시 입암동  입암6주공  59.99   9  16100"
      ]
     },
     "execution_count": 27,
     "metadata": {},
     "output_type": "execute_result"
    }
   ],
   "source": [
    "df.iloc[55:60]"
   ]
  },
  {
   "cell_type": "code",
   "execution_count": 28,
   "id": "fec56a5d",
   "metadata": {},
   "outputs": [
    {
     "data": {
      "text/html": [
       "<div>\n",
       "<style scoped>\n",
       "    .dataframe tbody tr th:only-of-type {\n",
       "        vertical-align: middle;\n",
       "    }\n",
       "\n",
       "    .dataframe tbody tr th {\n",
       "        vertical-align: top;\n",
       "    }\n",
       "\n",
       "    .dataframe thead th {\n",
       "        text-align: right;\n",
       "    }\n",
       "</style>\n",
       "<table border=\"1\" class=\"dataframe\">\n",
       "  <thead>\n",
       "    <tr style=\"text-align: right;\">\n",
       "      <th></th>\n",
       "      <th>가격</th>\n",
       "      <th>면적</th>\n",
       "      <th>단가</th>\n",
       "    </tr>\n",
       "  </thead>\n",
       "  <tbody>\n",
       "    <tr>\n",
       "      <th>0</th>\n",
       "      <td>59000</td>\n",
       "      <td>135.1727</td>\n",
       "      <td>436.478668</td>\n",
       "    </tr>\n",
       "    <tr>\n",
       "      <th>1</th>\n",
       "      <td>51500</td>\n",
       "      <td>135.1008</td>\n",
       "      <td>381.196854</td>\n",
       "    </tr>\n",
       "    <tr>\n",
       "      <th>2</th>\n",
       "      <td>23200</td>\n",
       "      <td>59.8900</td>\n",
       "      <td>387.376858</td>\n",
       "    </tr>\n",
       "    <tr>\n",
       "      <th>3</th>\n",
       "      <td>27000</td>\n",
       "      <td>59.8600</td>\n",
       "      <td>451.052456</td>\n",
       "    </tr>\n",
       "    <tr>\n",
       "      <th>4</th>\n",
       "      <td>26000</td>\n",
       "      <td>59.7900</td>\n",
       "      <td>434.855327</td>\n",
       "    </tr>\n",
       "    <tr>\n",
       "      <th>5</th>\n",
       "      <td>35000</td>\n",
       "      <td>84.7155</td>\n",
       "      <td>413.147535</td>\n",
       "    </tr>\n",
       "    <tr>\n",
       "      <th>6</th>\n",
       "      <td>20000</td>\n",
       "      <td>84.7200</td>\n",
       "      <td>236.071766</td>\n",
       "    </tr>\n",
       "    <tr>\n",
       "      <th>7</th>\n",
       "      <td>4800</td>\n",
       "      <td>53.1900</td>\n",
       "      <td>90.242527</td>\n",
       "    </tr>\n",
       "    <tr>\n",
       "      <th>8</th>\n",
       "      <td>19700</td>\n",
       "      <td>59.8400</td>\n",
       "      <td>329.211230</td>\n",
       "    </tr>\n",
       "    <tr>\n",
       "      <th>9</th>\n",
       "      <td>7400</td>\n",
       "      <td>41.1800</td>\n",
       "      <td>179.698883</td>\n",
       "    </tr>\n",
       "    <tr>\n",
       "      <th>10</th>\n",
       "      <td>7400</td>\n",
       "      <td>41.1800</td>\n",
       "      <td>179.698883</td>\n",
       "    </tr>\n",
       "  </tbody>\n",
       "</table>\n",
       "</div>"
      ],
      "text/plain": [
       "       가격        면적          단가\n",
       "0   59000  135.1727  436.478668\n",
       "1   51500  135.1008  381.196854\n",
       "2   23200   59.8900  387.376858\n",
       "3   27000   59.8600  451.052456\n",
       "4   26000   59.7900  434.855327\n",
       "5   35000   84.7155  413.147535\n",
       "6   20000   84.7200  236.071766\n",
       "7    4800   53.1900   90.242527\n",
       "8   19700   59.8400  329.211230\n",
       "9    7400   41.1800  179.698883\n",
       "10   7400   41.1800  179.698883"
      ]
     },
     "execution_count": 28,
     "metadata": {},
     "output_type": "execute_result"
    }
   ],
   "source": [
    "df['단가'] = df.가격 / df.면적\n",
    "\n",
    "df.loc[:10, ['가격', '면적', '단가']]"
   ]
  },
  {
   "cell_type": "code",
   "execution_count": 29,
   "id": "72d4ebb5",
   "metadata": {},
   "outputs": [
    {
     "data": {
      "text/html": [
       "<div>\n",
       "<style scoped>\n",
       "    .dataframe tbody tr th:only-of-type {\n",
       "        vertical-align: middle;\n",
       "    }\n",
       "\n",
       "    .dataframe tbody tr th {\n",
       "        vertical-align: top;\n",
       "    }\n",
       "\n",
       "    .dataframe thead th {\n",
       "        text-align: right;\n",
       "    }\n",
       "</style>\n",
       "<table border=\"1\" class=\"dataframe\">\n",
       "  <thead>\n",
       "    <tr style=\"text-align: right;\">\n",
       "      <th></th>\n",
       "      <th>가격</th>\n",
       "      <th>지역</th>\n",
       "    </tr>\n",
       "  </thead>\n",
       "  <tbody>\n",
       "    <tr>\n",
       "      <th>27536</th>\n",
       "      <td>650</td>\n",
       "      <td>전라북도 남원시 내척동</td>\n",
       "    </tr>\n",
       "    <tr>\n",
       "      <th>27672</th>\n",
       "      <td>750</td>\n",
       "      <td>전라북도 익산시 낭산면 용기리</td>\n",
       "    </tr>\n",
       "    <tr>\n",
       "      <th>31084</th>\n",
       "      <td>920</td>\n",
       "      <td>충청북도 증평군 도안면 화성리</td>\n",
       "    </tr>\n",
       "    <tr>\n",
       "      <th>27670</th>\n",
       "      <td>1000</td>\n",
       "      <td>전라북도 익산시 낭산면 용기리</td>\n",
       "    </tr>\n",
       "    <tr>\n",
       "      <th>27671</th>\n",
       "      <td>1000</td>\n",
       "      <td>전라북도 익산시 낭산면 용기리</td>\n",
       "    </tr>\n",
       "    <tr>\n",
       "      <th>...</th>\n",
       "      <td>...</td>\n",
       "      <td>...</td>\n",
       "    </tr>\n",
       "    <tr>\n",
       "      <th>20043</th>\n",
       "      <td>520000</td>\n",
       "      <td>서울특별시 강남구 압구정동</td>\n",
       "    </tr>\n",
       "    <tr>\n",
       "      <th>20041</th>\n",
       "      <td>545000</td>\n",
       "      <td>서울특별시 강남구 압구정동</td>\n",
       "    </tr>\n",
       "    <tr>\n",
       "      <th>20079</th>\n",
       "      <td>570000</td>\n",
       "      <td>서울특별시 강남구 청담동</td>\n",
       "    </tr>\n",
       "    <tr>\n",
       "      <th>21413</th>\n",
       "      <td>620000</td>\n",
       "      <td>서울특별시 서초구 반포동</td>\n",
       "    </tr>\n",
       "    <tr>\n",
       "      <th>20002</th>\n",
       "      <td>650000</td>\n",
       "      <td>서울특별시 강남구 도곡동</td>\n",
       "    </tr>\n",
       "  </tbody>\n",
       "</table>\n",
       "<p>32500 rows × 2 columns</p>\n",
       "</div>"
      ],
      "text/plain": [
       "           가격                지역\n",
       "27536     650      전라북도 남원시 내척동\n",
       "27672     750  전라북도 익산시 낭산면 용기리\n",
       "31084     920  충청북도 증평군 도안면 화성리\n",
       "27670    1000  전라북도 익산시 낭산면 용기리\n",
       "27671    1000  전라북도 익산시 낭산면 용기리\n",
       "...       ...               ...\n",
       "20043  520000    서울특별시 강남구 압구정동\n",
       "20041  545000    서울특별시 강남구 압구정동\n",
       "20079  570000     서울특별시 강남구 청담동\n",
       "21413  620000     서울특별시 서초구 반포동\n",
       "20002  650000     서울특별시 강남구 도곡동\n",
       "\n",
       "[32500 rows x 2 columns]"
      ]
     },
     "execution_count": 29,
     "metadata": {},
     "output_type": "execute_result"
    }
   ],
   "source": [
    "df.sort_values(by='가격').loc[:,('가격', '지역')]"
   ]
  },
  {
   "cell_type": "code",
   "execution_count": 32,
   "id": "f93f13dc",
   "metadata": {
    "scrolled": true
   },
   "outputs": [
    {
     "data": {
      "text/html": [
       "<div>\n",
       "<style scoped>\n",
       "    .dataframe tbody tr th:only-of-type {\n",
       "        vertical-align: middle;\n",
       "    }\n",
       "\n",
       "    .dataframe tbody tr th {\n",
       "        vertical-align: top;\n",
       "    }\n",
       "\n",
       "    .dataframe thead th {\n",
       "        text-align: right;\n",
       "    }\n",
       "</style>\n",
       "<table border=\"1\" class=\"dataframe\">\n",
       "  <thead>\n",
       "    <tr style=\"text-align: right;\">\n",
       "      <th></th>\n",
       "      <th>가격</th>\n",
       "      <th>지역</th>\n",
       "    </tr>\n",
       "  </thead>\n",
       "  <tbody>\n",
       "    <tr>\n",
       "      <th>20002</th>\n",
       "      <td>650000</td>\n",
       "      <td>서울특별시 강남구 도곡동</td>\n",
       "    </tr>\n",
       "    <tr>\n",
       "      <th>21413</th>\n",
       "      <td>620000</td>\n",
       "      <td>서울특별시 서초구 반포동</td>\n",
       "    </tr>\n",
       "    <tr>\n",
       "      <th>20079</th>\n",
       "      <td>570000</td>\n",
       "      <td>서울특별시 강남구 청담동</td>\n",
       "    </tr>\n",
       "    <tr>\n",
       "      <th>20041</th>\n",
       "      <td>545000</td>\n",
       "      <td>서울특별시 강남구 압구정동</td>\n",
       "    </tr>\n",
       "    <tr>\n",
       "      <th>20043</th>\n",
       "      <td>520000</td>\n",
       "      <td>서울특별시 강남구 압구정동</td>\n",
       "    </tr>\n",
       "    <tr>\n",
       "      <th>...</th>\n",
       "      <td>...</td>\n",
       "      <td>...</td>\n",
       "    </tr>\n",
       "    <tr>\n",
       "      <th>27671</th>\n",
       "      <td>1000</td>\n",
       "      <td>전라북도 익산시 낭산면 용기리</td>\n",
       "    </tr>\n",
       "    <tr>\n",
       "      <th>27670</th>\n",
       "      <td>1000</td>\n",
       "      <td>전라북도 익산시 낭산면 용기리</td>\n",
       "    </tr>\n",
       "    <tr>\n",
       "      <th>31084</th>\n",
       "      <td>920</td>\n",
       "      <td>충청북도 증평군 도안면 화성리</td>\n",
       "    </tr>\n",
       "    <tr>\n",
       "      <th>27672</th>\n",
       "      <td>750</td>\n",
       "      <td>전라북도 익산시 낭산면 용기리</td>\n",
       "    </tr>\n",
       "    <tr>\n",
       "      <th>27536</th>\n",
       "      <td>650</td>\n",
       "      <td>전라북도 남원시 내척동</td>\n",
       "    </tr>\n",
       "  </tbody>\n",
       "</table>\n",
       "<p>32500 rows × 2 columns</p>\n",
       "</div>"
      ],
      "text/plain": [
       "           가격                지역\n",
       "20002  650000     서울특별시 강남구 도곡동\n",
       "21413  620000     서울특별시 서초구 반포동\n",
       "20079  570000     서울특별시 강남구 청담동\n",
       "20041  545000    서울특별시 강남구 압구정동\n",
       "20043  520000    서울특별시 강남구 압구정동\n",
       "...       ...               ...\n",
       "27671    1000  전라북도 익산시 낭산면 용기리\n",
       "27670    1000  전라북도 익산시 낭산면 용기리\n",
       "31084     920  충청북도 증평군 도안면 화성리\n",
       "27672     750  전라북도 익산시 낭산면 용기리\n",
       "27536     650      전라북도 남원시 내척동\n",
       "\n",
       "[32500 rows x 2 columns]"
      ]
     },
     "execution_count": 32,
     "metadata": {},
     "output_type": "execute_result"
    }
   ],
   "source": [
    "df.sort_values(by='가격', ascending=False).loc[:,('가격', '지역')]"
   ]
  },
  {
   "cell_type": "code",
   "execution_count": 33,
   "id": "cb39f3de",
   "metadata": {},
   "outputs": [
    {
     "data": {
      "text/html": [
       "<div>\n",
       "<style scoped>\n",
       "    .dataframe tbody tr th:only-of-type {\n",
       "        vertical-align: middle;\n",
       "    }\n",
       "\n",
       "    .dataframe tbody tr th {\n",
       "        vertical-align: top;\n",
       "    }\n",
       "\n",
       "    .dataframe thead th {\n",
       "        text-align: right;\n",
       "    }\n",
       "</style>\n",
       "<table border=\"1\" class=\"dataframe\">\n",
       "  <thead>\n",
       "    <tr style=\"text-align: right;\">\n",
       "      <th></th>\n",
       "      <th>지역</th>\n",
       "      <th>아파트</th>\n",
       "      <th>면적</th>\n",
       "      <th>층</th>\n",
       "      <th>가격</th>\n",
       "      <th>단가</th>\n",
       "    </tr>\n",
       "  </thead>\n",
       "  <tbody>\n",
       "    <tr>\n",
       "      <th>0</th>\n",
       "      <td>강원도 강릉시 교동</td>\n",
       "      <td>강릉교동롯데캐슬1단지</td>\n",
       "      <td>135.1727</td>\n",
       "      <td>4</td>\n",
       "      <td>59000</td>\n",
       "      <td>436.478668</td>\n",
       "    </tr>\n",
       "    <tr>\n",
       "      <th>1</th>\n",
       "      <td>강원도 강릉시 교동</td>\n",
       "      <td>강릉교동롯데캐슬2단지</td>\n",
       "      <td>135.1008</td>\n",
       "      <td>9</td>\n",
       "      <td>51500</td>\n",
       "      <td>381.196854</td>\n",
       "    </tr>\n",
       "    <tr>\n",
       "      <th>2</th>\n",
       "      <td>강원도 강릉시 교동</td>\n",
       "      <td>교동1주공</td>\n",
       "      <td>59.8900</td>\n",
       "      <td>12</td>\n",
       "      <td>23200</td>\n",
       "      <td>387.376858</td>\n",
       "    </tr>\n",
       "    <tr>\n",
       "      <th>3</th>\n",
       "      <td>강원도 강릉시 교동</td>\n",
       "      <td>교동3주공</td>\n",
       "      <td>59.8600</td>\n",
       "      <td>10</td>\n",
       "      <td>27000</td>\n",
       "      <td>451.052456</td>\n",
       "    </tr>\n",
       "    <tr>\n",
       "      <th>4</th>\n",
       "      <td>강원도 강릉시 교동</td>\n",
       "      <td>교동3주공</td>\n",
       "      <td>59.7900</td>\n",
       "      <td>4</td>\n",
       "      <td>26000</td>\n",
       "      <td>434.855327</td>\n",
       "    </tr>\n",
       "    <tr>\n",
       "      <th>...</th>\n",
       "      <td>...</td>\n",
       "      <td>...</td>\n",
       "      <td>...</td>\n",
       "      <td>...</td>\n",
       "      <td>...</td>\n",
       "      <td>...</td>\n",
       "    </tr>\n",
       "    <tr>\n",
       "      <th>101</th>\n",
       "      <td>강원도 강릉시 홍제동</td>\n",
       "      <td>홍제푸르지오</td>\n",
       "      <td>105.7150</td>\n",
       "      <td>1</td>\n",
       "      <td>36000</td>\n",
       "      <td>340.538240</td>\n",
       "    </tr>\n",
       "    <tr>\n",
       "      <th>102</th>\n",
       "      <td>강원도 강릉시 홍제동</td>\n",
       "      <td>홍제한신휴플러스</td>\n",
       "      <td>84.5900</td>\n",
       "      <td>13</td>\n",
       "      <td>39000</td>\n",
       "      <td>461.047405</td>\n",
       "    </tr>\n",
       "    <tr>\n",
       "      <th>103</th>\n",
       "      <td>강원도 강릉시 회산동</td>\n",
       "      <td>강릉서희스타힐스리버파크</td>\n",
       "      <td>74.6787</td>\n",
       "      <td>15</td>\n",
       "      <td>32400</td>\n",
       "      <td>433.858650</td>\n",
       "    </tr>\n",
       "    <tr>\n",
       "      <th>104</th>\n",
       "      <td>강원도 강릉시 회산동</td>\n",
       "      <td>강릉서희스타힐스리버파크</td>\n",
       "      <td>84.8956</td>\n",
       "      <td>7</td>\n",
       "      <td>34700</td>\n",
       "      <td>408.737320</td>\n",
       "    </tr>\n",
       "    <tr>\n",
       "      <th>105</th>\n",
       "      <td>강원도 강릉시 회산동</td>\n",
       "      <td>힐스테이트강릉</td>\n",
       "      <td>74.9974</td>\n",
       "      <td>15</td>\n",
       "      <td>28000</td>\n",
       "      <td>373.346276</td>\n",
       "    </tr>\n",
       "  </tbody>\n",
       "</table>\n",
       "<p>106 rows × 6 columns</p>\n",
       "</div>"
      ],
      "text/plain": [
       "              지역           아파트        면적   층     가격          단가\n",
       "0     강원도 강릉시 교동   강릉교동롯데캐슬1단지  135.1727   4  59000  436.478668\n",
       "1     강원도 강릉시 교동   강릉교동롯데캐슬2단지  135.1008   9  51500  381.196854\n",
       "2     강원도 강릉시 교동         교동1주공   59.8900  12  23200  387.376858\n",
       "3     강원도 강릉시 교동         교동3주공   59.8600  10  27000  451.052456\n",
       "4     강원도 강릉시 교동         교동3주공   59.7900   4  26000  434.855327\n",
       "..           ...           ...       ...  ..    ...         ...\n",
       "101  강원도 강릉시 홍제동        홍제푸르지오  105.7150   1  36000  340.538240\n",
       "102  강원도 강릉시 홍제동      홍제한신휴플러스   84.5900  13  39000  461.047405\n",
       "103  강원도 강릉시 회산동  강릉서희스타힐스리버파크   74.6787  15  32400  433.858650\n",
       "104  강원도 강릉시 회산동  강릉서희스타힐스리버파크   84.8956   7  34700  408.737320\n",
       "105  강원도 강릉시 회산동       힐스테이트강릉   74.9974  15  28000  373.346276\n",
       "\n",
       "[106 rows x 6 columns]"
      ]
     },
     "execution_count": 33,
     "metadata": {},
     "output_type": "execute_result"
    }
   ],
   "source": [
    "df[df.지역.str.find('강릉') > -1]"
   ]
  },
  {
   "cell_type": "code",
   "execution_count": 34,
   "id": "3cdf7f86",
   "metadata": {},
   "outputs": [
    {
     "name": "stderr",
     "output_type": "stream",
     "text": [
      "C:\\Users\\soldesk\\AppData\\Local\\Temp\\ipykernel_7472\\3074375966.py:3: FutureWarning: The default value of numeric_only in DataFrame.mean is deprecated. In a future version, it will default to False. In addition, specifying 'numeric_only=None' is deprecated. Select only valid columns or specify the value of numeric_only to silence this warning.\n",
      "  dfF.mean()\n"
     ]
    },
    {
     "data": {
      "text/plain": [
       "면적       64.886780\n",
       "층         7.084906\n",
       "가격    19421.698113\n",
       "단가      286.858889\n",
       "dtype: float64"
      ]
     },
     "execution_count": 34,
     "metadata": {},
     "output_type": "execute_result"
    }
   ],
   "source": [
    "dfF = df[df.지역.str.find('강릉') > -1]\n",
    "\n",
    "dfF.mean()"
   ]
  },
  {
   "cell_type": "code",
   "execution_count": 35,
   "id": "87b3332e",
   "metadata": {},
   "outputs": [
    {
     "ename": "AttributeError",
     "evalue": "Can only use .str accessor with string values!",
     "output_type": "error",
     "traceback": [
      "\u001b[1;31m---------------------------------------------------------------------------\u001b[0m",
      "\u001b[1;31mAttributeError\u001b[0m                            Traceback (most recent call last)",
      "Cell \u001b[1;32mIn[35], line 4\u001b[0m\n\u001b[0;32m      1\u001b[0m \u001b[38;5;66;03m# 컬럼 데이터 안에 자릿수(,) 표시가 있을 경우\u001b[39;00m\n\u001b[0;32m      2\u001b[0m \u001b[38;5;66;03m# 데이터를 문자열로 받아온 후 , 표시를 빈문자열로 대체 / 변환\u001b[39;00m\n\u001b[1;32m----> 4\u001b[0m df\u001b[38;5;241m.\u001b[39m가격 \u001b[38;5;241m=\u001b[39m \u001b[43mdf\u001b[49m\u001b[38;5;241;43m.\u001b[39;49m\u001b[43m가격\u001b[49m\u001b[38;5;241;43m.\u001b[39;49m\u001b[43mstr\u001b[49m\u001b[38;5;241m.\u001b[39mreplace(\u001b[38;5;124m'\u001b[39m\u001b[38;5;124m,\u001b[39m\u001b[38;5;124m'\u001b[39m, \u001b[38;5;124m'\u001b[39m\u001b[38;5;124m'\u001b[39m)\u001b[38;5;241m.\u001b[39mastype(\u001b[38;5;124m'\u001b[39m\u001b[38;5;124mint64\u001b[39m\u001b[38;5;124m'\u001b[39m)\n",
      "File \u001b[1;32m~\\anaconda3\\lib\\site-packages\\pandas\\core\\generic.py:5902\u001b[0m, in \u001b[0;36mNDFrame.__getattr__\u001b[1;34m(self, name)\u001b[0m\n\u001b[0;32m   5895\u001b[0m \u001b[38;5;28;01mif\u001b[39;00m (\n\u001b[0;32m   5896\u001b[0m     name \u001b[38;5;129;01mnot\u001b[39;00m \u001b[38;5;129;01min\u001b[39;00m \u001b[38;5;28mself\u001b[39m\u001b[38;5;241m.\u001b[39m_internal_names_set\n\u001b[0;32m   5897\u001b[0m     \u001b[38;5;129;01mand\u001b[39;00m name \u001b[38;5;129;01mnot\u001b[39;00m \u001b[38;5;129;01min\u001b[39;00m \u001b[38;5;28mself\u001b[39m\u001b[38;5;241m.\u001b[39m_metadata\n\u001b[0;32m   5898\u001b[0m     \u001b[38;5;129;01mand\u001b[39;00m name \u001b[38;5;129;01mnot\u001b[39;00m \u001b[38;5;129;01min\u001b[39;00m \u001b[38;5;28mself\u001b[39m\u001b[38;5;241m.\u001b[39m_accessors\n\u001b[0;32m   5899\u001b[0m     \u001b[38;5;129;01mand\u001b[39;00m \u001b[38;5;28mself\u001b[39m\u001b[38;5;241m.\u001b[39m_info_axis\u001b[38;5;241m.\u001b[39m_can_hold_identifiers_and_holds_name(name)\n\u001b[0;32m   5900\u001b[0m ):\n\u001b[0;32m   5901\u001b[0m     \u001b[38;5;28;01mreturn\u001b[39;00m \u001b[38;5;28mself\u001b[39m[name]\n\u001b[1;32m-> 5902\u001b[0m \u001b[38;5;28;01mreturn\u001b[39;00m \u001b[38;5;28;43mobject\u001b[39;49m\u001b[38;5;241;43m.\u001b[39;49m\u001b[38;5;21;43m__getattribute__\u001b[39;49m\u001b[43m(\u001b[49m\u001b[38;5;28;43mself\u001b[39;49m\u001b[43m,\u001b[49m\u001b[43m \u001b[49m\u001b[43mname\u001b[49m\u001b[43m)\u001b[49m\n",
      "File \u001b[1;32m~\\anaconda3\\lib\\site-packages\\pandas\\core\\accessor.py:182\u001b[0m, in \u001b[0;36mCachedAccessor.__get__\u001b[1;34m(self, obj, cls)\u001b[0m\n\u001b[0;32m    179\u001b[0m \u001b[38;5;28;01mif\u001b[39;00m obj \u001b[38;5;129;01mis\u001b[39;00m \u001b[38;5;28;01mNone\u001b[39;00m:\n\u001b[0;32m    180\u001b[0m     \u001b[38;5;66;03m# we're accessing the attribute of the class, i.e., Dataset.geo\u001b[39;00m\n\u001b[0;32m    181\u001b[0m     \u001b[38;5;28;01mreturn\u001b[39;00m \u001b[38;5;28mself\u001b[39m\u001b[38;5;241m.\u001b[39m_accessor\n\u001b[1;32m--> 182\u001b[0m accessor_obj \u001b[38;5;241m=\u001b[39m \u001b[38;5;28;43mself\u001b[39;49m\u001b[38;5;241;43m.\u001b[39;49m\u001b[43m_accessor\u001b[49m\u001b[43m(\u001b[49m\u001b[43mobj\u001b[49m\u001b[43m)\u001b[49m\n\u001b[0;32m    183\u001b[0m \u001b[38;5;66;03m# Replace the property with the accessor object. Inspired by:\u001b[39;00m\n\u001b[0;32m    184\u001b[0m \u001b[38;5;66;03m# https://www.pydanny.com/cached-property.html\u001b[39;00m\n\u001b[0;32m    185\u001b[0m \u001b[38;5;66;03m# We need to use object.__setattr__ because we overwrite __setattr__ on\u001b[39;00m\n\u001b[0;32m    186\u001b[0m \u001b[38;5;66;03m# NDFrame\u001b[39;00m\n\u001b[0;32m    187\u001b[0m \u001b[38;5;28mobject\u001b[39m\u001b[38;5;241m.\u001b[39m\u001b[38;5;21m__setattr__\u001b[39m(obj, \u001b[38;5;28mself\u001b[39m\u001b[38;5;241m.\u001b[39m_name, accessor_obj)\n",
      "File \u001b[1;32m~\\anaconda3\\lib\\site-packages\\pandas\\core\\strings\\accessor.py:181\u001b[0m, in \u001b[0;36mStringMethods.__init__\u001b[1;34m(self, data)\u001b[0m\n\u001b[0;32m    178\u001b[0m \u001b[38;5;28;01mdef\u001b[39;00m \u001b[38;5;21m__init__\u001b[39m(\u001b[38;5;28mself\u001b[39m, data) \u001b[38;5;241m-\u001b[39m\u001b[38;5;241m>\u001b[39m \u001b[38;5;28;01mNone\u001b[39;00m:\n\u001b[0;32m    179\u001b[0m     \u001b[38;5;28;01mfrom\u001b[39;00m \u001b[38;5;21;01mpandas\u001b[39;00m\u001b[38;5;21;01m.\u001b[39;00m\u001b[38;5;21;01mcore\u001b[39;00m\u001b[38;5;21;01m.\u001b[39;00m\u001b[38;5;21;01marrays\u001b[39;00m\u001b[38;5;21;01m.\u001b[39;00m\u001b[38;5;21;01mstring_\u001b[39;00m \u001b[38;5;28;01mimport\u001b[39;00m StringDtype\n\u001b[1;32m--> 181\u001b[0m     \u001b[38;5;28mself\u001b[39m\u001b[38;5;241m.\u001b[39m_inferred_dtype \u001b[38;5;241m=\u001b[39m \u001b[38;5;28;43mself\u001b[39;49m\u001b[38;5;241;43m.\u001b[39;49m\u001b[43m_validate\u001b[49m\u001b[43m(\u001b[49m\u001b[43mdata\u001b[49m\u001b[43m)\u001b[49m\n\u001b[0;32m    182\u001b[0m     \u001b[38;5;28mself\u001b[39m\u001b[38;5;241m.\u001b[39m_is_categorical \u001b[38;5;241m=\u001b[39m is_categorical_dtype(data\u001b[38;5;241m.\u001b[39mdtype)\n\u001b[0;32m    183\u001b[0m     \u001b[38;5;28mself\u001b[39m\u001b[38;5;241m.\u001b[39m_is_string \u001b[38;5;241m=\u001b[39m \u001b[38;5;28misinstance\u001b[39m(data\u001b[38;5;241m.\u001b[39mdtype, StringDtype)\n",
      "File \u001b[1;32m~\\anaconda3\\lib\\site-packages\\pandas\\core\\strings\\accessor.py:235\u001b[0m, in \u001b[0;36mStringMethods._validate\u001b[1;34m(data)\u001b[0m\n\u001b[0;32m    232\u001b[0m inferred_dtype \u001b[38;5;241m=\u001b[39m lib\u001b[38;5;241m.\u001b[39minfer_dtype(values, skipna\u001b[38;5;241m=\u001b[39m\u001b[38;5;28;01mTrue\u001b[39;00m)\n\u001b[0;32m    234\u001b[0m \u001b[38;5;28;01mif\u001b[39;00m inferred_dtype \u001b[38;5;129;01mnot\u001b[39;00m \u001b[38;5;129;01min\u001b[39;00m allowed_types:\n\u001b[1;32m--> 235\u001b[0m     \u001b[38;5;28;01mraise\u001b[39;00m \u001b[38;5;167;01mAttributeError\u001b[39;00m(\u001b[38;5;124m\"\u001b[39m\u001b[38;5;124mCan only use .str accessor with string values!\u001b[39m\u001b[38;5;124m\"\u001b[39m)\n\u001b[0;32m    236\u001b[0m \u001b[38;5;28;01mreturn\u001b[39;00m inferred_dtype\n",
      "\u001b[1;31mAttributeError\u001b[0m: Can only use .str accessor with string values!"
     ]
    }
   ],
   "source": [
    "# 컬럼 데이터 안에 자릿수(,) 표시가 있을 경우\n",
    "# 데이터를 문자열로 받아온 후 , 표시를 빈문자열로 대체 / 변환\n",
    "\n",
    "df.가격 = df.가격.str.replace(',', '').astype('int64')"
   ]
  }
 ],
 "metadata": {
  "kernelspec": {
   "display_name": "Python 3 (ipykernel)",
   "language": "python",
   "name": "python3"
  },
  "language_info": {
   "codemirror_mode": {
    "name": "ipython",
    "version": 3
   },
   "file_extension": ".py",
   "mimetype": "text/x-python",
   "name": "python",
   "nbconvert_exporter": "python",
   "pygments_lexer": "ipython3",
   "version": "3.10.9"
  }
 },
 "nbformat": 4,
 "nbformat_minor": 5
}
