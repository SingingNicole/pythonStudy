{
 "cells": [
  {
   "cell_type": "markdown",
   "id": "dd4dc1af",
   "metadata": {},
   "source": [
    "## 넘파이"
   ]
  },
  {
   "cell_type": "markdown",
   "id": "81394462",
   "metadata": {},
   "source": [
    "#### 넘파이로 배열 생성하기"
   ]
  },
  {
   "cell_type": "code",
   "execution_count": 2,
   "id": "02e4a0e5",
   "metadata": {
    "scrolled": true
   },
   "outputs": [
    {
     "name": "stdout",
     "output_type": "stream",
     "text": [
      "[[2 3]\n",
      " [5 2]]\n"
     ]
    }
   ],
   "source": [
    "import numpy as np\n",
    "\n",
    "a = np.array([[2, 3], [5, 2]])\n",
    "print(a)"
   ]
  },
  {
   "cell_type": "markdown",
   "id": "cc9613bf",
   "metadata": {},
   "source": [
    "#### 넘파이로 배열 슬라이싱"
   ]
  },
  {
   "cell_type": "code",
   "execution_count": 4,
   "id": "44519eac",
   "metadata": {
    "scrolled": false
   },
   "outputs": [
    {
     "name": "stdout",
     "output_type": "stream",
     "text": [
      "1\n",
      "5\n",
      "[[ 6  8 10]\n",
      " [ 7  8  9]] <class 'numpy.ndarray'>\n"
     ]
    }
   ],
   "source": [
    "d = np.array([[1, 2, 3, 4, 5], [2, 4, 6, 8, 10], [5, 6, 7, 8, 9]])\n",
    "\n",
    "print(d[0][0])\n",
    "print(d[0][-1])\n",
    "print(d[1:, 2:], type(d[1:, 3:]))"
   ]
  },
  {
   "cell_type": "markdown",
   "id": "32fcaed1",
   "metadata": {},
   "source": [
    "- shape: 배열의 행과 열을 튜플로 반환한다"
   ]
  },
  {
   "cell_type": "code",
   "execution_count": 5,
   "id": "9b9c6cfb",
   "metadata": {},
   "outputs": [
    {
     "name": "stdout",
     "output_type": "stream",
     "text": [
      "[2 3 4 5 6]\n",
      "(5,)\n",
      "[[1 2 3 4]\n",
      " [3 4 5 6]]\n",
      "(2, 4)\n"
     ]
    }
   ],
   "source": [
    "d = np.array([2, 3, 4, 5, 6])\n",
    "\n",
    "print(d)\n",
    "print(d.shape)\n",
    "\n",
    "e = np.array([[1, 2, 3, 4], [3, 4, 5, 6]])\n",
    "print(e)\n",
    "print(e.shape)"
   ]
  },
  {
   "cell_type": "markdown",
   "id": "dac6272f",
   "metadata": {},
   "source": [
    "- dtype: 타입과 용량(bite) 반환"
   ]
  },
  {
   "cell_type": "code",
   "execution_count": 6,
   "id": "8f77a23d",
   "metadata": {
    "scrolled": true
   },
   "outputs": [
    {
     "name": "stdout",
     "output_type": "stream",
     "text": [
      "int32\n"
     ]
    }
   ],
   "source": [
    "print(d.dtype)"
   ]
  },
  {
   "cell_type": "markdown",
   "id": "8a77844b",
   "metadata": {},
   "source": [
    "- np.arange(): 연속형 정수 생성\n",
    "- astype: 자료형 변환"
   ]
  },
  {
   "cell_type": "code",
   "execution_count": 8,
   "id": "bc5e28ee",
   "metadata": {},
   "outputs": [
    {
     "name": "stdout",
     "output_type": "stream",
     "text": [
      "[1 2 3 4]\n",
      "[1. 2. 3. 4.]\n"
     ]
    }
   ],
   "source": [
    "data = np.arange(1, 5)\n",
    "print(data)\n",
    "\n",
    "data = data.astype('float64')\n",
    "print(data)"
   ]
  },
  {
   "cell_type": "markdown",
   "id": "814586db",
   "metadata": {},
   "source": [
    "- np.zeros(): 다차원 배열 형성\n",
    "- np.ones()"
   ]
  },
  {
   "cell_type": "code",
   "execution_count": 9,
   "id": "f0eaba97",
   "metadata": {
    "scrolled": false
   },
   "outputs": [
    {
     "name": "stdout",
     "output_type": "stream",
     "text": [
      "[[0. 0. 0. 0. 0.]]\n",
      "[[1. 1. 1.]\n",
      " [1. 1. 1.]]\n",
      "[1. 1. 1.]\n"
     ]
    }
   ],
   "source": [
    "print(np.zeros((1, 5)))\n",
    "print(np.ones((2, 3)))\n",
    "print(np.ones((3, )))"
   ]
  },
  {
   "cell_type": "markdown",
   "id": "78b5ed80",
   "metadata": {},
   "source": [
    "- np.transpose()"
   ]
  },
  {
   "cell_type": "code",
   "execution_count": 10,
   "id": "c02d8fb7",
   "metadata": {
    "scrolled": true
   },
   "outputs": [
    {
     "name": "stdout",
     "output_type": "stream",
     "text": [
      "[[1. 1. 1.]\n",
      " [1. 1. 1.]]\n",
      "[[1. 1.]\n",
      " [1. 1.]\n",
      " [1. 1.]]\n",
      "(3, 2)\n"
     ]
    }
   ],
   "source": [
    "a = np.ones((2, 3))\n",
    "print(a)\n",
    "\n",
    "b = np.transpose(a)\n",
    "print(b)\n",
    "print(b.shape)"
   ]
  },
  {
   "cell_type": "markdown",
   "id": "70db076c",
   "metadata": {},
   "source": [
    "### 배열의 사칙연산"
   ]
  },
  {
   "cell_type": "code",
   "execution_count": 11,
   "id": "28207cb0",
   "metadata": {},
   "outputs": [],
   "source": [
    "arr1 = np.array([[2, 3, 4], [6, 7, 8]])\n",
    "arr2 = np.array([[12, 23, 14], [36, 47, 58]])"
   ]
  },
  {
   "cell_type": "markdown",
   "id": "5f07396d",
   "metadata": {},
   "source": [
    "- 배열의 덧셈: 배열의 같은 자리 원소끼리 더함"
   ]
  },
  {
   "cell_type": "code",
   "execution_count": 12,
   "id": "07ed2b81",
   "metadata": {
    "scrolled": true
   },
   "outputs": [
    {
     "name": "stdout",
     "output_type": "stream",
     "text": [
      "[[14 26 18]\n",
      " [42 54 66]]\n"
     ]
    }
   ],
   "source": [
    "print(arr1 + arr2)"
   ]
  },
  {
   "cell_type": "markdown",
   "id": "60dac22c",
   "metadata": {},
   "source": [
    "- 배열의 곱셈: 같은 자리의 원소끼리 곱함\n",
    "\n",
    "        - 행렬의 도트곱셈과는 다르다."
   ]
  },
  {
   "cell_type": "code",
   "execution_count": 13,
   "id": "5c7d05dc",
   "metadata": {
    "scrolled": false
   },
   "outputs": [
    {
     "name": "stdout",
     "output_type": "stream",
     "text": [
      "[[ 24  69  56]\n",
      " [216 329 464]]\n"
     ]
    }
   ],
   "source": [
    "print(arr1 * arr2)"
   ]
  },
  {
   "cell_type": "markdown",
   "id": "0a072e99",
   "metadata": {},
   "source": [
    "- 배열의 나눗셈: 같은 자리 원소끼리 나눔"
   ]
  },
  {
   "cell_type": "code",
   "execution_count": 14,
   "id": "669b010a",
   "metadata": {
    "scrolled": false
   },
   "outputs": [
    {
     "name": "stdout",
     "output_type": "stream",
     "text": [
      "[[0.16666667 0.13043478 0.28571429]\n",
      " [0.16666667 0.14893617 0.13793103]]\n"
     ]
    }
   ],
   "source": [
    "print(arr1 / arr2)"
   ]
  },
  {
   "cell_type": "markdown",
   "id": "77c49f1f",
   "metadata": {},
   "source": [
    "- 크기가 서로 다른 배열의 덧셈: 행과 열의 크기를 만족시키면 덧셈 가능"
   ]
  },
  {
   "cell_type": "code",
   "execution_count": 15,
   "id": "15392934",
   "metadata": {},
   "outputs": [
    {
     "name": "stdout",
     "output_type": "stream",
     "text": [
      "[[102 203 304]\n",
      " [106 207 308]]\n"
     ]
    }
   ],
   "source": [
    "# 행만 같은 경우 모든 행에 덧셈이 진행된다.\n",
    "arr3 = np.array([100, 200, 300])\n",
    "print(arr1 + arr3)\n",
    "\n",
    "# 행과 열의 크기가 모두 같을 경우 오류가 발생한다."
   ]
  },
  {
   "cell_type": "markdown",
   "id": "a9b340e0",
   "metadata": {},
   "source": [
    "#### 배열과 리스트의 차이"
   ]
  },
  {
   "cell_type": "markdown",
   "id": "72dba272",
   "metadata": {},
   "source": [
    "- 리스트는 데이터의 일부를 변경할 수 없지만, 배열은 가능하다."
   ]
  },
  {
   "cell_type": "code",
   "execution_count": 17,
   "id": "740f3097",
   "metadata": {},
   "outputs": [],
   "source": [
    "d = np.array([[1,2,3,4,5],[2,4,5,6,7],[6,5,7,8,9]])\n",
    "d_list = [[1,2,3,4,5],[2,4,5,6,7],[6,5,7,8,9]]"
   ]
  },
  {
   "cell_type": "code",
   "execution_count": 18,
   "id": "e5606a8c",
   "metadata": {},
   "outputs": [
    {
     "ename": "TypeError",
     "evalue": "can only assign an iterable",
     "output_type": "error",
     "traceback": [
      "\u001b[1;31m---------------------------------------------------------------------------\u001b[0m",
      "\u001b[1;31mTypeError\u001b[0m                                 Traceback (most recent call last)",
      "Cell \u001b[1;32mIn[18], line 1\u001b[0m\n\u001b[1;32m----> 1\u001b[0m d_list[:\u001b[38;5;241m2\u001b[39m] \u001b[38;5;241m=\u001b[39m \u001b[38;5;241m0\u001b[39m\n",
      "\u001b[1;31mTypeError\u001b[0m: can only assign an iterable"
     ]
    }
   ],
   "source": [
    "# 리스트로 슬라이싱한 값을 새로 바꾸는 것은 불가능하다.\n",
    "d_list[:2] = 0"
   ]
  },
  {
   "cell_type": "code",
   "execution_count": 20,
   "id": "d3db9110",
   "metadata": {
    "scrolled": true
   },
   "outputs": [
    {
     "name": "stdout",
     "output_type": "stream",
     "text": [
      "[[0 0 0 0 0]\n",
      " [0 0 0 0 0]\n",
      " [6 5 7 8 9]]\n"
     ]
    }
   ],
   "source": [
    "# 배열은 슬라이싱한 데이터를 바꾸는 것도 가능하다.\n",
    "d[:2] = 0\n",
    "print(d)"
   ]
  },
  {
   "cell_type": "code",
   "execution_count": 21,
   "id": "95c09991",
   "metadata": {},
   "outputs": [
    {
     "name": "stdout",
     "output_type": "stream",
     "text": [
      "[0 1 2 3 4 5 6 7 8 9]\n"
     ]
    }
   ],
   "source": [
    "# 0 ~ 9까지의 원소를 가지는 배열을 arr4에 저장\n",
    "arr4 = np.arange(0, 10)\n",
    "print(arr4)"
   ]
  },
  {
   "cell_type": "code",
   "execution_count": 22,
   "id": "83051717",
   "metadata": {},
   "outputs": [
    {
     "name": "stdout",
     "output_type": "stream",
     "text": [
      "[0 1 2 3 4]\n"
     ]
    }
   ],
   "source": [
    "# 0부터 5개의 원소를 슬라이싱해서 출력\n",
    "print(arr4[:5])"
   ]
  },
  {
   "cell_type": "code",
   "execution_count": 27,
   "id": "30774f02",
   "metadata": {},
   "outputs": [
    {
     "name": "stdout",
     "output_type": "stream",
     "text": [
      "[7 8 9]\n"
     ]
    }
   ],
   "source": [
    "# 뒤에서 세 번째 원소부터 마지막 원소까지 슬라이싱해서 출력\n",
    "print(arr4[-3:])"
   ]
  },
  {
   "cell_type": "code",
   "execution_count": 31,
   "id": "29a8ee55",
   "metadata": {},
   "outputs": [
    {
     "name": "stdout",
     "output_type": "stream",
     "text": [
      "[4 8]\n"
     ]
    }
   ],
   "source": [
    "arr1 = np.array([[2, 3, 4], [6, 7, 8]])\n",
    "# arr1의 모든 리스트의 세 번째 원소들을 슬라이싱해서 출력 array([4, 8])\n",
    "print(arr1[:,2])"
   ]
  }
 ],
 "metadata": {
  "kernelspec": {
   "display_name": "Python 3 (ipykernel)",
   "language": "python",
   "name": "python3"
  },
  "language_info": {
   "codemirror_mode": {
    "name": "ipython",
    "version": 3
   },
   "file_extension": ".py",
   "mimetype": "text/x-python",
   "name": "python",
   "nbconvert_exporter": "python",
   "pygments_lexer": "ipython3",
   "version": "3.10.9"
  }
 },
 "nbformat": 4,
 "nbformat_minor": 5
}
