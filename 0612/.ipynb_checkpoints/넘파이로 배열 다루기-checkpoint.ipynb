{
 "cells": [
  {
   "cell_type": "code",
   "execution_count": 1,
   "id": "418dbf7f",
   "metadata": {},
   "outputs": [],
   "source": [
    "import usecsv\n",
    "import numpy as np"
   ]
  },
  {
   "cell_type": "code",
   "execution_count": 3,
   "id": "daa80859",
   "metadata": {},
   "outputs": [
    {
     "name": "stdout",
     "output_type": "stream",
     "text": [
      "[[1. 2. 1. 2. 2.]\n",
      " [1. 3. 2. 3. 2.]\n",
      " [1. 4. 3. 3. 3.]\n",
      " [2. 5. 4. 4. 4.]\n",
      " [2. 5. 6. 2. 5.]\n",
      " [3. 6. 4. 2. 5.]\n",
      " [3. 5. 4. 1. 6.]\n",
      " [3. 5. 5. 1. 3.]]\n"
     ]
    }
   ],
   "source": [
    "# quest.csv 파일을 열어 숫자 원소를 실수형으로 변환 => quest 객체에 저장\n",
    "quest = np.array(usecsv.switch(usecsv.opencsv('quest.csv')))\n",
    "\n",
    "print(quest)"
   ]
  },
  {
   "cell_type": "code",
   "execution_count": 4,
   "id": "78aba8b8",
   "metadata": {
    "scrolled": true
   },
   "outputs": [
    {
     "name": "stdout",
     "output_type": "stream",
     "text": [
      "[[False False False False False]\n",
      " [False False False False False]\n",
      " [False False False False False]\n",
      " [False False False False False]\n",
      " [False False  True False False]\n",
      " [False  True False False False]\n",
      " [False False False False  True]\n",
      " [False False False False False]]\n"
     ]
    }
   ],
   "source": [
    "# 배열에 연산자를 대입하면 모든 데이터에 연산자를 적용한다.\n",
    "print(quest > 5)"
   ]
  },
  {
   "cell_type": "code",
   "execution_count": 5,
   "id": "67ddd265",
   "metadata": {},
   "outputs": [
    {
     "name": "stdout",
     "output_type": "stream",
     "text": [
      "[[1. 2. 1. 2. 2.]\n",
      " [1. 3. 2. 3. 2.]\n",
      " [1. 4. 3. 3. 3.]\n",
      " [2. 5. 4. 4. 4.]\n",
      " [2. 5. 5. 2. 5.]\n",
      " [3. 5. 4. 2. 5.]\n",
      " [3. 5. 4. 1. 5.]\n",
      " [3. 5. 5. 1. 3.]]\n"
     ]
    }
   ],
   "source": [
    "# 5보다 큰 배열의 요소를 5로 바꾼다.\n",
    "quest[quest > 5] = 5\n",
    "print(quest)"
   ]
  },
  {
   "cell_type": "code",
   "execution_count": 6,
   "id": "002a6bb3",
   "metadata": {},
   "outputs": [],
   "source": [
    "# 결과 파일을 csv 파일로 다시 내보낸다.\n",
    "usecsv.writecsv('resultquest.csv', list(quest))"
   ]
  }
 ],
 "metadata": {
  "kernelspec": {
   "display_name": "Python 3 (ipykernel)",
   "language": "python",
   "name": "python3"
  },
  "language_info": {
   "codemirror_mode": {
    "name": "ipython",
    "version": 3
   },
   "file_extension": ".py",
   "mimetype": "text/x-python",
   "name": "python",
   "nbconvert_exporter": "python",
   "pygments_lexer": "ipython3",
   "version": "3.10.9"
  }
 },
 "nbformat": 4,
 "nbformat_minor": 5
}
