{
 "cells": [
  {
   "cell_type": "code",
   "execution_count": 1,
   "id": "55291a10",
   "metadata": {},
   "outputs": [],
   "source": [
    "import pandas as pd"
   ]
  },
  {
   "cell_type": "code",
   "execution_count": 2,
   "id": "9a1b6080",
   "metadata": {},
   "outputs": [],
   "source": [
    "df2 = pd.read_csv('survey.csv')"
   ]
  },
  {
   "cell_type": "code",
   "execution_count": 4,
   "id": "17f5238d",
   "metadata": {
    "scrolled": false
   },
   "outputs": [
    {
     "data": {
      "text/html": [
       "<div>\n",
       "<style scoped>\n",
       "    .dataframe tbody tr th:only-of-type {\n",
       "        vertical-align: middle;\n",
       "    }\n",
       "\n",
       "    .dataframe tbody tr th {\n",
       "        vertical-align: top;\n",
       "    }\n",
       "\n",
       "    .dataframe thead th {\n",
       "        text-align: right;\n",
       "    }\n",
       "</style>\n",
       "<table border=\"1\" class=\"dataframe\">\n",
       "  <thead>\n",
       "    <tr style=\"text-align: right;\">\n",
       "      <th></th>\n",
       "      <th>sex</th>\n",
       "      <th>income</th>\n",
       "      <th>English</th>\n",
       "      <th>jobSatisfaction</th>\n",
       "      <th>stress</th>\n",
       "    </tr>\n",
       "  </thead>\n",
       "  <tbody>\n",
       "    <tr>\n",
       "      <th>0</th>\n",
       "      <td>m</td>\n",
       "      <td>3000</td>\n",
       "      <td>500</td>\n",
       "      <td>5</td>\n",
       "      <td>5</td>\n",
       "    </tr>\n",
       "    <tr>\n",
       "      <th>1</th>\n",
       "      <td>f</td>\n",
       "      <td>4000</td>\n",
       "      <td>600</td>\n",
       "      <td>4</td>\n",
       "      <td>4</td>\n",
       "    </tr>\n",
       "    <tr>\n",
       "      <th>2</th>\n",
       "      <td>f</td>\n",
       "      <td>5000</td>\n",
       "      <td>700</td>\n",
       "      <td>3</td>\n",
       "      <td>2</td>\n",
       "    </tr>\n",
       "    <tr>\n",
       "      <th>3</th>\n",
       "      <td>m</td>\n",
       "      <td>6000</td>\n",
       "      <td>800</td>\n",
       "      <td>2</td>\n",
       "      <td>2</td>\n",
       "    </tr>\n",
       "    <tr>\n",
       "      <th>4</th>\n",
       "      <td>m</td>\n",
       "      <td>4000</td>\n",
       "      <td>700</td>\n",
       "      <td>2</td>\n",
       "      <td>5</td>\n",
       "    </tr>\n",
       "  </tbody>\n",
       "</table>\n",
       "</div>"
      ],
      "text/plain": [
       "  sex  income  English  jobSatisfaction  stress\n",
       "0   m    3000      500                5       5\n",
       "1   f    4000      600                4       4\n",
       "2   f    5000      700                3       2\n",
       "3   m    6000      800                2       2\n",
       "4   m    4000      700                2       5"
      ]
     },
     "execution_count": 4,
     "metadata": {},
     "output_type": "execute_result"
    }
   ],
   "source": [
    "df2.head()"
   ]
  },
  {
   "cell_type": "code",
   "execution_count": 8,
   "id": "95ab95e4",
   "metadata": {},
   "outputs": [
    {
     "name": "stderr",
     "output_type": "stream",
     "text": [
      "C:\\Users\\soldesk\\AppData\\Local\\Temp\\ipykernel_6716\\3587575296.py:1: FutureWarning: The default value of numeric_only in DataFrame.mean is deprecated. In a future version, it will default to False. In addition, specifying 'numeric_only=None' is deprecated. Select only valid columns or specify the value of numeric_only to silence this warning.\n",
      "  df2.mean()\n"
     ]
    },
    {
     "data": {
      "text/plain": [
       "income             4304.217391\n",
       "English             608.695652\n",
       "jobSatisfaction       3.304348\n",
       "stress                3.347826\n",
       "dtype: float64"
      ]
     },
     "execution_count": 8,
     "metadata": {},
     "output_type": "execute_result"
    }
   ],
   "source": [
    "df2.mean()"
   ]
  },
  {
   "cell_type": "code",
   "execution_count": 9,
   "id": "cab4bdfd",
   "metadata": {},
   "outputs": [
    {
     "data": {
      "text/plain": [
       "98997"
      ]
     },
     "execution_count": 9,
     "metadata": {},
     "output_type": "execute_result"
    }
   ],
   "source": [
    "df2.income.sum()"
   ]
  },
  {
   "cell_type": "code",
   "execution_count": 5,
   "id": "384a76c9",
   "metadata": {},
   "outputs": [
    {
     "data": {
      "text/plain": [
       "4304.217391304348"
      ]
     },
     "execution_count": 5,
     "metadata": {},
     "output_type": "execute_result"
    }
   ],
   "source": [
    "df2.income.mean()"
   ]
  },
  {
   "cell_type": "markdown",
   "id": "6569d447",
   "metadata": {},
   "source": [
    "- 중앙값 계산"
   ]
  },
  {
   "cell_type": "code",
   "execution_count": 6,
   "id": "d2a121ff",
   "metadata": {},
   "outputs": [
    {
     "name": "stderr",
     "output_type": "stream",
     "text": [
      "C:\\Users\\soldesk\\AppData\\Local\\Temp\\ipykernel_6716\\1172267387.py:1: FutureWarning: The default value of numeric_only in DataFrame.median is deprecated. In a future version, it will default to False. In addition, specifying 'numeric_only=None' is deprecated. Select only valid columns or specify the value of numeric_only to silence this warning.\n",
      "  df2.median()\n"
     ]
    },
    {
     "data": {
      "text/plain": [
       "income             4999.0\n",
       "English             600.0\n",
       "jobSatisfaction       3.0\n",
       "stress                4.0\n",
       "dtype: float64"
      ]
     },
     "execution_count": 6,
     "metadata": {},
     "output_type": "execute_result"
    }
   ],
   "source": [
    "df2.median()"
   ]
  },
  {
   "cell_type": "code",
   "execution_count": 7,
   "id": "03b88ccc",
   "metadata": {
    "scrolled": true
   },
   "outputs": [
    {
     "data": {
      "text/html": [
       "<div>\n",
       "<style scoped>\n",
       "    .dataframe tbody tr th:only-of-type {\n",
       "        vertical-align: middle;\n",
       "    }\n",
       "\n",
       "    .dataframe tbody tr th {\n",
       "        vertical-align: top;\n",
       "    }\n",
       "\n",
       "    .dataframe thead th {\n",
       "        text-align: right;\n",
       "    }\n",
       "</style>\n",
       "<table border=\"1\" class=\"dataframe\">\n",
       "  <thead>\n",
       "    <tr style=\"text-align: right;\">\n",
       "      <th></th>\n",
       "      <th>income</th>\n",
       "      <th>English</th>\n",
       "      <th>jobSatisfaction</th>\n",
       "      <th>stress</th>\n",
       "    </tr>\n",
       "  </thead>\n",
       "  <tbody>\n",
       "    <tr>\n",
       "      <th>count</th>\n",
       "      <td>23.000000</td>\n",
       "      <td>23.000000</td>\n",
       "      <td>23.000000</td>\n",
       "      <td>23.000000</td>\n",
       "    </tr>\n",
       "    <tr>\n",
       "      <th>mean</th>\n",
       "      <td>4304.217391</td>\n",
       "      <td>608.695652</td>\n",
       "      <td>3.304348</td>\n",
       "      <td>3.347826</td>\n",
       "    </tr>\n",
       "    <tr>\n",
       "      <th>std</th>\n",
       "      <td>1019.478341</td>\n",
       "      <td>99.603959</td>\n",
       "      <td>1.258960</td>\n",
       "      <td>1.433644</td>\n",
       "    </tr>\n",
       "    <tr>\n",
       "      <th>min</th>\n",
       "      <td>3000.000000</td>\n",
       "      <td>500.000000</td>\n",
       "      <td>1.000000</td>\n",
       "      <td>1.000000</td>\n",
       "    </tr>\n",
       "    <tr>\n",
       "      <th>25%</th>\n",
       "      <td>3000.000000</td>\n",
       "      <td>500.000000</td>\n",
       "      <td>2.500000</td>\n",
       "      <td>2.000000</td>\n",
       "    </tr>\n",
       "    <tr>\n",
       "      <th>50%</th>\n",
       "      <td>4999.000000</td>\n",
       "      <td>600.000000</td>\n",
       "      <td>3.000000</td>\n",
       "      <td>4.000000</td>\n",
       "    </tr>\n",
       "    <tr>\n",
       "      <th>75%</th>\n",
       "      <td>5000.000000</td>\n",
       "      <td>700.000000</td>\n",
       "      <td>4.000000</td>\n",
       "      <td>5.000000</td>\n",
       "    </tr>\n",
       "    <tr>\n",
       "      <th>max</th>\n",
       "      <td>6000.000000</td>\n",
       "      <td>800.000000</td>\n",
       "      <td>5.000000</td>\n",
       "      <td>5.000000</td>\n",
       "    </tr>\n",
       "  </tbody>\n",
       "</table>\n",
       "</div>"
      ],
      "text/plain": [
       "            income     English  jobSatisfaction     stress\n",
       "count    23.000000   23.000000        23.000000  23.000000\n",
       "mean   4304.217391  608.695652         3.304348   3.347826\n",
       "std    1019.478341   99.603959         1.258960   1.433644\n",
       "min    3000.000000  500.000000         1.000000   1.000000\n",
       "25%    3000.000000  500.000000         2.500000   2.000000\n",
       "50%    4999.000000  600.000000         3.000000   4.000000\n",
       "75%    5000.000000  700.000000         4.000000   5.000000\n",
       "max    6000.000000  800.000000         5.000000   5.000000"
      ]
     },
     "execution_count": 7,
     "metadata": {},
     "output_type": "execute_result"
    }
   ],
   "source": [
    "df2.describe()"
   ]
  },
  {
   "cell_type": "code",
   "execution_count": 13,
   "id": "e949dd49",
   "metadata": {},
   "outputs": [
    {
     "data": {
      "text/plain": [
       "count      23.000000\n",
       "mean     4304.217391\n",
       "std      1019.478341\n",
       "min      3000.000000\n",
       "25%      3000.000000\n",
       "50%      4999.000000\n",
       "75%      5000.000000\n",
       "max      6000.000000\n",
       "Name: income, dtype: float64"
      ]
     },
     "execution_count": 13,
     "metadata": {},
     "output_type": "execute_result"
    }
   ],
   "source": [
    "df2.income.describe()"
   ]
  },
  {
   "cell_type": "code",
   "execution_count": 11,
   "id": "ad02fd9b",
   "metadata": {
    "scrolled": false
   },
   "outputs": [
    {
     "data": {
      "text/plain": [
       "m    14\n",
       "f     9\n",
       "Name: sex, dtype: int64"
      ]
     },
     "execution_count": 11,
     "metadata": {},
     "output_type": "execute_result"
    }
   ],
   "source": [
    "df2.sex.value_counts()"
   ]
  },
  {
   "cell_type": "markdown",
   "id": "ac8fa32a",
   "metadata": {},
   "source": [
    "- 특정 그룹으로 묶어 평균을 구할 수도 있다."
   ]
  },
  {
   "cell_type": "code",
   "execution_count": 14,
   "id": "b40ef7b6",
   "metadata": {
    "scrolled": true
   },
   "outputs": [
    {
     "data": {
      "text/html": [
       "<div>\n",
       "<style scoped>\n",
       "    .dataframe tbody tr th:only-of-type {\n",
       "        vertical-align: middle;\n",
       "    }\n",
       "\n",
       "    .dataframe tbody tr th {\n",
       "        vertical-align: top;\n",
       "    }\n",
       "\n",
       "    .dataframe thead th {\n",
       "        text-align: right;\n",
       "    }\n",
       "</style>\n",
       "<table border=\"1\" class=\"dataframe\">\n",
       "  <thead>\n",
       "    <tr style=\"text-align: right;\">\n",
       "      <th></th>\n",
       "      <th>income</th>\n",
       "      <th>English</th>\n",
       "      <th>jobSatisfaction</th>\n",
       "      <th>stress</th>\n",
       "    </tr>\n",
       "    <tr>\n",
       "      <th>sex</th>\n",
       "      <th></th>\n",
       "      <th></th>\n",
       "      <th></th>\n",
       "      <th></th>\n",
       "    </tr>\n",
       "  </thead>\n",
       "  <tbody>\n",
       "    <tr>\n",
       "      <th>f</th>\n",
       "      <td>4333.111111</td>\n",
       "      <td>633.333333</td>\n",
       "      <td>3.666667</td>\n",
       "      <td>3.111111</td>\n",
       "    </tr>\n",
       "    <tr>\n",
       "      <th>m</th>\n",
       "      <td>4285.642857</td>\n",
       "      <td>592.857143</td>\n",
       "      <td>3.071429</td>\n",
       "      <td>3.500000</td>\n",
       "    </tr>\n",
       "  </tbody>\n",
       "</table>\n",
       "</div>"
      ],
      "text/plain": [
       "          income     English  jobSatisfaction    stress\n",
       "sex                                                    \n",
       "f    4333.111111  633.333333         3.666667  3.111111\n",
       "m    4285.642857  592.857143         3.071429  3.500000"
      ]
     },
     "execution_count": 14,
     "metadata": {},
     "output_type": "execute_result"
    }
   ],
   "source": [
    "df2.groupby(df2.sex).mean()"
   ]
  },
  {
   "cell_type": "markdown",
   "id": "f69441cc",
   "metadata": {},
   "source": [
    "- scipy 함수로 t검정"
   ]
  },
  {
   "cell_type": "code",
   "execution_count": 15,
   "id": "628784ff",
   "metadata": {},
   "outputs": [],
   "source": [
    "from scipy import stats\n",
    "# stats: 통계 관련 함수를 많이 포함하고 있는 모듈"
   ]
  },
  {
   "cell_type": "code",
   "execution_count": 16,
   "id": "862603d0",
   "metadata": {},
   "outputs": [],
   "source": [
    "male = df2.income[df2.sex == 'm']\n",
    "female = df2.income[df2.sex == 'f']"
   ]
  },
  {
   "cell_type": "code",
   "execution_count": 21,
   "id": "b1d3ba69",
   "metadata": {},
   "outputs": [
    {
     "name": "stdout",
     "output_type": "stream",
     "text": [
      "Ttest_indResult(statistic=-0.10650308143428425, pvalue=0.9161940781163369)\n"
     ]
    }
   ],
   "source": [
    "# t 검정 실행 - t검정을 통해 데이터간의 비교 신뢰도 분석이 가능하다.\n",
    "ttest_result = stats.ttest_ind(male, female)\n",
    "print(ttest_result)"
   ]
  },
  {
   "cell_type": "code",
   "execution_count": 20,
   "id": "bc808bd3",
   "metadata": {},
   "outputs": [
    {
     "name": "stdout",
     "output_type": "stream",
     "text": [
      "p-value는 0.916194로 95프로 수준에서 유의하지 않음\n"
     ]
    }
   ],
   "source": [
    "if ttest_result[1] > 0.05:\n",
    "    print('p-value는 %f로 95프로 수준에서 유의하지 않음' % ttest_result[1])\n",
    "else:\n",
    "    print('p-value는 %f로 95프로 수준에서 유의함' % ttest_result[1])"
   ]
  },
  {
   "cell_type": "markdown",
   "id": "61d56dff",
   "metadata": {},
   "source": [
    "- 피어슨과 스피어만 상관관계 분석 알아보기\n",
    "    - 상관관계 계수가 0이면 관계가 없음\n",
    "    - 판다스에서는 corr() 함수로 가능"
   ]
  },
  {
   "cell_type": "code",
   "execution_count": 27,
   "id": "6c33be3f",
   "metadata": {},
   "outputs": [
    {
     "name": "stdout",
     "output_type": "stream",
     "text": [
      "                   income   English  jobSatisfaction    stress\n",
      "income           1.000000  0.599452        -0.040108 -0.137920\n",
      "English          0.599452  1.000000        -0.312051  0.073351\n",
      "jobSatisfaction -0.040108 -0.312051         1.000000  0.165338\n",
      "stress          -0.137920  0.073351         0.165338  1.000000\n"
     ]
    },
    {
     "name": "stderr",
     "output_type": "stream",
     "text": [
      "C:\\Users\\soldesk\\AppData\\Local\\Temp\\ipykernel_6716\\2527264366.py:1: FutureWarning: The default value of numeric_only in DataFrame.corr is deprecated. In a future version, it will default to False. Select only valid columns or specify the value of numeric_only to silence this warning.\n",
      "  corr=df2.corr()\n"
     ]
    }
   ],
   "source": [
    "corr=df2.corr()\n",
    "print(corr)"
   ]
  },
  {
   "cell_type": "code",
   "execution_count": 24,
   "id": "4b842ebc",
   "metadata": {},
   "outputs": [
    {
     "name": "stderr",
     "output_type": "stream",
     "text": [
      "C:\\Users\\soldesk\\AppData\\Local\\Temp\\ipykernel_6716\\2520487563.py:1: FutureWarning: The default value of numeric_only in DataFrame.corr is deprecated. In a future version, it will default to False. Select only valid columns or specify the value of numeric_only to silence this warning.\n",
      "  df2.corr(method = 'spearman')\n"
     ]
    },
    {
     "data": {
      "text/html": [
       "<div>\n",
       "<style scoped>\n",
       "    .dataframe tbody tr th:only-of-type {\n",
       "        vertical-align: middle;\n",
       "    }\n",
       "\n",
       "    .dataframe tbody tr th {\n",
       "        vertical-align: top;\n",
       "    }\n",
       "\n",
       "    .dataframe thead th {\n",
       "        text-align: right;\n",
       "    }\n",
       "</style>\n",
       "<table border=\"1\" class=\"dataframe\">\n",
       "  <thead>\n",
       "    <tr style=\"text-align: right;\">\n",
       "      <th></th>\n",
       "      <th>income</th>\n",
       "      <th>English</th>\n",
       "      <th>jobSatisfaction</th>\n",
       "      <th>stress</th>\n",
       "    </tr>\n",
       "  </thead>\n",
       "  <tbody>\n",
       "    <tr>\n",
       "      <th>income</th>\n",
       "      <td>1.000000</td>\n",
       "      <td>0.543705</td>\n",
       "      <td>-0.100683</td>\n",
       "      <td>-0.170584</td>\n",
       "    </tr>\n",
       "    <tr>\n",
       "      <th>English</th>\n",
       "      <td>0.543705</td>\n",
       "      <td>1.000000</td>\n",
       "      <td>-0.309747</td>\n",
       "      <td>0.068223</td>\n",
       "    </tr>\n",
       "    <tr>\n",
       "      <th>jobSatisfaction</th>\n",
       "      <td>-0.100683</td>\n",
       "      <td>-0.309747</td>\n",
       "      <td>1.000000</td>\n",
       "      <td>0.154982</td>\n",
       "    </tr>\n",
       "    <tr>\n",
       "      <th>stress</th>\n",
       "      <td>-0.170584</td>\n",
       "      <td>0.068223</td>\n",
       "      <td>0.154982</td>\n",
       "      <td>1.000000</td>\n",
       "    </tr>\n",
       "  </tbody>\n",
       "</table>\n",
       "</div>"
      ],
      "text/plain": [
       "                   income   English  jobSatisfaction    stress\n",
       "income           1.000000  0.543705        -0.100683 -0.170584\n",
       "English          0.543705  1.000000        -0.309747  0.068223\n",
       "jobSatisfaction -0.100683 -0.309747         1.000000  0.154982\n",
       "stress          -0.170584  0.068223         0.154982  1.000000"
      ]
     },
     "execution_count": 24,
     "metadata": {},
     "output_type": "execute_result"
    }
   ],
   "source": [
    "df2.corr(method = 'spearman')"
   ]
  },
  {
   "cell_type": "code",
   "execution_count": 25,
   "id": "6553d673",
   "metadata": {},
   "outputs": [
    {
     "data": {
      "text/plain": [
       "-0.13791959796123446"
      ]
     },
     "execution_count": 25,
     "metadata": {},
     "output_type": "execute_result"
    }
   ],
   "source": [
    "# 수입과 스트레스의 상관관계 분석\n",
    "df2.income.corr(df2.stress)"
   ]
  },
  {
   "cell_type": "code",
   "execution_count": 28,
   "id": "4b63f955",
   "metadata": {},
   "outputs": [],
   "source": [
    "corr.to_csv('corr.csv')"
   ]
  },
  {
   "cell_type": "markdown",
   "id": "fe0e2160",
   "metadata": {},
   "source": [
    "- 회귀 분석\n",
    "    - 변수 사이의 인과관계 파악가능\n",
    "    - ols(formula = '종속 변수~독립변수', data=데이터프레임)"
   ]
  },
  {
   "cell_type": "code",
   "execution_count": 30,
   "id": "a9d4f802",
   "metadata": {},
   "outputs": [],
   "source": [
    "import statsmodels.formula.api as smf"
   ]
  },
  {
   "cell_type": "code",
   "execution_count": 32,
   "id": "d7f58696",
   "metadata": {},
   "outputs": [
    {
     "name": "stdout",
     "output_type": "stream",
     "text": [
      "                            OLS Regression Results                            \n",
      "==============================================================================\n",
      "Dep. Variable:        jobSatisfaction   R-squared:                       0.097\n",
      "Model:                            OLS   Adj. R-squared:                  0.054\n",
      "Method:                 Least Squares   F-statistic:                     2.266\n",
      "Date:                Mon, 12 Jun 2023   Prob (F-statistic):              0.147\n",
      "Time:                        16:59:23   Log-Likelihood:                -36.243\n",
      "No. Observations:                  23   AIC:                             76.49\n",
      "Df Residuals:                      21   BIC:                             78.76\n",
      "Df Model:                           1                                         \n",
      "Covariance Type:            nonrobust                                         \n",
      "==============================================================================\n",
      "                 coef    std err          t      P>|t|      [0.025      0.975]\n",
      "------------------------------------------------------------------------------\n",
      "Intercept      5.7052      1.615      3.532      0.002       2.346       9.065\n",
      "English       -0.0039      0.003     -1.505      0.147      -0.009       0.002\n",
      "==============================================================================\n",
      "Omnibus:                        0.120   Durbin-Watson:                   0.777\n",
      "Prob(Omnibus):                  0.942   Jarque-Bera (JB):                0.306\n",
      "Skew:                          -0.126   Prob(JB):                        0.858\n",
      "Kurtosis:                       2.495   Cond. No.                     3.90e+03\n",
      "==============================================================================\n",
      "\n",
      "Notes:\n",
      "[1] Standard Errors assume that the covariance matrix of the errors is correctly specified.\n",
      "[2] The condition number is large, 3.9e+03. This might indicate that there are\n",
      "strong multicollinearity or other numerical problems.\n"
     ]
    }
   ],
   "source": [
    "model = smf.ols(formula = 'jobSatisfaction ~ English', data = df2)\n",
    "result = model.fit()\n",
    "\n",
    "print(result.summary())"
   ]
  },
  {
   "cell_type": "markdown",
   "id": "582b7a93",
   "metadata": {},
   "source": [
    "- 다중회귀 분석 연습"
   ]
  },
  {
   "cell_type": "code",
   "execution_count": 38,
   "id": "36084c16",
   "metadata": {},
   "outputs": [
    {
     "name": "stdout",
     "output_type": "stream",
     "text": [
      "                            OLS Regression Results                            \n",
      "==============================================================================\n",
      "Dep. Variable:        jobSatisfaction   R-squared:                       0.097\n",
      "Model:                            OLS   Adj. R-squared:                  0.054\n",
      "Method:                 Least Squares   F-statistic:                     2.266\n",
      "Date:                Mon, 12 Jun 2023   Prob (F-statistic):              0.147\n",
      "Time:                        17:10:09   Log-Likelihood:                -36.243\n",
      "No. Observations:                  23   AIC:                             76.49\n",
      "Df Residuals:                      21   BIC:                             78.76\n",
      "Df Model:                           1                                         \n",
      "Covariance Type:            nonrobust                                         \n",
      "==============================================================================\n",
      "                 coef    std err          t      P>|t|      [0.025      0.975]\n",
      "------------------------------------------------------------------------------\n",
      "Intercept      5.7052      1.615      3.532      0.002       2.346       9.065\n",
      "English       -0.0039      0.003     -1.505      0.147      -0.009       0.002\n",
      "==============================================================================\n",
      "Omnibus:                        0.120   Durbin-Watson:                   0.777\n",
      "Prob(Omnibus):                  0.942   Jarque-Bera (JB):                0.306\n",
      "Skew:                          -0.126   Prob(JB):                        0.858\n",
      "Kurtosis:                       2.495   Cond. No.                     3.90e+03\n",
      "==============================================================================\n",
      "\n",
      "Notes:\n",
      "[1] Standard Errors assume that the covariance matrix of the errors is correctly specified.\n",
      "[2] The condition number is large, 3.9e+03. This might indicate that there are\n",
      "strong multicollinearity or other numerical problems.\n"
     ]
    }
   ],
   "source": [
    "model2 = smf.ols(formula = 'jobSatisfaction ~ English + stress + income', data = df2)\n",
    "result2 = model.fit()\n",
    "\n",
    "print(result2.summary())"
   ]
  }
 ],
 "metadata": {
  "kernelspec": {
   "display_name": "Python 3 (ipykernel)",
   "language": "python",
   "name": "python3"
  },
  "language_info": {
   "codemirror_mode": {
    "name": "ipython",
    "version": 3
   },
   "file_extension": ".py",
   "mimetype": "text/x-python",
   "name": "python",
   "nbconvert_exporter": "python",
   "pygments_lexer": "ipython3",
   "version": "3.10.9"
  }
 },
 "nbformat": 4,
 "nbformat_minor": 5
}
