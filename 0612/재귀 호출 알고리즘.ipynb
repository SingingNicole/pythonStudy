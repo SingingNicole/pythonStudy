{
 "cells": [
  {
   "cell_type": "markdown",
   "id": "1a540ffd",
   "metadata": {},
   "source": [
    "- 팩토리얼 구하기"
   ]
  },
  {
   "cell_type": "code",
   "execution_count": 1,
   "id": "b7ffadc1",
   "metadata": {},
   "outputs": [
    {
     "name": "stdout",
     "output_type": "stream",
     "text": [
      "1\n",
      "120\n",
      "3628800\n"
     ]
    }
   ],
   "source": [
    "# 연속한 숫자의 곱을 구하는 알고리즘\n",
    "# 입력: n\n",
    "# 출력: 1부터 n까지 연속한 숫자를 곱한 값\n",
    "\n",
    "def fact(n):\n",
    "    f = 1\n",
    "    for i in range(1, n + 1):\n",
    "        f = f * i\n",
    "    return f\n",
    "\n",
    "print(fact(1))\n",
    "print(fact(5))\n",
    "print(fact(10))"
   ]
  },
  {
   "cell_type": "markdown",
   "id": "3c657c10",
   "metadata": {},
   "source": [
    "- 재귀 호출: 다시 돌아가 부르기"
   ]
  },
  {
   "cell_type": "code",
   "execution_count": null,
   "id": "a8cba0e4",
   "metadata": {},
   "outputs": [],
   "source": [
    "# 무한반복 - 실행 X!\n",
    "def hello():\n",
    "    print(\"hello\")\n",
    "    hello() # hello() 함수 안에서 다시 hello() 호출\n",
    "    \n",
    "hello()"
   ]
  },
  {
   "cell_type": "markdown",
   "id": "0e6da8f4",
   "metadata": {},
   "source": [
    "- 재귀 호출로 팩토리얼 구하기"
   ]
  },
  {
   "cell_type": "code",
   "execution_count": 2,
   "id": "601027db",
   "metadata": {},
   "outputs": [
    {
     "name": "stdout",
     "output_type": "stream",
     "text": [
      "1\n",
      "120\n",
      "3628800\n"
     ]
    }
   ],
   "source": [
    "# 연속한 숫자의 곱을 구하는 알고리즘\n",
    "# 입력: n\n",
    "# 출력: 1부터 n까지 연속한 숫자를 곱한 값\n",
    "\n",
    "def fact(n):\n",
    "    if n <= 1:\n",
    "        return 1\n",
    "    return n * fact(n - 1)\n",
    "\n",
    "print(fact(1))\n",
    "print(fact(5))\n",
    "print(fact(10))"
   ]
  },
  {
   "cell_type": "markdown",
   "id": "a728fd79",
   "metadata": {},
   "source": [
    "- 1부터 n까지의 값 구하기를 재귀호출로 만들기"
   ]
  },
  {
   "cell_type": "code",
   "execution_count": 3,
   "id": "4c352c36",
   "metadata": {},
   "outputs": [
    {
     "name": "stdout",
     "output_type": "stream",
     "text": [
      "55\n"
     ]
    }
   ],
   "source": [
    "def sum_all(n):\n",
    "    if n <= 1:\n",
    "        return 1\n",
    "    return n + sum_all(n - 1)\n",
    "\n",
    "print(sum_all(10))"
   ]
  },
  {
   "cell_type": "markdown",
   "id": "d33f92f5",
   "metadata": {},
   "source": [
    "- 숫자 n개 중에서 최댓값 찾기를 재귀 호출로 만들기"
   ]
  },
  {
   "cell_type": "code",
   "execution_count": null,
   "id": "5a45c8fb",
   "metadata": {},
   "outputs": [],
   "source": [
    "def find_largest_num(a):\n",
    "    n = len(a)\n",
    "    target_index = 0\n",
    "    if "
   ]
  }
 ],
 "metadata": {
  "kernelspec": {
   "display_name": "Python 3 (ipykernel)",
   "language": "python",
   "name": "python3"
  },
  "language_info": {
   "codemirror_mode": {
    "name": "ipython",
    "version": 3
   },
   "file_extension": ".py",
   "mimetype": "text/x-python",
   "name": "python",
   "nbconvert_exporter": "python",
   "pygments_lexer": "ipython3",
   "version": "3.10.9"
  }
 },
 "nbformat": 4,
 "nbformat_minor": 5
}
