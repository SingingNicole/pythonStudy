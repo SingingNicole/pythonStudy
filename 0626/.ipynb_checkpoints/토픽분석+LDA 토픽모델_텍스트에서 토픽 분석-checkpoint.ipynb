{
 "cells": [
  {
   "cell_type": "code",
   "execution_count": 2,
   "id": "b2efba0f",
   "metadata": {
    "scrolled": false
   },
   "outputs": [
    {
     "name": "stdout",
     "output_type": "stream",
     "text": [
      "Requirement already satisfied: gensim in c:\\users\\soldesk\\anaconda3\\lib\\site-packages (4.3.0)\n",
      "Requirement already satisfied: FuzzyTM>=0.4.0 in c:\\users\\soldesk\\anaconda3\\lib\\site-packages (from gensim) (2.0.5)\n",
      "Requirement already satisfied: scipy>=1.7.0 in c:\\users\\soldesk\\anaconda3\\lib\\site-packages (from gensim) (1.10.0)\n",
      "Requirement already satisfied: numpy>=1.18.5 in c:\\users\\soldesk\\anaconda3\\lib\\site-packages (from gensim) (1.25.0)\n",
      "Requirement already satisfied: smart-open>=1.8.1 in c:\\users\\soldesk\\anaconda3\\lib\\site-packages (from gensim) (5.2.1)\n",
      "Requirement already satisfied: pandas in c:\\users\\soldesk\\anaconda3\\lib\\site-packages (from FuzzyTM>=0.4.0->gensim) (1.5.3)\n",
      "Requirement already satisfied: pyfume in c:\\users\\soldesk\\anaconda3\\lib\\site-packages (from FuzzyTM>=0.4.0->gensim) (0.2.25)\n",
      "Requirement already satisfied: python-dateutil>=2.8.1 in c:\\users\\soldesk\\anaconda3\\lib\\site-packages (from pandas->FuzzyTM>=0.4.0->gensim) (2.8.2)\n",
      "Requirement already satisfied: pytz>=2020.1 in c:\\users\\soldesk\\anaconda3\\lib\\site-packages (from pandas->FuzzyTM>=0.4.0->gensim) (2022.7)\n",
      "Requirement already satisfied: fst-pso in c:\\users\\soldesk\\anaconda3\\lib\\site-packages (from pyfume->FuzzyTM>=0.4.0->gensim) (1.8.1)\n",
      "Requirement already satisfied: simpful in c:\\users\\soldesk\\anaconda3\\lib\\site-packages (from pyfume->FuzzyTM>=0.4.0->gensim) (2.11.0)\n",
      "Requirement already satisfied: six>=1.5 in c:\\users\\soldesk\\anaconda3\\lib\\site-packages (from python-dateutil>=2.8.1->pandas->FuzzyTM>=0.4.0->gensim) (1.16.0)\n",
      "Requirement already satisfied: miniful in c:\\users\\soldesk\\anaconda3\\lib\\site-packages (from fst-pso->pyfume->FuzzyTM>=0.4.0->gensim) (0.0.6)\n",
      "Collecting pyldavis\n",
      "  Using cached pyLDAvis-3.4.1-py3-none-any.whl (2.6 MB)\n",
      "Requirement already satisfied: scipy in c:\\users\\soldesk\\anaconda3\\lib\\site-packages (from pyldavis) (1.10.0)\n",
      "Requirement already satisfied: scikit-learn>=1.0.0 in c:\\users\\soldesk\\anaconda3\\lib\\site-packages (from pyldavis) (1.0.2)\n",
      "Requirement already satisfied: gensim in c:\\users\\soldesk\\anaconda3\\lib\\site-packages (from pyldavis) (4.3.0)\n",
      "Requirement already satisfied: numexpr in c:\\users\\soldesk\\anaconda3\\lib\\site-packages (from pyldavis) (2.8.4)\n",
      "Requirement already satisfied: setuptools in c:\\users\\soldesk\\anaconda3\\lib\\site-packages (from pyldavis) (65.6.3)\n",
      "Collecting pandas>=2.0.0\n",
      "  Using cached pandas-2.0.2-cp310-cp310-win_amd64.whl (10.7 MB)\n",
      "Requirement already satisfied: funcy in c:\\users\\soldesk\\anaconda3\\lib\\site-packages (from pyldavis) (2.0)\n",
      "Requirement already satisfied: numpy>=1.24.2 in c:\\users\\soldesk\\anaconda3\\lib\\site-packages (from pyldavis) (1.25.0)\n",
      "Requirement already satisfied: jinja2 in c:\\users\\soldesk\\anaconda3\\lib\\site-packages (from pyldavis) (3.1.2)\n",
      "Collecting joblib>=1.2.0\n",
      "  Using cached joblib-1.2.0-py3-none-any.whl (297 kB)\n",
      "Requirement already satisfied: tzdata>=2022.1 in c:\\users\\soldesk\\anaconda3\\lib\\site-packages (from pandas>=2.0.0->pyldavis) (2023.3)\n",
      "Requirement already satisfied: pytz>=2020.1 in c:\\users\\soldesk\\anaconda3\\lib\\site-packages (from pandas>=2.0.0->pyldavis) (2022.7)\n",
      "Requirement already satisfied: python-dateutil>=2.8.2 in c:\\users\\soldesk\\anaconda3\\lib\\site-packages (from pandas>=2.0.0->pyldavis) (2.8.2)\n",
      "Requirement already satisfied: threadpoolctl>=2.0.0 in c:\\users\\soldesk\\anaconda3\\lib\\site-packages (from scikit-learn>=1.0.0->pyldavis) (2.2.0)\n",
      "Requirement already satisfied: smart-open>=1.8.1 in c:\\users\\soldesk\\anaconda3\\lib\\site-packages (from gensim->pyldavis) (5.2.1)\n",
      "Requirement already satisfied: FuzzyTM>=0.4.0 in c:\\users\\soldesk\\anaconda3\\lib\\site-packages (from gensim->pyldavis) (2.0.5)\n",
      "Requirement already satisfied: MarkupSafe>=2.0 in c:\\users\\soldesk\\anaconda3\\lib\\site-packages (from jinja2->pyldavis) (2.1.1)\n",
      "Requirement already satisfied: pyfume in c:\\users\\soldesk\\anaconda3\\lib\\site-packages (from FuzzyTM>=0.4.0->gensim->pyldavis) (0.2.25)\n",
      "Requirement already satisfied: six>=1.5 in c:\\users\\soldesk\\anaconda3\\lib\\site-packages (from python-dateutil>=2.8.2->pandas>=2.0.0->pyldavis) (1.16.0)\n",
      "Requirement already satisfied: fst-pso in c:\\users\\soldesk\\anaconda3\\lib\\site-packages (from pyfume->FuzzyTM>=0.4.0->gensim->pyldavis) (1.8.1)\n",
      "Requirement already satisfied: simpful in c:\\users\\soldesk\\anaconda3\\lib\\site-packages (from pyfume->FuzzyTM>=0.4.0->gensim->pyldavis) (2.11.0)\n",
      "Requirement already satisfied: miniful in c:\\users\\soldesk\\anaconda3\\lib\\site-packages (from fst-pso->pyfume->FuzzyTM>=0.4.0->gensim->pyldavis) (0.0.6)\n",
      "Installing collected packages: joblib, pandas, pyldavis\n",
      "  Attempting uninstall: joblib\n",
      "    Found existing installation: joblib 1.1.1\n",
      "    Uninstalling joblib-1.1.1:\n",
      "      Successfully uninstalled joblib-1.1.1\n",
      "  Attempting uninstall: pandas\n",
      "    Found existing installation: pandas 1.5.3\n",
      "    Uninstalling pandas-1.5.3:\n",
      "      Successfully uninstalled pandas-1.5.3\n"
     ]
    },
    {
     "name": "stderr",
     "output_type": "stream",
     "text": [
      "ERROR: Could not install packages due to an OSError: [WinError 5] 액세스가 거부되었습니다: 'C:\\\\Users\\\\soldesk\\\\anaconda3\\\\Lib\\\\site-packages\\\\~andas\\\\_libs\\\\algos.cp310-win_amd64.pyd'\n",
      "Consider using the `--user` option or check the permissions.\n",
      "\n"
     ]
    }
   ],
   "source": [
    "!pip install gensim\n",
    "# pip install pyldavis => cmd 창에서 install"
   ]
  },
  {
   "cell_type": "code",
   "execution_count": null,
   "id": "f2ca2b00",
   "metadata": {},
   "outputs": [],
   "source": []
  }
 ],
 "metadata": {
  "kernelspec": {
   "display_name": "Python 3 (ipykernel)",
   "language": "python",
   "name": "python3"
  },
  "language_info": {
   "codemirror_mode": {
    "name": "ipython",
    "version": 3
   },
   "file_extension": ".py",
   "mimetype": "text/x-python",
   "name": "python",
   "nbconvert_exporter": "python",
   "pygments_lexer": "ipython3",
   "version": "3.10.9"
  }
 },
 "nbformat": 4,
 "nbformat_minor": 5
}
