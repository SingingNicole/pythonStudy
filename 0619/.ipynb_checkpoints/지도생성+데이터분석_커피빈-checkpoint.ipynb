{
 "cells": [
  {
   "cell_type": "code",
   "execution_count": 2,
   "id": "ac467d72",
   "metadata": {},
   "outputs": [],
   "source": [
    "import pandas as pd"
   ]
  },
  {
   "cell_type": "code",
   "execution_count": 4,
   "id": "0be44e31",
   "metadata": {},
   "outputs": [
    {
     "data": {
      "text/html": [
       "<div>\n",
       "<style scoped>\n",
       "    .dataframe tbody tr th:only-of-type {\n",
       "        vertical-align: middle;\n",
       "    }\n",
       "\n",
       "    .dataframe tbody tr th {\n",
       "        vertical-align: top;\n",
       "    }\n",
       "\n",
       "    .dataframe thead th {\n",
       "        text-align: right;\n",
       "    }\n",
       "</style>\n",
       "<table border=\"1\" class=\"dataframe\">\n",
       "  <thead>\n",
       "    <tr style=\"text-align: right;\">\n",
       "      <th></th>\n",
       "      <th>store</th>\n",
       "      <th>address</th>\n",
       "      <th>phone</th>\n",
       "    </tr>\n",
       "  </thead>\n",
       "  <tbody>\n",
       "    <tr>\n",
       "      <th>0</th>\n",
       "      <td>차병원점</td>\n",
       "      <td>서울시 강남구 논현로 566 강남차병원1층</td>\n",
       "      <td>02-538-7615</td>\n",
       "    </tr>\n",
       "    <tr>\n",
       "      <th>1</th>\n",
       "      <td>강남대로점</td>\n",
       "      <td>서울시 서초구 강남대로 369 1층</td>\n",
       "      <td>02-588-5778</td>\n",
       "    </tr>\n",
       "    <tr>\n",
       "      <th>2</th>\n",
       "      <td>청담에스점</td>\n",
       "      <td>서울시 강남구 압구정로 461 네이처포엠빌딩B108,109호</td>\n",
       "      <td>02-548-6052</td>\n",
       "    </tr>\n",
       "    <tr>\n",
       "      <th>3</th>\n",
       "      <td>신사점</td>\n",
       "      <td>서울시 강남구 도산대로 126</td>\n",
       "      <td>02-548-2741</td>\n",
       "    </tr>\n",
       "    <tr>\n",
       "      <th>4</th>\n",
       "      <td>역삼점</td>\n",
       "      <td>서울시 강남구 논현로 512  지상1,2층</td>\n",
       "      <td>02-569-8051</td>\n",
       "    </tr>\n",
       "  </tbody>\n",
       "</table>\n",
       "</div>"
      ],
      "text/plain": [
       "   store                              address        phone\n",
       "0   차병원점            서울시 강남구 논현로 566 강남차병원1층    02-538-7615\n",
       "1  강남대로점                서울시 서초구 강남대로 369 1층    02-588-5778\n",
       "2  청담에스점  서울시 강남구 압구정로 461 네이처포엠빌딩B108,109호    02-548-6052\n",
       "3    신사점                   서울시 강남구 도산대로 126    02-548-2741\n",
       "4    역삼점            서울시 강남구 논현로 512  지상1,2층    02-569-8051"
      ]
     },
     "execution_count": 4,
     "metadata": {},
     "output_type": "execute_result"
    }
   ],
   "source": [
    "CB = pd.read_csv('./data/CoffeeBean_store.csv', encoding='CP949', index_col=0, header=0, engine='python')\n",
    "\n",
    "CB.head() # 확인용 출력"
   ]
  },
  {
   "cell_type": "code",
   "execution_count": 6,
   "id": "89f87b91",
   "metadata": {},
   "outputs": [
    {
     "name": "stdout",
     "output_type": "stream",
     "text": [
      "데이터 개수: 161\n"
     ]
    },
    {
     "data": {
      "text/plain": [
       "[['서울시', '강남구', '논현로', '566', '강남차병원1층'],\n",
       " ['서울시', '서초구', '강남대로', '369', '1층'],\n",
       " ['서울시', '강남구', '압구정로', '461', '네이처포엠빌딩B108,109호'],\n",
       " ['서울시', '강남구', '도산대로', '126'],\n",
       " ['서울시', '강남구', '논현로', '512', '지상1,2층'],\n",
       " ['서울시', '서초구', '강남대로', '213', '24호', '지하1층'],\n",
       " ['서울시', '강남구', '삼성로', '716', 'LEE76빌딩2층'],\n",
       " ['서울', '서초구', '반포동', '736-17', 'P빌딩', '2층'],\n",
       " ['서울시', '강남구', '언주로', '30길', '10,112', '현대비젼21', '112호'],\n",
       " ['서울시', '강남구', '선릉로', '749', '1,2층']]"
      ]
     },
     "execution_count": 6,
     "metadata": {},
     "output_type": "execute_result"
    }
   ],
   "source": [
    "addr = []\n",
    "\n",
    "for address in CB.address:\n",
    "    addr.append(str(address).split())\n",
    "    \n",
    "print('데이터 개수: %d' %len(addr))\n",
    "addr[:10]"
   ]
  },
  {
   "cell_type": "code",
   "execution_count": 7,
   "id": "86e41b8b",
   "metadata": {},
   "outputs": [
    {
     "data": {
      "text/plain": [
       "['서울특별시 강남구 논현로 566 강남차병원1층',\n",
       " '서울특별시 서초구 강남대로 369 1층',\n",
       " '서울특별시 강남구 압구정로 461 네이처포엠빌딩B108,109호',\n",
       " '서울특별시 강남구 도산대로 126',\n",
       " '서울특별시 강남구 논현로 512 지상1,2층',\n",
       " '서울특별시 서초구 강남대로 213 24호 지하1층',\n",
       " '서울특별시 강남구 삼성로 716 LEE76빌딩2층',\n",
       " '서울특별시 서초구 반포동 736-17 P빌딩 2층',\n",
       " '서울특별시 강남구 언주로 30길 10,112 현대비젼21 112호',\n",
       " '서울특별시 강남구 선릉로 749 1,2층',\n",
       " '서울특별시 강남구 도산대로49길 13 1층 17,18호',\n",
       " '서울특별시 강남구 선릉로 157길 12 석전빌딩 1~4층',\n",
       " '서울특별시 서초구 강남대로 51길 1 511 TOWER 1층',\n",
       " '서울특별시 강남구 논현 231-13호 팍스타워지하1층',\n",
       " '서울특별시 강남구 영동대로 513 컨벤션별관A동 지하 2층',\n",
       " '서울특별시 강남구 영동대로 511 트레이드타워 지하1층',\n",
       " '서울특별시 강남구 영동대로 607 1,2층',\n",
       " '서울특별시 송파구 석촌호수로 118 1층',\n",
       " '서울특별시 서초구 서초동 1685-8호 101~2호,113~4호,121호',\n",
       " '서울특별시 강남구 논현로 717 1층']"
      ]
     },
     "execution_count": 7,
     "metadata": {},
     "output_type": "execute_result"
    }
   ],
   "source": [
    "addr2 = []\n",
    "\n",
    "for i in range(len(addr)):\n",
    "    if addr[i][0] == \"서울\": addr[i][0]=\"서울특별시\"\n",
    "    elif addr[i][0] == \"서울시\": addr[i][0]=\"서울특별시\"\n",
    "    elif addr[i][0] == \"부산시\": addr[i][0]=\"부산광역시\"\n",
    "    elif addr[i][0] == \"인천\": addr[i][0]=\"인천광역시\"\n",
    "    elif addr[i][0] == \"광주\": addr[i][0]=\"광주광역시\"\n",
    "    elif addr[i][0] == \"대전시\": addr[i][0]=\"대전광역시\"\n",
    "    elif addr[i][0] == \"울산시\": addr[i][0]=\"울산광역시\"    \n",
    "    elif addr[i][0] == \"세종시\": addr[i][0]=\"세종특별자치시\"\n",
    "    elif addr[i][0] == \"경기\": addr[i][0]=\"경기도\"\n",
    "    elif addr[i][0] == \"충북\": addr[i][0]=\"충청북도\"\n",
    "    elif addr[i][0] == \"충남\": addr[i][0]=\"충청남도\"\n",
    "    elif addr[i][0] == \"전북\": addr[i][0]=\"전라북도\"\n",
    "    elif addr[i][0] == \"전남\": addr[i][0]=\"전라남도\"\n",
    "    elif addr[i][0] == \"경북\": addr[i][0]=\"경상북도\"\n",
    "    elif addr[i][0] == \"경남\": addr[i][0]=\"경상남도\"\n",
    "    elif addr[i][0] == \"제주\": addr[i][0]=\"제주특별자치도\"\n",
    "    elif addr[i][0] == \"제주도\": addr[i][0]=\"제주특별자치도\"\n",
    "    elif addr[i][0] == \"제주시\": addr[i][0]=\"제주특별자치도\"\n",
    "        \n",
    "    addr2.append(' '.join(addr[i]))\n",
    "    \n",
    "addr2[:20]"
   ]
  },
  {
   "cell_type": "code",
   "execution_count": 9,
   "id": "3a47141a",
   "metadata": {},
   "outputs": [
    {
     "data": {
      "text/html": [
       "<div>\n",
       "<style scoped>\n",
       "    .dataframe tbody tr th:only-of-type {\n",
       "        vertical-align: middle;\n",
       "    }\n",
       "\n",
       "    .dataframe tbody tr th {\n",
       "        vertical-align: top;\n",
       "    }\n",
       "\n",
       "    .dataframe thead th {\n",
       "        text-align: right;\n",
       "    }\n",
       "</style>\n",
       "<table border=\"1\" class=\"dataframe\">\n",
       "  <thead>\n",
       "    <tr style=\"text-align: right;\">\n",
       "      <th></th>\n",
       "      <th>address2</th>\n",
       "    </tr>\n",
       "  </thead>\n",
       "  <tbody>\n",
       "    <tr>\n",
       "      <th>0</th>\n",
       "      <td>서울특별시 강남구 논현로 566 강남차병원1층</td>\n",
       "    </tr>\n",
       "    <tr>\n",
       "      <th>1</th>\n",
       "      <td>서울특별시 서초구 강남대로 369 1층</td>\n",
       "    </tr>\n",
       "    <tr>\n",
       "      <th>2</th>\n",
       "      <td>서울특별시 강남구 압구정로 461 네이처포엠빌딩B108,109호</td>\n",
       "    </tr>\n",
       "    <tr>\n",
       "      <th>3</th>\n",
       "      <td>서울특별시 강남구 도산대로 126</td>\n",
       "    </tr>\n",
       "    <tr>\n",
       "      <th>4</th>\n",
       "      <td>서울특별시 강남구 논현로 512 지상1,2층</td>\n",
       "    </tr>\n",
       "  </tbody>\n",
       "</table>\n",
       "</div>"
      ],
      "text/plain": [
       "                              address2\n",
       "0            서울특별시 강남구 논현로 566 강남차병원1층\n",
       "1                서울특별시 서초구 강남대로 369 1층\n",
       "2  서울특별시 강남구 압구정로 461 네이처포엠빌딩B108,109호\n",
       "3                   서울특별시 강남구 도산대로 126\n",
       "4             서울특별시 강남구 논현로 512 지상1,2층"
      ]
     },
     "execution_count": 9,
     "metadata": {},
     "output_type": "execute_result"
    }
   ],
   "source": [
    "addr2 = pd.DataFrame(addr2, columns=['address2'])\n",
    "addr2.head()"
   ]
  },
  {
   "cell_type": "code",
   "execution_count": 10,
   "id": "9bbb6e59",
   "metadata": {},
   "outputs": [
    {
     "data": {
      "text/html": [
       "<div>\n",
       "<style scoped>\n",
       "    .dataframe tbody tr th:only-of-type {\n",
       "        vertical-align: middle;\n",
       "    }\n",
       "\n",
       "    .dataframe tbody tr th {\n",
       "        vertical-align: top;\n",
       "    }\n",
       "\n",
       "    .dataframe thead th {\n",
       "        text-align: right;\n",
       "    }\n",
       "</style>\n",
       "<table border=\"1\" class=\"dataframe\">\n",
       "  <thead>\n",
       "    <tr style=\"text-align: right;\">\n",
       "      <th></th>\n",
       "      <th>store</th>\n",
       "      <th>address</th>\n",
       "      <th>phone</th>\n",
       "      <th>address2</th>\n",
       "    </tr>\n",
       "  </thead>\n",
       "  <tbody>\n",
       "    <tr>\n",
       "      <th>0</th>\n",
       "      <td>차병원점</td>\n",
       "      <td>서울시 강남구 논현로 566 강남차병원1층</td>\n",
       "      <td>02-538-7615</td>\n",
       "      <td>서울특별시 강남구 논현로 566 강남차병원1층</td>\n",
       "    </tr>\n",
       "    <tr>\n",
       "      <th>1</th>\n",
       "      <td>강남대로점</td>\n",
       "      <td>서울시 서초구 강남대로 369 1층</td>\n",
       "      <td>02-588-5778</td>\n",
       "      <td>서울특별시 서초구 강남대로 369 1층</td>\n",
       "    </tr>\n",
       "    <tr>\n",
       "      <th>2</th>\n",
       "      <td>청담에스점</td>\n",
       "      <td>서울시 강남구 압구정로 461 네이처포엠빌딩B108,109호</td>\n",
       "      <td>02-548-6052</td>\n",
       "      <td>서울특별시 강남구 압구정로 461 네이처포엠빌딩B108,109호</td>\n",
       "    </tr>\n",
       "    <tr>\n",
       "      <th>3</th>\n",
       "      <td>신사점</td>\n",
       "      <td>서울시 강남구 도산대로 126</td>\n",
       "      <td>02-548-2741</td>\n",
       "      <td>서울특별시 강남구 도산대로 126</td>\n",
       "    </tr>\n",
       "    <tr>\n",
       "      <th>4</th>\n",
       "      <td>역삼점</td>\n",
       "      <td>서울시 강남구 논현로 512  지상1,2층</td>\n",
       "      <td>02-569-8051</td>\n",
       "      <td>서울특별시 강남구 논현로 512 지상1,2층</td>\n",
       "    </tr>\n",
       "  </tbody>\n",
       "</table>\n",
       "</div>"
      ],
      "text/plain": [
       "   store                              address        phone  \\\n",
       "0   차병원점            서울시 강남구 논현로 566 강남차병원1층    02-538-7615   \n",
       "1  강남대로점                서울시 서초구 강남대로 369 1층    02-588-5778   \n",
       "2  청담에스점  서울시 강남구 압구정로 461 네이처포엠빌딩B108,109호    02-548-6052   \n",
       "3    신사점                   서울시 강남구 도산대로 126    02-548-2741   \n",
       "4    역삼점            서울시 강남구 논현로 512  지상1,2층    02-569-8051   \n",
       "\n",
       "                              address2  \n",
       "0            서울특별시 강남구 논현로 566 강남차병원1층  \n",
       "1                서울특별시 서초구 강남대로 369 1층  \n",
       "2  서울특별시 강남구 압구정로 461 네이처포엠빌딩B108,109호  \n",
       "3                   서울특별시 강남구 도산대로 126  \n",
       "4             서울특별시 강남구 논현로 512 지상1,2층  "
      ]
     },
     "execution_count": 10,
     "metadata": {},
     "output_type": "execute_result"
    }
   ],
   "source": [
    "CB2 = pd.concat([CB, addr2], axis = 1)\n",
    "CB2.head() # 작업 내용 확인용 출력"
   ]
  },
  {
   "cell_type": "code",
   "execution_count": 11,
   "id": "412eeea5",
   "metadata": {},
   "outputs": [],
   "source": [
    "CB2.to_csv('data/CoffeeBean2.csv', encoding='CP949', index=False)"
   ]
  },
  {
   "cell_type": "markdown",
   "id": "f6d22baa",
   "metadata": {},
   "source": [
    "- 지도 객체로 시각화"
   ]
  },
  {
   "cell_type": "code",
   "execution_count": 12,
   "id": "26b2c717",
   "metadata": {},
   "outputs": [
    {
     "name": "stdout",
     "output_type": "stream",
     "text": [
      "Collecting folium\n",
      "  Downloading folium-0.14.0-py2.py3-none-any.whl (102 kB)\n",
      "     -------------------------------------- 102.3/102.3 kB 2.0 MB/s eta 0:00:00\n",
      "Requirement already satisfied: requests in c:\\users\\soldesk\\anaconda3\\lib\\site-packages (from folium) (2.28.1)\n",
      "Requirement already satisfied: jinja2>=2.9 in c:\\users\\soldesk\\anaconda3\\lib\\site-packages (from folium) (3.1.2)\n",
      "Collecting branca>=0.6.0\n",
      "  Downloading branca-0.6.0-py3-none-any.whl (24 kB)\n",
      "Requirement already satisfied: numpy in c:\\users\\soldesk\\anaconda3\\lib\\site-packages (from folium) (1.23.5)\n",
      "Requirement already satisfied: MarkupSafe>=2.0 in c:\\users\\soldesk\\anaconda3\\lib\\site-packages (from jinja2>=2.9->folium) (2.1.1)\n",
      "Requirement already satisfied: urllib3<1.27,>=1.21.1 in c:\\users\\soldesk\\anaconda3\\lib\\site-packages (from requests->folium) (1.26.14)\n",
      "Requirement already satisfied: charset-normalizer<3,>=2 in c:\\users\\soldesk\\anaconda3\\lib\\site-packages (from requests->folium) (2.0.4)\n",
      "Requirement already satisfied: certifi>=2017.4.17 in c:\\users\\soldesk\\anaconda3\\lib\\site-packages (from requests->folium) (2022.12.7)\n",
      "Requirement already satisfied: idna<4,>=2.5 in c:\\users\\soldesk\\anaconda3\\lib\\site-packages (from requests->folium) (3.4)\n",
      "Installing collected packages: branca, folium\n",
      "Successfully installed branca-0.6.0 folium-0.14.0\n"
     ]
    }
   ],
   "source": [
    "!pip install folium"
   ]
  },
  {
   "cell_type": "code",
   "execution_count": 13,
   "id": "4901292a",
   "metadata": {},
   "outputs": [],
   "source": [
    "import folium"
   ]
  },
  {
   "cell_type": "code",
   "execution_count": 14,
   "id": "bfd0f5fd",
   "metadata": {},
   "outputs": [],
   "source": [
    "map_osm = folium.Map(location=[37.560284, 126.975334], zoom_start = 16)"
   ]
  },
  {
   "cell_type": "code",
   "execution_count": 15,
   "id": "58d6df10",
   "metadata": {},
   "outputs": [],
   "source": [
    "map_osm.save('./data/map.html')"
   ]
  },
  {
   "cell_type": "code",
   "execution_count": 16,
   "id": "1c1fed41",
   "metadata": {},
   "outputs": [],
   "source": [
    "import webbrowser"
   ]
  },
  {
   "cell_type": "code",
   "execution_count": 18,
   "id": "d3e361e8",
   "metadata": {},
   "outputs": [
    {
     "data": {
      "text/plain": [
       "True"
      ]
     },
     "execution_count": 18,
     "metadata": {},
     "output_type": "execute_result"
    }
   ],
   "source": [
    "webbrowser.open(r'D:\\pythonworkspace\\0619\\data\\map.html')"
   ]
  },
  {
   "cell_type": "code",
   "execution_count": 19,
   "id": "a1923b89",
   "metadata": {},
   "outputs": [
    {
     "data": {
      "text/plain": [
       "161"
      ]
     },
     "execution_count": 19,
     "metadata": {},
     "output_type": "execute_result"
    }
   ],
   "source": [
    "CB_geoData = pd.read_excel('./data/CoffeeBean2.xlsx')\n",
    "\n",
    "len(CB_geoData)"
   ]
  },
  {
   "cell_type": "code",
   "execution_count": 20,
   "id": "d3d9e4bf",
   "metadata": {},
   "outputs": [
    {
     "data": {
      "text/plain": [
       "Index(['store', 'address', 'phone', 'address2', 'Latitude', 'Longitude'], dtype='object')"
      ]
     },
     "execution_count": 20,
     "metadata": {},
     "output_type": "execute_result"
    }
   ],
   "source": [
    "CB_geoData.columns"
   ]
  },
  {
   "cell_type": "code",
   "execution_count": 21,
   "id": "295afb2f",
   "metadata": {},
   "outputs": [],
   "source": [
    "map_CB = folium.Map(location=[37.560284, 126.975334], zoom_start = 15)"
   ]
  },
  {
   "cell_type": "markdown",
   "id": "3a4dbcbc",
   "metadata": {},
   "source": [
    "- NaN 처리를 하지 않은 경우\n",
    "\n",
    "import math\n",
    "\n",
    "for i, store in CB_geoData.iterrows():\n",
    "    if not math.isnan(store['Latitude']):\n",
    "         folium.Marker(location=[store['Latitude'], store['Longitude']], popup= store['store'], icon=folium.Icon(color='red', icon='star')).add_to(map_CB)"
   ]
  },
  {
   "cell_type": "code",
   "execution_count": 24,
   "id": "f45134cd",
   "metadata": {},
   "outputs": [],
   "source": [
    "for i, store in CB_geoData.iterrows():\n",
    "    if store['Latitude'] == '' : continue\n",
    "    folium.Marker(location=[store['Latitude'], store['Longitude']], popup= store['store'], icon=folium.Icon(color='red', icon='star')).add_to(map_CB)\n",
    "map_CB.save('./data/map_CB.html')"
   ]
  },
  {
   "cell_type": "code",
   "execution_count": 26,
   "id": "b24acd69",
   "metadata": {},
   "outputs": [
    {
     "data": {
      "text/plain": [
       "True"
      ]
     },
     "execution_count": 26,
     "metadata": {},
     "output_type": "execute_result"
    }
   ],
   "source": [
    "webbrowser.open(r'D:\\pythonworkspace\\0619\\data\\map_CB.html')"
   ]
  }
 ],
 "metadata": {
  "kernelspec": {
   "display_name": "Python 3 (ipykernel)",
   "language": "python",
   "name": "python3"
  },
  "language_info": {
   "codemirror_mode": {
    "name": "ipython",
    "version": 3
   },
   "file_extension": ".py",
   "mimetype": "text/x-python",
   "name": "python",
   "nbconvert_exporter": "python",
   "pygments_lexer": "ipython3",
   "version": "3.10.9"
  }
 },
 "nbformat": 4,
 "nbformat_minor": 5
}
