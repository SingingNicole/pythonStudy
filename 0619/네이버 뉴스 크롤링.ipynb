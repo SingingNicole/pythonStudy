{
 "cells": [
  {
   "cell_type": "code",
   "execution_count": 2,
   "id": "c7212fad",
   "metadata": {},
   "outputs": [],
   "source": [
    "import os\n",
    "import sys\n",
    "import urllib.request\n",
    "import datetime\n",
    "import time\n",
    "import json"
   ]
  },
  {
   "cell_type": "code",
   "execution_count": 3,
   "id": "dfd662d9",
   "metadata": {},
   "outputs": [],
   "source": [
    "client_id = '0LHQM4VX_MQM6JfkXofa'\n",
    "client_secret = 'OcPgqpswCg'"
   ]
  },
  {
   "cell_type": "code",
   "execution_count": 4,
   "id": "7ccf597c",
   "metadata": {},
   "outputs": [],
   "source": [
    "def getRequestUrl(url):\n",
    "    req = urllib.request.Request(url)\n",
    "    req.add_header(\"X-Naver-Client-Id\",client_id)\n",
    "    req.add_header(\"X-Naver-Client-Secret\",client_secret)\n",
    "    \n",
    "    try:\n",
    "        response = urllib.request.urlopen(req)\n",
    "        if response.getcode() == 200:\n",
    "            print(\"[%s] Url Request Success\" % datetime.datetime.now())\n",
    "            return response.read().decode('utf-8')\n",
    "    except Exception as e:\n",
    "        print(e)\n",
    "        print(\"[%s] Error for URL : %s\" % (datetime.datetime.now(), url))\n",
    "        return None"
   ]
  },
  {
   "cell_type": "code",
   "execution_count": 5,
   "id": "2a5af696",
   "metadata": {},
   "outputs": [],
   "source": [
    "def getNaverSearch(node, srcText, page_start, display):\n",
    "    base = \"https://openapi.naver.com/v1/search\"\n",
    "    node = \"/%s.json\" % node\n",
    "    parameter = \"?query=%s&start=%s&display=%s\"%(urllib.parse.quote(srcText),page_start,display)\n",
    "    \n",
    "    url = base + node + parameter\n",
    "    \n",
    "    responseDecode = getRequestUrl(url)\n",
    "    \n",
    "    if responseDecode == None:\n",
    "        return None\n",
    "    else:\n",
    "        return json.loads(responseDecode)"
   ]
  },
  {
   "cell_type": "code",
   "execution_count": 6,
   "id": "f40aaa34",
   "metadata": {},
   "outputs": [],
   "source": [
    "def getPostData(post, jsonResult, cnt):\n",
    "    title = post['title']\n",
    "    description = post['description']\n",
    "    org_link = post['originallink']\n",
    "    link = post['link']\n",
    "    \n",
    "    pDate = datetime.datetime.strptime(post['pubDate'], '%a, %d %b %Y %H:%M:%S +0900')\n",
    "    pDate = pDate.strftime('%Y-%m-%d %H:%M:%S')\n",
    "    \n",
    "    jsonResult.append({'cnt':cnt, 'title':title,'description':description, \n",
    "                       'org_link':org_link, 'link':link, 'pDate':pDate })\n",
    "    return"
   ]
  },
  {
   "cell_type": "code",
   "execution_count": 8,
   "id": "6e9af7ca",
   "metadata": {},
   "outputs": [
    {
     "name": "stdout",
     "output_type": "stream",
     "text": [
      "검색어를 입력하세요: 강형욱\n",
      "[2023-06-19 13:13:13.794449] Url Request Success\n",
      "[2023-06-19 13:13:13.929339] Url Request Success\n",
      "[2023-06-19 13:13:14.066174] Url Request Success\n",
      "[2023-06-19 13:13:14.202438] Url Request Success\n",
      "[2023-06-19 13:13:14.352135] Url Request Success\n",
      "[2023-06-19 13:13:14.506844] Url Request Success\n",
      "[2023-06-19 13:13:14.658343] Url Request Success\n",
      "[2023-06-19 13:13:14.813061] Url Request Success\n",
      "[2023-06-19 13:13:14.976212] Url Request Success\n",
      "[2023-06-19 13:13:15.142071] Url Request Success\n",
      "HTTP Error 400: Bad Request\n",
      "[2023-06-19 13:13:15.213966] Error for URL : https://openapi.naver.com/v1/search/news.json?query=%EA%B0%95%ED%98%95%EC%9A%B1&start=1001&display=100\n",
      "news 검색 : 20077 건\n",
      "가져온 데이터 : 1000 건\n",
      "강형욱_naver_news.json SAVED\n"
     ]
    }
   ],
   "source": [
    "def main():\n",
    "    node = 'news'\n",
    "    srcText = input('검색어를 입력하세요: ')\n",
    "    cnt = 0\n",
    "    jsonResult = []\n",
    "    \n",
    "    jsonResponse = getNaverSearch(node, srcText, 1, 100)\n",
    "    total = jsonResponse['total']\n",
    "    \n",
    "    while jsonResponse != None and jsonResponse['display'] != 0:\n",
    "        for post in jsonResponse['items']:\n",
    "            cnt += 1\n",
    "            getPostData(post, jsonResult, cnt)\n",
    "            \n",
    "        start = jsonResponse['start'] + jsonResponse['display']\n",
    "        jsonResponse = getNaverSearch(node, srcText, start, 100)\n",
    "        \n",
    "    print('%s 검색 : %d 건' %(node, total))\n",
    "        \n",
    "    with open('%s_naver_%s.json' % (srcText, node), 'w', encoding='utf8') as outfile:\n",
    "        jsonFile = json.dumps(jsonResult, indent=4, sort_keys=True, ensure_ascii=False)\n",
    "        outfile.write(jsonFile)\n",
    "            \n",
    "    print(\"가져온 데이터 : %d 건\" %(cnt))\n",
    "    print('%s_naver_%s.json SAVED' % (srcText, node))\n",
    "\n",
    "\n",
    "if __name__ == '__main__':    #임포트되지 않고 직접 실행하는 경우라면\n",
    "    main()"
   ]
  }
 ],
 "metadata": {
  "kernelspec": {
   "display_name": "Python 3 (ipykernel)",
   "language": "python",
   "name": "python3"
  },
  "language_info": {
   "codemirror_mode": {
    "name": "ipython",
    "version": 3
   },
   "file_extension": ".py",
   "mimetype": "text/x-python",
   "name": "python",
   "nbconvert_exporter": "python",
   "pygments_lexer": "ipython3",
   "version": "3.10.9"
  }
 },
 "nbformat": 4,
 "nbformat_minor": 5
}
