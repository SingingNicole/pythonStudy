{
 "cells": [
  {
   "cell_type": "code",
   "execution_count": 1,
   "id": "2fa32e0a",
   "metadata": {},
   "outputs": [],
   "source": [
    "import pandas as pd\n",
    "import numpy as np"
   ]
  },
  {
   "cell_type": "code",
   "execution_count": 2,
   "id": "e9729ce3",
   "metadata": {},
   "outputs": [
    {
     "name": "stdout",
     "output_type": "stream",
     "text": [
      "0    1.0\n",
      "1    2.0\n",
      "2    3.0\n",
      "3    NaN\n",
      "4    6.0\n",
      "5    8.0\n",
      "dtype: float64\n"
     ]
    }
   ],
   "source": [
    "s = pd.Series([1, 2, 3, np.nan, 6, 8]) # nan = not a number\n",
    "print(s)"
   ]
  },
  {
   "cell_type": "code",
   "execution_count": 3,
   "id": "480a4a1f",
   "metadata": {},
   "outputs": [
    {
     "name": "stdout",
     "output_type": "stream",
     "text": [
      "DatetimeIndex(['2023-06-13', '2023-06-14', '2023-06-15', '2023-06-16',\n",
      "               '2023-06-17'],\n",
      "              dtype='datetime64[ns]', freq='D')\n"
     ]
    }
   ],
   "source": [
    "dates = pd.date_range('20230613', periods=5) # date_range 함수가 str을 date로 포맷\n",
    "print(dates)"
   ]
  },
  {
   "cell_type": "code",
   "execution_count": 4,
   "id": "ee7eb8f1",
   "metadata": {
    "scrolled": true
   },
   "outputs": [
    {
     "data": {
      "text/html": [
       "<div>\n",
       "<style scoped>\n",
       "    .dataframe tbody tr th:only-of-type {\n",
       "        vertical-align: middle;\n",
       "    }\n",
       "\n",
       "    .dataframe tbody tr th {\n",
       "        vertical-align: top;\n",
       "    }\n",
       "\n",
       "    .dataframe thead th {\n",
       "        text-align: right;\n",
       "    }\n",
       "</style>\n",
       "<table border=\"1\" class=\"dataframe\">\n",
       "  <thead>\n",
       "    <tr style=\"text-align: right;\">\n",
       "      <th></th>\n",
       "      <th>A</th>\n",
       "      <th>B</th>\n",
       "      <th>C</th>\n",
       "      <th>D</th>\n",
       "    </tr>\n",
       "  </thead>\n",
       "  <tbody>\n",
       "    <tr>\n",
       "      <th>2023-06-13</th>\n",
       "      <td>1.367007</td>\n",
       "      <td>-0.089651</td>\n",
       "      <td>1.370948</td>\n",
       "      <td>0.101234</td>\n",
       "    </tr>\n",
       "    <tr>\n",
       "      <th>2023-06-14</th>\n",
       "      <td>0.181241</td>\n",
       "      <td>2.016020</td>\n",
       "      <td>0.970990</td>\n",
       "      <td>-1.777475</td>\n",
       "    </tr>\n",
       "    <tr>\n",
       "      <th>2023-06-15</th>\n",
       "      <td>0.292653</td>\n",
       "      <td>-0.240686</td>\n",
       "      <td>0.568447</td>\n",
       "      <td>-0.327431</td>\n",
       "    </tr>\n",
       "    <tr>\n",
       "      <th>2023-06-16</th>\n",
       "      <td>0.092726</td>\n",
       "      <td>0.240113</td>\n",
       "      <td>0.409826</td>\n",
       "      <td>2.039473</td>\n",
       "    </tr>\n",
       "    <tr>\n",
       "      <th>2023-06-17</th>\n",
       "      <td>-1.669580</td>\n",
       "      <td>-0.755662</td>\n",
       "      <td>0.951344</td>\n",
       "      <td>-1.889437</td>\n",
       "    </tr>\n",
       "  </tbody>\n",
       "</table>\n",
       "</div>"
      ],
      "text/plain": [
       "                   A         B         C         D\n",
       "2023-06-13  1.367007 -0.089651  1.370948  0.101234\n",
       "2023-06-14  0.181241  2.016020  0.970990 -1.777475\n",
       "2023-06-15  0.292653 -0.240686  0.568447 -0.327431\n",
       "2023-06-16  0.092726  0.240113  0.409826  2.039473\n",
       "2023-06-17 -1.669580 -0.755662  0.951344 -1.889437"
      ]
     },
     "execution_count": 4,
     "metadata": {},
     "output_type": "execute_result"
    }
   ],
   "source": [
    "df = pd.DataFrame(np.random.randn(5, 4), index=dates, columns=('A', 'B', 'C', 'D'))\n",
    "df"
   ]
  },
  {
   "cell_type": "code",
   "execution_count": 5,
   "id": "c40525c8",
   "metadata": {},
   "outputs": [
    {
     "data": {
      "text/html": [
       "<div>\n",
       "<style scoped>\n",
       "    .dataframe tbody tr th:only-of-type {\n",
       "        vertical-align: middle;\n",
       "    }\n",
       "\n",
       "    .dataframe tbody tr th {\n",
       "        vertical-align: top;\n",
       "    }\n",
       "\n",
       "    .dataframe thead th {\n",
       "        text-align: right;\n",
       "    }\n",
       "</style>\n",
       "<table border=\"1\" class=\"dataframe\">\n",
       "  <thead>\n",
       "    <tr style=\"text-align: right;\">\n",
       "      <th></th>\n",
       "      <th>A</th>\n",
       "      <th>B</th>\n",
       "      <th>C</th>\n",
       "      <th>D</th>\n",
       "    </tr>\n",
       "  </thead>\n",
       "  <tbody>\n",
       "    <tr>\n",
       "      <th>2023-06-13</th>\n",
       "      <td>1.367007</td>\n",
       "      <td>-0.089651</td>\n",
       "      <td>1.370948</td>\n",
       "      <td>0.101234</td>\n",
       "    </tr>\n",
       "    <tr>\n",
       "      <th>2023-06-14</th>\n",
       "      <td>0.181241</td>\n",
       "      <td>2.016020</td>\n",
       "      <td>0.970990</td>\n",
       "      <td>-1.777475</td>\n",
       "    </tr>\n",
       "    <tr>\n",
       "      <th>2023-06-15</th>\n",
       "      <td>0.292653</td>\n",
       "      <td>-0.240686</td>\n",
       "      <td>0.568447</td>\n",
       "      <td>-0.327431</td>\n",
       "    </tr>\n",
       "  </tbody>\n",
       "</table>\n",
       "</div>"
      ],
      "text/plain": [
       "                   A         B         C         D\n",
       "2023-06-13  1.367007 -0.089651  1.370948  0.101234\n",
       "2023-06-14  0.181241  2.016020  0.970990 -1.777475\n",
       "2023-06-15  0.292653 -0.240686  0.568447 -0.327431"
      ]
     },
     "execution_count": 5,
     "metadata": {},
     "output_type": "execute_result"
    }
   ],
   "source": [
    "df.head(3) # 제일 위의 column만 출력 가능"
   ]
  },
  {
   "cell_type": "code",
   "execution_count": 7,
   "id": "086f4258",
   "metadata": {},
   "outputs": [
    {
     "name": "stdout",
     "output_type": "stream",
     "text": [
      "DatetimeIndex(['2023-06-13', '2023-06-14', '2023-06-15', '2023-06-16',\n",
      "               '2023-06-17'],\n",
      "              dtype='datetime64[ns]', freq='D')\n"
     ]
    }
   ],
   "source": [
    "print(df.index)"
   ]
  },
  {
   "cell_type": "code",
   "execution_count": 8,
   "id": "579820d7",
   "metadata": {},
   "outputs": [
    {
     "name": "stdout",
     "output_type": "stream",
     "text": [
      "Index(['A', 'B', 'C', 'D'], dtype='object')\n"
     ]
    }
   ],
   "source": [
    "print(df.columns)"
   ]
  },
  {
   "cell_type": "code",
   "execution_count": 10,
   "id": "99fe2f0a",
   "metadata": {},
   "outputs": [
    {
     "name": "stdout",
     "output_type": "stream",
     "text": [
      "[[ 1.36700729 -0.08965102  1.37094814  0.10123357]\n",
      " [ 0.18124055  2.01602028  0.97098974 -1.77747543]\n",
      " [ 0.29265346 -0.24068556  0.56844665 -0.3274309 ]\n",
      " [ 0.09272617  0.24011312  0.40982648  2.03947312]\n",
      " [-1.66957962 -0.75566228  0.95134385 -1.88943695]]\n"
     ]
    }
   ],
   "source": [
    "print(df.values) # value값을 배열로 출력"
   ]
  },
  {
   "cell_type": "code",
   "execution_count": 11,
   "id": "60e57543",
   "metadata": {},
   "outputs": [
    {
     "name": "stdout",
     "output_type": "stream",
     "text": [
      "<class 'pandas.core.frame.DataFrame'>\n",
      "DatetimeIndex: 5 entries, 2023-06-13 to 2023-06-17\n",
      "Freq: D\n",
      "Data columns (total 4 columns):\n",
      " #   Column  Non-Null Count  Dtype  \n",
      "---  ------  --------------  -----  \n",
      " 0   A       5 non-null      float64\n",
      " 1   B       5 non-null      float64\n",
      " 2   C       5 non-null      float64\n",
      " 3   D       5 non-null      float64\n",
      "dtypes: float64(4)\n",
      "memory usage: 200.0 bytes\n"
     ]
    }
   ],
   "source": [
    "df.info() # 데이터 프레임의 정보와 각 데이터의 타입을 보여 준다."
   ]
  },
  {
   "cell_type": "code",
   "execution_count": 12,
   "id": "7f643c7e",
   "metadata": {},
   "outputs": [
    {
     "data": {
      "text/html": [
       "<div>\n",
       "<style scoped>\n",
       "    .dataframe tbody tr th:only-of-type {\n",
       "        vertical-align: middle;\n",
       "    }\n",
       "\n",
       "    .dataframe tbody tr th {\n",
       "        vertical-align: top;\n",
       "    }\n",
       "\n",
       "    .dataframe thead th {\n",
       "        text-align: right;\n",
       "    }\n",
       "</style>\n",
       "<table border=\"1\" class=\"dataframe\">\n",
       "  <thead>\n",
       "    <tr style=\"text-align: right;\">\n",
       "      <th></th>\n",
       "      <th>A</th>\n",
       "      <th>B</th>\n",
       "      <th>C</th>\n",
       "      <th>D</th>\n",
       "    </tr>\n",
       "  </thead>\n",
       "  <tbody>\n",
       "    <tr>\n",
       "      <th>count</th>\n",
       "      <td>5.000000</td>\n",
       "      <td>5.000000</td>\n",
       "      <td>5.000000</td>\n",
       "      <td>5.000000</td>\n",
       "    </tr>\n",
       "    <tr>\n",
       "      <th>mean</th>\n",
       "      <td>0.052810</td>\n",
       "      <td>0.234027</td>\n",
       "      <td>0.854311</td>\n",
       "      <td>-0.370727</td>\n",
       "    </tr>\n",
       "    <tr>\n",
       "      <th>std</th>\n",
       "      <td>1.091942</td>\n",
       "      <td>1.058908</td>\n",
       "      <td>0.377236</td>\n",
       "      <td>1.606168</td>\n",
       "    </tr>\n",
       "    <tr>\n",
       "      <th>min</th>\n",
       "      <td>-1.669580</td>\n",
       "      <td>-0.755662</td>\n",
       "      <td>0.409826</td>\n",
       "      <td>-1.889437</td>\n",
       "    </tr>\n",
       "    <tr>\n",
       "      <th>25%</th>\n",
       "      <td>0.092726</td>\n",
       "      <td>-0.240686</td>\n",
       "      <td>0.568447</td>\n",
       "      <td>-1.777475</td>\n",
       "    </tr>\n",
       "    <tr>\n",
       "      <th>50%</th>\n",
       "      <td>0.181241</td>\n",
       "      <td>-0.089651</td>\n",
       "      <td>0.951344</td>\n",
       "      <td>-0.327431</td>\n",
       "    </tr>\n",
       "    <tr>\n",
       "      <th>75%</th>\n",
       "      <td>0.292653</td>\n",
       "      <td>0.240113</td>\n",
       "      <td>0.970990</td>\n",
       "      <td>0.101234</td>\n",
       "    </tr>\n",
       "    <tr>\n",
       "      <th>max</th>\n",
       "      <td>1.367007</td>\n",
       "      <td>2.016020</td>\n",
       "      <td>1.370948</td>\n",
       "      <td>2.039473</td>\n",
       "    </tr>\n",
       "  </tbody>\n",
       "</table>\n",
       "</div>"
      ],
      "text/plain": [
       "              A         B         C         D\n",
       "count  5.000000  5.000000  5.000000  5.000000\n",
       "mean   0.052810  0.234027  0.854311 -0.370727\n",
       "std    1.091942  1.058908  0.377236  1.606168\n",
       "min   -1.669580 -0.755662  0.409826 -1.889437\n",
       "25%    0.092726 -0.240686  0.568447 -1.777475\n",
       "50%    0.181241 -0.089651  0.951344 -0.327431\n",
       "75%    0.292653  0.240113  0.970990  0.101234\n",
       "max    1.367007  2.016020  1.370948  2.039473"
      ]
     },
     "execution_count": 12,
     "metadata": {},
     "output_type": "execute_result"
    }
   ],
   "source": [
    "df.describe()"
   ]
  },
  {
   "cell_type": "code",
   "execution_count": 13,
   "id": "7038120b",
   "metadata": {
    "scrolled": false
   },
   "outputs": [
    {
     "data": {
      "text/html": [
       "<div>\n",
       "<style scoped>\n",
       "    .dataframe tbody tr th:only-of-type {\n",
       "        vertical-align: middle;\n",
       "    }\n",
       "\n",
       "    .dataframe tbody tr th {\n",
       "        vertical-align: top;\n",
       "    }\n",
       "\n",
       "    .dataframe thead th {\n",
       "        text-align: right;\n",
       "    }\n",
       "</style>\n",
       "<table border=\"1\" class=\"dataframe\">\n",
       "  <thead>\n",
       "    <tr style=\"text-align: right;\">\n",
       "      <th></th>\n",
       "      <th>A</th>\n",
       "      <th>B</th>\n",
       "      <th>C</th>\n",
       "      <th>D</th>\n",
       "    </tr>\n",
       "  </thead>\n",
       "  <tbody>\n",
       "    <tr>\n",
       "      <th>2023-06-14</th>\n",
       "      <td>0.181241</td>\n",
       "      <td>2.016020</td>\n",
       "      <td>0.970990</td>\n",
       "      <td>-1.777475</td>\n",
       "    </tr>\n",
       "    <tr>\n",
       "      <th>2023-06-16</th>\n",
       "      <td>0.092726</td>\n",
       "      <td>0.240113</td>\n",
       "      <td>0.409826</td>\n",
       "      <td>2.039473</td>\n",
       "    </tr>\n",
       "    <tr>\n",
       "      <th>2023-06-13</th>\n",
       "      <td>1.367007</td>\n",
       "      <td>-0.089651</td>\n",
       "      <td>1.370948</td>\n",
       "      <td>0.101234</td>\n",
       "    </tr>\n",
       "    <tr>\n",
       "      <th>2023-06-15</th>\n",
       "      <td>0.292653</td>\n",
       "      <td>-0.240686</td>\n",
       "      <td>0.568447</td>\n",
       "      <td>-0.327431</td>\n",
       "    </tr>\n",
       "    <tr>\n",
       "      <th>2023-06-17</th>\n",
       "      <td>-1.669580</td>\n",
       "      <td>-0.755662</td>\n",
       "      <td>0.951344</td>\n",
       "      <td>-1.889437</td>\n",
       "    </tr>\n",
       "  </tbody>\n",
       "</table>\n",
       "</div>"
      ],
      "text/plain": [
       "                   A         B         C         D\n",
       "2023-06-14  0.181241  2.016020  0.970990 -1.777475\n",
       "2023-06-16  0.092726  0.240113  0.409826  2.039473\n",
       "2023-06-13  1.367007 -0.089651  1.370948  0.101234\n",
       "2023-06-15  0.292653 -0.240686  0.568447 -0.327431\n",
       "2023-06-17 -1.669580 -0.755662  0.951344 -1.889437"
      ]
     },
     "execution_count": 13,
     "metadata": {},
     "output_type": "execute_result"
    }
   ],
   "source": [
    "# B 컬럼의 값을 기준으로 내림차순 정렬하기\n",
    "df.sort_values(by='B', ascending=False)"
   ]
  },
  {
   "cell_type": "code",
   "execution_count": 15,
   "id": "288fbcbb",
   "metadata": {},
   "outputs": [
    {
     "name": "stdout",
     "output_type": "stream",
     "text": [
      "2023-06-13    1.367007\n",
      "2023-06-14    0.181241\n",
      "2023-06-15    0.292653\n",
      "2023-06-16    0.092726\n",
      "2023-06-17   -1.669580\n",
      "Freq: D, Name: A, dtype: float64\n"
     ]
    }
   ],
   "source": [
    "print(df.A)"
   ]
  },
  {
   "cell_type": "code",
   "execution_count": 23,
   "id": "3adccc64",
   "metadata": {},
   "outputs": [
    {
     "name": "stdout",
     "output_type": "stream",
     "text": [
      "2023-06-13    1.367007\n",
      "2023-06-14    0.181241\n",
      "2023-06-15    0.292653\n",
      "2023-06-16    0.092726\n",
      "2023-06-17   -1.669580\n",
      "Freq: D, Name: A, dtype: float64\n"
     ]
    }
   ],
   "source": [
    "print(df['A'])"
   ]
  },
  {
   "cell_type": "code",
   "execution_count": 21,
   "id": "09d0b656",
   "metadata": {
    "scrolled": true
   },
   "outputs": [
    {
     "data": {
      "text/html": [
       "<div>\n",
       "<style scoped>\n",
       "    .dataframe tbody tr th:only-of-type {\n",
       "        vertical-align: middle;\n",
       "    }\n",
       "\n",
       "    .dataframe tbody tr th {\n",
       "        vertical-align: top;\n",
       "    }\n",
       "\n",
       "    .dataframe thead th {\n",
       "        text-align: right;\n",
       "    }\n",
       "</style>\n",
       "<table border=\"1\" class=\"dataframe\">\n",
       "  <thead>\n",
       "    <tr style=\"text-align: right;\">\n",
       "      <th></th>\n",
       "      <th>A</th>\n",
       "      <th>B</th>\n",
       "      <th>C</th>\n",
       "      <th>D</th>\n",
       "    </tr>\n",
       "  </thead>\n",
       "  <tbody>\n",
       "    <tr>\n",
       "      <th>2023-06-14</th>\n",
       "      <td>0.181241</td>\n",
       "      <td>2.016020</td>\n",
       "      <td>0.970990</td>\n",
       "      <td>-1.777475</td>\n",
       "    </tr>\n",
       "    <tr>\n",
       "      <th>2023-06-15</th>\n",
       "      <td>0.292653</td>\n",
       "      <td>-0.240686</td>\n",
       "      <td>0.568447</td>\n",
       "      <td>-0.327431</td>\n",
       "    </tr>\n",
       "    <tr>\n",
       "      <th>2023-06-16</th>\n",
       "      <td>0.092726</td>\n",
       "      <td>0.240113</td>\n",
       "      <td>0.409826</td>\n",
       "      <td>2.039473</td>\n",
       "    </tr>\n",
       "  </tbody>\n",
       "</table>\n",
       "</div>"
      ],
      "text/plain": [
       "                   A         B         C         D\n",
       "2023-06-14  0.181241  2.016020  0.970990 -1.777475\n",
       "2023-06-15  0.292653 -0.240686  0.568447 -0.327431\n",
       "2023-06-16  0.092726  0.240113  0.409826  2.039473"
      ]
     },
     "execution_count": 21,
     "metadata": {},
     "output_type": "execute_result"
    }
   ],
   "source": [
    "df[1:4]"
   ]
  },
  {
   "cell_type": "code",
   "execution_count": 22,
   "id": "7ad7c7ab",
   "metadata": {},
   "outputs": [
    {
     "data": {
      "text/html": [
       "<div>\n",
       "<style scoped>\n",
       "    .dataframe tbody tr th:only-of-type {\n",
       "        vertical-align: middle;\n",
       "    }\n",
       "\n",
       "    .dataframe tbody tr th {\n",
       "        vertical-align: top;\n",
       "    }\n",
       "\n",
       "    .dataframe thead th {\n",
       "        text-align: right;\n",
       "    }\n",
       "</style>\n",
       "<table border=\"1\" class=\"dataframe\">\n",
       "  <thead>\n",
       "    <tr style=\"text-align: right;\">\n",
       "      <th></th>\n",
       "      <th>A</th>\n",
       "      <th>B</th>\n",
       "      <th>C</th>\n",
       "      <th>D</th>\n",
       "    </tr>\n",
       "  </thead>\n",
       "  <tbody>\n",
       "    <tr>\n",
       "      <th>2023-06-13</th>\n",
       "      <td>1.367007</td>\n",
       "      <td>-0.089651</td>\n",
       "      <td>1.370948</td>\n",
       "      <td>0.101234</td>\n",
       "    </tr>\n",
       "    <tr>\n",
       "      <th>2023-06-14</th>\n",
       "      <td>0.181241</td>\n",
       "      <td>2.016020</td>\n",
       "      <td>0.970990</td>\n",
       "      <td>-1.777475</td>\n",
       "    </tr>\n",
       "    <tr>\n",
       "      <th>2023-06-15</th>\n",
       "      <td>0.292653</td>\n",
       "      <td>-0.240686</td>\n",
       "      <td>0.568447</td>\n",
       "      <td>-0.327431</td>\n",
       "    </tr>\n",
       "    <tr>\n",
       "      <th>2023-06-16</th>\n",
       "      <td>0.092726</td>\n",
       "      <td>0.240113</td>\n",
       "      <td>0.409826</td>\n",
       "      <td>2.039473</td>\n",
       "    </tr>\n",
       "  </tbody>\n",
       "</table>\n",
       "</div>"
      ],
      "text/plain": [
       "                   A         B         C         D\n",
       "2023-06-13  1.367007 -0.089651  1.370948  0.101234\n",
       "2023-06-14  0.181241  2.016020  0.970990 -1.777475\n",
       "2023-06-15  0.292653 -0.240686  0.568447 -0.327431\n",
       "2023-06-16  0.092726  0.240113  0.409826  2.039473"
      ]
     },
     "execution_count": 22,
     "metadata": {},
     "output_type": "execute_result"
    }
   ],
   "source": [
    "df['20130614':'20230616']"
   ]
  },
  {
   "cell_type": "code",
   "execution_count": 24,
   "id": "e0669a7e",
   "metadata": {},
   "outputs": [
    {
     "data": {
      "text/html": [
       "<div>\n",
       "<style scoped>\n",
       "    .dataframe tbody tr th:only-of-type {\n",
       "        vertical-align: middle;\n",
       "    }\n",
       "\n",
       "    .dataframe tbody tr th {\n",
       "        vertical-align: top;\n",
       "    }\n",
       "\n",
       "    .dataframe thead th {\n",
       "        text-align: right;\n",
       "    }\n",
       "</style>\n",
       "<table border=\"1\" class=\"dataframe\">\n",
       "  <thead>\n",
       "    <tr style=\"text-align: right;\">\n",
       "      <th></th>\n",
       "      <th>A</th>\n",
       "      <th>B</th>\n",
       "    </tr>\n",
       "  </thead>\n",
       "  <tbody>\n",
       "    <tr>\n",
       "      <th>2023-06-13</th>\n",
       "      <td>1.367007</td>\n",
       "      <td>-0.089651</td>\n",
       "    </tr>\n",
       "    <tr>\n",
       "      <th>2023-06-14</th>\n",
       "      <td>0.181241</td>\n",
       "      <td>2.016020</td>\n",
       "    </tr>\n",
       "    <tr>\n",
       "      <th>2023-06-15</th>\n",
       "      <td>0.292653</td>\n",
       "      <td>-0.240686</td>\n",
       "    </tr>\n",
       "    <tr>\n",
       "      <th>2023-06-16</th>\n",
       "      <td>0.092726</td>\n",
       "      <td>0.240113</td>\n",
       "    </tr>\n",
       "    <tr>\n",
       "      <th>2023-06-17</th>\n",
       "      <td>-1.669580</td>\n",
       "      <td>-0.755662</td>\n",
       "    </tr>\n",
       "  </tbody>\n",
       "</table>\n",
       "</div>"
      ],
      "text/plain": [
       "                   A         B\n",
       "2023-06-13  1.367007 -0.089651\n",
       "2023-06-14  0.181241  2.016020\n",
       "2023-06-15  0.292653 -0.240686\n",
       "2023-06-16  0.092726  0.240113\n",
       "2023-06-17 -1.669580 -0.755662"
      ]
     },
     "execution_count": 24,
     "metadata": {},
     "output_type": "execute_result"
    }
   ],
   "source": [
    "# A, B열의 모든 행을 출력하기\n",
    "\n",
    "df.loc[: ,['A', 'B']]"
   ]
  },
  {
   "cell_type": "code",
   "execution_count": 25,
   "id": "25431abb",
   "metadata": {
    "scrolled": true
   },
   "outputs": [
    {
     "data": {
      "text/html": [
       "<div>\n",
       "<style scoped>\n",
       "    .dataframe tbody tr th:only-of-type {\n",
       "        vertical-align: middle;\n",
       "    }\n",
       "\n",
       "    .dataframe tbody tr th {\n",
       "        vertical-align: top;\n",
       "    }\n",
       "\n",
       "    .dataframe thead th {\n",
       "        text-align: right;\n",
       "    }\n",
       "</style>\n",
       "<table border=\"1\" class=\"dataframe\">\n",
       "  <thead>\n",
       "    <tr style=\"text-align: right;\">\n",
       "      <th></th>\n",
       "      <th>A</th>\n",
       "      <th>C</th>\n",
       "    </tr>\n",
       "  </thead>\n",
       "  <tbody>\n",
       "    <tr>\n",
       "      <th>2023-06-14</th>\n",
       "      <td>0.181241</td>\n",
       "      <td>0.970990</td>\n",
       "    </tr>\n",
       "    <tr>\n",
       "      <th>2023-06-15</th>\n",
       "      <td>0.292653</td>\n",
       "      <td>0.568447</td>\n",
       "    </tr>\n",
       "  </tbody>\n",
       "</table>\n",
       "</div>"
      ],
      "text/plain": [
       "                   A         C\n",
       "2023-06-14  0.181241  0.970990\n",
       "2023-06-15  0.292653  0.568447"
      ]
     },
     "execution_count": 25,
     "metadata": {},
     "output_type": "execute_result"
    }
   ],
   "source": [
    "# 06 14 ~ 15 A, C 컬럼 값\n",
    "\n",
    "df.loc['20230614':'20230615', ['A', 'C']]"
   ]
  },
  {
   "cell_type": "code",
   "execution_count": 26,
   "id": "3d479c2e",
   "metadata": {},
   "outputs": [
    {
     "data": {
      "text/html": [
       "<div>\n",
       "<style scoped>\n",
       "    .dataframe tbody tr th:only-of-type {\n",
       "        vertical-align: middle;\n",
       "    }\n",
       "\n",
       "    .dataframe tbody tr th {\n",
       "        vertical-align: top;\n",
       "    }\n",
       "\n",
       "    .dataframe thead th {\n",
       "        text-align: right;\n",
       "    }\n",
       "</style>\n",
       "<table border=\"1\" class=\"dataframe\">\n",
       "  <thead>\n",
       "    <tr style=\"text-align: right;\">\n",
       "      <th></th>\n",
       "      <th>A</th>\n",
       "      <th>B</th>\n",
       "    </tr>\n",
       "  </thead>\n",
       "  <tbody>\n",
       "    <tr>\n",
       "      <th>2023-06-16</th>\n",
       "      <td>0.092726</td>\n",
       "      <td>0.240113</td>\n",
       "    </tr>\n",
       "  </tbody>\n",
       "</table>\n",
       "</div>"
      ],
      "text/plain": [
       "                   A         B\n",
       "2023-06-16  0.092726  0.240113"
      ]
     },
     "execution_count": 26,
     "metadata": {},
     "output_type": "execute_result"
    }
   ],
   "source": [
    "df.iloc[3:4, 0:2]"
   ]
  },
  {
   "cell_type": "code",
   "execution_count": 27,
   "id": "6c453677",
   "metadata": {},
   "outputs": [
    {
     "data": {
      "text/html": [
       "<div>\n",
       "<style scoped>\n",
       "    .dataframe tbody tr th:only-of-type {\n",
       "        vertical-align: middle;\n",
       "    }\n",
       "\n",
       "    .dataframe tbody tr th {\n",
       "        vertical-align: top;\n",
       "    }\n",
       "\n",
       "    .dataframe thead th {\n",
       "        text-align: right;\n",
       "    }\n",
       "</style>\n",
       "<table border=\"1\" class=\"dataframe\">\n",
       "  <thead>\n",
       "    <tr style=\"text-align: right;\">\n",
       "      <th></th>\n",
       "      <th>A</th>\n",
       "      <th>D</th>\n",
       "    </tr>\n",
       "  </thead>\n",
       "  <tbody>\n",
       "    <tr>\n",
       "      <th>2023-06-13</th>\n",
       "      <td>1.367007</td>\n",
       "      <td>0.101234</td>\n",
       "    </tr>\n",
       "    <tr>\n",
       "      <th>2023-06-14</th>\n",
       "      <td>0.181241</td>\n",
       "      <td>-1.777475</td>\n",
       "    </tr>\n",
       "    <tr>\n",
       "      <th>2023-06-16</th>\n",
       "      <td>0.092726</td>\n",
       "      <td>2.039473</td>\n",
       "    </tr>\n",
       "  </tbody>\n",
       "</table>\n",
       "</div>"
      ],
      "text/plain": [
       "                   A         D\n",
       "2023-06-13  1.367007  0.101234\n",
       "2023-06-14  0.181241 -1.777475\n",
       "2023-06-16  0.092726  2.039473"
      ]
     },
     "execution_count": 27,
     "metadata": {},
     "output_type": "execute_result"
    }
   ],
   "source": [
    "df.iloc[[0,1,3],[0,3]]"
   ]
  },
  {
   "cell_type": "code",
   "execution_count": 28,
   "id": "5a0a1f4d",
   "metadata": {},
   "outputs": [
    {
     "data": {
      "text/html": [
       "<div>\n",
       "<style scoped>\n",
       "    .dataframe tbody tr th:only-of-type {\n",
       "        vertical-align: middle;\n",
       "    }\n",
       "\n",
       "    .dataframe tbody tr th {\n",
       "        vertical-align: top;\n",
       "    }\n",
       "\n",
       "    .dataframe thead th {\n",
       "        text-align: right;\n",
       "    }\n",
       "</style>\n",
       "<table border=\"1\" class=\"dataframe\">\n",
       "  <thead>\n",
       "    <tr style=\"text-align: right;\">\n",
       "      <th></th>\n",
       "      <th>B</th>\n",
       "      <th>C</th>\n",
       "    </tr>\n",
       "  </thead>\n",
       "  <tbody>\n",
       "    <tr>\n",
       "      <th>2023-06-13</th>\n",
       "      <td>-0.089651</td>\n",
       "      <td>1.370948</td>\n",
       "    </tr>\n",
       "    <tr>\n",
       "      <th>2023-06-14</th>\n",
       "      <td>2.016020</td>\n",
       "      <td>0.970990</td>\n",
       "    </tr>\n",
       "    <tr>\n",
       "      <th>2023-06-16</th>\n",
       "      <td>0.240113</td>\n",
       "      <td>0.409826</td>\n",
       "    </tr>\n",
       "  </tbody>\n",
       "</table>\n",
       "</div>"
      ],
      "text/plain": [
       "                   B         C\n",
       "2023-06-13 -0.089651  1.370948\n",
       "2023-06-14  2.016020  0.970990\n",
       "2023-06-16  0.240113  0.409826"
      ]
     },
     "execution_count": 28,
     "metadata": {},
     "output_type": "execute_result"
    }
   ],
   "source": [
    "df.iloc[[0,1,3], 1:3]"
   ]
  },
  {
   "cell_type": "code",
   "execution_count": 32,
   "id": "c323d389",
   "metadata": {},
   "outputs": [
    {
     "data": {
      "text/html": [
       "<div>\n",
       "<style scoped>\n",
       "    .dataframe tbody tr th:only-of-type {\n",
       "        vertical-align: middle;\n",
       "    }\n",
       "\n",
       "    .dataframe tbody tr th {\n",
       "        vertical-align: top;\n",
       "    }\n",
       "\n",
       "    .dataframe thead th {\n",
       "        text-align: right;\n",
       "    }\n",
       "</style>\n",
       "<table border=\"1\" class=\"dataframe\">\n",
       "  <thead>\n",
       "    <tr style=\"text-align: right;\">\n",
       "      <th></th>\n",
       "      <th>A</th>\n",
       "      <th>B</th>\n",
       "      <th>C</th>\n",
       "      <th>D</th>\n",
       "    </tr>\n",
       "  </thead>\n",
       "  <tbody>\n",
       "    <tr>\n",
       "      <th>2023-06-13</th>\n",
       "      <td>1.367007</td>\n",
       "      <td>-0.089651</td>\n",
       "      <td>1.370948</td>\n",
       "      <td>0.101234</td>\n",
       "    </tr>\n",
       "    <tr>\n",
       "      <th>2023-06-14</th>\n",
       "      <td>0.181241</td>\n",
       "      <td>2.016020</td>\n",
       "      <td>0.970990</td>\n",
       "      <td>-1.777475</td>\n",
       "    </tr>\n",
       "    <tr>\n",
       "      <th>2023-06-15</th>\n",
       "      <td>0.292653</td>\n",
       "      <td>-0.240686</td>\n",
       "      <td>0.568447</td>\n",
       "      <td>-0.327431</td>\n",
       "    </tr>\n",
       "    <tr>\n",
       "      <th>2023-06-16</th>\n",
       "      <td>0.092726</td>\n",
       "      <td>0.240113</td>\n",
       "      <td>0.409826</td>\n",
       "      <td>2.039473</td>\n",
       "    </tr>\n",
       "  </tbody>\n",
       "</table>\n",
       "</div>"
      ],
      "text/plain": [
       "                   A         B         C         D\n",
       "2023-06-13  1.367007 -0.089651  1.370948  0.101234\n",
       "2023-06-14  0.181241  2.016020  0.970990 -1.777475\n",
       "2023-06-15  0.292653 -0.240686  0.568447 -0.327431\n",
       "2023-06-16  0.092726  0.240113  0.409826  2.039473"
      ]
     },
     "execution_count": 32,
     "metadata": {},
     "output_type": "execute_result"
    }
   ],
   "source": [
    "# A컬럼의 값이 0보다 큰 row만 출력\n",
    "\n",
    "df[df.A > 0]"
   ]
  },
  {
   "cell_type": "code",
   "execution_count": 33,
   "id": "ec4feae7",
   "metadata": {},
   "outputs": [
    {
     "data": {
      "text/html": [
       "<div>\n",
       "<style scoped>\n",
       "    .dataframe tbody tr th:only-of-type {\n",
       "        vertical-align: middle;\n",
       "    }\n",
       "\n",
       "    .dataframe tbody tr th {\n",
       "        vertical-align: top;\n",
       "    }\n",
       "\n",
       "    .dataframe thead th {\n",
       "        text-align: right;\n",
       "    }\n",
       "</style>\n",
       "<table border=\"1\" class=\"dataframe\">\n",
       "  <thead>\n",
       "    <tr style=\"text-align: right;\">\n",
       "      <th></th>\n",
       "      <th>A</th>\n",
       "      <th>B</th>\n",
       "      <th>C</th>\n",
       "      <th>D</th>\n",
       "    </tr>\n",
       "  </thead>\n",
       "  <tbody>\n",
       "    <tr>\n",
       "      <th>2023-06-13</th>\n",
       "      <td>1.367007</td>\n",
       "      <td>NaN</td>\n",
       "      <td>1.370948</td>\n",
       "      <td>0.101234</td>\n",
       "    </tr>\n",
       "    <tr>\n",
       "      <th>2023-06-14</th>\n",
       "      <td>0.181241</td>\n",
       "      <td>2.016020</td>\n",
       "      <td>0.970990</td>\n",
       "      <td>NaN</td>\n",
       "    </tr>\n",
       "    <tr>\n",
       "      <th>2023-06-15</th>\n",
       "      <td>0.292653</td>\n",
       "      <td>NaN</td>\n",
       "      <td>0.568447</td>\n",
       "      <td>NaN</td>\n",
       "    </tr>\n",
       "    <tr>\n",
       "      <th>2023-06-16</th>\n",
       "      <td>0.092726</td>\n",
       "      <td>0.240113</td>\n",
       "      <td>0.409826</td>\n",
       "      <td>2.039473</td>\n",
       "    </tr>\n",
       "    <tr>\n",
       "      <th>2023-06-17</th>\n",
       "      <td>NaN</td>\n",
       "      <td>NaN</td>\n",
       "      <td>0.951344</td>\n",
       "      <td>NaN</td>\n",
       "    </tr>\n",
       "  </tbody>\n",
       "</table>\n",
       "</div>"
      ],
      "text/plain": [
       "                   A         B         C         D\n",
       "2023-06-13  1.367007       NaN  1.370948  0.101234\n",
       "2023-06-14  0.181241  2.016020  0.970990       NaN\n",
       "2023-06-15  0.292653       NaN  0.568447       NaN\n",
       "2023-06-16  0.092726  0.240113  0.409826  2.039473\n",
       "2023-06-17       NaN       NaN  0.951344       NaN"
      ]
     },
     "execution_count": 33,
     "metadata": {},
     "output_type": "execute_result"
    }
   ],
   "source": [
    "df[df > 0] # 데이터 전체에 조건을 걸면 조건에 만족하지 않는 데이터는 NaN 처리"
   ]
  },
  {
   "cell_type": "code",
   "execution_count": 34,
   "id": "8f212153",
   "metadata": {},
   "outputs": [
    {
     "name": "stdout",
     "output_type": "stream",
     "text": [
      "False\n"
     ]
    }
   ],
   "source": [
    "df2 = df.copy() # 주소값이 아닌 전체 데이터를 복사해 별개의 개체를 만들 수 있다.\n",
    "print(df is df2)"
   ]
  },
  {
   "cell_type": "markdown",
   "id": "d2722abf",
   "metadata": {},
   "source": [
    "- 새로운 컬럼 추가하기"
   ]
  },
  {
   "cell_type": "code",
   "execution_count": 37,
   "id": "2d5eb9b8",
   "metadata": {},
   "outputs": [
    {
     "data": {
      "text/html": [
       "<div>\n",
       "<style scoped>\n",
       "    .dataframe tbody tr th:only-of-type {\n",
       "        vertical-align: middle;\n",
       "    }\n",
       "\n",
       "    .dataframe tbody tr th {\n",
       "        vertical-align: top;\n",
       "    }\n",
       "\n",
       "    .dataframe thead th {\n",
       "        text-align: right;\n",
       "    }\n",
       "</style>\n",
       "<table border=\"1\" class=\"dataframe\">\n",
       "  <thead>\n",
       "    <tr style=\"text-align: right;\">\n",
       "      <th></th>\n",
       "      <th>A</th>\n",
       "      <th>B</th>\n",
       "      <th>C</th>\n",
       "      <th>D</th>\n",
       "      <th>E</th>\n",
       "    </tr>\n",
       "  </thead>\n",
       "  <tbody>\n",
       "    <tr>\n",
       "      <th>2023-06-13</th>\n",
       "      <td>1.367007</td>\n",
       "      <td>-0.089651</td>\n",
       "      <td>1.370948</td>\n",
       "      <td>0.101234</td>\n",
       "      <td>one</td>\n",
       "    </tr>\n",
       "    <tr>\n",
       "      <th>2023-06-14</th>\n",
       "      <td>0.181241</td>\n",
       "      <td>2.016020</td>\n",
       "      <td>0.970990</td>\n",
       "      <td>-1.777475</td>\n",
       "      <td>two</td>\n",
       "    </tr>\n",
       "    <tr>\n",
       "      <th>2023-06-15</th>\n",
       "      <td>0.292653</td>\n",
       "      <td>-0.240686</td>\n",
       "      <td>0.568447</td>\n",
       "      <td>-0.327431</td>\n",
       "      <td>three</td>\n",
       "    </tr>\n",
       "    <tr>\n",
       "      <th>2023-06-16</th>\n",
       "      <td>0.092726</td>\n",
       "      <td>0.240113</td>\n",
       "      <td>0.409826</td>\n",
       "      <td>2.039473</td>\n",
       "      <td>four</td>\n",
       "    </tr>\n",
       "    <tr>\n",
       "      <th>2023-06-17</th>\n",
       "      <td>-1.669580</td>\n",
       "      <td>-0.755662</td>\n",
       "      <td>0.951344</td>\n",
       "      <td>-1.889437</td>\n",
       "      <td>five</td>\n",
       "    </tr>\n",
       "  </tbody>\n",
       "</table>\n",
       "</div>"
      ],
      "text/plain": [
       "                   A         B         C         D      E\n",
       "2023-06-13  1.367007 -0.089651  1.370948  0.101234    one\n",
       "2023-06-14  0.181241  2.016020  0.970990 -1.777475    two\n",
       "2023-06-15  0.292653 -0.240686  0.568447 -0.327431  three\n",
       "2023-06-16  0.092726  0.240113  0.409826  2.039473   four\n",
       "2023-06-17 -1.669580 -0.755662  0.951344 -1.889437   five"
      ]
     },
     "execution_count": 37,
     "metadata": {},
     "output_type": "execute_result"
    }
   ],
   "source": [
    "df2[\"E\"] = ['one', 'two', 'three', 'four', 'five']\n",
    "df2"
   ]
  },
  {
   "cell_type": "code",
   "execution_count": 39,
   "id": "c1b7427a",
   "metadata": {
    "scrolled": true
   },
   "outputs": [
    {
     "name": "stdout",
     "output_type": "stream",
     "text": [
      "2023-06-13    False\n",
      "2023-06-14     True\n",
      "2023-06-15     True\n",
      "2023-06-16    False\n",
      "2023-06-17    False\n",
      "Freq: D, Name: E, dtype: bool\n"
     ]
    }
   ],
   "source": [
    "# isin(): 컬럼에 해당 값을 가지고 있는 요소만 True 반환\n",
    "print(df2['E'].isin(['two', 'three']))"
   ]
  },
  {
   "cell_type": "code",
   "execution_count": 40,
   "id": "c4404ae0",
   "metadata": {},
   "outputs": [
    {
     "data": {
      "text/html": [
       "<div>\n",
       "<style scoped>\n",
       "    .dataframe tbody tr th:only-of-type {\n",
       "        vertical-align: middle;\n",
       "    }\n",
       "\n",
       "    .dataframe tbody tr th {\n",
       "        vertical-align: top;\n",
       "    }\n",
       "\n",
       "    .dataframe thead th {\n",
       "        text-align: right;\n",
       "    }\n",
       "</style>\n",
       "<table border=\"1\" class=\"dataframe\">\n",
       "  <thead>\n",
       "    <tr style=\"text-align: right;\">\n",
       "      <th></th>\n",
       "      <th>A</th>\n",
       "      <th>B</th>\n",
       "      <th>C</th>\n",
       "      <th>D</th>\n",
       "      <th>E</th>\n",
       "    </tr>\n",
       "  </thead>\n",
       "  <tbody>\n",
       "    <tr>\n",
       "      <th>2023-06-14</th>\n",
       "      <td>0.181241</td>\n",
       "      <td>2.016020</td>\n",
       "      <td>0.970990</td>\n",
       "      <td>-1.777475</td>\n",
       "      <td>two</td>\n",
       "    </tr>\n",
       "    <tr>\n",
       "      <th>2023-06-15</th>\n",
       "      <td>0.292653</td>\n",
       "      <td>-0.240686</td>\n",
       "      <td>0.568447</td>\n",
       "      <td>-0.327431</td>\n",
       "      <td>three</td>\n",
       "    </tr>\n",
       "  </tbody>\n",
       "</table>\n",
       "</div>"
      ],
      "text/plain": [
       "                   A         B         C         D      E\n",
       "2023-06-14  0.181241  2.016020  0.970990 -1.777475    two\n",
       "2023-06-15  0.292653 -0.240686  0.568447 -0.327431  three"
      ]
     },
     "execution_count": 40,
     "metadata": {},
     "output_type": "execute_result"
    }
   ],
   "source": [
    "df2[df2['E'].isin(['two', 'three'])]"
   ]
  },
  {
   "cell_type": "code",
   "execution_count": 41,
   "id": "51d68c01",
   "metadata": {},
   "outputs": [
    {
     "data": {
      "text/html": [
       "<div>\n",
       "<style scoped>\n",
       "    .dataframe tbody tr th:only-of-type {\n",
       "        vertical-align: middle;\n",
       "    }\n",
       "\n",
       "    .dataframe tbody tr th {\n",
       "        vertical-align: top;\n",
       "    }\n",
       "\n",
       "    .dataframe thead th {\n",
       "        text-align: right;\n",
       "    }\n",
       "</style>\n",
       "<table border=\"1\" class=\"dataframe\">\n",
       "  <thead>\n",
       "    <tr style=\"text-align: right;\">\n",
       "      <th></th>\n",
       "      <th>A</th>\n",
       "      <th>B</th>\n",
       "      <th>C</th>\n",
       "      <th>D</th>\n",
       "    </tr>\n",
       "  </thead>\n",
       "  <tbody>\n",
       "    <tr>\n",
       "      <th>2023-06-13</th>\n",
       "      <td>1.367007</td>\n",
       "      <td>-0.089651</td>\n",
       "      <td>1.370948</td>\n",
       "      <td>0.101234</td>\n",
       "    </tr>\n",
       "    <tr>\n",
       "      <th>2023-06-14</th>\n",
       "      <td>0.181241</td>\n",
       "      <td>2.016020</td>\n",
       "      <td>0.970990</td>\n",
       "      <td>-1.777475</td>\n",
       "    </tr>\n",
       "    <tr>\n",
       "      <th>2023-06-15</th>\n",
       "      <td>0.292653</td>\n",
       "      <td>-0.240686</td>\n",
       "      <td>0.568447</td>\n",
       "      <td>-0.327431</td>\n",
       "    </tr>\n",
       "    <tr>\n",
       "      <th>2023-06-16</th>\n",
       "      <td>0.092726</td>\n",
       "      <td>0.240113</td>\n",
       "      <td>0.409826</td>\n",
       "      <td>2.039473</td>\n",
       "    </tr>\n",
       "    <tr>\n",
       "      <th>2023-06-17</th>\n",
       "      <td>-1.669580</td>\n",
       "      <td>-0.755662</td>\n",
       "      <td>0.951344</td>\n",
       "      <td>-1.889437</td>\n",
       "    </tr>\n",
       "  </tbody>\n",
       "</table>\n",
       "</div>"
      ],
      "text/plain": [
       "                   A         B         C         D\n",
       "2023-06-13  1.367007 -0.089651  1.370948  0.101234\n",
       "2023-06-14  0.181241  2.016020  0.970990 -1.777475\n",
       "2023-06-15  0.292653 -0.240686  0.568447 -0.327431\n",
       "2023-06-16  0.092726  0.240113  0.409826  2.039473\n",
       "2023-06-17 -1.669580 -0.755662  0.951344 -1.889437"
      ]
     },
     "execution_count": 41,
     "metadata": {},
     "output_type": "execute_result"
    }
   ],
   "source": [
    "df"
   ]
  },
  {
   "cell_type": "code",
   "execution_count": 42,
   "id": "4a07e675",
   "metadata": {},
   "outputs": [
    {
     "data": {
      "text/html": [
       "<div>\n",
       "<style scoped>\n",
       "    .dataframe tbody tr th:only-of-type {\n",
       "        vertical-align: middle;\n",
       "    }\n",
       "\n",
       "    .dataframe tbody tr th {\n",
       "        vertical-align: top;\n",
       "    }\n",
       "\n",
       "    .dataframe thead th {\n",
       "        text-align: right;\n",
       "    }\n",
       "</style>\n",
       "<table border=\"1\" class=\"dataframe\">\n",
       "  <thead>\n",
       "    <tr style=\"text-align: right;\">\n",
       "      <th></th>\n",
       "      <th>A</th>\n",
       "      <th>B</th>\n",
       "      <th>C</th>\n",
       "      <th>D</th>\n",
       "    </tr>\n",
       "  </thead>\n",
       "  <tbody>\n",
       "    <tr>\n",
       "      <th>2023-06-13</th>\n",
       "      <td>1.367007</td>\n",
       "      <td>-0.089651</td>\n",
       "      <td>1.370948</td>\n",
       "      <td>0.101234</td>\n",
       "    </tr>\n",
       "    <tr>\n",
       "      <th>2023-06-14</th>\n",
       "      <td>1.548248</td>\n",
       "      <td>1.926369</td>\n",
       "      <td>2.341938</td>\n",
       "      <td>-1.676242</td>\n",
       "    </tr>\n",
       "    <tr>\n",
       "      <th>2023-06-15</th>\n",
       "      <td>1.840901</td>\n",
       "      <td>1.685684</td>\n",
       "      <td>2.910385</td>\n",
       "      <td>-2.003673</td>\n",
       "    </tr>\n",
       "    <tr>\n",
       "      <th>2023-06-16</th>\n",
       "      <td>1.933627</td>\n",
       "      <td>1.925797</td>\n",
       "      <td>3.320211</td>\n",
       "      <td>0.035800</td>\n",
       "    </tr>\n",
       "    <tr>\n",
       "      <th>2023-06-17</th>\n",
       "      <td>0.264048</td>\n",
       "      <td>1.170135</td>\n",
       "      <td>4.271555</td>\n",
       "      <td>-1.853637</td>\n",
       "    </tr>\n",
       "  </tbody>\n",
       "</table>\n",
       "</div>"
      ],
      "text/plain": [
       "                   A         B         C         D\n",
       "2023-06-13  1.367007 -0.089651  1.370948  0.101234\n",
       "2023-06-14  1.548248  1.926369  2.341938 -1.676242\n",
       "2023-06-15  1.840901  1.685684  2.910385 -2.003673\n",
       "2023-06-16  1.933627  1.925797  3.320211  0.035800\n",
       "2023-06-17  0.264048  1.170135  4.271555 -1.853637"
      ]
     },
     "execution_count": 42,
     "metadata": {},
     "output_type": "execute_result"
    }
   ],
   "source": [
    "# 누적 합 구하기\n",
    "df.apply(np.cumsum)"
   ]
  },
  {
   "cell_type": "code",
   "execution_count": 44,
   "id": "3012bab5",
   "metadata": {},
   "outputs": [
    {
     "name": "stdout",
     "output_type": "stream",
     "text": [
      "A    3.036587\n",
      "B    2.771683\n",
      "C    0.961122\n",
      "D    3.928910\n",
      "dtype: float64\n"
     ]
    }
   ],
   "source": [
    "# 최대값과 최소값의 차 출력하기\n",
    "print(df.apply(lambda x: x.max() - x.min()))"
   ]
  }
 ],
 "metadata": {
  "kernelspec": {
   "display_name": "Python 3 (ipykernel)",
   "language": "python",
   "name": "python3"
  },
  "language_info": {
   "codemirror_mode": {
    "name": "ipython",
    "version": 3
   },
   "file_extension": ".py",
   "mimetype": "text/x-python",
   "name": "python",
   "nbconvert_exporter": "python",
   "pygments_lexer": "ipython3",
   "version": "3.10.9"
  }
 },
 "nbformat": 4,
 "nbformat_minor": 5
}
