{
 "cells": [
  {
   "cell_type": "markdown",
   "id": "84359bbb",
   "metadata": {},
   "source": [
    "# 입출력"
   ]
  },
  {
   "cell_type": "markdown",
   "id": "f9b6f3ff",
   "metadata": {},
   "source": [
    "#### 입력\n",
    "- input()\n",
    "- input('메세지') : 문자열을 가지고 있는 input 함수도 사용 가능하다.\n",
    "- input으로 들어온 값은 str이다."
   ]
  },
  {
   "cell_type": "code",
   "execution_count": 1,
   "id": "eb3d932f",
   "metadata": {},
   "outputs": [
    {
     "name": "stdout",
     "output_type": "stream",
     "text": [
      "파이썬\n",
      "파이썬\n"
     ]
    }
   ],
   "source": [
    "a = input()\n",
    "print(a)"
   ]
  },
  {
   "cell_type": "code",
   "execution_count": 2,
   "id": "65dadd2c",
   "metadata": {},
   "outputs": [
    {
     "name": "stdout",
     "output_type": "stream",
     "text": [
      "값을 입력하세요hello\n",
      "hello\n"
     ]
    }
   ],
   "source": [
    "a = input('값을 입력하세요')\n",
    "print(a)"
   ]
  },
  {
   "cell_type": "code",
   "execution_count": 3,
   "id": "06a7e73a",
   "metadata": {},
   "outputs": [
    {
     "name": "stdout",
     "output_type": "stream",
     "text": [
      "숫자를 입력하세요: 5\n",
      "5 <class 'str'>\n"
     ]
    }
   ],
   "source": [
    "b = input(\"숫자를 입력하세요: \")\n",
    "print(b, type(b)) # input으로 입력받은 값은 무조건 str이다."
   ]
  },
  {
   "cell_type": "code",
   "execution_count": 4,
   "id": "20d79b0e",
   "metadata": {},
   "outputs": [
    {
     "name": "stdout",
     "output_type": "stream",
     "text": [
      "숫자를 입력하세요: 10\n",
      "10 <class 'int'>\n"
     ]
    }
   ],
   "source": [
    "c = int(input('숫자를 입력하세요: ')) # 형변환 진행 => 형변환을 할 수 없으면 오류 발생.\n",
    "print(c, type(c))"
   ]
  },
  {
   "cell_type": "code",
   "execution_count": 6,
   "id": "24e133aa",
   "metadata": {},
   "outputs": [
    {
     "name": "stdout",
     "output_type": "stream",
     "text": [
      "숫자를 입력하세요: 100\n"
     ]
    },
    {
     "ename": "TypeError",
     "evalue": "can only concatenate str (not \"int\") to str",
     "output_type": "error",
     "traceback": [
      "\u001b[1;31m---------------------------------------------------------------------------\u001b[0m",
      "\u001b[1;31mTypeError\u001b[0m                                 Traceback (most recent call last)",
      "Cell \u001b[1;32mIn[6], line 2\u001b[0m\n\u001b[0;32m      1\u001b[0m d \u001b[38;5;241m=\u001b[39m \u001b[38;5;28minput\u001b[39m(\u001b[38;5;124m'\u001b[39m\u001b[38;5;124m숫자를 입력하세요: \u001b[39m\u001b[38;5;124m'\u001b[39m)\n\u001b[1;32m----> 2\u001b[0m \u001b[38;5;28mprint\u001b[39m(\u001b[43md\u001b[49m\u001b[43m \u001b[49m\u001b[38;5;241;43m+\u001b[39;49m\u001b[43m \u001b[49m\u001b[38;5;241;43m100\u001b[39;49m)\n",
      "\u001b[1;31mTypeError\u001b[0m: can only concatenate str (not \"int\") to str"
     ]
    }
   ],
   "source": [
    "d = input('숫자를 입력하세요: ') # 변수 d에 저장된 값이 str이므로 int와 연산할 수 없음.\n",
    "print(d + 100)\n",
    "# python에서는 숫자형과 문자형을 더할 수 없다."
   ]
  },
  {
   "cell_type": "code",
   "execution_count": 8,
   "id": "16a210d5",
   "metadata": {},
   "outputs": [
    {
     "name": "stdout",
     "output_type": "stream",
     "text": [
      "숫자를 입력하세요: 7\n",
      "777\n"
     ]
    }
   ],
   "source": [
    "num = input('숫자를 입력하세요: ')\n",
    "print(num * 3)\n",
    "# 문자열과 int를 곱하면 문자열을 숫자만큼 반복한다.\n",
    "# 단, float 형은 연산이 불가능하다."
   ]
  },
  {
   "cell_type": "code",
   "execution_count": 11,
   "id": "692fbf43",
   "metadata": {
    "scrolled": true
   },
   "outputs": [
    {
     "name": "stdout",
     "output_type": "stream",
     "text": [
      "숫자를 입력하세요: 12 36\n",
      "48\n"
     ]
    }
   ],
   "source": [
    "# 한 번에 두 개의 값 입력받기\n",
    "a, b = input('숫자를 입력하세요: ').split() # split 안에 아무 것도 없을 경우 줄바꿈 / 공백 기준으로 나눔\n",
    "c = int(a) + int(b)\n",
    "print(c)"
   ]
  },
  {
   "cell_type": "markdown",
   "id": "f75e6363",
   "metadata": {},
   "source": [
    "#### 출력\n",
    "- print(1,2,3)\n",
    "- print(1,2,3, sep=\",\") : 출력 데이터 간의 구분자(기본값 : 공백)\n",
    "- print(1,2,3, end=\" \") : 출력 후 나올 문자(기본값: 줄바꿈)\n",
    "- print(\"%d + %d = %d\" %(1,2,3))\n",
    "- print(\"{} + {} = {}\".format(1,2,3))"
   ]
  },
  {
   "cell_type": "code",
   "execution_count": 16,
   "id": "fa00a847",
   "metadata": {},
   "outputs": [
    {
     "name": "stdout",
     "output_type": "stream",
     "text": [
      "1 2 3\n",
      "1,2,3\n",
      "1 2 3 1 + 2 = 3\n",
      "1 + 2 = 3\n"
     ]
    }
   ],
   "source": [
    "print(1,2,3)\n",
    "print(1,2,3, sep=\",\")\n",
    "print(1,2,3, end=\" \")\n",
    "print(\"%d + %d = %d\" %(1,2,3))\n",
    "print(\"{} + {} = {}\".format(1,2,3))"
   ]
  },
  {
   "cell_type": "code",
   "execution_count": 18,
   "id": "cf36666d",
   "metadata": {},
   "outputs": [
    {
     "name": "stdout",
     "output_type": "stream",
     "text": [
      "1 2 3\n",
      "1/2/3\n"
     ]
    }
   ],
   "source": [
    "print(1, 2, 3)\n",
    "print(1, 2, 3, sep = \"/\")"
   ]
  },
  {
   "cell_type": "code",
   "execution_count": 19,
   "id": "bfbbb361",
   "metadata": {},
   "outputs": [
    {
     "name": "stdout",
     "output_type": "stream",
     "text": [
      "1 2 3 4 5 6 "
     ]
    }
   ],
   "source": [
    "# 한 줄로 출력하기\n",
    "print(1, 2, end = \" \")\n",
    "print(3, 4, end = \" \")\n",
    "print(5, 6, end = \" \")"
   ]
  },
  {
   "cell_type": "code",
   "execution_count": 20,
   "id": "1226df38",
   "metadata": {},
   "outputs": [
    {
     "name": "stdout",
     "output_type": "stream",
     "text": [
      "1*23+4 5/6 "
     ]
    }
   ],
   "source": [
    "print(1, 2, sep = \"*\", end = \"\")\n",
    "print(3, 4, sep = \"+\", end = \" \")\n",
    "print(5, 6, sep = \"/\", end = \" \")"
   ]
  },
  {
   "cell_type": "code",
   "execution_count": 21,
   "id": "2217dcba",
   "metadata": {},
   "outputs": [
    {
     "name": "stdout",
     "output_type": "stream",
     "text": [
      "7 / 2 = 3.50\n"
     ]
    }
   ],
   "source": [
    "print('%d / %d = %.2f' %(7, 2, 7/2)) # %포맷: 숫자를 대입하여 출력"
   ]
  },
  {
   "cell_type": "code",
   "execution_count": 23,
   "id": "679667ae",
   "metadata": {},
   "outputs": [
    {
     "name": "stdout",
     "output_type": "stream",
     "text": [
      "100원\n"
     ]
    }
   ],
   "source": [
    "print('%d원' %100)"
   ]
  },
  {
   "cell_type": "code",
   "execution_count": 24,
   "id": "c0035e60",
   "metadata": {},
   "outputs": [
    {
     "name": "stdout",
     "output_type": "stream",
     "text": [
      "1 + 2 + 3\n",
      "200 + 100 = 300\n"
     ]
    }
   ],
   "source": [
    "print('{} + {} + {}'.format(1, 2, 3))\n",
    "print('{1:} + {0:} = {2:}'.format(100, 200, 300)) # 인덱스 번호를 활용하여 순서를 명시하여 대입할 수도 있다."
   ]
  },
  {
   "cell_type": "markdown",
   "id": "e62e8a8f",
   "metadata": {},
   "source": [
    "- d: 정수\n",
    "- nd: n 자리의 정수\n",
    "- ,: ,를 활용한 자리수 표시"
   ]
  },
  {
   "cell_type": "code",
   "execution_count": 25,
   "id": "df487bff",
   "metadata": {},
   "outputs": [
    {
     "name": "stdout",
     "output_type": "stream",
     "text": [
      "200 +   100 = 3,000,000,000\n"
     ]
    }
   ],
   "source": [
    "print('{1:d} + {0:5d} = {2:,}'.format(100, 200, 3000000000))"
   ]
  },
  {
   "cell_type": "markdown",
   "id": "7fcf8477",
   "metadata": {},
   "source": [
    "- \\n: 줄바꿈\n",
    "- \\t: 탭 공백\n",
    "- \\\": 큰따옴표 표시 "
   ]
  },
  {
   "cell_type": "code",
   "execution_count": 26,
   "id": "18ec49c4",
   "metadata": {},
   "outputs": [
    {
     "name": "stdout",
     "output_type": "stream",
     "text": [
      "\n",
      "줄 바꿈\n",
      "연습 \n",
      "\t탭 키\t연습\n",
      "글자가 \"강조\"되는 효과1\n"
     ]
    }
   ],
   "source": [
    "print(\"\\n줄 바꿈\\n연습 \")\n",
    "print(\"\\t탭 키\\t연습\")\n",
    "print(\"글자가 \\\"강조\\\"되는 효과1\")"
   ]
  }
 ],
 "metadata": {
  "kernelspec": {
   "display_name": "Python 3 (ipykernel)",
   "language": "python",
   "name": "python3"
  },
  "language_info": {
   "codemirror_mode": {
    "name": "ipython",
    "version": 3
   },
   "file_extension": ".py",
   "mimetype": "text/x-python",
   "name": "python",
   "nbconvert_exporter": "python",
   "pygments_lexer": "ipython3",
   "version": "3.10.9"
  }
 },
 "nbformat": 4,
 "nbformat_minor": 5
}
