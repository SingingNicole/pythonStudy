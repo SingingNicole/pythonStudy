{
 "cells": [
  {
   "cell_type": "markdown",
   "id": "2a939d7b",
   "metadata": {},
   "source": [
    "## list"
   ]
  },
  {
   "cell_type": "markdown",
   "id": "49c30478",
   "metadata": {},
   "source": [
    "###### 슬라이싱\n",
    "- 변수명[시작인덱스 : 마지막 인덱스-1]\n",
    "- 변수명[시작인덱스 : ]\n",
    "- 변수명[:]\n",
    "- 변수명[시작인덱스 : 마지막 인덱스-1:증가값]"
   ]
  },
  {
   "cell_type": "markdown",
   "id": "ca0ecee2",
   "metadata": {},
   "source": [
    "- step에 음수를 기록할 경우 뒤에서부터 값을 가져온다"
   ]
  },
  {
   "cell_type": "code",
   "execution_count": 1,
   "id": "c3b27c90",
   "metadata": {},
   "outputs": [
    {
     "name": "stdout",
     "output_type": "stream",
     "text": [
      "['서울', '부산', '인천', '대구', '대전', '광주']\n",
      "['서울', '부산', '인천', '대구', '대전']\n",
      "['광주', '울산', '수원']\n",
      "['서울', '부산', '인천', '대구']\n",
      "[]\n"
     ]
    }
   ],
   "source": [
    "cities = ['서울','부산','인천','대구','대전','광주','울산','수원']\n",
    "\n",
    "print(cities[0:6])\n",
    "print(cities[0:5])\n",
    "print(cities[5:])\n",
    "print(cities[:4])\n",
    "print(cities[1:1])"
   ]
  },
  {
   "cell_type": "code",
   "execution_count": 2,
   "id": "927eb1ee",
   "metadata": {},
   "outputs": [
    {
     "name": "stdout",
     "output_type": "stream",
     "text": [
      "['서울', '부산', '인천', '대구', '대전', '광주', '울산', '수원']\n",
      "['서울', '부산', '인천', '대구', '대전', '광주', '울산', '수원']\n",
      "['서울', '부산', '인천', '대구', '대전', '광주', '울산', '수원']\n"
     ]
    }
   ],
   "source": [
    "print(cities[-50:50])\n",
    "print(cities[:])\n",
    "print(cities[0:len(cities)])"
   ]
  },
  {
   "cell_type": "code",
   "execution_count": 6,
   "id": "62d8c4d6",
   "metadata": {
    "scrolled": true
   },
   "outputs": [
    {
     "name": "stdout",
     "output_type": "stream",
     "text": [
      "['서울', '인천', '대전', '울산']\n",
      "['수원', '대전', '부산']\n"
     ]
    }
   ],
   "source": [
    "print(cities[::2])\n",
    "print(cities[::-3])"
   ]
  },
  {
   "cell_type": "markdown",
   "id": "53d78fff",
   "metadata": {},
   "source": [
    "- 리스트와 리스트를 더하면 두 리스트가 합쳐진다."
   ]
  },
  {
   "cell_type": "code",
   "execution_count": 9,
   "id": "2ee1f8c2",
   "metadata": {},
   "outputs": [
    {
     "name": "stdout",
     "output_type": "stream",
     "text": [
      "['red', 'green', 'blue', 'orange', 'black', 'white']\n"
     ]
    }
   ],
   "source": [
    "color1= ['red', 'green', 'blue']\n",
    "color2 = ['orange', 'black', 'white']\n",
    "total = color1 + color2\n",
    "print(total)"
   ]
  },
  {
   "cell_type": "markdown",
   "id": "f2fc128c",
   "metadata": {},
   "source": [
    "- 리스트와 정수를 곱하면 리스트가 정수만큼 반복된다."
   ]
  },
  {
   "cell_type": "code",
   "execution_count": 5,
   "id": "bd140031",
   "metadata": {},
   "outputs": [
    {
     "name": "stdout",
     "output_type": "stream",
     "text": [
      "['red', 'green', 'blue', 'red', 'green', 'blue', 'red', 'green', 'blue']\n"
     ]
    }
   ],
   "source": [
    "color3 = color1 * 3\n",
    "print(color3)"
   ]
  },
  {
   "cell_type": "markdown",
   "id": "80b0cdd0",
   "metadata": {},
   "source": [
    "- append(): 리스트에 요소를 추가한다.\n",
    "- extend(): 리스트에 배열을 추가한다."
   ]
  },
  {
   "cell_type": "code",
   "execution_count": 11,
   "id": "c611fdd3",
   "metadata": {},
   "outputs": [
    {
     "name": "stdout",
     "output_type": "stream",
     "text": [
      "['red', 'green', 'blue', 'white', 'white']\n",
      "None\n",
      "['red', 'green', 'blue', 'white', 'white', 'yellow']\n"
     ]
    }
   ],
   "source": [
    "color1.append('white')\n",
    "print(color1)\n",
    "print(color1.append('yellow')) # append가 return한 값이 없어 none이 뜬다.\n",
    "print(color1)"
   ]
  },
  {
   "cell_type": "code",
   "execution_count": 12,
   "id": "c06a81b7",
   "metadata": {},
   "outputs": [
    {
     "name": "stdout",
     "output_type": "stream",
     "text": [
      "['orange', 'black', 'white', 'grey', 'pink']\n"
     ]
    }
   ],
   "source": [
    "color2.extend(['grey', 'pink'])\n",
    "print(color2)"
   ]
  },
  {
   "cell_type": "markdown",
   "id": "054058e9",
   "metadata": {},
   "source": [
    "- insert(): 지정된 인덱스 번호에 값을 추가하고 기존 데이터는 하나씩 밀린다."
   ]
  },
  {
   "cell_type": "code",
   "execution_count": 13,
   "id": "2eb002e1",
   "metadata": {},
   "outputs": [
    {
     "name": "stdout",
     "output_type": "stream",
     "text": [
      "['blue', 'orange', 'black', 'white', 'grey', 'pink']\n"
     ]
    }
   ],
   "source": [
    "color2.insert(0, 'blue')\n",
    "print(color2)"
   ]
  },
  {
   "cell_type": "markdown",
   "id": "af405cdf",
   "metadata": {},
   "source": [
    "- remove(): 해당하는 요소를 삭제시킨다. 똑같은 값이 여러 개 있을 경우 가장 앞의 요소가 삭제된다."
   ]
  },
  {
   "cell_type": "code",
   "execution_count": 14,
   "id": "a84cf1de",
   "metadata": {},
   "outputs": [
    {
     "name": "stdout",
     "output_type": "stream",
     "text": [
      "['red', 'green', 'blue', 'white', 'yellow']\n"
     ]
    }
   ],
   "source": [
    "color1.remove('white')\n",
    "print(color1)"
   ]
  },
  {
   "cell_type": "markdown",
   "id": "f5b9e02d",
   "metadata": {},
   "source": [
    "- 배열 치환: 해당하는 index의 요소를 입력한 요소로 변경"
   ]
  },
  {
   "cell_type": "code",
   "execution_count": 15,
   "id": "929d8d4b",
   "metadata": {
    "scrolled": true
   },
   "outputs": [
    {
     "name": "stdout",
     "output_type": "stream",
     "text": [
      "['purple', 'green', 'blue', 'white', 'yellow']\n"
     ]
    }
   ],
   "source": [
    "color1[0] = 'purple'\n",
    "print(color1)"
   ]
  },
  {
   "cell_type": "markdown",
   "id": "ce39519c",
   "metadata": {},
   "source": [
    "- del: 해당하는 index의 요소를 삭제한다."
   ]
  },
  {
   "cell_type": "code",
   "execution_count": 16,
   "id": "b806c62b",
   "metadata": {},
   "outputs": [
    {
     "name": "stdout",
     "output_type": "stream",
     "text": [
      "['blue', 'orange', 'black', 'white', 'grey']\n"
     ]
    }
   ],
   "source": [
    "del color2[5]\n",
    "print(color2)"
   ]
  },
  {
   "cell_type": "code",
   "execution_count": 17,
   "id": "31af6f9a",
   "metadata": {},
   "outputs": [
    {
     "name": "stdout",
     "output_type": "stream",
     "text": [
      "['blue', 'white', 'grey']\n"
     ]
    }
   ],
   "source": [
    "del color2[1:3]\n",
    "print(color2)"
   ]
  },
  {
   "attachments": {},
   "cell_type": "markdown",
   "id": "889a0560",
   "metadata": {},
   "source": [
    "###### 패킹 / 언패킹\n",
    "- 패킹(packing): 한 변수에 여러 개의 데이터를 할당하는 것\n",
    "- 언패킹(unpacking): 한 변수의 데이터를 각각의 변수로 반환하는 것"
   ]
  },
  {
   "cell_type": "code",
   "execution_count": 18,
   "id": "ddc39199",
   "metadata": {},
   "outputs": [
    {
     "name": "stdout",
     "output_type": "stream",
     "text": [
      "[1, 2, 3] 1 2 3\n"
     ]
    }
   ],
   "source": [
    "t = [1, 2, 3]\n",
    "a, b, c = t\n",
    "print(t, a, b, c)"
   ]
  },
  {
   "cell_type": "code",
   "execution_count": 20,
   "id": "d89e83de",
   "metadata": {},
   "outputs": [
    {
     "name": "stdout",
     "output_type": "stream",
     "text": [
      "3\n",
      "1\n",
      "[2]\n"
     ]
    }
   ],
   "source": [
    "a = [1, 2, 3]\n",
    "print(a.pop())\n",
    "print(a.pop(0))\n",
    "print(a)"
   ]
  },
  {
   "cell_type": "code",
   "execution_count": 21,
   "id": "b83c2982",
   "metadata": {},
   "outputs": [
    {
     "name": "stdout",
     "output_type": "stream",
     "text": [
      "2\n"
     ]
    }
   ],
   "source": [
    "a = [2, 1, 3, 4, 6, 3, 1]\n",
    "print(a.count(1))"
   ]
  }
 ],
 "metadata": {
  "kernelspec": {
   "display_name": "Python 3 (ipykernel)",
   "language": "python",
   "name": "python3"
  },
  "language_info": {
   "codemirror_mode": {
    "name": "ipython",
    "version": 3
   },
   "file_extension": ".py",
   "mimetype": "text/x-python",
   "name": "python",
   "nbconvert_exporter": "python",
   "pygments_lexer": "ipython3",
   "version": "3.10.9"
  }
 },
 "nbformat": 4,
 "nbformat_minor": 5
}
