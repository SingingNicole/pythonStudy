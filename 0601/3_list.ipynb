{
 "cells": [
  {
   "cell_type": "markdown",
   "id": "0accdb9b",
   "metadata": {},
   "source": [
    "## list"
   ]
  },
  {
   "cell_type": "markdown",
   "id": "4b7d056d",
   "metadata": {},
   "source": [
    "###### 슬라이싱\n",
    "- 변수명[시작인덱스 : 마지막 인덱스-1]\n",
    "- 변수명[시작인덱스 : ]\n",
    "- 변수명[:]\n",
    "- 변수명[시작인덱스 : 마지막 인덱스-1:증가값]"
   ]
  },
  {
   "cell_type": "markdown",
   "id": "ee3529e1",
   "metadata": {},
   "source": [
    "- step에 음수를 기록할 경우 뒤에서부터 값을 가져온다"
   ]
  },
  {
   "cell_type": "code",
   "execution_count": 1,
   "id": "f38e046d",
   "metadata": {},
   "outputs": [
    {
     "name": "stdout",
     "output_type": "stream",
     "text": [
      "['서울', '부산', '인천', '대구', '대전', '광주']\n",
      "['서울', '부산', '인천', '대구', '대전']\n",
      "['광주', '울산', '수원']\n",
      "['서울', '부산', '인천', '대구']\n",
      "[]\n"
     ]
    }
   ],
   "source": [
    "cities = ['서울','부산','인천','대구','대전','광주','울산','수원']\n",
    "\n",
    "print(cities[0:6])\n",
    "print(cities[0:5])\n",
    "print(cities[5:])\n",
    "print(cities[:4])\n",
    "print(cities[1:1])"
   ]
  },
  {
   "cell_type": "code",
   "execution_count": 2,
   "id": "8612b713",
   "metadata": {},
   "outputs": [
    {
     "name": "stdout",
     "output_type": "stream",
     "text": [
      "['서울', '부산', '인천', '대구', '대전', '광주', '울산', '수원']\n",
      "['서울', '부산', '인천', '대구', '대전', '광주', '울산', '수원']\n",
      "['서울', '부산', '인천', '대구', '대전', '광주', '울산', '수원']\n"
     ]
    }
   ],
   "source": [
    "print(cities[-50:50])\n",
    "print(cities[:])\n",
    "print(cities[0:len(cities)])"
   ]
  },
  {
   "cell_type": "code",
   "execution_count": 6,
   "id": "270b2540",
   "metadata": {
    "scrolled": true
   },
   "outputs": [
    {
     "name": "stdout",
     "output_type": "stream",
     "text": [
      "['서울', '인천', '대전', '울산']\n",
      "['수원', '대전', '부산']\n"
     ]
    }
   ],
   "source": [
    "print(cities[::2])\n",
    "print(cities[::-3])"
   ]
  },
  {
   "cell_type": "markdown",
   "id": "80d15fc2",
   "metadata": {},
   "source": [
    "- 리스트와 리스트를 더하면 두 리스트가 합쳐진다."
   ]
  },
  {
   "cell_type": "code",
   "execution_count": 9,
   "id": "af36ad87",
   "metadata": {},
   "outputs": [
    {
     "name": "stdout",
     "output_type": "stream",
     "text": [
      "['red', 'green', 'blue', 'orange', 'black', 'white']\n"
     ]
    }
   ],
   "source": [
    "color1= ['red', 'green', 'blue']\n",
    "color2 = ['orange', 'black', 'white']\n",
    "total = color1 + color2\n",
    "print(total)"
   ]
  },
  {
   "cell_type": "markdown",
   "id": "e89fec1d",
   "metadata": {},
   "source": [
    "- 리스트와 정수를 곱하면 리스트가 정수만큼 반복된다."
   ]
  },
  {
   "cell_type": "code",
   "execution_count": 5,
   "id": "72982509",
   "metadata": {},
   "outputs": [
    {
     "name": "stdout",
     "output_type": "stream",
     "text": [
      "['red', 'green', 'blue', 'red', 'green', 'blue', 'red', 'green', 'blue']\n"
     ]
    }
   ],
   "source": [
    "color3 = color1 * 3\n",
    "print(color3)"
   ]
  },
  {
   "cell_type": "markdown",
   "id": "0b9078e2",
   "metadata": {},
   "source": [
    "- append(): 리스트에 요소를 추가한다.\n",
    "- extend(): 리스트에 배열을 추가한다."
   ]
  },
  {
   "cell_type": "code",
   "execution_count": 11,
   "id": "25313987",
   "metadata": {},
   "outputs": [
    {
     "name": "stdout",
     "output_type": "stream",
     "text": [
      "['red', 'green', 'blue', 'white', 'white']\n",
      "None\n",
      "['red', 'green', 'blue', 'white', 'white', 'yellow']\n"
     ]
    }
   ],
   "source": [
    "color1.append('white')\n",
    "print(color1)\n",
    "print(color1.append('yellow')) # append가 return한 값이 없어 none이 뜬다.\n",
    "print(color1)"
   ]
  },
  {
   "cell_type": "code",
   "execution_count": 12,
   "id": "867c8a7b",
   "metadata": {},
   "outputs": [
    {
     "name": "stdout",
     "output_type": "stream",
     "text": [
      "['orange', 'black', 'white', 'grey', 'pink']\n"
     ]
    }
   ],
   "source": [
    "color2.extend(['grey', 'pink'])\n",
    "print(color2)"
   ]
  },
  {
   "cell_type": "markdown",
   "id": "25637362",
   "metadata": {},
   "source": [
    "- insert(): 지정된 인덱스 번호에 값을 추가하고 기존 데이터는 하나씩 밀린다."
   ]
  },
  {
   "cell_type": "code",
   "execution_count": 13,
   "id": "e5c46d29",
   "metadata": {},
   "outputs": [
    {
     "name": "stdout",
     "output_type": "stream",
     "text": [
      "['blue', 'orange', 'black', 'white', 'grey', 'pink']\n"
     ]
    }
   ],
   "source": [
    "color2.insert(0, 'blue')\n",
    "print(color2)"
   ]
  },
  {
   "cell_type": "markdown",
   "id": "e97479fa",
   "metadata": {},
   "source": [
    "- remove(): 해당하는 요소를 삭제시킨다. 똑같은 값이 여러 개 있을 경우 가장 앞의 요소가 삭제된다."
   ]
  },
  {
   "cell_type": "code",
   "execution_count": 14,
   "id": "c109ee57",
   "metadata": {},
   "outputs": [
    {
     "name": "stdout",
     "output_type": "stream",
     "text": [
      "['red', 'green', 'blue', 'white', 'yellow']\n"
     ]
    }
   ],
   "source": [
    "color1.remove('white')\n",
    "print(color1)"
   ]
  },
  {
   "cell_type": "markdown",
   "id": "8e8d42a1",
   "metadata": {},
   "source": [
    "- 배열 치환: 해당하는 index의 요소를 입력한 요소로 변경"
   ]
  },
  {
   "cell_type": "code",
   "execution_count": 15,
   "id": "0cceeb51",
   "metadata": {
    "scrolled": true
   },
   "outputs": [
    {
     "name": "stdout",
     "output_type": "stream",
     "text": [
      "['purple', 'green', 'blue', 'white', 'yellow']\n"
     ]
    }
   ],
   "source": [
    "color1[0] = 'purple'\n",
    "print(color1)"
   ]
  },
  {
   "cell_type": "markdown",
   "id": "ca78634f",
   "metadata": {},
   "source": [
    "- del: 해당하는 index의 요소를 삭제한다."
   ]
  },
  {
   "cell_type": "code",
   "execution_count": 16,
   "id": "a3e4e635",
   "metadata": {},
   "outputs": [
    {
     "name": "stdout",
     "output_type": "stream",
     "text": [
      "['blue', 'orange', 'black', 'white', 'grey']\n"
     ]
    }
   ],
   "source": [
    "del color2[5]\n",
    "print(color2)"
   ]
  },
  {
   "cell_type": "code",
   "execution_count": 17,
   "id": "0e3926b3",
   "metadata": {},
   "outputs": [
    {
     "name": "stdout",
     "output_type": "stream",
     "text": [
      "['blue', 'white', 'grey']\n"
     ]
    }
   ],
   "source": [
    "del color2[1:3]\n",
    "print(color2)"
   ]
  },
  {
   "attachments": {},
   "cell_type": "markdown",
   "id": "9b95fa32",
   "metadata": {},
   "source": [
    "###### 패킹 / 언패킹\n",
    "- 패킹(packing): 한 변수에 여러 개의 데이터를 할당하는 것\n",
    "- 언패킹(unpacking): 한 변수의 데이터를 각각의 변수로 반환하는 것"
   ]
  },
  {
   "cell_type": "code",
   "execution_count": 18,
   "id": "b8516939",
   "metadata": {},
   "outputs": [
    {
     "name": "stdout",
     "output_type": "stream",
     "text": [
      "[1, 2, 3] 1 2 3\n"
     ]
    }
   ],
   "source": [
    "t = [1, 2, 3]\n",
    "a, b, c = t\n",
    "print(t, a, b, c)"
   ]
  },
  {
   "cell_type": "code",
   "execution_count": null,
   "id": "3070c1b5",
   "metadata": {},
   "outputs": [],
   "source": []
  }
 ],
 "metadata": {
  "kernelspec": {
   "display_name": "Python 3 (ipykernel)",
   "language": "python",
   "name": "python3"
  },
  "language_info": {
   "codemirror_mode": {
    "name": "ipython",
    "version": 3
   },
   "file_extension": ".py",
   "mimetype": "text/x-python",
   "name": "python",
   "nbconvert_exporter": "python",
   "pygments_lexer": "ipython3",
   "version": "3.10.9"
  }
 },
 "nbformat": 4,
 "nbformat_minor": 5
}
