{
 "cells": [
  {
   "cell_type": "markdown",
   "id": "0ea54b0b",
   "metadata": {},
   "source": [
    "# 화씨온도변화기 예제"
   ]
  },
  {
   "cell_type": "code",
   "execution_count": 9,
   "id": "78f235b4",
   "metadata": {},
   "outputs": [
    {
     "name": "stdout",
     "output_type": "stream",
     "text": [
      "본 프로그램은 섭씨온도를 화씨온도로 변환하는 프로그램입니다.\n",
      "변환하고 싶은 섭씨온도를 입력하세요. 25.5\n",
      "섭씨온도:  25.5\n",
      "화씨온도:  77.90\n"
     ]
    }
   ],
   "source": [
    "print(\"본 프로그램은 섭씨온도를 화씨온도로 변환하는 프로그램입니다.\")\n",
    "cel = input(\"변환하고 싶은 섭씨온도를 입력하세요. \")\n",
    "fah = float(cel) * 1.8 + 32\n",
    "print('섭씨온도: ', cel)\n",
    "print('화씨온도: ', '%.2f' %(fah))"
   ]
  },
  {
   "cell_type": "markdown",
   "id": "10ebd982",
   "metadata": {},
   "source": [
    "- print(\"섭씨온도: {0:} \\n화씨온도: {1: .2f}.format(celsius, fahrenheit))"
   ]
  }
 ],
 "metadata": {
  "kernelspec": {
   "display_name": "Python 3 (ipykernel)",
   "language": "python",
   "name": "python3"
  },
  "language_info": {
   "codemirror_mode": {
    "name": "ipython",
    "version": 3
   },
   "file_extension": ".py",
   "mimetype": "text/x-python",
   "name": "python",
   "nbconvert_exporter": "python",
   "pygments_lexer": "ipython3",
   "version": "3.10.9"
  }
 },
 "nbformat": 4,
 "nbformat_minor": 5
}
