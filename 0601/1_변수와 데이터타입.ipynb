{
 "cells": [
  {
   "cell_type": "markdown",
   "id": "e31998c0",
   "metadata": {},
   "source": [
    "# Markdown: 코드에 대한 설명글"
   ]
  },
  {
   "cell_type": "markdown",
   "id": "e26a2c39",
   "metadata": {},
   "source": [
    "#### 숫자로 글씨크기 조절 가능"
   ]
  },
  {
   "cell_type": "code",
   "execution_count": 1,
   "id": "48308552",
   "metadata": {},
   "outputs": [
    {
     "name": "stdout",
     "output_type": "stream",
     "text": [
      "hello world!\n"
     ]
    }
   ],
   "source": [
    "print(\"hello world!\")"
   ]
  },
  {
   "cell_type": "markdown",
   "id": "541869c2",
   "metadata": {},
   "source": [
    "#### 변수와 데이터 타입"
   ]
  },
  {
   "cell_type": "code",
   "execution_count": 5,
   "id": "e95b091d",
   "metadata": {},
   "outputs": [
    {
     "name": "stdout",
     "output_type": "stream",
     "text": [
      "True\n",
      "True\n"
     ]
    }
   ],
   "source": [
    "a = 1\n",
    "b = 1\n",
    "print(a == b)\n",
    "print(a is b)\n",
    "# -5 ~ 256까지의 숫자는 실행 시점부터 특정 메모리에 저장되어 있어 같은 주소값을 가진다.\n",
    "# 해당 범위에 벗어나는 값은 다른 메모리에 저장됨."
   ]
  },
  {
   "cell_type": "code",
   "execution_count": 4,
   "id": "3d79a7b4",
   "metadata": {},
   "outputs": [
    {
     "name": "stdout",
     "output_type": "stream",
     "text": [
      "True\n",
      "False\n"
     ]
    }
   ],
   "source": [
    "a = 300\n",
    "b = 300\n",
    "print(a == b) # 저장된 주소에 있는 값을 비교한다.(a와 b에는 주소값이 저장되어 있음. => 주소값에 저장된 값 비교)\n",
    "print(a is b) # 저장된 주소값을 비교한다.(a의 주소값과 b의 주소값 비교 => 저장된 공간이 다르므로 같지 않다.)"
   ]
  },
  {
   "cell_type": "code",
   "execution_count": 6,
   "id": "2cbc312e",
   "metadata": {},
   "outputs": [
    {
     "name": "stdout",
     "output_type": "stream",
     "text": [
      "100 0.5 True hello\n",
      "<class 'int'> <class 'float'> <class 'bool'> <class 'str'>\n"
     ]
    }
   ],
   "source": [
    "a = 100\n",
    "b = 0.5\n",
    "c = True\n",
    "d = 'hello'\n",
    "\n",
    "print(a, b, c, d)\n",
    "print(type(a), type(b), type(c), type(d))"
   ]
  },
  {
   "cell_type": "code",
   "execution_count": 13,
   "id": "b9404606",
   "metadata": {},
   "outputs": [
    {
     "name": "stdout",
     "output_type": "stream",
     "text": [
      "7 / 2 =  3.5\n",
      "7 // 2 =  3\n",
      "7 % 2 =  1\n",
      "7 ** 2 =  49\n"
     ]
    }
   ],
   "source": [
    "print(\"7 / 2 = \", 7 / 2)\n",
    "print(\"7 // 2 = \", 7 // 2) # 몫\n",
    "print(\"7 % 2 = \", 7 % 2) # 나머지\n",
    "print(\"7 ** 2 = \", 7 ** 2) # 제곱근"
   ]
  },
  {
   "cell_type": "markdown",
   "id": "e9090a95",
   "metadata": {},
   "source": [
    "#### 자료형 변환\n",
    "\n",
    "- int() : 문자열/ 실수를 int 데이터타입으로 반환\n",
    "- float() : 문자열 / 정수를 float 데이터타입으로 반환\n",
    "- str() : 다른 데이터 타입을 str 데이터타입으로 반환\n",
    "- bool() : 다른 데이터 타입을 bool 데이터타입으로 반환"
   ]
  },
  {
   "cell_type": "code",
   "execution_count": 16,
   "id": "510c0b16",
   "metadata": {},
   "outputs": [],
   "source": [
    "a = 100\n",
    "b = 879.01\n",
    "c = 'python'\n",
    "d = True"
   ]
  },
  {
   "cell_type": "code",
   "execution_count": 17,
   "id": "b9218f01",
   "metadata": {},
   "outputs": [
    {
     "name": "stdout",
     "output_type": "stream",
     "text": [
      "100.0\n",
      "879\n",
      "100 <class 'str'>\n",
      "True True\n"
     ]
    }
   ],
   "source": [
    "print(float(a))\n",
    "print(int(b))\n",
    "print(str(a), type(str(a)))\n",
    "print(bool(a), bool(-100))"
   ]
  },
  {
   "cell_type": "code",
   "execution_count": 18,
   "id": "2d60a8b6",
   "metadata": {},
   "outputs": [
    {
     "name": "stdout",
     "output_type": "stream",
     "text": [
      "False\n",
      "False\n",
      "False\n"
     ]
    }
   ],
   "source": [
    "# 0, 혹은 빈문자열은 False\n",
    "print(bool(0))\n",
    "print(bool(''))\n",
    "print(bool(0.0))"
   ]
  },
  {
   "cell_type": "code",
   "execution_count": 19,
   "id": "2e903f19",
   "metadata": {},
   "outputs": [
    {
     "name": "stdout",
     "output_type": "stream",
     "text": [
      "True\n",
      "True\n"
     ]
    }
   ],
   "source": [
    "# 비교 진행 시 자동 형변환\n",
    "print(1 == True)\n",
    "print(0 == False)"
   ]
  }
 ],
 "metadata": {
  "kernelspec": {
   "display_name": "Python 3 (ipykernel)",
   "language": "python",
   "name": "python3"
  },
  "language_info": {
   "codemirror_mode": {
    "name": "ipython",
    "version": 3
   },
   "file_extension": ".py",
   "mimetype": "text/x-python",
   "name": "python",
   "nbconvert_exporter": "python",
   "pygments_lexer": "ipython3",
   "version": "3.10.9"
  }
 },
 "nbformat": 4,
 "nbformat_minor": 5
}
