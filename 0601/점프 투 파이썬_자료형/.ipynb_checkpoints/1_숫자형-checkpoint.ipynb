{
 "cells": [
  {
   "cell_type": "markdown",
   "id": "0cea0b03",
   "metadata": {},
   "source": [
    "## 숫자형의 종류"
   ]
  },
  {
   "cell_type": "markdown",
   "id": "894abaa2",
   "metadata": {},
   "source": [
    "- 정수형(Integer): 정수를 뜻하는 자료형"
   ]
  },
  {
   "cell_type": "code",
   "execution_count": 1,
   "id": "7efc54cb",
   "metadata": {},
   "outputs": [],
   "source": [
    "a = 123\n",
    "b = -178\n",
    "c = 0"
   ]
  },
  {
   "cell_type": "markdown",
   "id": "d8171fbe",
   "metadata": {},
   "source": [
    "- 실수형(Floating-point): 소수점이 포함된 숫자"
   ]
  },
  {
   "cell_type": "code",
   "execution_count": 2,
   "id": "b502e137",
   "metadata": {},
   "outputs": [],
   "source": [
    "a = 1.2\n",
    "b = -3.45"
   ]
  },
  {
   "cell_type": "markdown",
   "id": "4aa9eddf",
   "metadata": {},
   "source": [
    "    - 컴퓨터식 지수 표현 방식도 존재한다."
   ]
  },
  {
   "cell_type": "code",
   "execution_count": 3,
   "id": "6c2bf3e4",
   "metadata": {},
   "outputs": [],
   "source": [
    "c = 4.24E10 # (4.24 * 10^10)\n",
    "d = 4.24e-10 # (4.24 * 10^-10)"
   ]
  },
  {
   "cell_type": "markdown",
   "id": "da1625a5",
   "metadata": {},
   "source": [
    "- 8진수 / 16진수"
   ]
  },
  {
   "cell_type": "code",
   "execution_count": 4,
   "id": "4f7689a4",
   "metadata": {},
   "outputs": [],
   "source": [
    "# 8진수\n",
    "a = 0o177\n",
    "# 16진수\n",
    "b = 0x8ff\n",
    "c = 0XABC"
   ]
  },
  {
   "cell_type": "markdown",
   "id": "23488b9b",
   "metadata": {},
   "source": [
    "## 숫자형을 활용하기 위한 연산자"
   ]
  },
  {
   "cell_type": "markdown",
   "id": "701b3f12",
   "metadata": {},
   "source": [
    "- 사칙연산"
   ]
  },
  {
   "cell_type": "code",
   "execution_count": 5,
   "id": "b1adca4f",
   "metadata": {},
   "outputs": [
    {
     "name": "stdout",
     "output_type": "stream",
     "text": [
      "7\n"
     ]
    }
   ],
   "source": [
    "a = 3\n",
    "b = 4\n",
    "print(a + b)"
   ]
  },
  {
   "cell_type": "code",
   "execution_count": 6,
   "id": "7d830801",
   "metadata": {},
   "outputs": [
    {
     "name": "stdout",
     "output_type": "stream",
     "text": [
      "12\n"
     ]
    }
   ],
   "source": [
    "print(a * b)"
   ]
  },
  {
   "cell_type": "code",
   "execution_count": 7,
   "id": "699b23d3",
   "metadata": {},
   "outputs": [
    {
     "name": "stdout",
     "output_type": "stream",
     "text": [
      "0.75\n"
     ]
    }
   ],
   "source": [
    "print(a / b)"
   ]
  },
  {
   "cell_type": "markdown",
   "id": "23f3d240",
   "metadata": {},
   "source": [
    "- ** 연산자: 제곱 표현"
   ]
  },
  {
   "cell_type": "code",
   "execution_count": 8,
   "id": "cf606eed",
   "metadata": {},
   "outputs": [
    {
     "name": "stdout",
     "output_type": "stream",
     "text": [
      "81\n"
     ]
    }
   ],
   "source": [
    "a = 3\n",
    "b = 4\n",
    "print(a ** b)"
   ]
  },
  {
   "cell_type": "markdown",
   "id": "91d59a8f",
   "metadata": {},
   "source": [
    "- % 연산자: 나머지 반환"
   ]
  },
  {
   "cell_type": "code",
   "execution_count": 9,
   "id": "d22ca2f0",
   "metadata": {},
   "outputs": [
    {
     "name": "stdout",
     "output_type": "stream",
     "text": [
      "1\n",
      "3\n"
     ]
    }
   ],
   "source": [
    "print(7 % 3)\n",
    "print(3 % 7)"
   ]
  },
  {
   "cell_type": "markdown",
   "id": "103ae802",
   "metadata": {},
   "source": [
    "- // 연산자: 나눗셈 후 몫 반환"
   ]
  },
  {
   "cell_type": "code",
   "execution_count": 10,
   "id": "8d216c93",
   "metadata": {},
   "outputs": [
    {
     "name": "stdout",
     "output_type": "stream",
     "text": [
      "1.75\n"
     ]
    }
   ],
   "source": [
    "print(7 / 4)"
   ]
  },
  {
   "cell_type": "code",
   "execution_count": 11,
   "id": "b8b5d03a",
   "metadata": {},
   "outputs": [
    {
     "name": "stdout",
     "output_type": "stream",
     "text": [
      "1\n"
     ]
    }
   ],
   "source": [
    "print(7 // 4)"
   ]
  }
 ],
 "metadata": {
  "kernelspec": {
   "display_name": "Python 3 (ipykernel)",
   "language": "python",
   "name": "python3"
  },
  "language_info": {
   "codemirror_mode": {
    "name": "ipython",
    "version": 3
   },
   "file_extension": ".py",
   "mimetype": "text/x-python",
   "name": "python",
   "nbconvert_exporter": "python",
   "pygments_lexer": "ipython3",
   "version": "3.10.9"
  }
 },
 "nbformat": 4,
 "nbformat_minor": 5
}
