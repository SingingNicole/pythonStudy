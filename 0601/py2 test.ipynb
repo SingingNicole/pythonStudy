{
 "cells": [
  {
   "cell_type": "code",
   "execution_count": 6,
   "id": "64229a31",
   "metadata": {},
   "outputs": [
    {
     "name": "stdout",
     "output_type": "stream",
     "text": [
      "12.25\n"
     ]
    }
   ],
   "source": [
    "a = 3.5\n",
    "b = int(3.5)\n",
    "print(a**((a // b) * 2))"
   ]
  },
  {
   "cell_type": "markdown",
   "id": "9426a299",
   "metadata": {},
   "source": [
    "- b는 int로 형변환되었으므로 b = 3이다."
   ]
  },
  {
   "cell_type": "code",
   "execution_count": 7,
   "id": "66071b96",
   "metadata": {},
   "outputs": [
    {
     "name": "stdout",
     "output_type": "stream",
     "text": [
      "1.75\n"
     ]
    }
   ],
   "source": [
    "print((a - b) * a)"
   ]
  },
  {
   "cell_type": "code",
   "execution_count": 4,
   "id": "10f09371",
   "metadata": {},
   "outputs": [
    {
     "name": "stdout",
     "output_type": "stream",
     "text": [
      "0.0\n"
     ]
    }
   ],
   "source": [
    "print(((a - b) * a) // b)"
   ]
  },
  {
   "cell_type": "markdown",
   "id": "caba0b53",
   "metadata": {},
   "source": [
    "- a - b = 0.5"
   ]
  },
  {
   "cell_type": "code",
   "execution_count": 5,
   "id": "9db40e09",
   "metadata": {},
   "outputs": [
    {
     "name": "stdout",
     "output_type": "stream",
     "text": [
      "1.75\n"
     ]
    }
   ],
   "source": [
    "b = (((a - b) * a) % b)\n",
    "print(b)"
   ]
  },
  {
   "cell_type": "markdown",
   "id": "75464140",
   "metadata": {},
   "source": [
    "- 값이 저장되지 않았으므로 b의 값은 그대로 3이다."
   ]
  },
  {
   "cell_type": "code",
   "execution_count": 8,
   "id": "1cc89cd1",
   "metadata": {},
   "outputs": [
    {
     "name": "stdout",
     "output_type": "stream",
     "text": [
      "2.0\n"
     ]
    }
   ],
   "source": [
    "print((a * 4) % (b * 4))"
   ]
  },
  {
   "cell_type": "code",
   "execution_count": 10,
   "id": "5496eed8",
   "metadata": {},
   "outputs": [
    {
     "name": "stdout",
     "output_type": "stream",
     "text": [
      "3.53.53.53.5\n"
     ]
    }
   ],
   "source": [
    "a2 = \"3.5\"\n",
    "b2 = 4\n",
    "print(a2 * b2)"
   ]
  },
  {
   "cell_type": "code",
   "execution_count": 12,
   "id": "70709c24",
   "metadata": {},
   "outputs": [
    {
     "name": "stdout",
     "output_type": "stream",
     "text": [
      "27.0\n"
     ]
    }
   ],
   "source": [
    "a3 = '3'\n",
    "b3 = float(a3)\n",
    "print(b3 ** int(a3))"
   ]
  },
  {
   "cell_type": "code",
   "execution_count": 13,
   "id": "a2b557cb",
   "metadata": {},
   "outputs": [
    {
     "ename": "TypeError",
     "evalue": "unsupported operand type(s) for /: 'str' and 'str'",
     "output_type": "error",
     "traceback": [
      "\u001b[1;31m---------------------------------------------------------------------------\u001b[0m",
      "\u001b[1;31mTypeError\u001b[0m                                 Traceback (most recent call last)",
      "Cell \u001b[1;32mIn[13], line 3\u001b[0m\n\u001b[0;32m      1\u001b[0m a4 \u001b[38;5;241m=\u001b[39m \u001b[38;5;124m'\u001b[39m\u001b[38;5;124m20\u001b[39m\u001b[38;5;124m'\u001b[39m\n\u001b[0;32m      2\u001b[0m b4 \u001b[38;5;241m=\u001b[39m \u001b[38;5;124m'\u001b[39m\u001b[38;5;124m4\u001b[39m\u001b[38;5;124m'\u001b[39m\n\u001b[1;32m----> 3\u001b[0m \u001b[38;5;28mprint\u001b[39m(\u001b[38;5;28mtype\u001b[39m(\u001b[38;5;28mfloat\u001b[39m(\u001b[43ma4\u001b[49m\u001b[43m \u001b[49m\u001b[38;5;241;43m/\u001b[39;49m\u001b[43m \u001b[49m\u001b[43mb4\u001b[49m)))\n",
      "\u001b[1;31mTypeError\u001b[0m: unsupported operand type(s) for /: 'str' and 'str'"
     ]
    }
   ],
   "source": [
    "a4 = '20'\n",
    "b4 = '4'\n",
    "print(type(float(a4 / b4)))"
   ]
  }
 ],
 "metadata": {
  "kernelspec": {
   "display_name": "Python 3 (ipykernel)",
   "language": "python",
   "name": "python3"
  },
  "language_info": {
   "codemirror_mode": {
    "name": "ipython",
    "version": 3
   },
   "file_extension": ".py",
   "mimetype": "text/x-python",
   "name": "python",
   "nbconvert_exporter": "python",
   "pygments_lexer": "ipython3",
   "version": "3.10.9"
  }
 },
 "nbformat": 4,
 "nbformat_minor": 5
}
