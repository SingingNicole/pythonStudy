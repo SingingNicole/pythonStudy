{
 "cells": [
  {
   "cell_type": "code",
   "execution_count": 3,
   "id": "e80f0797",
   "metadata": {
    "scrolled": true
   },
   "outputs": [
    {
     "name": "stdout",
     "output_type": "stream",
     "text": [
      "ObjectOrientedProgramming1 3.0 A+\n",
      "IntroductiontoComputerEngineering 3.0 A+\n",
      "ProblemSolving 4.0 P\n",
      "4.5\n"
     ]
    }
   ],
   "source": [
    "score_list = []\n",
    "\n",
    "for _ in range(3):\n",
    "    score_list.append(input().split())\n",
    "    \n",
    "for i in range(len(score_list)):\n",
    "    if score_list[i][2] == 'P':\n",
    "        del score_list[i]\n",
    "    elif score_list[i][2] == 'A+':\n",
    "        score_list[i][2] = 4.5\n",
    "    elif score_list[i][2] == 'A0':\n",
    "        score_list[i][2] = 4.0\n",
    "    elif score_list[i][2] == 'B+':\n",
    "        score_list[i][2] = 3.5\n",
    "    elif score_list[i][2] == 'B0':\n",
    "        score_list[i][2] = 3.0\n",
    "    elif score_list[i][2] == 'C+':\n",
    "        score_list[i][2] = 2.5\n",
    "    elif score_list[i][2] == 'C0':\n",
    "        score_list[i][2] = 2.0\n",
    "    elif score_list[i][2] == 'D+':\n",
    "        score_list[i][2] = 1.5\n",
    "    elif score_list[i][2] == 'D0':\n",
    "        score_list[i][2] = 1.0\n",
    "    else:\n",
    "        score_list[i][2] = 0.0\n",
    "\n",
    "total_score = 0\n",
    "\n",
    "for i in range(len(score_list)):\n",
    "    total_score += float(score_list[i][1]) * score_list[i][2]\n",
    "    \n",
    "total_hour = 0\n",
    "for i in range(len(score_list)):\n",
    "    total_hour += float(score_list[i][1])\n",
    "\n",
    "print(total_score / total_hour)"
   ]
  },
  {
   "cell_type": "code",
   "execution_count": null,
   "id": "550c4c9a",
   "metadata": {},
   "outputs": [],
   "source": []
  }
 ],
 "metadata": {
  "kernelspec": {
   "display_name": "Python 3 (ipykernel)",
   "language": "python",
   "name": "python3"
  },
  "language_info": {
   "codemirror_mode": {
    "name": "ipython",
    "version": 3
   },
   "file_extension": ".py",
   "mimetype": "text/x-python",
   "name": "python",
   "nbconvert_exporter": "python",
   "pygments_lexer": "ipython3",
   "version": "3.10.9"
  }
 },
 "nbformat": 4,
 "nbformat_minor": 5
}
