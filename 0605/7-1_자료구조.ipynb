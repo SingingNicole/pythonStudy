{
 "cells": [
  {
   "cell_type": "markdown",
   "id": "a897ce84",
   "metadata": {},
   "source": [
    "## 자료 구조"
   ]
  },
  {
   "cell_type": "markdown",
   "id": "6cbcc5fa",
   "metadata": {},
   "source": [
    "### 리스트의 입출력"
   ]
  },
  {
   "cell_type": "markdown",
   "id": "f2c4e023",
   "metadata": {},
   "source": [
    "- stack\n",
    "    - 가장 마지막에 넣은 값이 가장 먼저 출력되는 Last in, first out 구조\n",
    "    - append() 함수를 이용하여 값을 추가, pop()함수를 이용하여 값 출력"
   ]
  },
  {
   "cell_type": "code",
   "execution_count": 1,
   "id": "0f7fee4f",
   "metadata": {
    "scrolled": true
   },
   "outputs": [
    {
     "name": "stdout",
     "output_type": "stream",
     "text": [
      "input a word: PYTHON\n",
      "['P', 'Y', 'T', 'H', 'O', 'N']\n",
      "['N', 'O', 'H', 'T', 'Y', 'P']\n",
      "NOHTYP\n"
     ]
    }
   ],
   "source": [
    "word = input('input a word: ')\n",
    "word_list = list(word) # 문자열을 list로 변환한다.\n",
    "print(word_list)\n",
    "\n",
    "result = []\n",
    "for _ in range(len(word_list)):\n",
    "    result.append(word_list.pop()) # Last in, First out => 역순으로 저장됨.\n",
    "\n",
    "print(result) # 역순으로 저장된 배열이 출력\n",
    "print(word[::-1]) # 역순으로 저장된 순서대로 출력"
   ]
  },
  {
   "cell_type": "markdown",
   "id": "2e57ed56",
   "metadata": {},
   "source": [
    "- queue\n",
    "    - 맨 처음 값을 가져오는 first in, first out\n",
    "    - 구현법은 stack과 같지만 인덱스가 0번째인 값을 사용한다는 의미로 pop(0)을 시용한다."
   ]
  },
  {
   "cell_type": "code",
   "execution_count": 4,
   "id": "1fd5eca6",
   "metadata": {},
   "outputs": [
    {
     "name": "stdout",
     "output_type": "stream",
     "text": [
      "1\n",
      "2\n"
     ]
    }
   ],
   "source": [
    "a = [1, 2, 3, 4, 5]\n",
    "a.append(10) # [1, 2, 3, 4, 5, 10]\n",
    "a.append(20) # [1, 2, 3, 4, 5, 10, 20]\n",
    "print(a.pop(0))\n",
    "print(a.pop(0))"
   ]
  },
  {
   "cell_type": "markdown",
   "id": "08e933b5",
   "metadata": {},
   "source": [
    "### 리스트의 생성"
   ]
  },
  {
   "cell_type": "code",
   "execution_count": 5,
   "id": "9d7e6b23",
   "metadata": {},
   "outputs": [
    {
     "name": "stdout",
     "output_type": "stream",
     "text": [
      "[] []\n"
     ]
    }
   ],
   "source": [
    "# 빈 리스트 생성\n",
    "aa = []\n",
    "bb = list()\n",
    "\n",
    "# 빈 리스트도 출력 가능.\n",
    "print(aa, bb)"
   ]
  },
  {
   "cell_type": "code",
   "execution_count": 6,
   "id": "ab9be7fc",
   "metadata": {},
   "outputs": [
    {
     "name": "stdout",
     "output_type": "stream",
     "text": [
      "[0, 1, 2, 3, 4, 5, 6, 7, 8, 9]\n",
      "[10, 9, 8, 7, 6, 5, 4, 3, 2, 1]\n",
      "[5, 6, 7, 8, 9, 10, 11]\n",
      "[9, 8, 7, 6, 5, 4, 3, 2, 1, 0]\n"
     ]
    }
   ],
   "source": [
    "# range를 이용한 list 생성\n",
    "# 반드시 list 함수와 같이 사용해야 한다.\n",
    "a1 = list(range(10))\n",
    "a2 = list(range(10, 0, -1))\n",
    "a3 = list(range(5, 12))\n",
    "a4 = list(reversed(range(10)))\n",
    "\n",
    "print(a1, a2, a3, a4, sep='\\n')"
   ]
  },
  {
   "cell_type": "code",
   "execution_count": 7,
   "id": "92435c65",
   "metadata": {},
   "outputs": [
    {
     "name": "stdout",
     "output_type": "stream",
     "text": [
      "['h', 'e', 'l', 'l', 'o']\n"
     ]
    }
   ],
   "source": [
    "# 문자열 list\n",
    "s1 = list('hello')\n",
    "print(s1)"
   ]
  },
  {
   "cell_type": "code",
   "execution_count": 8,
   "id": "bf9846bc",
   "metadata": {
    "scrolled": true
   },
   "outputs": [
    {
     "name": "stdout",
     "output_type": "stream",
     "text": [
      "True\n",
      "[0, 0, 99, 0, 0] [0, 0, 99, 0, 0]\n"
     ]
    }
   ],
   "source": [
    "a = [0, 0, 0, 0, 0]\n",
    "b = a\n",
    "\n",
    "print(a is b)\n",
    "\n",
    "b[2] = 99\n",
    "print(a, b)"
   ]
  },
  {
   "cell_type": "markdown",
   "id": "de7b337b",
   "metadata": {},
   "source": [
    "- copy()"
   ]
  },
  {
   "cell_type": "code",
   "execution_count": 9,
   "id": "0e28080e",
   "metadata": {},
   "outputs": [
    {
     "name": "stdout",
     "output_type": "stream",
     "text": [
      "False\n",
      "True\n",
      "[0, 0, 0, 0, 0] [0, 0, 99, 0, 0]\n"
     ]
    }
   ],
   "source": [
    "a = [0, 0, 0, 0, 0]\n",
    "b = a.copy() # 똑같은 데이터를 저장하고 있는 새로운 list 생성\n",
    "\n",
    "print(a is b) # copy로 리스트를 새로 생성한 경우 같은 내용을 가진 두 개의 리스트이기때문에 주소값이 같지 않다.\n",
    "print(a == b) # a와 의 값은 같기 때문에 true\n",
    "\n",
    "b[2] = 99 # 리스트 b에만 적용된다.\n",
    "print(a, b)"
   ]
  },
  {
   "cell_type": "markdown",
   "id": "8f1ed933",
   "metadata": {},
   "source": [
    "- sort() / sorted()"
   ]
  },
  {
   "cell_type": "code",
   "execution_count": 10,
   "id": "7808ed2c",
   "metadata": {},
   "outputs": [
    {
     "name": "stdout",
     "output_type": "stream",
     "text": [
      "[1, 2, 3, 4, 6, 8]\n",
      "None\n"
     ]
    }
   ],
   "source": [
    "a = [1, 4, 6, 8, 3, 2]\n",
    "b = a.sort() # a의 배열만 새로 정렬\n",
    "\n",
    "print(a)\n",
    "print(b) # b에는 return할 값이 존재하지 않으므로 None이 출력된다."
   ]
  },
  {
   "cell_type": "code",
   "execution_count": 11,
   "id": "6c58f6c6",
   "metadata": {},
   "outputs": [
    {
     "name": "stdout",
     "output_type": "stream",
     "text": [
      "[1, 4, 6, 8, 3, 2]\n",
      "[1, 2, 3, 4, 6, 8]\n"
     ]
    }
   ],
   "source": [
    "a = [1, 4, 6, 8, 3, 2]\n",
    "b = sorted(a) # 정렬된 a 배열이 새로 생성 => 원본 리스트는 바뀌지 않는다.\n",
    "\n",
    "print(a)\n",
    "print(b)"
   ]
  },
  {
   "cell_type": "markdown",
   "id": "b97b38d3",
   "metadata": {},
   "source": [
    "### 기타 구조"
   ]
  },
  {
   "cell_type": "markdown",
   "id": "ba2fa55c",
   "metadata": {},
   "source": [
    "- tuple\n",
    "    - 리스트와 유사하나 데이터의 변경이 불가능하다.\n",
    "    - 리스트에서 사용하는 연산, 인덱싱, 슬라이싱은 모두 사용 가능하다.\n",
    "    - 변경되어야 하지 않는 정보를 저장하는 데 주로 사용한다."
   ]
  },
  {
   "cell_type": "code",
   "execution_count": 12,
   "id": "1408eb4d",
   "metadata": {},
   "outputs": [
    {
     "name": "stdout",
     "output_type": "stream",
     "text": [
      "(10, 20, 30) (10, 20, 30) <class 'tuple'>\n"
     ]
    }
   ],
   "source": [
    "tt1 = (10, 20, 30)\n",
    "# 변수 하나에 값을 여러 개 넣으면 자동으로 tuple 타입으로 저장된다.\n",
    "tt2 = 10, 20, 30\n",
    "\n",
    "print(tt1, tt2, type(tt2))"
   ]
  },
  {
   "cell_type": "code",
   "execution_count": 13,
   "id": "548499d5",
   "metadata": {},
   "outputs": [
    {
     "name": "stdout",
     "output_type": "stream",
     "text": [
      "()\n"
     ]
    }
   ],
   "source": [
    "# 비어 있는 튜플도 생성은 가능하다.\n",
    "# 단, 데이터 추가와 변경은 불가능.\n",
    "t = tuple()\n",
    "\n",
    "print(t)"
   ]
  },
  {
   "cell_type": "code",
   "execution_count": 14,
   "id": "34777993",
   "metadata": {},
   "outputs": [
    {
     "name": "stdout",
     "output_type": "stream",
     "text": [
      "(10,) <class 'tuple'>\n",
      "10 <class 'int'>\n",
      "(10,) <class 'tuple'>\n"
     ]
    }
   ],
   "source": [
    "# 요소가 하나인 튜플 생성\n",
    "tt3 = 10,\n",
    "\n",
    "print(tt3, type(tt3))\n",
    "\n",
    "tt4 = (10) # 뒷부분에 ,표시가 없으면 int로 저장됨.\n",
    "print(tt4, type(tt4))\n",
    "\n",
    "tt5 = (10,)\n",
    "print(tt5, type(tt5))"
   ]
  },
  {
   "cell_type": "code",
   "execution_count": 15,
   "id": "1eebb17d",
   "metadata": {},
   "outputs": [
    {
     "name": "stdout",
     "output_type": "stream",
     "text": [
      "(1, 2, 3, 4)\n",
      "[0, 1, 2, 3, 4, 5, 6, 7, 8, 9]\n"
     ]
    }
   ],
   "source": [
    "a = tuple()\n",
    "a1 = tuple(range(10)) # 0~9까지의 자료를 가진 tuple\n",
    "\n",
    "# 튜플의 데이터를 리스트로 추가하여 내용을 변경하고 싶은 경우\n",
    "# list -> tuple\n",
    "a2 = tuple([1, 2, 3, 4])\n",
    "# tuple -> list\n",
    "a3 = list(a1)\n",
    "\n",
    "print(a2)\n",
    "print(a3)"
   ]
  },
  {
   "cell_type": "code",
   "execution_count": null,
   "id": "a098e0a9",
   "metadata": {},
   "outputs": [],
   "source": [
    "del(a1) # 튜플 자체를 삭제할 수 있다."
   ]
  },
  {
   "cell_type": "markdown",
   "id": "80a8c248",
   "metadata": {},
   "source": [
    "##### 튜플 < - > 인덱스 연습"
   ]
  },
  {
   "cell_type": "code",
   "execution_count": 18,
   "id": "884eb56a",
   "metadata": {},
   "outputs": [
    {
     "name": "stdout",
     "output_type": "stream",
     "text": [
      "(10, 20, 30)\n",
      "[10, 20, 30, 40]\n",
      "(10, 20, 30, 40)\n"
     ]
    }
   ],
   "source": [
    "my_tuple = (10, 20, 30)\n",
    "# 3번 인덱스에 40 추가\n",
    "\n",
    "tuple_to_list = list(my_tuple)\n",
    "tuple_to_list.append(40)\n",
    "\n",
    "new_tuple = tuple(tuple_to_list)\n",
    "\n",
    "print(my_tuple)\n",
    "print(tuple_to_list)\n",
    "print(new_tuple)"
   ]
  },
  {
   "cell_type": "markdown",
   "id": "f58a1ba6",
   "metadata": {},
   "source": [
    "     - 강사님 코드"
   ]
  },
  {
   "cell_type": "code",
   "execution_count": 19,
   "id": "64b2fedb",
   "metadata": {},
   "outputs": [
    {
     "name": "stdout",
     "output_type": "stream",
     "text": [
      "(10, 20, 30, 40)\n"
     ]
    }
   ],
   "source": [
    "my_tuple = (10, 20, 30)\n",
    "# 3번 인덱스에 40 추가\n",
    "\n",
    "my_list = list(my_tuple)\n",
    "my_list.append(40)\n",
    "\n",
    "# 이름이 같아도 됨\n",
    "my_tuple = tuple(my_list)\n",
    "\n",
    "print(my_tuple)"
   ]
  },
  {
   "cell_type": "markdown",
   "id": "69deb921",
   "metadata": {},
   "source": [
    "- set\n",
    "    - 값을 순서 없이 저장하면서 중복은 허용하지 않는다.\n",
    "    - {} 형태로 표현\n",
    "    - 삭제나 변경 가능, 집합 연산 제공\n",
    "    - 추가는 add()(하나 추가) / update()(리스트 추가), 삭제는 remove() / discard() / clear()(모든 원소 삭제)"
   ]
  },
  {
   "cell_type": "code",
   "execution_count": 20,
   "id": "23442b41",
   "metadata": {},
   "outputs": [
    {
     "name": "stdout",
     "output_type": "stream",
     "text": [
      "{1, 2, 3, 4, 5}\n",
      "{1, 2, 3, 4, 5, 6}\n"
     ]
    }
   ],
   "source": [
    "s = set([5, 1, 2, 3, 1, 2, 4])\n",
    "print(s)\n",
    "\n",
    "s.add(6)\n",
    "s.add(1)\n",
    "print(s)"
   ]
  },
  {
   "cell_type": "code",
   "execution_count": 21,
   "id": "9ca2e63d",
   "metadata": {},
   "outputs": [
    {
     "name": "stdout",
     "output_type": "stream",
     "text": [
      "{1, 2, 3} <class 'set'>\n",
      "[1, 2, 3] <class 'list'>\n"
     ]
    }
   ],
   "source": [
    "s1 = {1, 2, 3, 1}\n",
    "print(s1, type(s1))\n",
    "\n",
    "l1 = list(s1)\n",
    "print(l1, type(l1))"
   ]
  },
  {
   "cell_type": "code",
   "execution_count": 22,
   "id": "3f7398fe",
   "metadata": {},
   "outputs": [
    {
     "name": "stdout",
     "output_type": "stream",
     "text": [
      "{} <class 'dict'>\n"
     ]
    }
   ],
   "source": [
    "# 단순히 비어있는 {}만 사용한다면 dictionary 형태의 자료구조가 만들어진다.\n",
    "d1 = {}\n",
    "print(d1, type(d1))"
   ]
  },
  {
   "cell_type": "markdown",
   "id": "6dc3ee62",
   "metadata": {},
   "source": [
    "- 집합"
   ]
  },
  {
   "cell_type": "code",
   "execution_count": 24,
   "id": "206b51d6",
   "metadata": {},
   "outputs": [
    {
     "name": "stdout",
     "output_type": "stream",
     "text": [
      "{1, 2, 3, 4, 5, 6, 7}\n",
      "{1, 2, 3, 4, 5, 6, 7}\n",
      "{3, 4, 5}\n",
      "{3, 4, 5}\n",
      "{1, 2}\n",
      "{1, 2}\n"
     ]
    }
   ],
   "source": [
    "s1 = set([1, 2, 3, 4, 5])\n",
    "s2 = set([3, 4, 5, 6, 7])\n",
    "\n",
    "print(s1.union(s2)) # s1과 s2의 합집합\n",
    "print(s1 | s2) # set([1, 2, 3, 4, 5, 6, 7])\n",
    "print(s1.intersection(s2)) #s1과 s2의 교집합\n",
    "print(s1 & s2) # set([3, 4, 5])\n",
    "print(s1.difference(s2)) # s1과 s2의 차집합\n",
    "print(s1 - s2) # set([1, 2])"
   ]
  },
  {
   "cell_type": "markdown",
   "id": "d1f9a664",
   "metadata": {},
   "source": [
    "- dictionary"
   ]
  },
  {
   "cell_type": "code",
   "execution_count": 25,
   "id": "e8559ebb",
   "metadata": {},
   "outputs": [
    {
     "name": "stdout",
     "output_type": "stream",
     "text": [
      "{}\n"
     ]
    }
   ],
   "source": [
    "# dictionary 자료구조의 선언\n",
    "d = dict()\n",
    "print(d)"
   ]
  },
  {
   "cell_type": "code",
   "execution_count": 27,
   "id": "183c9ad4",
   "metadata": {},
   "outputs": [
    {
     "name": "stdout",
     "output_type": "stream",
     "text": [
      "{'America': 1, 'Korea': 82, 'China': 86, 'Japan': 81}\n",
      "dict_keys(['America', 'Korea', 'China', 'Japan'])\n",
      "dict_values([1, 82, 86, 81])\n"
     ]
    }
   ],
   "source": [
    "# dictionary 선언\n",
    "c_code = {'America':1, 'Korea':82, 'China':86, 'Japan':81}\n",
    "print(c_code)\n",
    "# key, value 출력\n",
    "print(c_code.keys())\n",
    "print(c_code.values())"
   ]
  },
  {
   "cell_type": "code",
   "execution_count": 28,
   "id": "66cd9fcc",
   "metadata": {},
   "outputs": [
    {
     "name": "stdout",
     "output_type": "stream",
     "text": [
      "{'America': 1, 'Korea': 82, 'China': 86, 'Japan': 81, 'German': 49}\n"
     ]
    }
   ],
   "source": [
    "# 새로운 데이터 추가\n",
    "c_code['German'] = 49\n",
    "print(c_code)"
   ]
  },
  {
   "cell_type": "code",
   "execution_count": 29,
   "id": "11ff9a49",
   "metadata": {},
   "outputs": [
    {
     "name": "stdout",
     "output_type": "stream",
     "text": [
      "country: America\n",
      "code: 1\n",
      "country: Korea\n",
      "code: 82\n",
      "country: China\n",
      "code: 86\n",
      "country: Japan\n",
      "code: 81\n",
      "country: German\n",
      "code: 49\n"
     ]
    }
   ],
   "source": [
    "for k, v in c_code.items():\n",
    "    print('country:', k)\n",
    "    print('code:', v)"
   ]
  },
  {
   "cell_type": "code",
   "execution_count": 30,
   "id": "228e9d0d",
   "metadata": {},
   "outputs": [
    {
     "name": "stdout",
     "output_type": "stream",
     "text": [
      "{'America': 1, 'Korea': 82, 'Japan': 81, 'German': 49}\n"
     ]
    }
   ],
   "source": [
    "# 삭제 시 key 값으로 지정하여 삭제\n",
    "del(c_code['China'])\n",
    "print(c_code)"
   ]
  }
 ],
 "metadata": {
  "kernelspec": {
   "display_name": "Python 3 (ipykernel)",
   "language": "python",
   "name": "python3"
  },
  "language_info": {
   "codemirror_mode": {
    "name": "ipython",
    "version": 3
   },
   "file_extension": ".py",
   "mimetype": "text/x-python",
   "name": "python",
   "nbconvert_exporter": "python",
   "pygments_lexer": "ipython3",
   "version": "3.10.9"
  }
 },
 "nbformat": 4,
 "nbformat_minor": 5
}
