{
 "cells": [
  {
   "cell_type": "code",
   "execution_count": 1,
   "id": "dd8f6951",
   "metadata": {},
   "outputs": [
    {
     "name": "stdout",
     "output_type": "stream",
     "text": [
      "[0, 1, 2, 3, 4, 5, 6, 7, 8, 9]\n"
     ]
    }
   ],
   "source": [
    "result = [i for i in range(10)]\n",
    "# in range(10): 숫자 0~ 9 생성\n",
    "# for i: 숫자를 i에 저장\n",
    "# [i]: 리스트 생성 후 i 값을 list에 저장\n",
    "print(result)"
   ]
  },
  {
   "cell_type": "code",
   "execution_count": 2,
   "id": "96a9f094",
   "metadata": {
    "scrolled": true
   },
   "outputs": [
    {
     "name": "stdout",
     "output_type": "stream",
     "text": [
      "[0, 1, 2, 3, 4, 5, 6, 7, 8, 9]\n"
     ]
    }
   ],
   "source": [
    "result2 = list(i for i in range(10))\n",
    "print(result2)"
   ]
  },
  {
   "cell_type": "code",
   "execution_count": 4,
   "id": "4e465df7",
   "metadata": {},
   "outputs": [
    {
     "name": "stdout",
     "output_type": "stream",
     "text": [
      "['a', 'a', 'a', 'a', 'a']\n"
     ]
    }
   ],
   "source": [
    "result3 = ['a' for i in range(5)]\n",
    "print(result3)"
   ]
  },
  {
   "cell_type": "markdown",
   "id": "6478868c",
   "metadata": {},
   "source": [
    "### [식 for 변수 in 리스트]\n",
    "\n",
    "### [식 for 변수 in 리스트 if 조건식]\n",
    "\n",
    "- 조건식이 True일 때만 식이 수행"
   ]
  },
  {
   "cell_type": "code",
   "execution_count": 5,
   "id": "850a01f7",
   "metadata": {},
   "outputs": [
    {
     "name": "stdout",
     "output_type": "stream",
     "text": [
      "[0, 2, 4, 6, 8]\n"
     ]
    }
   ],
   "source": [
    "result = [i for i in range(10) if i % 2 == 0]\n",
    "print(result)"
   ]
  },
  {
   "cell_type": "markdown",
   "id": "732789fd",
   "metadata": {},
   "source": [
    "### [식(True) if 조건 else 식(False) for 변수 in 리스트]"
   ]
  },
  {
   "cell_type": "code",
   "execution_count": 10,
   "id": "eab43dcc",
   "metadata": {},
   "outputs": [
    {
     "name": "stdout",
     "output_type": "stream",
     "text": [
      "[0, 1, 2, 9, 4, 25, 6, 49, 8, 81]\n"
     ]
    }
   ],
   "source": [
    "result = [i if i % 2 == 0 else i ** 2 for i in range(10)]\n",
    "\n",
    "print(result)"
   ]
  },
  {
   "cell_type": "code",
   "execution_count": 11,
   "id": "51c2378a",
   "metadata": {
    "scrolled": true
   },
   "outputs": [
    {
     "name": "stdout",
     "output_type": "stream",
     "text": [
      "['짝수', '홀수', '짝수', '홀수', '짝수', '홀수', '짝수', '홀수', '짝수', '홀수']\n"
     ]
    }
   ],
   "source": [
    "# 0~ 9까지 짝수면 '짝수', 홀수면 '홀수' 출력\n",
    "\n",
    "# 0은 짝수?\n",
    "result = ['짝수' if i % 2 == 0 '홀수' for i in range(10)]\n",
    "print(result)"
   ]
  },
  {
   "cell_type": "code",
   "execution_count": 16,
   "id": "8f2b1c93",
   "metadata": {},
   "outputs": [
    {
     "name": "stdout",
     "output_type": "stream",
     "text": [
      "[('곱창전골', '가서 먹기', '과일'), ('곱창전골', '배달', '과일'), ('곱창전골', '가서 먹기', '커피'), ('곱창전골', '배달', '커피'), ('곱창전골', '가서 먹기', '아이스크림'), ('곱창전골', '배달', '아이스크림'), ('야채', '가서 먹기', '과일'), ('야채', '배달', '과일'), ('야채', '가서 먹기', '커피'), ('야채', '배달', '커피'), ('야채', '가서 먹기', '아이스크림'), ('야채', '배달', '아이스크림'), ('치킨', '가서 먹기', '과일'), ('치킨', '배달', '과일'), ('치킨', '가서 먹기', '커피'), ('치킨', '배달', '커피'), ('치킨', '가서 먹기', '아이스크림'), ('치킨', '배달', '아이스크림')]\n",
      "('치킨', '가서 먹기', '커피')\n"
     ]
    }
   ],
   "source": [
    "dinner = [(x, z, y) for x in ['곱창전골', '야채', '치킨'] for y in ['과일', '커피', '아이스크림']\n",
    "          for z in ['가서 먹기', '배달']]\n",
    "# 튜플 타입의 배열로 묶여 저장된다(다차원 배열)\n",
    "\n",
    "print(dinner)\n",
    "\n",
    "import random\n",
    "\n",
    "print(dinner[random.randrange(0, len(dinner))])"
   ]
  },
  {
   "cell_type": "code",
   "execution_count": 17,
   "id": "4de71c03",
   "metadata": {},
   "outputs": [
    {
     "name": "stdout",
     "output_type": "stream",
     "text": [
      "[['AD', 'BD', 'CD'], ['AE', 'BE', 'CE'], ['AA', 'BA', 'CA']]\n"
     ]
    }
   ],
   "source": [
    "case_1 = ['A', 'B', 'C']\n",
    "case_2 = ['D', 'E', 'A']\n",
    "\n",
    "result = [[i + j for i in case_1] for j in case_2 ]\n",
    "print(result)"
   ]
  }
 ],
 "metadata": {
  "kernelspec": {
   "display_name": "Python 3 (ipykernel)",
   "language": "python",
   "name": "python3"
  },
  "language_info": {
   "codemirror_mode": {
    "name": "ipython",
    "version": 3
   },
   "file_extension": ".py",
   "mimetype": "text/x-python",
   "name": "python",
   "nbconvert_exporter": "python",
   "pygments_lexer": "ipython3",
   "version": "3.10.9"
  }
 },
 "nbformat": 4,
 "nbformat_minor": 5
}
