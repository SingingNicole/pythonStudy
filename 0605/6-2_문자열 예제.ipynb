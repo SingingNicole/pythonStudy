{
 "cells": [
  {
   "cell_type": "markdown",
   "id": "8091684a",
   "metadata": {},
   "source": [
    "## 연 / 월 / 일 형식으로 문자열을 입력받아 10년 후 날짜 출력하기\n",
    "\n",
    "    - 날짜(연 / 월 / 일)입력 ==> 2023/6/5\n",
    "    - 10년 후 ==> 2033년 6월 5일"
   ]
  },
  {
   "cell_type": "code",
   "execution_count": 5,
   "id": "e5b157ca",
   "metadata": {},
   "outputs": [
    {
     "name": "stdout",
     "output_type": "stream",
     "text": [
      "현재 날짜를 입력해 주세요.(연/월/일 형식): 2023/06/05\n",
      "10년 후 ==> 2033년 06월 05일\n"
     ]
    }
   ],
   "source": [
    "target = input('현재 날짜를 입력해 주세요.(연/월/일 형식): ')\n",
    "\n",
    "answer = target.split('/')\n",
    "print('10년 후 ==> ', int(answer[0]) + 10, '년 ', answer[1], '월 ', answer[2], '일', sep='')"
   ]
  },
  {
   "cell_type": "code",
   "execution_count": 7,
   "id": "2fb366ef",
   "metadata": {},
   "outputs": [
    {
     "name": "stdout",
     "output_type": "stream",
     "text": [
      "날짜(연/월/일) 입력 ==> 2023/6/5\n",
      "10년 후 ==> 2033년 6월 5일\n",
      "10년 후 ==> 2033년 6월 5일\n"
     ]
    }
   ],
   "source": [
    "# 강사님 코드\n",
    "sdate = input('날짜(연/월/일) 입력 ==> ')\n",
    "\n",
    "d_list = sdate.split('/')\n",
    "print('10년 후 ==> ', int(d_list[0]) + 10, '년 ', d_list[1], '월 ', d_list[2], '일', sep='')\n",
    "# 포맷팅 사용\n",
    "print('10년 후 ==> %d년 %s월 %s일' %(int(d_list[0]) + 10, d_list[1], d_list[2]))"
   ]
  },
  {
   "cell_type": "markdown",
   "id": "b9637c0b",
   "metadata": {},
   "source": [
    "## 외부 파일에서 특정 단어의 개수 세기\n"
   ]
  },
  {
   "cell_type": "code",
   "execution_count": 10,
   "id": "6183aa7b",
   "metadata": {},
   "outputs": [
    {
     "name": "stdout",
     "output_type": "stream",
     "text": [
      "yesterday: 9개\n"
     ]
    }
   ],
   "source": [
    "f = open('yesterday.txt', 'r') # 'yesterday.txt' 파일을 read 모드로 가져온다.\n",
    "yesterday_lyric = f.readlines() # 문자열 한 줄씩 list로 저장\n",
    "# print(type(yesterday_lyric)) ## list 객체임을 확인할 수 있음.\n",
    "f.close\n",
    "\n",
    "contents = \"\" # 전체 내용을 저장할 수 있는 공간 생성\n",
    "\n",
    "for line in yesterday_lyric: \n",
    "    contents = contents + line.strip() + \"\\n\" # 기존에 있던 내용을 합쳐 문자열 하나로 바꾸었다.\n",
    "\n",
    "# 문자열 비교 시 대소문자를 구분하므로 변환하여 문자를 통일 후 비교한다.\n",
    "n_of_yesterday = contents.upper().count('YESTERDAY') # 문자열을 모두 대문자로 변환 후 count\n",
    "\n",
    "print('yesterday: %d개' %n_of_yesterday)"
   ]
  }
 ],
 "metadata": {
  "kernelspec": {
   "display_name": "Python 3 (ipykernel)",
   "language": "python",
   "name": "python3"
  },
  "language_info": {
   "codemirror_mode": {
    "name": "ipython",
    "version": 3
   },
   "file_extension": ".py",
   "mimetype": "text/x-python",
   "name": "python",
   "nbconvert_exporter": "python",
   "pygments_lexer": "ipython3",
   "version": "3.10.9"
  }
 },
 "nbformat": 4,
 "nbformat_minor": 5
}
