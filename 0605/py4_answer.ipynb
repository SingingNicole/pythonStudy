{
 "cells": [
  {
   "cell_type": "markdown",
   "id": "52c4f3ec",
   "metadata": {},
   "source": [
    "- 주어진 자연수 N에 대해 N이 짝수이면 N!을, 홀수이면 ΣN을 구하는 코드를 작성하려 한다. 주어진 코드에서 잘못된 부분을 수정하시오. "
   ]
  },
  {
   "cell_type": "code",
   "execution_count": 3,
   "id": "73e84726",
   "metadata": {},
   "outputs": [
    {
     "name": "stdout",
     "output_type": "stream",
     "text": [
      "24\n"
     ]
    }
   ],
   "source": [
    "def calculator(N):\n",
    "\n",
    "    if N % 2 == 0: # 변수명 오류?\n",
    "        result = 1\n",
    "        for i in range(1, N + 1):\n",
    "            result = result * i\n",
    "    else:\n",
    "        result = 0\n",
    "        for i in range(1, N + 1):\n",
    "            result = result + i\n",
    "    return result"
   ]
  },
  {
   "cell_type": "code",
   "execution_count": 5,
   "id": "0a91e055",
   "metadata": {},
   "outputs": [
    {
     "name": "stdout",
     "output_type": "stream",
     "text": [
      "apple\n"
     ]
    }
   ],
   "source": [
    "fruit = \"apple\"\n",
    "\n",
    "if fruit == 'Apple':\n",
    "    fruit = 'Apple'\n",
    "elif fruit == 'fruit':\n",
    "    fruit = 'fruit'\n",
    "else:\n",
    "    fruit = fruit\n",
    "\n",
    "print(fruit)"
   ]
  },
  {
   "cell_type": "code",
   "execution_count": 6,
   "id": "4c22e4f7",
   "metadata": {},
   "outputs": [
    {
     "name": "stdout",
     "output_type": "stream",
     "text": [
      "['12', '34', '56']\n"
     ]
    }
   ],
   "source": [
    "num = ['12', '34', '56']\n",
    "\n",
    "for i in num:\n",
    "    i = int(i)\n",
    "\n",
    "print(num)"
   ]
  },
  {
   "cell_type": "code",
   "execution_count": 6,
   "id": "ae83b7e4",
   "metadata": {},
   "outputs": [
    {
     "name": "stdout",
     "output_type": "stream",
     "text": [
      "[3, 4.0]\n"
     ]
    }
   ],
   "source": [
    "number = [\"1\", 2, 3, float(4), str(5)]\n",
    "\n",
    "if number[4] == 5:\n",
    "    print(type(number[0]))\n",
    "elif number[3] == 4:\n",
    "    print(number[2:-1])"
   ]
  },
  {
   "cell_type": "code",
   "execution_count": 9,
   "id": "72001e19",
   "metadata": {},
   "outputs": [
    {
     "name": "stdout",
     "output_type": "stream",
     "text": [
      "2\n"
     ]
    }
   ],
   "source": [
    "num = 0\n",
    "\n",
    "i = 1\n",
    "\n",
    "while i < 8:\n",
    "    if i % 3 == 0:\n",
    "        break\n",
    "    i += 1\n",
    "    \n",
    "    num += 1\n",
    "\n",
    "print(num)"
   ]
  },
  {
   "cell_type": "code",
   "execution_count": 7,
   "id": "89c2e2af",
   "metadata": {},
   "outputs": [
    {
     "name": "stdout",
     "output_type": "stream",
     "text": [
      "-5\n"
     ]
    }
   ],
   "source": [
    "result = 0\n",
    "\n",
    "for i in range(5, -5, -2): # 시작, 끝, 스텝 순의 배열 [5, 3, 1, -1, -3] (가장 마지막 값은 포함 X)\n",
    "    if i < -3:\n",
    "        result += 1\n",
    "    else:\n",
    "        result -= 1\n",
    "    # 배열에 있는 값이 모두 -3 이상이므로 -5\n",
    "        \n",
    "print(result)"
   ]
  },
  {
   "cell_type": "code",
   "execution_count": 10,
   "id": "e5953943",
   "metadata": {},
   "outputs": [
    {
     "name": "stdout",
     "output_type": "stream",
     "text": [
      "0\n"
     ]
    },
    {
     "name": "stderr",
     "output_type": "stream",
     "text": [
      "<>:7: SyntaxWarning: \"is\" with a literal. Did you mean \"==\"?\n",
      "<>:11: SyntaxWarning: \"is\" with a literal. Did you mean \"==\"?\n",
      "<>:7: SyntaxWarning: \"is\" with a literal. Did you mean \"==\"?\n",
      "<>:11: SyntaxWarning: \"is\" with a literal. Did you mean \"==\"?\n",
      "C:\\Users\\soldesk\\AppData\\Local\\Temp\\ipykernel_9180\\1934422070.py:7: SyntaxWarning: \"is\" with a literal. Did you mean \"==\"?\n",
      "  if i is 5:\n",
      "C:\\Users\\soldesk\\AppData\\Local\\Temp\\ipykernel_9180\\1934422070.py:11: SyntaxWarning: \"is\" with a literal. Did you mean \"==\"?\n",
      "  if i is 10:\n"
     ]
    }
   ],
   "source": [
    "# syntaxwarning\n",
    "\n",
    "first_value = 0\n",
    "second_value = 0\n",
    "\n",
    "for i in range(1, 10):\n",
    "    if i is 5:\n",
    "        continue\n",
    "        first_value = i\n",
    "        \n",
    "    if i is 10:\n",
    "        break\n",
    "        second_value = i\n",
    "        \n",
    "print(first_value + second_value)"
   ]
  },
  {
   "cell_type": "code",
   "execution_count": 14,
   "id": "0acd80fc",
   "metadata": {
    "scrolled": true
   },
   "outputs": [
    {
     "name": "stdout",
     "output_type": "stream",
     "text": [
      "986531\n"
     ]
    },
    {
     "name": "stderr",
     "output_type": "stream",
     "text": [
      "<>:6: SyntaxWarning: \"is\" with a literal. Did you mean \"==\"?\n",
      "<>:6: SyntaxWarning: \"is\" with a literal. Did you mean \"==\"?\n",
      "<>:6: SyntaxWarning: \"is\" with a literal. Did you mean \"==\"?\n",
      "<>:6: SyntaxWarning: \"is\" with a literal. Did you mean \"==\"?\n",
      "C:\\Users\\soldesk\\AppData\\Local\\Temp\\ipykernel_4284\\4248656706.py:6: SyntaxWarning: \"is\" with a literal. Did you mean \"==\"?\n",
      "  elif i is 7 or i is 10:\n",
      "C:\\Users\\soldesk\\AppData\\Local\\Temp\\ipykernel_4284\\4248656706.py:6: SyntaxWarning: \"is\" with a literal. Did you mean \"==\"?\n",
      "  elif i is 7 or i is 10:\n"
     ]
    }
   ],
   "source": [
    "num = \"\"\n",
    "\n",
    "for i in range(10):\n",
    "    if i <= 5 and (i % 2) == 0:\n",
    "        continue\n",
    "    elif i is 7 or i is 10:\n",
    "        continue\n",
    "    else:\n",
    "        num = str(i) + num\n",
    "\n",
    "print(num)"
   ]
  },
  {
   "cell_type": "code",
   "execution_count": 11,
   "id": "64d81db8",
   "metadata": {},
   "outputs": [
    {
     "name": "stdout",
     "output_type": "stream",
     "text": [
      "Hire more workers\n",
      "Hire more workers\n"
     ]
    }
   ],
   "source": [
    "def work_status(task, worker, day):\n",
    "    \n",
    "    rest_task = task\n",
    "\n",
    "    for k in range(day):\n",
    "        if rest_task > 0:\n",
    "            rest_task = rest_task - worker\n",
    "        elif rest_task <= 0:\n",
    "            print('Task end')\n",
    "\n",
    "    if rest_task > 0:\n",
    "        print('Hire more workers')\n",
    "\n",
    "work_status(100, 11, 10)\n",
    "work_status(100, 1, 10)\n",
    "work_status(100, 9, 10)\n",
    "work_status(100, 10, 10)"
   ]
  },
  {
   "cell_type": "code",
   "execution_count": 25,
   "id": "db57eb4a",
   "metadata": {},
   "outputs": [
    {
     "name": "stdout",
     "output_type": "stream",
     "text": [
      "45\n"
     ]
    }
   ],
   "source": [
    "score_list = [5, 10, 15, 20, 25, 30]\n",
    "\n",
    "sum_of_score = 0\n",
    "\n",
    "i = 0\n",
    "\n",
    "while i < len(score_list):\n",
    "    if i % 2 == 0:\n",
    "        sum_of_score += score_list[i]\n",
    "    i += 1\n",
    "    \n",
    "print(sum_of_score)"
   ]
  },
  {
   "cell_type": "code",
   "execution_count": 26,
   "id": "18c91174",
   "metadata": {},
   "outputs": [
    {
     "name": "stdout",
     "output_type": "stream",
     "text": [
      "2600\n"
     ]
    }
   ],
   "source": [
    "coupon = 0\n",
    "money = 200000\n",
    "coffee = 3500\n",
    "\n",
    "while money > coffee:\n",
    "    if coupon < 4:\n",
    "        money = money - coffee\n",
    "        coupon += 1\n",
    "    else:\n",
    "        money += 2800\n",
    "        coupon = 0\n",
    "        \n",
    "print(money)"
   ]
  },
  {
   "cell_type": "markdown",
   "id": "4d5e5462",
   "metadata": {},
   "source": [
    "- 13. 다음 코드는 변수 a와 b의 숫자를 비교하여 숫자와 자릿수가 같으면 ‘strike’, 숫자는 서로 포함하나 자릿수가 다르면 ‘ball’로 카운트하는 프로그램이다. 다음 프로그램의 실행 결과를 쓰시오. 또한, 결과값이 맞지 않는 이유를 쓰고, 올바른 결과값이 나오도록 코드를 수정하시오. "
   ]
  },
  {
   "cell_type": "code",
   "execution_count": 27,
   "id": "8fc664db",
   "metadata": {},
   "outputs": [
    {
     "name": "stdout",
     "output_type": "stream",
     "text": [
      "Strike: 0 Ball: 0\n"
     ]
    }
   ],
   "source": [
    "# 오답\n",
    "a = \"369\"\n",
    "b = \"693\"\n",
    "\n",
    "strike = 0\n",
    "ball = 0\n",
    "\n",
    "for number in a:\n",
    "    if b.count(number) > 1:\n",
    "        if b.find(number) != a.find(number):\n",
    "            strike += 1\n",
    "        else:\n",
    "            ball += 1\n",
    "            \n",
    "print('Strike:', strike, 'Ball:', ball)"
   ]
  },
  {
   "cell_type": "code",
   "execution_count": 15,
   "id": "cdf7fbe8",
   "metadata": {},
   "outputs": [
    {
     "name": "stdout",
     "output_type": "stream",
     "text": [
      "Strike: 0 Ball: 3\n"
     ]
    }
   ],
   "source": [
    "# 수정\n",
    "a = \"369\"\n",
    "b = \"693\"\n",
    "\n",
    "strike = 0\n",
    "ball = 0\n",
    "\n",
    "for i in range (len(a)):\n",
    "    if a[i] == b[i]:\n",
    "        strike += 1\n",
    "    elif a[i] in b:\n",
    "        ball += 1\n",
    "\n",
    "print('Strike:', strike, 'Ball:', ball)"
   ]
  },
  {
   "cell_type": "code",
   "execution_count": 2,
   "id": "527353e0",
   "metadata": {
    "scrolled": true
   },
   "outputs": [
    {
     "name": "stdout",
     "output_type": "stream",
     "text": [
      "6\n"
     ]
    }
   ],
   "source": [
    "list_data_a = [1, 2]\n",
    "list_data_b = [3, 4]\n",
    "\n",
    "for i in list_data_a:\n",
    "    for j in list_data_b:\n",
    "        result = i + j\n",
    "\n",
    "print(result) # 가장 마지막에 적용된 반복문의 결과가 저장된다."
   ]
  },
  {
   "cell_type": "code",
   "execution_count": 4,
   "id": "a443efdd",
   "metadata": {},
   "outputs": [
    {
     "name": "stdout",
     "output_type": "stream",
     "text": [
      "[1, 2, 3, 4, 5, 6]\n"
     ]
    }
   ],
   "source": [
    "list_1 = [[1, 2], [3], [4, 5, 6]]\n",
    "\n",
    "a, b, c = list_1\n",
    "\n",
    "list_2 = a + b + c\n",
    "\n",
    "print(list_2) # 언패킹되어서 저장"
   ]
  }
 ],
 "metadata": {
  "kernelspec": {
   "display_name": "Python 3 (ipykernel)",
   "language": "python",
   "name": "python3"
  },
  "language_info": {
   "codemirror_mode": {
    "name": "ipython",
    "version": 3
   },
   "file_extension": ".py",
   "mimetype": "text/x-python",
   "name": "python",
   "nbconvert_exporter": "python",
   "pygments_lexer": "ipython3",
   "version": "3.10.9"
  }
 },
 "nbformat": 4,
 "nbformat_minor": 5
}
