{
 "cells": [
  {
   "cell_type": "markdown",
   "id": "9b7257ce",
   "metadata": {},
   "source": [
    "## 문자열\n",
    "    - 파이썬은 문자열을 한 글자씩 리스트로 저장한다.\n",
    "    - 영문자 한 글자는 1byte의 용량을 가진다.\n",
    "    - 컴퓨터는 문자열을 이진수 데이터로 받아 저장한다."
   ]
  },
  {
   "cell_type": "code",
   "execution_count": 4,
   "id": "438b4b65",
   "metadata": {},
   "outputs": [
    {
     "name": "stdout",
     "output_type": "stream",
     "text": [
      "50 51 52\n",
      "76 78\n"
     ]
    }
   ],
   "source": [
    "import sys\n",
    "\n",
    "print(sys.getsizeof(\"a\"), sys.getsizeof(\"ab\"), sys.getsizeof(\"cde\"))\n",
    "print(sys.getsizeof(\"가\"), sys.getsizeof(\"가나\"))\n",
    "\n",
    "# 하나의 문자를 저장할 때 문자를 제외하고도 변수와 관련된 정보 등을 저장하는데, \n",
    "# 이 때 기본적으로 49byte의 데이터가 필요하다.(49 + 변수의 용량값)"
   ]
  },
  {
   "cell_type": "markdown",
   "id": "994e7cb7",
   "metadata": {},
   "source": [
    "#### 문자열 함수\n",
    "- in: 문자열 안에 있는 글자를 확인할 수 있다."
   ]
  },
  {
   "cell_type": "code",
   "execution_count": 5,
   "id": "161fddb2",
   "metadata": {},
   "outputs": [
    {
     "name": "stdout",
     "output_type": "stream",
     "text": [
      "TEAM\n"
     ]
    }
   ],
   "source": [
    "a = \"TEAM\"\n",
    "b = \"LAB\"\n",
    "\n",
    "if \"A\" in a: print(a)\n",
    "else: print(b)"
   ]
  },
  {
   "cell_type": "markdown",
   "id": "8cd9d530",
   "metadata": {},
   "source": [
    "- count('문자'): 문자열이 대상 문자를 몇 개 포함하고 있는지 반환한다."
   ]
  },
  {
   "cell_type": "code",
   "execution_count": 6,
   "id": "fdf68240",
   "metadata": {},
   "outputs": [
    {
     "name": "stdout",
     "output_type": "stream",
     "text": [
      "1\n"
     ]
    }
   ],
   "source": [
    "a = 'python'\n",
    "res = a.count(\"p\")\n",
    "print(res)"
   ]
  },
  {
   "cell_type": "markdown",
   "id": "fbf63b4f",
   "metadata": {},
   "source": [
    "- find(\"문자\", 숫자) / index(\"문자\"): 대상 문자가 문자열에서 어느 위치에 있는지 인덱스 번호를 반환한다.\n",
    "\n",
    "    - 왼쪽부터 해당 단어의 위치를 찾아 온다.\n",
    "    - index의 경우 문자열에 포함되어 있지 않은 문자는 찾을 수 없다(ValueError).\n",
    "    - 특정 위치 다음에 처음으로 등장하는 위치 반환도 가능"
   ]
  },
  {
   "cell_type": "code",
   "execution_count": 12,
   "id": "930d73a5",
   "metadata": {},
   "outputs": [
    {
     "name": "stdout",
     "output_type": "stream",
     "text": [
      "1\n",
      "1\n",
      "1\n"
     ]
    }
   ],
   "source": [
    "res = a.find(\"y\")\n",
    "print(res)\n",
    "\n",
    "res = a.index('y')\n",
    "print(res)\n",
    "\n",
    "rs = a.find(\"Z\")\n",
    "print(res)"
   ]
  },
  {
   "cell_type": "code",
   "execution_count": 11,
   "id": "3cbb2d64",
   "metadata": {},
   "outputs": [
    {
     "ename": "ValueError",
     "evalue": "substring not found",
     "output_type": "error",
     "traceback": [
      "\u001b[1;31m---------------------------------------------------------------------------\u001b[0m",
      "\u001b[1;31mValueError\u001b[0m                                Traceback (most recent call last)",
      "Cell \u001b[1;32mIn[11], line 1\u001b[0m\n\u001b[1;32m----> 1\u001b[0m rs \u001b[38;5;241m=\u001b[39m \u001b[43ma\u001b[49m\u001b[38;5;241;43m.\u001b[39;49m\u001b[43mindex\u001b[49m\u001b[43m(\u001b[49m\u001b[38;5;124;43m\"\u001b[39;49m\u001b[38;5;124;43mZ\u001b[39;49m\u001b[38;5;124;43m\"\u001b[39;49m\u001b[43m)\u001b[49m\n\u001b[0;32m      2\u001b[0m \u001b[38;5;28mprint\u001b[39m(res)\n",
      "\u001b[1;31mValueError\u001b[0m: substring not found"
     ]
    }
   ],
   "source": [
    "rs = a.index(\"Z\")\n",
    "print(res)"
   ]
  },
  {
   "cell_type": "code",
   "execution_count": 13,
   "id": "c7bed656",
   "metadata": {},
   "outputs": [
    {
     "name": "stdout",
     "output_type": "stream",
     "text": [
      "1\n"
     ]
    }
   ],
   "source": [
    "b = \"abcabcabc\"\n",
    "res = b.find('b')\n",
    "print(res)"
   ]
  },
  {
   "cell_type": "code",
   "execution_count": 14,
   "id": "cb13edd4",
   "metadata": {},
   "outputs": [
    {
     "name": "stdout",
     "output_type": "stream",
     "text": [
      "7\n"
     ]
    }
   ],
   "source": [
    "b = \"abcabcabc\"\n",
    "res = b.find(\"b\", 5)\n",
    "print(res)"
   ]
  },
  {
   "cell_type": "markdown",
   "id": "423aa28e",
   "metadata": {},
   "source": [
    "- rfind(\"문자\"): 오른쪽부터 가장 첫 번째 위치 반환"
   ]
  },
  {
   "cell_type": "code",
   "execution_count": 15,
   "id": "693750fc",
   "metadata": {},
   "outputs": [
    {
     "name": "stdout",
     "output_type": "stream",
     "text": [
      "7\n"
     ]
    }
   ],
   "source": [
    "b = \"abcabcabc\"\n",
    "res = b.rfind(\"b\")\n",
    "print(res)"
   ]
  },
  {
   "cell_type": "markdown",
   "id": "3aa91b94",
   "metadata": {},
   "source": [
    "- replace('문자열1', '문자열2'): 원본 문자열에서 문자열 1을 문자열 2로 바꾸어 반환\n",
    "    - 원본 데이터에 영향을 주지 않으며, 변환된 새로운 문자열을 만든다.\n",
    "    - 전달받은 문자열의 공백 문자를 빈 문자열로 치환도 가능"
   ]
  },
  {
   "cell_type": "code",
   "execution_count": 16,
   "id": "e58578b7",
   "metadata": {},
   "outputs": [
    {
     "name": "stdout",
     "output_type": "stream",
     "text": [
      "python sython\n"
     ]
    }
   ],
   "source": [
    "res = a.replace('py', 'sy')\n",
    "print(a, res)"
   ]
  },
  {
   "cell_type": "code",
   "execution_count": 17,
   "id": "d2791d7b",
   "metadata": {},
   "outputs": [
    {
     "name": "stdout",
     "output_type": "stream",
     "text": [
      "data1data2data3\n"
     ]
    }
   ],
   "source": [
    "a = \"data1 data2 data3\"\n",
    "res = a.replace(' ', '')\n",
    "print(res)"
   ]
  },
  {
   "cell_type": "markdown",
   "id": "c78f0a19",
   "metadata": {},
   "source": [
    "- split(): 문자열을 특정 구분자를 기준으로 나누어 리스트로 만든다.\n",
    "    - 기본 구분자: 공백, 줄바꿈, tab 공백\n",
    "- splitlines(): 줄바꿈 only 기준으로 문자열을 리스트로 나눔."
   ]
  },
  {
   "cell_type": "code",
   "execution_count": 19,
   "id": "44d497bf",
   "metadata": {},
   "outputs": [
    {
     "name": "stdout",
     "output_type": "stream",
     "text": [
      "['python', 'java', 'javascript']\n",
      "['python', 'java', 'javascript']\n",
      "['python', 'java', 'javascript']\n"
     ]
    }
   ],
   "source": [
    "ss = \"python java javascript\"\n",
    "print(ss.split())\n",
    "\n",
    "ss2 = \"python:java:javascript\"\n",
    "print(ss2.split(':'))\n",
    "\n",
    "ss3 = \"python\\njava\\njavascript\"\n",
    "print(ss3.splitlines())"
   ]
  }
 ],
 "metadata": {
  "kernelspec": {
   "display_name": "Python 3 (ipykernel)",
   "language": "python",
   "name": "python3"
  },
  "language_info": {
   "codemirror_mode": {
    "name": "ipython",
    "version": 3
   },
   "file_extension": ".py",
   "mimetype": "text/x-python",
   "name": "python",
   "nbconvert_exporter": "python",
   "pygments_lexer": "ipython3",
   "version": "3.10.9"
  }
 },
 "nbformat": 4,
 "nbformat_minor": 5
}
