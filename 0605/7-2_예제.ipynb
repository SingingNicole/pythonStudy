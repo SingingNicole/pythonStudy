{
 "cells": [
  {
   "cell_type": "markdown",
   "id": "2fb0c74d",
   "metadata": {},
   "source": [
    "#### 나라 이름을 입력받아 해당 국가 코드 출력, 없으면 없음이라고 출력"
   ]
  },
  {
   "cell_type": "code",
   "execution_count": 1,
   "id": "ecaadf4b",
   "metadata": {},
   "outputs": [
    {
     "name": "stdout",
     "output_type": "stream",
     "text": [
      "{'America': 1, 'Korea': 82, 'China': 86, 'Japan': 81}\n",
      "dict_keys(['America', 'Korea', 'China', 'Japan'])\n",
      "dict_values([1, 82, 86, 81])\n"
     ]
    }
   ],
   "source": [
    "# dictionary 선언\n",
    "c_code = {'America':1, 'Korea':82, 'China':86, 'Japan':81}\n",
    "print(c_code)\n",
    "# key, value 출력\n",
    "print(c_code.keys())\n",
    "print(c_code.values())"
   ]
  },
  {
   "cell_type": "code",
   "execution_count": 3,
   "id": "d24785f3",
   "metadata": {},
   "outputs": [
    {
     "name": "stdout",
     "output_type": "stream",
     "text": [
      "나라 이름 입력 => India\n",
      "없음\n"
     ]
    }
   ],
   "source": [
    "target = input('나라 이름 입력 => ')\n",
    "\n",
    "if target in c_code:\n",
    "    answer = c_code[target]\n",
    "    print('해당 국가 코드:', answer)\n",
    "else:\n",
    "    print('없음')"
   ]
  },
  {
   "cell_type": "code",
   "execution_count": null,
   "id": "e6e74e77",
   "metadata": {},
   "outputs": [],
   "source": []
  }
 ],
 "metadata": {
  "kernelspec": {
   "display_name": "Python 3 (ipykernel)",
   "language": "python",
   "name": "python3"
  },
  "language_info": {
   "codemirror_mode": {
    "name": "ipython",
    "version": 3
   },
   "file_extension": ".py",
   "mimetype": "text/x-python",
   "name": "python",
   "nbconvert_exporter": "python",
   "pygments_lexer": "ipython3",
   "version": "3.10.9"
  }
 },
 "nbformat": 4,
 "nbformat_minor": 5
}
