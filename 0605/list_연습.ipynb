{
 "cells": [
  {
   "cell_type": "markdown",
   "id": "c1981540",
   "metadata": {},
   "source": [
    "#### 문제 1\n",
    "- 2023년 5월 네번째 주의 삼성전자 종가는 아래 표와 같습니다. 5/22일의 종가를 리스트의 첫 번째 항목으로 입력해서 ss_closing_price라는 이름의 리스트를 만들어보세요.\n",
    "\n",
    "\n",
    "날짜\t요일\t종가\n",
    "\n",
    "5/26\t금\t70,300\n",
    "\n",
    "5/25\t목\t68,800\n",
    "\n",
    "5/24\t수\t68,500\n",
    "\n",
    "5/23\t화\t68,400\n",
    "\n",
    "5/22\t월\t68,500\n"
   ]
  },
  {
   "cell_type": "code",
   "execution_count": 42,
   "id": "155e6206",
   "metadata": {},
   "outputs": [
    {
     "name": "stdout",
     "output_type": "stream",
     "text": [
      "[{'날짜': '5/26', '요일': '금', '종가': 70300}, {'날짜': '5/25', '요일': '목', '종가': 68800}, {'날짜': '5/24', '요일': '수', '종가': 68500}, {'날짜': '5/23', '요일': '화', '종가': 68400}, {'날짜': '5/22', '요일': '월', '종가': 68500}]\n"
     ]
    }
   ],
   "source": [
    "ss_closing_price = [{'날짜':'5/26', '요일':'금', '종가':70300},\n",
    "                    {'날짜':'5/25', '요일':'목', '종가':68800},\n",
    "                   {'날짜':'5/24', '요일':'수', '종가':68500},\n",
    "                   {'날짜':'5/23', '요일':'화', '종가':68400},\n",
    "                   {'날짜':'5/22', '요일':'월', '종가':68500}]\n",
    "\n",
    "print(ss_closing_price)"
   ]
  },
  {
   "cell_type": "markdown",
   "id": "356ca5c4",
   "metadata": {},
   "source": [
    "#### 문제 2\n",
    "- 문제 1에서 만든 ss_closing_price를 이용해 해당 주에 종가를 기준으로 가장 높았던 가격을 출력하세요. (힌트: 리스트에서 최댓값을 찾는 함수는 max()이고, 화면에 출력하는 함수는 print()입니다.)"
   ]
  },
  {
   "cell_type": "code",
   "execution_count": 18,
   "id": "e375996d",
   "metadata": {},
   "outputs": [
    {
     "name": "stdout",
     "output_type": "stream",
     "text": [
      "70300\n"
     ]
    }
   ],
   "source": [
    "price_only = []\n",
    "\n",
    "for i in ss_closing_price:\n",
    "    price_only.append(i['종가'])\n",
    "    \n",
    "print(max(price_only))"
   ]
  },
  {
   "cell_type": "markdown",
   "id": "fdda8b44",
   "metadata": {},
   "source": [
    "#### 문제 3\n",
    "- 문제 1에서 만든 ss_closing_price를 이용해 해당 주에 종가를 기준으로 가장 낮았던 가격을 출력하세요. (힌트: 리스트에서 최솟값을 찾는 함수는 min()이고, 화면에 출력하는 함수는 print()입니다.)"
   ]
  },
  {
   "cell_type": "code",
   "execution_count": 22,
   "id": "f95aadde",
   "metadata": {},
   "outputs": [
    {
     "name": "stdout",
     "output_type": "stream",
     "text": [
      "68400\n"
     ]
    }
   ],
   "source": [
    "print(min(price_only))"
   ]
  },
  {
   "cell_type": "markdown",
   "id": "8c7daa2b",
   "metadata": {},
   "source": [
    "#### 문제 4\n",
    "- 문제 1에서 만든 ss_closing_price를 이용해 해당 주에서 가장 종가가 높았던 요일과 가장 종가가 낮았던 요일의 가격 차를 화면에 출력하세요."
   ]
  },
  {
   "cell_type": "code",
   "execution_count": 25,
   "id": "3ef954af",
   "metadata": {},
   "outputs": [
    {
     "name": "stdout",
     "output_type": "stream",
     "text": [
      "가격차: 1900원\n"
     ]
    }
   ],
   "source": [
    "print('가격차: ',max(price_only) - min(price_only),'원', sep='')"
   ]
  },
  {
   "cell_type": "markdown",
   "id": "a324ef2e",
   "metadata": {},
   "source": [
    "#### 문제 5\n",
    "- 문제 1에서 만든 ss_closing_price를 이용해 수요일의 종가를 화면에 출력하세요."
   ]
  },
  {
   "cell_type": "code",
   "execution_count": 27,
   "id": "da99e84a",
   "metadata": {},
   "outputs": [
    {
     "name": "stdout",
     "output_type": "stream",
     "text": [
      "68500\n"
     ]
    }
   ],
   "source": [
    "day_of_week = ['월', '화', '수', '목', '금']\n",
    "wed = day_of_week.index('수')\n",
    "\n",
    "wed_price = ss_closing_price[wed]\n",
    "print(wed_price['종가'])"
   ]
  },
  {
   "cell_type": "markdown",
   "id": "86b1bc00",
   "metadata": {},
   "source": [
    "#### 문제 6\n",
    "- 표1를 이용해 날짜를 딕셔너리의 키 값으로, 종가를 딕셔너리의 값으로 사용해 ss_closing_price2라는 딕셔너리를 만드세요."
   ]
  },
  {
   "cell_type": "code",
   "execution_count": 32,
   "id": "e3e8e1a7",
   "metadata": {},
   "outputs": [
    {
     "name": "stdout",
     "output_type": "stream",
     "text": [
      "{'5/22': 68500, '5/23': 68400, '5/24': 68500, '5/25': 68800, '5/26': 70300}\n"
     ]
    }
   ],
   "source": [
    "ss_closing_price2 = {'5/22':68500, '5/23':68400, '5/24':68500, '5/25':68800, '5/26':70300}\n",
    "print(ss_closing_price2)"
   ]
  },
  {
   "cell_type": "markdown",
   "id": "3d52118c",
   "metadata": {},
   "source": [
    "#### 문제 7\n",
    "- 문제 6에서 만든 ss_closing_price2 딕셔너리를 이용해 5/26일의 종가를 출력하세요."
   ]
  },
  {
   "cell_type": "code",
   "execution_count": 33,
   "id": "f8ea9f78",
   "metadata": {},
   "outputs": [
    {
     "name": "stdout",
     "output_type": "stream",
     "text": [
      "68500\n"
     ]
    }
   ],
   "source": [
    "print(ss_closing_price2['5/24'])"
   ]
  }
 ],
 "metadata": {
  "kernelspec": {
   "display_name": "Python 3 (ipykernel)",
   "language": "python",
   "name": "python3"
  },
  "language_info": {
   "codemirror_mode": {
    "name": "ipython",
    "version": 3
   },
   "file_extension": ".py",
   "mimetype": "text/x-python",
   "name": "python",
   "nbconvert_exporter": "python",
   "pygments_lexer": "ipython3",
   "version": "3.10.9"
  }
 },
 "nbformat": 4,
 "nbformat_minor": 5
}
