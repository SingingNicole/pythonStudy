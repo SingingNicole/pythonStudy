{
 "cells": [
  {
   "cell_type": "code",
   "execution_count": 1,
   "id": "a960d904",
   "metadata": {},
   "outputs": [
    {
     "name": "stdout",
     "output_type": "stream",
     "text": [
      "{'Tom'}\n",
      "{'Mike', 'Tom'}\n"
     ]
    }
   ],
   "source": [
    "# 두 번 이상 나온 이름 찾기\n",
    "# 입력:이름이 n개 들어있는 리스트\n",
    "# 출력: 이름 n개 중 반복되는 이름의 집합\n",
    "\n",
    "def find_same_name(a):\n",
    "    n = len(a) # 리스트의 자료 개수 저장\n",
    "    result = set() # 결과를 저장할 빈 집합\n",
    "    for i in range(0, n - 1): # 0부터 n - 2까지 반복\n",
    "        for j in range(i + 1, n): # i + 1부터 n - 1까지 반복\n",
    "            if a[i] == a[j]: # 각각의 값이 같다면\n",
    "                result.add(a[i]) # 찾은 이름을 result에 추가\n",
    "    return result\n",
    "\n",
    "name = [\"Tom\", \"Jerry\", \"Mike\", \"Tom\"]\n",
    "print(find_same_name(name))\n",
    "\n",
    "name2 = [\"Tom\", \"Jerry\", \"Mike\", \"Tom\", \"Mike\"]\n",
    "print(find_same_name(name2))"
   ]
  },
  {
   "cell_type": "markdown",
   "id": "9fbf79bb",
   "metadata": {},
   "source": [
    "- 연습문제"
   ]
  },
  {
   "cell_type": "code",
   "execution_count": 7,
   "id": "9783e73b",
   "metadata": {},
   "outputs": [
    {
     "name": "stdout",
     "output_type": "stream",
     "text": [
      "{('Jerry', 'Mike'), ('Tom', 'Mike'), ('Tom', 'Jerry')}\n"
     ]
    }
   ],
   "source": [
    "def match_people(people):\n",
    "    people_num = len(people)\n",
    "    result = set()\n",
    "    for i in range(0, people_num - 1):\n",
    "        for j in range(i + 1, people_num):\n",
    "            if people[i] != people[j]:\n",
    "                result.add((people[i], people[j]))\n",
    "    return result\n",
    "\n",
    "people = [\"Tom\", \"Jerry\", \"Mike\"]\n",
    "print(match_people(people))"
   ]
  },
  {
   "cell_type": "markdown",
   "id": "ad0510fb",
   "metadata": {},
   "source": [
    "- 풀이"
   ]
  },
  {
   "cell_type": "code",
   "execution_count": 9,
   "id": "1d5cf5a8",
   "metadata": {},
   "outputs": [
    {
     "name": "stdout",
     "output_type": "stream",
     "text": [
      "Tom - Jerry\n",
      "Tom - Mike\n",
      "Jerry - Mike\n",
      "\n",
      "Tom - Jerry\n",
      "Tom - Mike\n",
      "Tom - John\n",
      "Jerry - Mike\n",
      "Jerry - John\n",
      "Mike - John\n"
     ]
    }
   ],
   "source": [
    "# n명에서 두 명을 뽑아 짝으로 만드는 모든 경우를 찾는 알고리즘\n",
    "# 입력: n명의 이름이 들어 있는 리스트\n",
    "# 출력: 두 명을 뽑아 만들 수 있는 모든 짝\n",
    "\n",
    "def print_pairs(a):\n",
    "    n = len(a)\n",
    "    for i in range(0, n - 1):\n",
    "        for j in range(i + 1, n):\n",
    "            print(a[i], \"-\", a[j])\n",
    "            \n",
    "name = [\"Tom\", \"Jerry\", \"Mike\"]\n",
    "print_pairs(name)\n",
    "print()\n",
    "name2 = [\"Tom\", \"Jerry\", \"Mike\", \"John\"]\n",
    "print_pairs(name2)"
   ]
  }
 ],
 "metadata": {
  "kernelspec": {
   "display_name": "Python 3 (ipykernel)",
   "language": "python",
   "name": "python3"
  },
  "language_info": {
   "codemirror_mode": {
    "name": "ipython",
    "version": 3
   },
   "file_extension": ".py",
   "mimetype": "text/x-python",
   "name": "python",
   "nbconvert_exporter": "python",
   "pygments_lexer": "ipython3",
   "version": "3.10.9"
  }
 },
 "nbformat": 4,
 "nbformat_minor": 5
}
