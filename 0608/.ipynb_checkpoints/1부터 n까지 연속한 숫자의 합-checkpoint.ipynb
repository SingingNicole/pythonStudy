{
 "cells": [
  {
   "cell_type": "code",
   "execution_count": 1,
   "id": "43438e81",
   "metadata": {},
   "outputs": [
    {
     "name": "stdout",
     "output_type": "stream",
     "text": [
      "55\n",
      "5050\n"
     ]
    }
   ],
   "source": [
    "# 1부터 n까지 연속한 숫자의 합을 구하는 알고리즘 1\n",
    "# 입력: n\n",
    "# 출력: 1부터 n까지의 숫자를 더한 값\n",
    "\n",
    "def sum_n(n):\n",
    "    s = 0 # 합이 저장될 변수\n",
    "    for i in range(1, n + 1): # 1부터 n까지 반복\n",
    "        s = s + i\n",
    "    return s\n",
    "\n",
    "print(sum_n(10))\n",
    "print(sum_n(100))"
   ]
  },
  {
   "cell_type": "code",
   "execution_count": 2,
   "id": "50b5d800",
   "metadata": {},
   "outputs": [
    {
     "name": "stdout",
     "output_type": "stream",
     "text": [
      "55\n",
      "5050\n"
     ]
    }
   ],
   "source": [
    "# 1부터 n까지 연속한 숫자의 합을 구하는 알고리즘 2\n",
    "# 입력: n\n",
    "# 출력: n\n",
    "\n",
    "def sum_n(n):\n",
    "    return n * (n + 1) // 2 # //: 정수 나눗셈\n",
    "\n",
    "print(sum_n(10))\n",
    "print(sum_n(100))"
   ]
  }
 ],
 "metadata": {
  "kernelspec": {
   "display_name": "Python 3 (ipykernel)",
   "language": "python",
   "name": "python3"
  },
  "language_info": {
   "codemirror_mode": {
    "name": "ipython",
    "version": 3
   },
   "file_extension": ".py",
   "mimetype": "text/x-python",
   "name": "python",
   "nbconvert_exporter": "python",
   "pygments_lexer": "ipython3",
   "version": "3.10.9"
  }
 },
 "nbformat": 4,
 "nbformat_minor": 5
}
