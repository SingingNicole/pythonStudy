{
 "cells": [
  {
   "cell_type": "markdown",
   "id": "b5f13955",
   "metadata": {},
   "source": [
    "## 예외 처리"
   ]
  },
  {
   "cell_type": "markdown",
   "id": "763f1b47",
   "metadata": {},
   "source": [
    "- try - except를 활용한 예외 처리\n",
    "    - try: 예외 발생 가능 코드를 적는다.\n",
    "    - except: 예외 발생 시 실행되는 코드를 적는다.\n",
    "    - else: 예외가 발생하지 않을 때 실행되는 코드\n",
    "    - finally: try-except 안의 코드가 전부 실행된 후 실행될 코드"
   ]
  },
  {
   "cell_type": "code",
   "execution_count": 3,
   "id": "7c77af2c",
   "metadata": {
    "scrolled": false
   },
   "outputs": [
    {
     "name": "stdout",
     "output_type": "stream",
     "text": [
      "division by zero\n",
      "Not devided by 0\n",
      "10.0\n",
      "5.0\n",
      "3.3333333333333335\n",
      "2.5\n",
      "2.0\n",
      "1.6666666666666667\n",
      "1.4285714285714286\n",
      "1.25\n",
      "1.1111111111111112\n"
     ]
    }
   ],
   "source": [
    "for i in range(10):\n",
    "    try:\n",
    "        print(10 / i)\n",
    "    except ZeroDivisionError as e:\n",
    "        print(e) # 에러 종류 메세지 출력\n",
    "        print(\"Not devided by 0\")"
   ]
  },
  {
   "cell_type": "code",
   "execution_count": 4,
   "id": "53b91fe9",
   "metadata": {},
   "outputs": [
    {
     "name": "stdout",
     "output_type": "stream",
     "text": [
      "Not devided by 0\n",
      "10.0\n",
      "5.0\n",
      "3.3333333333333335\n",
      "2.5\n",
      "2.0\n",
      "1.6666666666666667\n",
      "1.4285714285714286\n",
      "1.25\n",
      "1.1111111111111112\n"
     ]
    }
   ],
   "source": [
    "for i in range(10):\n",
    "    try:\n",
    "        result = 10 / i\n",
    "    except ZeroDivisionError as e:\n",
    "        print(\"Not devided by 0\")\n",
    "    else:\n",
    "        print(10 / i)"
   ]
  },
  {
   "cell_type": "code",
   "execution_count": 5,
   "id": "b2a00794",
   "metadata": {},
   "outputs": [
    {
     "name": "stdout",
     "output_type": "stream",
     "text": [
      "10\n",
      "5\n",
      "3\n",
      "2\n",
      "2\n",
      "1\n",
      "1\n",
      "1\n",
      "1\n",
      "종료되었다.\n"
     ]
    }
   ],
   "source": [
    "try:\n",
    "    for i in range(1, 10):\n",
    "        result = 10 // i\n",
    "        print(result)\n",
    "except ZeroDivisionError:\n",
    "    print(\"Not devided by 0\")\n",
    "finally:\n",
    "    print(\"종료되었다.\")"
   ]
  },
  {
   "cell_type": "markdown",
   "id": "97d9963e",
   "metadata": {},
   "source": [
    "    - finally의 경우 파일을 연결 후 close 해야 하는 경우 등에 주로 사용된다."
   ]
  },
  {
   "cell_type": "markdown",
   "id": "16cbe693",
   "metadata": {},
   "source": [
    "- raise\n",
    "    - 강제로 예외를 발생시킨다."
   ]
  },
  {
   "cell_type": "code",
   "execution_count": 6,
   "id": "8d4e89ac",
   "metadata": {},
   "outputs": [
    {
     "name": "stdout",
     "output_type": "stream",
     "text": [
      "변환할 정수값을 입력해 주세요: 45\n",
      "정수값으로 변환된 숫자 => 45\n",
      "변환할 정수값을 입력해 주세요: dsaf\n"
     ]
    },
    {
     "ename": "ValueError",
     "evalue": "숫자값을 입력하지 않았습니다.",
     "output_type": "error",
     "traceback": [
      "\u001b[1;31m---------------------------------------------------------------------------\u001b[0m",
      "\u001b[1;31mValueError\u001b[0m                                Traceback (most recent call last)",
      "Cell \u001b[1;32mIn[6], line 6\u001b[0m\n\u001b[0;32m      4\u001b[0m \u001b[38;5;28;01mfor\u001b[39;00m digit \u001b[38;5;129;01min\u001b[39;00m value:\n\u001b[0;32m      5\u001b[0m     \u001b[38;5;28;01mif\u001b[39;00m digit \u001b[38;5;129;01mnot\u001b[39;00m \u001b[38;5;129;01min\u001b[39;00m \u001b[38;5;124m\"\u001b[39m\u001b[38;5;124m0123456789\u001b[39m\u001b[38;5;124m\"\u001b[39m:\n\u001b[1;32m----> 6\u001b[0m         \u001b[38;5;28;01mraise\u001b[39;00m \u001b[38;5;167;01mValueError\u001b[39;00m(\u001b[38;5;124m'\u001b[39m\u001b[38;5;124m숫자값을 입력하지 않았습니다.\u001b[39m\u001b[38;5;124m'\u001b[39m)\n\u001b[0;32m      8\u001b[0m \u001b[38;5;28mprint\u001b[39m(\u001b[38;5;124m'\u001b[39m\u001b[38;5;124m정수값으로 변환된 숫자 =>\u001b[39m\u001b[38;5;124m'\u001b[39m, \u001b[38;5;28mint\u001b[39m(value))\n",
      "\u001b[1;31mValueError\u001b[0m: 숫자값을 입력하지 않았습니다."
     ]
    }
   ],
   "source": [
    "while True:\n",
    "    value = input('변환할 정수값을 입력해 주세요: ')\n",
    "    \n",
    "    for digit in value:\n",
    "        if digit not in \"0123456789\":\n",
    "            raise ValueError('숫자값을 입력하지 않았습니다.')\n",
    "            \n",
    "    print('정수값으로 변환된 숫자 =>', int(value))"
   ]
  },
  {
   "cell_type": "markdown",
   "id": "5c6e279c",
   "metadata": {},
   "source": [
    "- assert\n",
    "    - 예외 정보가 조건에 만족하지 않을 경우에만 예외를 발생시킴(예외 조건이 False)"
   ]
  },
  {
   "cell_type": "code",
   "execution_count": 11,
   "id": "1ef43a63",
   "metadata": {
    "scrolled": true
   },
   "outputs": [
    {
     "name": "stdout",
     "output_type": "stream",
     "text": [
      "0b1010\n"
     ]
    },
    {
     "ename": "AssertionError",
     "evalue": "",
     "output_type": "error",
     "traceback": [
      "\u001b[1;31m---------------------------------------------------------------------------\u001b[0m",
      "\u001b[1;31mAssertionError\u001b[0m                            Traceback (most recent call last)",
      "Cell \u001b[1;32mIn[11], line 6\u001b[0m\n\u001b[0;32m      3\u001b[0m     \u001b[38;5;28;01mreturn\u001b[39;00m \u001b[38;5;28mbin\u001b[39m(decimal_number)\n\u001b[0;32m      5\u001b[0m \u001b[38;5;28mprint\u001b[39m(get_binary_number(\u001b[38;5;241m10\u001b[39m))\n\u001b[1;32m----> 6\u001b[0m \u001b[38;5;28mprint\u001b[39m(\u001b[43mget_binary_number\u001b[49m\u001b[43m(\u001b[49m\u001b[38;5;124;43m\"\u001b[39;49m\u001b[38;5;124;43m10\u001b[39;49m\u001b[38;5;124;43m\"\u001b[39;49m\u001b[43m)\u001b[49m)\n",
      "Cell \u001b[1;32mIn[11], line 2\u001b[0m, in \u001b[0;36mget_binary_number\u001b[1;34m(decimal_number)\u001b[0m\n\u001b[0;32m      1\u001b[0m \u001b[38;5;28;01mdef\u001b[39;00m \u001b[38;5;21mget_binary_number\u001b[39m(decimal_number):\n\u001b[1;32m----> 2\u001b[0m     \u001b[38;5;28;01massert\u001b[39;00m \u001b[38;5;28misinstance\u001b[39m(decimal_number, \u001b[38;5;28mint\u001b[39m)\n\u001b[0;32m      3\u001b[0m     \u001b[38;5;28;01mreturn\u001b[39;00m \u001b[38;5;28mbin\u001b[39m(decimal_number)\n",
      "\u001b[1;31mAssertionError\u001b[0m: "
     ]
    }
   ],
   "source": [
    "def get_binary_number(decimal_number):\n",
    "    assert isinstance(decimal_number, int) # assert로 입력받은 값이 정수인지 확인\n",
    "    return bin(decimal_number) # 10진수를 2진수 문자열로 변경한다.\n",
    "\n",
    "print(get_binary_number(10))\n",
    "print(get_binary_number(\"10\")) # \"10\"은 문자형(str)이므로 오류 발생"
   ]
  },
  {
   "cell_type": "markdown",
   "id": "904efec9",
   "metadata": {},
   "source": [
    "## 파일 다루기"
   ]
  },
  {
   "cell_type": "markdown",
   "id": "5310d025",
   "metadata": {},
   "source": [
    "#### 기본 함수"
   ]
  },
  {
   "cell_type": "markdown",
   "id": "bc28949b",
   "metadata": {},
   "source": [
    "- open() / close()\n",
    "    - 파이썬에서 텍스트 파일을 읽어 올 때 사용하는 함수이다."
   ]
  },
  {
   "cell_type": "code",
   "execution_count": 13,
   "id": "98f213b0",
   "metadata": {},
   "outputs": [
    {
     "name": "stdout",
     "output_type": "stream",
     "text": [
      "I have a dream a song to sing\n",
      "to help me cope with anything\n",
      "if you see the wonder of a fairy tale\n",
      "you can take the future even\n",
      "if you fail I believe in angels\n",
      "something good in everything\n",
      "\n",
      "<class 'str'>\n"
     ]
    }
   ],
   "source": [
    "f = open('dream.txt', 'r')\n",
    "\n",
    "contents = f.read()\n",
    "\n",
    "print(contents)\n",
    "print(type(contents))\n",
    "\n",
    "f.close()"
   ]
  },
  {
   "cell_type": "markdown",
   "id": "f6dea998",
   "metadata": {},
   "source": [
    "- with open():\n",
    "    - 들여쓰기가 끝나면 자동으로 close()한다."
   ]
  },
  {
   "cell_type": "code",
   "execution_count": 16,
   "id": "12d70d71",
   "metadata": {},
   "outputs": [
    {
     "name": "stdout",
     "output_type": "stream",
     "text": [
      "<class 'str'> I have a dream a song to sing\n",
      "to help me cope with anything\n",
      "if you see the wonder of a fairy tale\n",
      "you can take the future even\n",
      "if you fail I believe in angels\n",
      "something good in everything\n",
      "\n"
     ]
    }
   ],
   "source": [
    "with open('dream.txt', 'r') as my_file: # open된 상태를 별칭으로 저장한다.\n",
    "    contents = my_file.read()\n",
    "    print(type(contents), contents)"
   ]
  },
  {
   "cell_type": "code",
   "execution_count": 18,
   "id": "17267325",
   "metadata": {},
   "outputs": [
    {
     "name": "stdout",
     "output_type": "stream",
     "text": [
      "<class 'list'>\n",
      "['I have a dream a song to sing\\n', 'to help me cope with anything\\n', 'if you see the wonder of a fairy tale\\n', 'you can take the future even\\n', 'if you fail I believe in angels\\n', 'something good in everything\\n']\n"
     ]
    }
   ],
   "source": [
    "with open('dream.txt', 'r') as my_file:\n",
    "    content_list = my_file.readlines()\n",
    "    print(type(content_list))\n",
    "    print(content_list)"
   ]
  },
  {
   "cell_type": "code",
   "execution_count": 19,
   "id": "676d9a90",
   "metadata": {},
   "outputs": [
    {
     "name": "stdout",
     "output_type": "stream",
     "text": [
      "0 === I have a dream a song to sing\n",
      "1 === to help me cope with anything\n",
      "2 === if you see the wonder of a fairy tale\n",
      "3 === you can take the future even\n",
      "4 === if you fail I believe in angels\n",
      "5 === something good in everything\n"
     ]
    }
   ],
   "source": [
    "# 줄 번호 출력\n",
    "with open(\"dream.txt\", \"r\") as my_file:\n",
    "    i = 0\n",
    "    while 1: # True 상태이므로 무한 반복.\n",
    "        line = my_file.readline()\n",
    "        if not line: # 더 이상 읽어 올 줄이 없을 경우 break\n",
    "            break\n",
    "        print(str(i)+\" === \"+ line.replace(\"\\n\",\"\"))    # 한 줄씩 값 출력 / 줄바꿈은 replace로 빈문자열 대체\n",
    "        i = i + 1"
   ]
  },
  {
   "cell_type": "markdown",
   "id": "fb87a2b8",
   "metadata": {},
   "source": [
    "#### 파일 안 데이터의 통계"
   ]
  },
  {
   "cell_type": "markdown",
   "id": "651701ec",
   "metadata": {},
   "source": [
    "- split() 함수와 len() 함수를 활용할 수 있다."
   ]
  },
  {
   "cell_type": "code",
   "execution_count": 22,
   "id": "82f8d593",
   "metadata": {},
   "outputs": [
    {
     "name": "stdout",
     "output_type": "stream",
     "text": [
      "총 글자의 수: 188\n",
      "총 단어의 수: 35\n",
      "총 줄의 수: 7\n"
     ]
    }
   ],
   "source": [
    "with open('dream.txt' , 'r') as my_file:\n",
    "    contents = my_file.read()\n",
    "    word_list = contents.split(' ') # 빈 칸 기준으로 단어를 분리\n",
    "    line_list = contents.split('\\n') # 한 줄씩 분리하여 리스트 만들기.\n",
    "    \n",
    "print('총 글자의 수:', len(contents))\n",
    "print('총 단어의 수:', len(word_list))\n",
    "print('총 줄의 수:', len(line_list))"
   ]
  },
  {
   "cell_type": "markdown",
   "id": "66a14034",
   "metadata": {},
   "source": [
    "#### 파일 쓰기"
   ]
  },
  {
   "cell_type": "markdown",
   "id": "ce0f2ab6",
   "metadata": {},
   "source": [
    "- 인코딩\n",
    "    - 텍스트 파일을 저장할 때 사용하는 표준을 지정한다."
   ]
  },
  {
   "cell_type": "code",
   "execution_count": 23,
   "id": "9f05665f",
   "metadata": {},
   "outputs": [],
   "source": [
    "with open('count_log.txt', 'w', encoding = 'utf8') as f:\n",
    "    for i in range(1, 11):\n",
    "        data = \"%d번째 줄이다.\\n\"%i\n",
    "        f.write(data)"
   ]
  },
  {
   "cell_type": "markdown",
   "id": "94507c20",
   "metadata": {},
   "source": [
    "- 'a'로 지정해두면 append로 실행되어 해당 파일에 데이터가 추가"
   ]
  },
  {
   "cell_type": "code",
   "execution_count": 24,
   "id": "a03124d4",
   "metadata": {},
   "outputs": [],
   "source": [
    "with open('count_log.txt', 'a', encoding = 'utf8') as f:\n",
    "    for i in range(100, 111):\n",
    "        data = \"%d번째 줄이다.\\n\"%i\n",
    "        f.write(data)"
   ]
  },
  {
   "cell_type": "markdown",
   "id": "4e13b0eb",
   "metadata": {},
   "source": [
    "- 디렉터리 추가\n",
    "    - mkdir() 함수를 통해 현재 운영 체제에 해당하는 디렉터리를 만들 수 있다.\n",
    "    - 기존에 해당 디렉터리가 있는지 확인하는 코드가 필요하다."
   ]
  },
  {
   "cell_type": "code",
   "execution_count": 25,
   "id": "9d8df4c4",
   "metadata": {},
   "outputs": [],
   "source": [
    "import os\n",
    "\n",
    "if not os.path.isdir('log'):\n",
    "    os.mkdir('log')\n",
    "    \n",
    "if not os.path.exists('log/count_log.txt'):\n",
    "    f = open('log/count_log.txt', 'w', encoding = 'utf8')\n",
    "    f.write('기록이 시작된다.\\n')\n",
    "    f.close()\n",
    "    \n",
    "with open('log/count_log.txt', 'a', encoding = 'utf8') as f:\n",
    "    import random, datetime\n",
    "    for i in range(1, 11):\n",
    "        stamp = str(datetime.datetime.now())\n",
    "        value = random.random() * 1000000\n",
    "        log_line = stamp + \"\\t\" + str(value) + \"값이 생성되었다.\" + \"\\n\"\n",
    "        f.write(log_line)"
   ]
  }
 ],
 "metadata": {
  "kernelspec": {
   "display_name": "Python 3 (ipykernel)",
   "language": "python",
   "name": "python3"
  },
  "language_info": {
   "codemirror_mode": {
    "name": "ipython",
    "version": 3
   },
   "file_extension": ".py",
   "mimetype": "text/x-python",
   "name": "python",
   "nbconvert_exporter": "python",
   "pygments_lexer": "ipython3",
   "version": "3.10.9"
  }
 },
 "nbformat": 4,
 "nbformat_minor": 5
}
