{
 "cells": [
  {
   "cell_type": "markdown",
   "id": "3ec753f3",
   "metadata": {},
   "source": [
    "## 파이썬 객체 지향 프로그래밍의 특징"
   ]
  },
  {
   "cell_type": "markdown",
   "id": "b350a681",
   "metadata": {},
   "source": [
    "#### 2. 다형성\n",
    "- 같은 이름의 메서드가 다른 기능을 할 수 있도록 하는 것을 말한다."
   ]
  },
  {
   "cell_type": "code",
   "execution_count": 3,
   "id": "fe1485e6",
   "metadata": {},
   "outputs": [
    {
     "name": "stdout",
     "output_type": "stream",
     "text": [
      "Missy: Meow!\n",
      "Mr.Mistoffelees: Meow!\n",
      "Lassie: Woof! Woof!\n"
     ]
    }
   ],
   "source": [
    "class Animal: # object를 상속받을 경우 표기는 생략 가능하다.\n",
    "    def __init__(self, name):\n",
    "        self.name = name\n",
    "    def talk(self):\n",
    "        # 메서드가 오버라이딩 되지 않았을 경우 강제로 오류를 발생시킨다.\n",
    "        raise NotImplementedError(\"Subclass must implement abstract method\")\n",
    "        \n",
    "class Cat(Animal):\n",
    "    def talk(self):\n",
    "        return \"Meow!\"\n",
    "    \n",
    "class Dog(Animal):\n",
    "    def talk(self):\n",
    "        return \"Woof! Woof!\"\n",
    "    \n",
    "animals = [Cat('Missy'), Cat('Mr.Mistoffelees'), Dog('Lassie')]\n",
    "\n",
    "for animal in animals:\n",
    "    print(animal.name + ': ' + animal.talk())"
   ]
  },
  {
   "cell_type": "markdown",
   "id": "016faee0",
   "metadata": {},
   "source": [
    "#### 3. 가시성\n",
    "- 정보 은닉: 객체의 정보를 볼 수 있는 레벨을 지정하여 외부에서의 정보 접근을 숨긴다.\n",
    "- 캡슐화 / 정보 은닉\n",
    "- __ 기호로 표시한다."
   ]
  },
  {
   "cell_type": "code",
   "execution_count": 7,
   "id": "67b8f130",
   "metadata": {},
   "outputs": [
    {
     "name": "stdout",
     "output_type": "stream",
     "text": [
      "new item added\n",
      "new item added\n"
     ]
    },
    {
     "ename": "AttributeError",
     "evalue": "'Inventory' object has no attribute '__itmes'",
     "output_type": "error",
     "traceback": [
      "\u001b[1;31m---------------------------------------------------------------------------\u001b[0m",
      "\u001b[1;31mAttributeError\u001b[0m                            Traceback (most recent call last)",
      "Cell \u001b[1;32mIn[7], line 21\u001b[0m\n\u001b[0;32m     18\u001b[0m my_inventory\u001b[38;5;241m.\u001b[39madd_new_item(Product())\n\u001b[0;32m     19\u001b[0m my_inventory\u001b[38;5;241m.\u001b[39madd_new_item(Product())\n\u001b[1;32m---> 21\u001b[0m \u001b[43mmy_inventory\u001b[49m\u001b[38;5;241;43m.\u001b[39;49m\u001b[43m__itmes\u001b[49m\n",
      "\u001b[1;31mAttributeError\u001b[0m: 'Inventory' object has no attribute '__itmes'"
     ]
    }
   ],
   "source": [
    "class Product(object):\n",
    "    pass\n",
    "\n",
    "class Inventory(object):\n",
    "    def __init__(self):\n",
    "        self.__items = [] # 가시성 표기\n",
    "\n",
    "    def add_new_item(self, product):\n",
    "        if type(product) == Product:\n",
    "            self.__items.append(product)\n",
    "            print(\"new item added\")\n",
    "        else:\n",
    "            raise ValueError(\"Invalid Item\")\n",
    "    \n",
    "    def get_number_of_items(self):\n",
    "        return len(self.__items)\n",
    "    \n",
    "my_inventory = Inventory()\n",
    "my_inventory.add_new_item(Product())\n",
    "my_inventory.add_new_item(Product())\n",
    "\n",
    "my_inventory.__itmes # 접근이 차단되어 있으므로 오류 발생\n",
    "#(AttributeError: 'Inventory' object has no attribute '__itmes')"
   ]
  },
  {
   "cell_type": "markdown",
   "id": "e1d13eba",
   "metadata": {},
   "source": [
    "        - 은닉된 정보에 접근하려면 @property 데코레이터를 사용한다."
   ]
  },
  {
   "cell_type": "code",
   "execution_count": 11,
   "id": "0d5623ad",
   "metadata": {},
   "outputs": [
    {
     "name": "stdout",
     "output_type": "stream",
     "text": [
      "new item added\n",
      "new item added\n",
      "[<__main__.Product object at 0x00000185B2988B80>, <__main__.Product object at 0x00000185B1488B80>]\n",
      "3\n"
     ]
    }
   ],
   "source": [
    "class Product(object):\n",
    "    pass\n",
    "\n",
    "class Inventory(object):\n",
    "    def __init__(self):\n",
    "        self.__items = [] # 가시성 표기\n",
    "\n",
    "    def add_new_item(self, product):\n",
    "        if type(product) == Product:\n",
    "            self.__items.append(product)\n",
    "            print(\"new item added\")\n",
    "        else:\n",
    "            raise ValueError(\"Invalid Item\")\n",
    "    \n",
    "    def get_number_of_items(self):\n",
    "        return len(self.__items)\n",
    "    \n",
    "    @property                       # property 데코레이터(숨겨진 변수 반환)\n",
    "    def items(self):\n",
    "        return self.__items\n",
    "    \n",
    "my_inventory = Inventory()\n",
    "my_inventory.add_new_item(Product())\n",
    "my_inventory.add_new_item(Product())\n",
    "\n",
    "print(my_inventory.items) \n",
    "\n",
    "my_inventory.items.append(Product())\n",
    "print(my_inventory.get_number_of_items())"
   ]
  }
 ],
 "metadata": {
  "kernelspec": {
   "display_name": "Python 3 (ipykernel)",
   "language": "python",
   "name": "python3"
  },
  "language_info": {
   "codemirror_mode": {
    "name": "ipython",
    "version": 3
   },
   "file_extension": ".py",
   "mimetype": "text/x-python",
   "name": "python",
   "nbconvert_exporter": "python",
   "pygments_lexer": "ipython3",
   "version": "3.10.9"
  }
 },
 "nbformat": 4,
 "nbformat_minor": 5
}
