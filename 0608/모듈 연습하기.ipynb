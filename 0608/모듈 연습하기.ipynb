{
 "cells": [
  {
   "cell_type": "markdown",
   "id": "0a5feb40",
   "metadata": {},
   "source": [
    "## os 모듈"
   ]
  },
  {
   "cell_type": "code",
   "execution_count": 1,
   "id": "89b521df",
   "metadata": {},
   "outputs": [
    {
     "name": "stdout",
     "output_type": "stream",
     "text": [
      "D:\\pythonworkspace\\0608\n"
     ]
    }
   ],
   "source": [
    "import os\n",
    "\n",
    "print(os.getcwd()) # 파일의 현재 위치 출력"
   ]
  },
  {
   "cell_type": "markdown",
   "id": "17d9c070",
   "metadata": {},
   "source": [
    "#### 경로 전환: os.chdir()\n",
    "- 경로를 표시할 경우 \\를 2번 사용하거나 혹은 문자열 앞에 r을 붙인다.\n",
    "- 존재하는 경로만 사용 가능하다.\n",
    "\n",
    "        - os.chdir(r\"D:\\su\\test\")"
   ]
  },
  {
   "cell_type": "markdown",
   "id": "be6e4704",
   "metadata": {},
   "source": [
    "#### 경로 만들기: os.mkdir()"
   ]
  },
  {
   "cell_type": "code",
   "execution_count": 2,
   "id": "9c35e4d8",
   "metadata": {},
   "outputs": [],
   "source": [
    "os.mkdir('python') # 해당 파일이 있는 폴더에 새 폴더 'python' 생성"
   ]
  },
  {
   "cell_type": "markdown",
   "id": "38327a75",
   "metadata": {},
   "source": [
    "## re 모듈"
   ]
  },
  {
   "cell_type": "markdown",
   "id": "c0b5ff45",
   "metadata": {},
   "source": [
    "- 특정한 문자의 규칙을 찾고 가공하는 함수 제공"
   ]
  },
  {
   "cell_type": "markdown",
   "id": "c7f13021",
   "metadata": {},
   "source": [
    "#### 문자열 도입에서 패턴 찾기: re.match('패턴', '문자열')\n",
    "- 가장 처음부터 원하는 패턴의 문자열을 찾음\n",
    "- 텍스트 중간에 있는 패턴은 찾지 못함"
   ]
  },
  {
   "cell_type": "code",
   "execution_count": 3,
   "id": "67201478",
   "metadata": {},
   "outputs": [
    {
     "data": {
      "text/plain": [
       "'life'"
      ]
     },
     "execution_count": 3,
     "metadata": {},
     "output_type": "execute_result"
    }
   ],
   "source": [
    "import re\n",
    "\n",
    "pattern = r'life'\n",
    "script = \"life\"\n",
    "\n",
    "re.match(pattern, script).group() # re.match().group(): 매치된 내용을 반환"
   ]
  },
  {
   "cell_type": "markdown",
   "id": "5b9a6316",
   "metadata": {},
   "source": [
    "- 매칭되는 값이 없다면 오류가 발생한다."
   ]
  },
  {
   "cell_type": "code",
   "execution_count": 4,
   "id": "5b4b8b93",
   "metadata": {
    "scrolled": true
   },
   "outputs": [
    {
     "ename": "AttributeError",
     "evalue": "'NoneType' object has no attribute 'group'",
     "output_type": "error",
     "traceback": [
      "\u001b[1;31m---------------------------------------------------------------------------\u001b[0m",
      "\u001b[1;31mAttributeError\u001b[0m                            Traceback (most recent call last)",
      "Cell \u001b[1;32mIn[4], line 1\u001b[0m\n\u001b[1;32m----> 1\u001b[0m \u001b[43mre\u001b[49m\u001b[38;5;241;43m.\u001b[39;49m\u001b[43mmatch\u001b[49m\u001b[43m(\u001b[49m\u001b[43mpattern\u001b[49m\u001b[43m,\u001b[49m\u001b[43m \u001b[49m\u001b[38;5;124;43m\"\u001b[39;49m\u001b[38;5;124;43mAnimal\u001b[39;49m\u001b[38;5;124;43m\"\u001b[39;49m\u001b[43m)\u001b[49m\u001b[38;5;241;43m.\u001b[39;49m\u001b[43mgroup\u001b[49m()\n",
      "\u001b[1;31mAttributeError\u001b[0m: 'NoneType' object has no attribute 'group'"
     ]
    }
   ],
   "source": [
    "re.match(pattern, \"Animal\").group()"
   ]
  },
  {
   "cell_type": "markdown",
   "id": "0549e0d6",
   "metadata": {},
   "source": [
    "- 바로 앞부분부터 패턴이 일치하지 않으면 에러가 발생한다."
   ]
  },
  {
   "cell_type": "code",
   "execution_count": 6,
   "id": "e13051ae",
   "metadata": {
    "scrolled": false
   },
   "outputs": [
    {
     "ename": "AttributeError",
     "evalue": "'NoneType' object has no attribute 'group'",
     "output_type": "error",
     "traceback": [
      "\u001b[1;31m---------------------------------------------------------------------------\u001b[0m",
      "\u001b[1;31mAttributeError\u001b[0m                            Traceback (most recent call last)",
      "Cell \u001b[1;32mIn[6], line 4\u001b[0m\n\u001b[0;32m      1\u001b[0m \u001b[38;5;28;01mimport\u001b[39;00m \u001b[38;5;21;01mre\u001b[39;00m\n\u001b[0;32m      3\u001b[0m script2 \u001b[38;5;241m=\u001b[39m \u001b[38;5;124m\"\u001b[39m\u001b[38;5;124mcool is life\u001b[39m\u001b[38;5;124m\"\u001b[39m\n\u001b[1;32m----> 4\u001b[0m \u001b[43mre\u001b[49m\u001b[38;5;241;43m.\u001b[39;49m\u001b[43mmatch\u001b[49m\u001b[43m(\u001b[49m\u001b[43mpattern\u001b[49m\u001b[43m,\u001b[49m\u001b[43m \u001b[49m\u001b[43mscript2\u001b[49m\u001b[43m)\u001b[49m\u001b[38;5;241;43m.\u001b[39;49m\u001b[43mgroup\u001b[49m()\n",
      "\u001b[1;31mAttributeError\u001b[0m: 'NoneType' object has no attribute 'group'"
     ]
    }
   ],
   "source": [
    "script2 = \"cool is life\"\n",
    "re.match(pattern, script2).group()"
   ]
  },
  {
   "cell_type": "markdown",
   "id": "7ed4e371",
   "metadata": {},
   "source": [
    "- re.search()\n",
    "    - 문자열 전체에서 패턴을 찾는다\n",
    "    - 단, 대소문자는 구분한다.\n",
    "    - 일치하지 않으면 error 발생"
   ]
  },
  {
   "cell_type": "code",
   "execution_count": 7,
   "id": "a65d683a",
   "metadata": {},
   "outputs": [
    {
     "name": "stdout",
     "output_type": "stream",
     "text": [
      "life\n"
     ]
    }
   ],
   "source": [
    "import re\n",
    "\n",
    "script2 = \"cool is life\" # match와는 다르게 처음부터 일치하지 않아도 전체에서 일치하는 패턴을 찾는다.\n",
    "print(re.search(pattern, script2).group())"
   ]
  },
  {
   "cell_type": "markdown",
   "id": "438c10d5",
   "metadata": {},
   "source": [
    "- re.findall()\n",
    "    - 특정 패턴 문자열을 모두 찾아 리스트로 반환한다\n",
    "    - search, match와는 다르게 찾지 못해도 빈 문자열 반환"
   ]
  },
  {
   "cell_type": "code",
   "execution_count": 9,
   "id": "323d7f24",
   "metadata": {},
   "outputs": [
    {
     "name": "stdout",
     "output_type": "stream",
     "text": [
      "['91년', '97년', '23년']\n",
      "['91년에 태어났습니다. 97년에는 IMF가 있었습니다. 지금은 2023년']\n"
     ]
    }
   ],
   "source": [
    "import re\n",
    "\n",
    "example1 = \"저는 91년에 태어났습니다. 97년에는 IMF가 있었습니다. 지금은 2023년입니다.\"\n",
    "print(re.findall(r'\\d.년', example1))\n",
    "print(re.findall(r'\\d.+년', example1)) # 정규표현식의 오류 발생"
   ]
  },
  {
   "cell_type": "code",
   "execution_count": 17,
   "id": "32bf4b5e",
   "metadata": {
    "scrolled": true
   },
   "outputs": [
    {
     "name": "stdout",
     "output_type": "stream",
     "text": [
      "['camminando', 'credo', 'allenando']\n"
     ]
    }
   ],
   "source": [
    "lyrics = \"Giallo di siga fra le dita lo con la siga camminando Scusami ma ci credo tanto Che posso fare questo salto E anche se la strada è in salita Per questo ora mi sto allenando\"\n",
    "\n",
    "print(re.findall(r'\\w+.do', lyrics)) # 특정 패턴으로 끝나는 단어만 추출할 수 있다."
   ]
  },
  {
   "cell_type": "markdown",
   "id": "f9b2b03e",
   "metadata": {},
   "source": [
    "##### 정규표현식의 탐욕(greedy)제어\n",
    "    - 제어를 위해 '?'부호를 사용한다.\n",
    "        - 해당 패턴을 찾으면 표현식 검색을 멈춤"
   ]
  },
  {
   "cell_type": "code",
   "execution_count": 10,
   "id": "9243a5ed",
   "metadata": {
    "scrolled": false
   },
   "outputs": [
    {
     "name": "stdout",
     "output_type": "stream",
     "text": [
      "['91년', '97년', '2023년']\n",
      "['91년', '97년', '2023년']\n"
     ]
    }
   ],
   "source": [
    "print(re.findall(r'\\d.+?년', example1))\n",
    "print(re.findall(r'\\d+.년', example1)) # 숫자만 반복시킨 후 '년'으로 끝나는 문자를 찾는다."
   ]
  },
  {
   "cell_type": "markdown",
   "id": "9d6b6a27",
   "metadata": {},
   "source": [
    "- re.split()\n",
    "    - 특정 정규표현식을 기준으로 문장을 분할\n",
    "    - 리스트로 반환\n",
    "    - 데이터를 쉽게 변환할 수 있다."
   ]
  },
  {
   "cell_type": "code",
   "execution_count": 12,
   "id": "800c5722",
   "metadata": {},
   "outputs": [
    {
     "name": "stdout",
     "output_type": "stream",
     "text": [
      "['I love a lovely dog, really', ' I am not telling a lie', ' What a pretty dog', ' I love this dog', '']\n"
     ]
    }
   ],
   "source": [
    "import re\n",
    "\n",
    "sentence = \"I love a lovely dog, really. I am not telling a lie. What a pretty dog! I love this dog.\"\n",
    "print(re.split(r'[.?!]', sentence)) # [.?!] 문장부호를 기준으로 분할하였다.\n",
    "\n",
    "# 구분자가 문장에 가장 마지막에 있을 경우 빈 문자열이 하나 추가된다."
   ]
  },
  {
   "cell_type": "markdown",
   "id": "84bdddd4",
   "metadata": {},
   "source": [
    "- re.sub('찾을 패턴', '대체할 문자', '찾을 문자열')\n",
    "    - 문자를 대체하는 메서드\n",
    "    - 공백 삭제 등에 유용하게 쓰인다."
   ]
  },
  {
   "cell_type": "code",
   "execution_count": 14,
   "id": "f3d42971",
   "metadata": {
    "scrolled": true
   },
   "outputs": [
    {
     "name": "stdout",
     "output_type": "stream",
     "text": [
      "I love a lovely cat, really. I am not telling a lie. What a pretty cat! I love this cat.\n"
     ]
    }
   ],
   "source": [
    "import re\n",
    "\n",
    "sentence = \"I love a lovely dog, really. I am not telling a lie. What a pretty dog! I love this dog.\"\n",
    "print(re.sub(r'dog', 'cat', sentence))"
   ]
  }
 ],
 "metadata": {
  "kernelspec": {
   "display_name": "Python 3 (ipykernel)",
   "language": "python",
   "name": "python3"
  },
  "language_info": {
   "codemirror_mode": {
    "name": "ipython",
    "version": 3
   },
   "file_extension": ".py",
   "mimetype": "text/x-python",
   "name": "python",
   "nbconvert_exporter": "python",
   "pygments_lexer": "ipython3",
   "version": "3.10.9"
  }
 },
 "nbformat": 4,
 "nbformat_minor": 5
}
