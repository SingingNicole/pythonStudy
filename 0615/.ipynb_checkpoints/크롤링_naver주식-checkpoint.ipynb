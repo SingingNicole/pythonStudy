{
 "cells": [
  {
   "cell_type": "code",
   "execution_count": 1,
   "id": "46e811b4",
   "metadata": {},
   "outputs": [],
   "source": [
    "import pandas as pd\n",
    "import requests\n",
    "from bs4 import BeautifulSoup"
   ]
  },
  {
   "cell_type": "code",
   "execution_count": 3,
   "id": "431e7719",
   "metadata": {},
   "outputs": [
    {
     "name": "stdout",
     "output_type": "stream",
     "text": [
      "<현재 네이버 금융 국내 코스피 상위 100 기업 목록>\n",
      "['KODEX 200선물인버스2X', 'KODEX 코스닥150선물인버스', '조일알미늄', 'KODEX 코스닥150레버리지', '신송홀딩스', '삼부토건', '대한제당', 'KODEX 인버스', '한미반도체', '고려산업', '한국ANKOR유전', '이수페타시스', 'KODEX 레버리지', 'KODEX 코스닥150', 'DB', 'TIGER 차이나전기차SOLACTIVE', '백광산업', '삼성전자', '대상홀딩스', '삼성중공업', '화천기계', 'CJ씨푸드', '인디에프', '황금에스티', '한컴라이프케어', '이수화학', '삼성 인버스 2X WTI원유 선물 ETN', '동원금속', '두산에너빌리티', '남선알미늄', '미래에셋 인버스 2X 코스닥150 선물 ETN', '애경케미칼', '콤텍시스템', '신한 레버리지 WTI원유 선물 ETN(H)', '서울식품', '엘브이엠씨홀딩스', 'KBSTAR 단기통안채', '사조동아원', '삼성 인버스 2X 코스닥150 선물 ETN', '씨아이테크', 'KB 인버스 2X KOSDAQ 150 선물 ETN', '큐로', 'TRUE 인버스 2X 코스닥 150 선물 ETN', '금양', 'SOL 2차전지소부장Fn', 'SK하이닉스', '와이투솔루션', 'STX', 'PI첨단소재', '에이프로젠바이오로직스', 'TIGER 2차전지테마', 'TIGER 단기통안채', '이엔플러스', 'GS글로벌', '유니온머티리얼', '마니커', 'KODEX 200', '대덕전자', 'KEC', '알루코', '퍼스텍', '팬오션', 'TIGER 미국필라델피아반도체나스닥', 'KODEX 2차전지산업', '대유플러스', 'TIGER Fn반도체TOP10', '이구산업', '포스코인터내셔널', '삼성 레버리지 천연가스 선물 ETN B', 'ACE 단기통안채', '샘표', '현대로템', '한국전자홀딩스', '아센디오', 'TCC스틸', '한농화성', '성안', '이수스페셜티케미컬', '덕양산업', '포스코스틸리온', 'TIGER 200선물인버스2X', '신성이엔지', '하이스틸', '카카오', 'HD현대인프라코어', '일진전기', '한화갤러리아', '광전자', '티웨이항공', '삼성 레버리지 WTI원유 선물 ETN', 'TIGER 미국테크TOP10 INDXX', 'KBSTAR 비메모리반도체액티브', 'TIGER 차이나항셍테크', '다이나믹디자인', '코리아써키트', '우리종금', 'KODEX WTI원유선물(H)', '포스코퓨처엠', 'LG유플러스', '쌍방울']\n",
      "\n",
      "주가를 검색할 기업 이름을 입력하세요: 쌍방울\n",
      "쌍방울 기업의 현재 주가는 255입니다.\n"
     ]
    }
   ],
   "source": [
    "# 네이버 금융 국내 증시 상위 100개 기업 이름과 url 크롤링\n",
    "def get_top100(top100_url, top100_name):\n",
    "    url = 'https://finance.naver.com/sise/sise_quant.nhn'\n",
    "    result = requests.get(url)\n",
    "    html = BeautifulSoup(result.content, 'html.parser')\n",
    "    \n",
    "    top100 = html.find_all('a', {'class':'tltle'})\n",
    "    \n",
    "    for i in range(100):\n",
    "        url = 'https://finance.naver.com' + top100[i]['href']\n",
    "        top100_url.append(url)\n",
    "        \n",
    "        company_name = top100[i].string\n",
    "        top100_name.append(company_name)\n",
    "        \n",
    "    return (top100_url, top100_name)\n",
    "\n",
    "# 회사명 입력받기\n",
    "def get_company(top100_name):\n",
    "    company_name = input('주가를 검색할 기업 이름을 입력하세요: ')\n",
    "    \n",
    "    for i in range(101):\n",
    "        if i == 100:\n",
    "            return(100)\n",
    "        if company_name == top100_name[i]:\n",
    "            return(i)\n",
    "\n",
    "# company_url에 대한 기업 주식 정보 페이지 크롤링\n",
    "def get_company_stockPage(company_url):\n",
    "    result = requests.get(company_url)\n",
    "    company_stockPage = BeautifulSoup(result.content, \"html.parser\")\n",
    "    return company_stockPage\n",
    "\n",
    "# 기업의 현재 주가 데이터 크롤링\n",
    "def get_price(company_url):\n",
    "    company_stockPage = get_company_stockPage(company_url)\n",
    "    no_today = company_stockPage.find('p', {'class':'no_today'})\n",
    "    blind = no_today.find('span', {'class':'blind'})\n",
    "    now_price = blind.text\n",
    "    return now_price\n",
    "\n",
    "def main():\n",
    "    top100_url = []\n",
    "    top100_name = []\n",
    "    \n",
    "    top100_url, top100_name = get_top100(top100_url, top100_name)\n",
    "    \n",
    "    print(\"<현재 네이버 금융 국내 코스피 상위 100 기업 목록>\")\n",
    "    print(top100_name)\n",
    "    print('')\n",
    "    \n",
    "    company = int(get_company(top100_name))\n",
    "    if company == 100:\n",
    "        print(\"입력한 기업은 상위 100 목록에 없습니다.\")\n",
    "    else:\n",
    "        now_price = get_price(top100_url[company])\n",
    "        print(\"%s 기업의 현재 주가는 %s입니다.\"%(top100_name[company], now_price))\n",
    "        \n",
    "if __name__ == '__main__':\n",
    "    main()"
   ]
  },
  {
   "cell_type": "code",
   "execution_count": null,
   "id": "865db53a",
   "metadata": {},
   "outputs": [],
   "source": []
  }
 ],
 "metadata": {
  "kernelspec": {
   "display_name": "Python 3 (ipykernel)",
   "language": "python",
   "name": "python3"
  },
  "language_info": {
   "codemirror_mode": {
    "name": "ipython",
    "version": 3
   },
   "file_extension": ".py",
   "mimetype": "text/x-python",
   "name": "python",
   "nbconvert_exporter": "python",
   "pygments_lexer": "ipython3",
   "version": "3.10.9"
  }
 },
 "nbformat": 4,
 "nbformat_minor": 5
}
