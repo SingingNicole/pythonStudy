{
 "cells": [
  {
   "cell_type": "code",
   "execution_count": 15,
   "id": "eaabe5bd",
   "metadata": {},
   "outputs": [],
   "source": [
    "import urllib.request\n",
    "from bs4 import BeautifulSoup as bs\n",
    "import pandas as pd # csv 파일 출력용"
   ]
  },
  {
   "cell_type": "code",
   "execution_count": 18,
   "id": "137763fc",
   "metadata": {
    "scrolled": true
   },
   "outputs": [
    {
     "name": "stdout",
     "output_type": "stream",
     "text": [
      "Hollys store crawling >>>>>>>>>>>>>>>>>>>>>\n",
      ">>>\n"
     ]
    }
   ],
   "source": [
    "def hollys_store(result):\n",
    "    for page in range(1, 53):\n",
    "        Hollys_url = \"https://www.hollys.co.kr/store/korea/korStore2.do?pageNo=%d&sido=&gugun=&store=\" %page\n",
    "        \n",
    "        html = urllib.request.urlopen(Hollys_url)\n",
    "        soupHollys = bs(html, 'html.parser')\n",
    "        \n",
    "        tag_tbody = soupHollys.find(\"tbody\")\n",
    "        \n",
    "        for store in tag_tbody.find_all(\"tr\"):\n",
    "            store_td = store.find_all(\"td\")\n",
    "            s_name = store_td[1].text\n",
    "            s_sido = store_td[0].string\n",
    "            s_address = store_td[3].string\n",
    "            s_phone = store_td[5].string\n",
    "            \n",
    "            result.append([s_name, s_sido, s_address, s_phone])\n",
    "            \n",
    "    return\n",
    "\n",
    "def main():\n",
    "    result = []\n",
    "    print(\"Hollys store crawling >>>>>>>>>>>>>>>>>>>>>\")\n",
    "    hollys_store(result)\n",
    "    print(\">>>\")\n",
    "    hollys_df = pd.DataFrame(result, columns=('store', 'si-do-gu', 'address', 'phone'))\n",
    "    hollys_df.to_csv('hollys.csv', encoding='cp949', mode='w', index=True)\n",
    "    \n",
    "if __name__ == '__main__':\n",
    "    main()"
   ]
  }
 ],
 "metadata": {
  "kernelspec": {
   "display_name": "Python 3 (ipykernel)",
   "language": "python",
   "name": "python3"
  },
  "language_info": {
   "codemirror_mode": {
    "name": "ipython",
    "version": 3
   },
   "file_extension": ".py",
   "mimetype": "text/x-python",
   "name": "python",
   "nbconvert_exporter": "python",
   "pygments_lexer": "ipython3",
   "version": "3.10.9"
  }
 },
 "nbformat": 4,
 "nbformat_minor": 5
}
