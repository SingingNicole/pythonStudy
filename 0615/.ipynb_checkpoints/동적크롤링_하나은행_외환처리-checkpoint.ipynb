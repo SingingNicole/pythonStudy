{
 "cells": [
  {
   "cell_type": "code",
   "execution_count": 1,
   "id": "ab2dcdcc",
   "metadata": {},
   "outputs": [],
   "source": [
    "# 드라이버 import\n",
    "from selenium import webdriver\n",
    "from selenium.webdriver.common.by import By\n",
    "import time"
   ]
  },
  {
   "cell_type": "code",
   "execution_count": 4,
   "id": "2772da6c",
   "metadata": {},
   "outputs": [],
   "source": [
    "# 크롬 창 크기 최대화\n",
    "driver = webdriver.Chrome()\n",
    "driver.get(\"https://www.kebhana.com/cont/mall/mall15/mall1503/index.jsp\")\n",
    "\n",
    "time.sleep(2)\n",
    "\n",
    "driver.switch_to.frame(\"bankIframe\")\n",
    "driver.find_element(By.XPATH, '//*[@id=\"inqFrm\"]/table/tbody/tr[1]/td/span/p/label[3]/span').click()\n",
    "driver.find_element(By.ID, 'tmpInqStrDt_p').clear()\n",
    "start = '20230601'\n",
    "driver.find_element(By.ID, 'tmpInqStrDt_p').send_keys(start)\n",
    "\n",
    "driver.find_element(By.ID, 'tmpInqEndDt_p').clear()\n",
    "end = '20230614'\n",
    "driver.find_element(By.ID, 'tmpInqEndDt_p').send_keys(end)\n",
    "\n",
    "# 찾을 환율 <option>태그 값 지정\n",
    "currency = \"EUR:유로(유럽연합)\"\n",
    "driver.find_element(By.ID, 'curCd').send_keys(currency)\n",
    "\n",
    "driver.find_element(By.XPATH, '//*[@id=\"inqFrm\"]/table/tbody/tr[6]/td/span/p/label[2]').click()\n",
    "\n",
    "time.sleep(1)\n",
    "\n",
    "driver.find_element(By.XPATH, '//*[@id=\"HANA_CONTENTS_DIV\"]/div[2]/a').click()\n",
    "\n",
    "time.sleep(1)\n",
    "\n",
    "driver.find_element(By.XPATH, '//*[@id=\"searchContentDiv\"]/div[1]/a[2]/span').click()"
   ]
  }
 ],
 "metadata": {
  "kernelspec": {
   "display_name": "Python 3 (ipykernel)",
   "language": "python",
   "name": "python3"
  },
  "language_info": {
   "codemirror_mode": {
    "name": "ipython",
    "version": 3
   },
   "file_extension": ".py",
   "mimetype": "text/x-python",
   "name": "python",
   "nbconvert_exporter": "python",
   "pygments_lexer": "ipython3",
   "version": "3.10.9"
  }
 },
 "nbformat": 4,
 "nbformat_minor": 5
}
