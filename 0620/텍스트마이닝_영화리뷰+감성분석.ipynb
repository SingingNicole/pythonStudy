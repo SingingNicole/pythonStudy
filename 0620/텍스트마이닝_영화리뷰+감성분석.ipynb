{
 "cells": [
  {
   "cell_type": "code",
   "execution_count": 1,
   "id": "55e9c553",
   "metadata": {},
   "outputs": [
    {
     "name": "stderr",
     "output_type": "stream",
     "text": [
      "C:\\Users\\soldesk\\anaconda3\\lib\\site-packages\\_distutils_hack\\__init__.py:33: UserWarning: Setuptools is replacing distutils.\n",
      "  warnings.warn(\"Setuptools is replacing distutils.\")\n"
     ]
    },
    {
     "name": "stdout",
     "output_type": "stream",
     "text": [
      "\n",
      "INSTALLED VERSIONS\n",
      "------------------\n",
      "commit           : 2e218d10984e9919f0296931d92ea851c6a6faf5\n",
      "python           : 3.10.9.final.0\n",
      "python-bits      : 64\n",
      "OS               : Windows\n",
      "OS-release       : 10\n",
      "Version          : 10.0.14393\n",
      "machine          : AMD64\n",
      "processor        : Intel64 Family 6 Model 58 Stepping 9, GenuineIntel\n",
      "byteorder        : little\n",
      "LC_ALL           : None\n",
      "LANG             : None\n",
      "LOCALE           : Korean_Korea.949\n",
      "\n",
      "pandas           : 1.5.3\n",
      "numpy            : 1.23.5\n",
      "pytz             : 2022.7\n",
      "dateutil         : 2.8.2\n",
      "setuptools       : 65.6.3\n",
      "pip              : 22.3.1\n",
      "Cython           : None\n",
      "pytest           : 7.1.2\n",
      "hypothesis       : None\n",
      "sphinx           : 5.0.2\n",
      "blosc            : None\n",
      "feather          : None\n",
      "xlsxwriter       : None\n",
      "lxml.etree       : 4.9.1\n",
      "html5lib         : None\n",
      "pymysql          : None\n",
      "psycopg2         : None\n",
      "jinja2           : 3.1.2\n",
      "IPython          : 8.10.0\n",
      "pandas_datareader: None\n",
      "bs4              : 4.11.1\n",
      "bottleneck       : 1.3.5\n",
      "brotli           : \n",
      "fastparquet      : None\n",
      "fsspec           : 2022.11.0\n",
      "gcsfs            : None\n",
      "matplotlib       : 3.7.0\n",
      "numba            : 0.56.4\n",
      "numexpr          : 2.8.4\n",
      "odfpy            : None\n",
      "openpyxl         : 3.0.10\n",
      "pandas_gbq       : None\n",
      "pyarrow          : None\n",
      "pyreadstat       : None\n",
      "pyxlsb           : None\n",
      "s3fs             : None\n",
      "scipy            : 1.10.0\n",
      "snappy           : \n",
      "sqlalchemy       : 1.4.39\n",
      "tables           : 3.7.0\n",
      "tabulate         : 0.8.10\n",
      "xarray           : 2022.11.0\n",
      "xlrd             : 2.0.1\n",
      "xlwt             : None\n",
      "zstandard        : 0.19.0\n",
      "tzdata           : None\n"
     ]
    }
   ],
   "source": [
    "import pandas as pd\n",
    "\n",
    "pd.show_versions()"
   ]
  },
  {
   "cell_type": "code",
   "execution_count": 2,
   "id": "8558562d",
   "metadata": {},
   "outputs": [],
   "source": [
    "import warnings\n",
    "warnings.filterwarnings(action='ignore')"
   ]
  },
  {
   "cell_type": "code",
   "execution_count": 3,
   "id": "dc1d559c",
   "metadata": {},
   "outputs": [
    {
     "data": {
      "text/html": [
       "<div>\n",
       "<style scoped>\n",
       "    .dataframe tbody tr th:only-of-type {\n",
       "        vertical-align: middle;\n",
       "    }\n",
       "\n",
       "    .dataframe tbody tr th {\n",
       "        vertical-align: top;\n",
       "    }\n",
       "\n",
       "    .dataframe thead th {\n",
       "        text-align: right;\n",
       "    }\n",
       "</style>\n",
       "<table border=\"1\" class=\"dataframe\">\n",
       "  <thead>\n",
       "    <tr style=\"text-align: right;\">\n",
       "      <th></th>\n",
       "      <th>id</th>\n",
       "      <th>document</th>\n",
       "      <th>label</th>\n",
       "    </tr>\n",
       "  </thead>\n",
       "  <tbody>\n",
       "    <tr>\n",
       "      <th>0</th>\n",
       "      <td>9976970</td>\n",
       "      <td>아 더빙.. 진짜 짜증나네요 목소리</td>\n",
       "      <td>0</td>\n",
       "    </tr>\n",
       "    <tr>\n",
       "      <th>1</th>\n",
       "      <td>3819312</td>\n",
       "      <td>흠...포스터보고 초딩영화줄....오버연기조차 가볍지 않구나</td>\n",
       "      <td>1</td>\n",
       "    </tr>\n",
       "    <tr>\n",
       "      <th>2</th>\n",
       "      <td>10265843</td>\n",
       "      <td>너무재밓었다그래서보는것을추천한다</td>\n",
       "      <td>0</td>\n",
       "    </tr>\n",
       "    <tr>\n",
       "      <th>3</th>\n",
       "      <td>9045019</td>\n",
       "      <td>교도소 이야기구먼 ..솔직히 재미는 없다..평점 조정</td>\n",
       "      <td>0</td>\n",
       "    </tr>\n",
       "    <tr>\n",
       "      <th>4</th>\n",
       "      <td>6483659</td>\n",
       "      <td>사이몬페그의 익살스런 연기가 돋보였던 영화!스파이더맨에서 늙어보이기만 했던 커스틴 ...</td>\n",
       "      <td>1</td>\n",
       "    </tr>\n",
       "  </tbody>\n",
       "</table>\n",
       "</div>"
      ],
      "text/plain": [
       "         id                                           document  label\n",
       "0   9976970                                아 더빙.. 진짜 짜증나네요 목소리      0\n",
       "1   3819312                  흠...포스터보고 초딩영화줄....오버연기조차 가볍지 않구나      1\n",
       "2  10265843                                  너무재밓었다그래서보는것을추천한다      0\n",
       "3   9045019                      교도소 이야기구먼 ..솔직히 재미는 없다..평점 조정      0\n",
       "4   6483659  사이몬페그의 익살스런 연기가 돋보였던 영화!스파이더맨에서 늙어보이기만 했던 커스틴 ...      1"
      ]
     },
     "execution_count": 3,
     "metadata": {},
     "output_type": "execute_result"
    }
   ],
   "source": [
    "nsmc_train_df = pd.read_csv('data/ratings_train.txt', encoding='UTF-8', sep='\\t', engine='python')\n",
    "\n",
    "nsmc_train_df.head()"
   ]
  },
  {
   "cell_type": "code",
   "execution_count": 4,
   "id": "c269856f",
   "metadata": {},
   "outputs": [
    {
     "name": "stdout",
     "output_type": "stream",
     "text": [
      "<class 'pandas.core.frame.DataFrame'>\n",
      "RangeIndex: 150000 entries, 0 to 149999\n",
      "Data columns (total 3 columns):\n",
      " #   Column    Non-Null Count   Dtype \n",
      "---  ------    --------------   ----- \n",
      " 0   id        150000 non-null  int64 \n",
      " 1   document  149995 non-null  object\n",
      " 2   label     150000 non-null  int64 \n",
      "dtypes: int64(2), object(1)\n",
      "memory usage: 3.4+ MB\n"
     ]
    }
   ],
   "source": [
    "nsmc_train_df.info()"
   ]
  },
  {
   "cell_type": "code",
   "execution_count": 5,
   "id": "a5d971d6",
   "metadata": {},
   "outputs": [],
   "source": [
    "# null 값을 제거한다.\n",
    "nsmc_train_df = nsmc_train_df[nsmc_train_df['document'].notnull()]"
   ]
  },
  {
   "cell_type": "code",
   "execution_count": 6,
   "id": "c8f5857b",
   "metadata": {},
   "outputs": [
    {
     "name": "stdout",
     "output_type": "stream",
     "text": [
      "<class 'pandas.core.frame.DataFrame'>\n",
      "Int64Index: 149995 entries, 0 to 149999\n",
      "Data columns (total 3 columns):\n",
      " #   Column    Non-Null Count   Dtype \n",
      "---  ------    --------------   ----- \n",
      " 0   id        149995 non-null  int64 \n",
      " 1   document  149995 non-null  object\n",
      " 2   label     149995 non-null  int64 \n",
      "dtypes: int64(2), object(1)\n",
      "memory usage: 4.6+ MB\n"
     ]
    }
   ],
   "source": [
    "nsmc_train_df.info()"
   ]
  },
  {
   "cell_type": "code",
   "execution_count": 7,
   "id": "b8e3a264",
   "metadata": {},
   "outputs": [
    {
     "data": {
      "text/plain": [
       "0    75170\n",
       "1    74825\n",
       "Name: label, dtype: int64"
      ]
     },
     "execution_count": 7,
     "metadata": {},
     "output_type": "execute_result"
    }
   ],
   "source": [
    "nsmc_train_df['label'].value_counts()"
   ]
  },
  {
   "cell_type": "markdown",
   "id": "1e63a308",
   "metadata": {},
   "source": [
    "- 한글 외의 문자 제거"
   ]
  },
  {
   "cell_type": "code",
   "execution_count": 8,
   "id": "a03fac6c",
   "metadata": {},
   "outputs": [],
   "source": [
    "import re"
   ]
  },
  {
   "cell_type": "code",
   "execution_count": 9,
   "id": "479c247a",
   "metadata": {
    "scrolled": true
   },
   "outputs": [
    {
     "data": {
      "text/html": [
       "<div>\n",
       "<style scoped>\n",
       "    .dataframe tbody tr th:only-of-type {\n",
       "        vertical-align: middle;\n",
       "    }\n",
       "\n",
       "    .dataframe tbody tr th {\n",
       "        vertical-align: top;\n",
       "    }\n",
       "\n",
       "    .dataframe thead th {\n",
       "        text-align: right;\n",
       "    }\n",
       "</style>\n",
       "<table border=\"1\" class=\"dataframe\">\n",
       "  <thead>\n",
       "    <tr style=\"text-align: right;\">\n",
       "      <th></th>\n",
       "      <th>id</th>\n",
       "      <th>document</th>\n",
       "      <th>label</th>\n",
       "    </tr>\n",
       "  </thead>\n",
       "  <tbody>\n",
       "    <tr>\n",
       "      <th>0</th>\n",
       "      <td>9976970</td>\n",
       "      <td>아 더빙   진짜 짜증나네요 목소리</td>\n",
       "      <td>0</td>\n",
       "    </tr>\n",
       "    <tr>\n",
       "      <th>1</th>\n",
       "      <td>3819312</td>\n",
       "      <td>흠   포스터보고 초딩영화줄    오버연기조차 가볍지 않구나</td>\n",
       "      <td>1</td>\n",
       "    </tr>\n",
       "    <tr>\n",
       "      <th>2</th>\n",
       "      <td>10265843</td>\n",
       "      <td>너무재밓었다그래서보는것을추천한다</td>\n",
       "      <td>0</td>\n",
       "    </tr>\n",
       "    <tr>\n",
       "      <th>3</th>\n",
       "      <td>9045019</td>\n",
       "      <td>교도소 이야기구먼   솔직히 재미는 없다  평점 조정</td>\n",
       "      <td>0</td>\n",
       "    </tr>\n",
       "    <tr>\n",
       "      <th>4</th>\n",
       "      <td>6483659</td>\n",
       "      <td>사이몬페그의 익살스런 연기가 돋보였던 영화 스파이더맨에서 늙어보이기만 했던 커스틴 ...</td>\n",
       "      <td>1</td>\n",
       "    </tr>\n",
       "  </tbody>\n",
       "</table>\n",
       "</div>"
      ],
      "text/plain": [
       "         id                                           document  label\n",
       "0   9976970                                아 더빙   진짜 짜증나네요 목소리      0\n",
       "1   3819312                  흠   포스터보고 초딩영화줄    오버연기조차 가볍지 않구나      1\n",
       "2  10265843                                  너무재밓었다그래서보는것을추천한다      0\n",
       "3   9045019                      교도소 이야기구먼   솔직히 재미는 없다  평점 조정      0\n",
       "4   6483659  사이몬페그의 익살스런 연기가 돋보였던 영화 스파이더맨에서 늙어보이기만 했던 커스틴 ...      1"
      ]
     },
     "execution_count": 9,
     "metadata": {},
     "output_type": "execute_result"
    }
   ],
   "source": [
    "nsmc_train_df['document'] = nsmc_train_df['document'].apply(lambda x:re.sub(r'[^ ㄱ-ㅣ가-힣]',' ', x))\n",
    "\n",
    "nsmc_train_df.head()"
   ]
  },
  {
   "cell_type": "markdown",
   "id": "892365aa",
   "metadata": {},
   "source": [
    "- 특성 벡터화 작업: 형태소 분석"
   ]
  },
  {
   "cell_type": "code",
   "execution_count": 10,
   "id": "da23602e",
   "metadata": {},
   "outputs": [],
   "source": [
    "from konlpy.tag import Okt\n",
    "\n",
    "# 형태소 분석에 사용할 클래스 객체 생성\n",
    "okt = Okt()"
   ]
  },
  {
   "cell_type": "code",
   "execution_count": 11,
   "id": "1ecff182",
   "metadata": {},
   "outputs": [],
   "source": [
    "# 각 형태소 토큰화\n",
    "def okt_tokenizer(text):\n",
    "    tokens = okt.morphs(text)\n",
    "    return tokens"
   ]
  },
  {
   "cell_type": "code",
   "execution_count": 12,
   "id": "13de4105",
   "metadata": {},
   "outputs": [],
   "source": [
    "# TF - IDF 기반 벡터화를 위한 사이킷런 객체 생성\n",
    "from sklearn.feature_extraction.text import TfidfVectorizer\n",
    "\n",
    "#tokenizer : 토큰 생성기\n",
    "# ngram_range: 토큰의 단어 크기\n",
    "# min_df: 토큰의 최소 출현 빈도\n",
    "# max_df: 최대 빈도(퍼센트)\n",
    "tfidf = TfidfVectorizer(tokenizer=okt_tokenizer, ngram_range=(1, 2), min_df=3, max_df=0.9)\n",
    "tfidf.fit(nsmc_train_df['document'])\n",
    "nsmc_train_tfidf = tfidf.transform(nsmc_train_df['document'])"
   ]
  },
  {
   "cell_type": "markdown",
   "id": "4fe77497",
   "metadata": {},
   "source": [
    "- 감성 분류 모델 구축하기"
   ]
  },
  {
   "cell_type": "code",
   "execution_count": 13,
   "id": "e0a4ca1f",
   "metadata": {},
   "outputs": [],
   "source": [
    "from sklearn.linear_model import LogisticRegression\n",
    "\n",
    "SA_lr = LogisticRegression(random_state = 0)"
   ]
  },
  {
   "cell_type": "code",
   "execution_count": 14,
   "id": "dfbadcd7",
   "metadata": {},
   "outputs": [
    {
     "data": {
      "text/plain": [
       "LogisticRegression(random_state=0)"
      ]
     },
     "execution_count": 14,
     "metadata": {},
     "output_type": "execute_result"
    }
   ],
   "source": [
    "SA_lr.fit(nsmc_train_tfidf, nsmc_train_df['label'])"
   ]
  },
  {
   "cell_type": "code",
   "execution_count": 16,
   "id": "ce049e94",
   "metadata": {},
   "outputs": [],
   "source": [
    "from sklearn.model_selection import GridSearchCV\n",
    "\n",
    "params = {'C': [1, 3, 3.5, 4, 4.5, 5]}\n",
    "SA_lr_grid_cv = GridSearchCV(SA_lr, param_grid=params, cv=3, scoring='accuracy', verbose=1)"
   ]
  },
  {
   "cell_type": "code",
   "execution_count": 17,
   "id": "43666f75",
   "metadata": {},
   "outputs": [
    {
     "name": "stdout",
     "output_type": "stream",
     "text": [
      "Fitting 3 folds for each of 6 candidates, totalling 18 fits\n"
     ]
    },
    {
     "data": {
      "text/plain": [
       "GridSearchCV(cv=3, estimator=LogisticRegression(random_state=0),\n",
       "             param_grid={'C': [1, 3, 3.5, 4, 4.5, 5]}, scoring='accuracy',\n",
       "             verbose=1)"
      ]
     },
     "execution_count": 17,
     "metadata": {},
     "output_type": "execute_result"
    }
   ],
   "source": [
    "SA_lr_grid_cv.fit(nsmc_train_tfidf, nsmc_train_df['label'])"
   ]
  },
  {
   "cell_type": "code",
   "execution_count": 18,
   "id": "a95c09fd",
   "metadata": {},
   "outputs": [
    {
     "name": "stdout",
     "output_type": "stream",
     "text": [
      "{'C': 3} 0.8553\n"
     ]
    }
   ],
   "source": [
    "print(SA_lr_grid_cv.best_params_, round(SA_lr_grid_cv.best_score_, 4))"
   ]
  },
  {
   "cell_type": "code",
   "execution_count": 19,
   "id": "69e76f41",
   "metadata": {},
   "outputs": [],
   "source": [
    "# 최적 매개변수의 best 모델 저장\n",
    "SA_lr_best = SA_lr_grid_cv.best_estimator_"
   ]
  },
  {
   "cell_type": "code",
   "execution_count": 20,
   "id": "dec4cb75",
   "metadata": {},
   "outputs": [],
   "source": [
    "# 평가용 데이터의 피처 벡터화\n",
    "nsmc_train_tfidf = tfidf.transform(nsmc_train_df['document'])"
   ]
  },
  {
   "cell_type": "code",
   "execution_count": 22,
   "id": "3fa55607",
   "metadata": {},
   "outputs": [],
   "source": [
    "test_predict = SA_lr_best.predict(nsmc_train_tfidf)"
   ]
  },
  {
   "cell_type": "code",
   "execution_count": 24,
   "id": "01ef31eb",
   "metadata": {},
   "outputs": [
    {
     "name": "stdout",
     "output_type": "stream",
     "text": [
      "감성 분석 정확도: 0.932\n"
     ]
    }
   ],
   "source": [
    "from sklearn.metrics import accuracy_score\n",
    "\n",
    "print('감성 분석 정확도:', round(accuracy_score(nsmc_train_df['label'], test_predict), 3))"
   ]
  },
  {
   "cell_type": "markdown",
   "id": "c240fbcd",
   "metadata": {},
   "source": [
    "- 새로운 텍스트로 감정 예측 확인"
   ]
  },
  {
   "cell_type": "code",
   "execution_count": 35,
   "id": "a75cb144",
   "metadata": {},
   "outputs": [
    {
     "name": "stdout",
     "output_type": "stream",
     "text": [
      "감성 분석할 문장 입력 >>안녕하세요? 반갑습니다. 좋은 하루 되세요^^\n"
     ]
    }
   ],
   "source": [
    "st = input('감성 분석할 문장 입력 >>')"
   ]
  },
  {
   "cell_type": "code",
   "execution_count": 36,
   "id": "d4ab6773",
   "metadata": {},
   "outputs": [
    {
     "name": "stdout",
     "output_type": "stream",
     "text": [
      "['안녕하세요', '반갑습니다', '좋은', '하루', '되세요']\n",
      "['안녕하세요 반갑습니다 좋은 하루 되세요']\n"
     ]
    }
   ],
   "source": [
    "# 입력 텍스트에 대한 전처리\n",
    "st = re.compile(r'[ㄱ-ㅣ가-힣]+').findall(st)\n",
    "print(st)\n",
    "st = [' '.join(st)]\n",
    "print(st)"
   ]
  },
  {
   "cell_type": "code",
   "execution_count": 37,
   "id": "9f06b7e1",
   "metadata": {},
   "outputs": [],
   "source": [
    "# 입력 텍스트의 피처 벡터화\n",
    "st_tfidf = tfidf.transform(st)\n",
    "\n",
    "# 최적 감성 분석 모델에 적용하여 감성 분석 평가\n",
    "st_predict = SA_lr_best.predict(st_tfidf)"
   ]
  },
  {
   "cell_type": "code",
   "execution_count": 38,
   "id": "80b2b755",
   "metadata": {},
   "outputs": [
    {
     "name": "stdout",
     "output_type": "stream",
     "text": [
      "['안녕하세요 반갑습니다 좋은 하루 되세요'] ->> 긍정 감성\n"
     ]
    }
   ],
   "source": [
    "# 예측값 출력\n",
    "if(st_predict == 0):\n",
    "    print(st, \"->> 부정 감성\")\n",
    "else:\n",
    "    print(st, \"->> 긍정 감성\")"
   ]
  }
 ],
 "metadata": {
  "kernelspec": {
   "display_name": "Python 3 (ipykernel)",
   "language": "python",
   "name": "python3"
  },
  "language_info": {
   "codemirror_mode": {
    "name": "ipython",
    "version": 3
   },
   "file_extension": ".py",
   "mimetype": "text/x-python",
   "name": "python",
   "nbconvert_exporter": "python",
   "pygments_lexer": "ipython3",
   "version": "3.10.9"
  }
 },
 "nbformat": 4,
 "nbformat_minor": 5
}
