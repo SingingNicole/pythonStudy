{
 "cells": [
  {
   "cell_type": "code",
   "execution_count": 1,
   "id": "774cdc83",
   "metadata": {},
   "outputs": [
    {
     "name": "stdout",
     "output_type": "stream",
     "text": [
      "ObjectOrientedProgramming1 3.0 A+\n",
      "IntroductiontoComputerEngineering 3.0 A+\n",
      "ObjectOrientedProgramming2 3.0 A0\n",
      "CreativeComputerEngineeringDesign 3.0 A+\n",
      "AssemblyLanguage 3.0 A+\n",
      "InternetProgramming 3.0 B0\n",
      "ApplicationProgramminginJava 3.0 A0\n",
      "SystemProgramming 3.0 B0\n",
      "OperatingSystem 3.0 B0\n",
      "WirelessCommunicationsandNetworking 3.0 C+\n",
      "LogicCircuits 3.0 B0\n",
      "DataStructure 4.0 A+\n",
      "MicroprocessorApplication 3.0 B+\n",
      "EmbeddedSoftware 3.0 C0\n",
      "ComputerSecurity 3.0 D+\n",
      "Database 3.0 C+\n",
      "Algorithm 3.0 B0\n",
      "CapstoneDesigninCSE 3.0 B+\n",
      "CompilerDesign 3.0 D0\n",
      "ProblemSolving 4.0 P\n",
      "3.2844827586206895\n"
     ]
    }
   ],
   "source": [
    "score_data = []\n",
    "\n",
    "for i in range(20):\n",
    "    score_data.append(input().split())\n",
    "\n",
    "score_data2 = []\n",
    "\n",
    "for i in range(len(score_data)):\n",
    "    if score_data[i][2] == 'P':\n",
    "        del score_data[i]\n",
    "    else:\n",
    "        score_data2.append(score_data[i])\n",
    "\n",
    "score_grade = {'A+':4.5, 'A0':4.0, 'B+':3.5, 'B0':3.0, 'C+':2.5, 'C0':2.0, 'D+':1.5, 'D0':1.0, 'F':0.0}\n",
    "\n",
    "total_score = 0\n",
    "total_hours = 0\n",
    "\n",
    "for i in range(len(score_data2)):\n",
    "    score_data2[i][2] = score_grade[score_data2[i][2]]\n",
    "    total_score += float(score_data[i][1]) * score_data[i][2]\n",
    "    total_hours += float(score_data[i][1])\n",
    "\n",
    "print(total_score / total_hours)"
   ]
  },
  {
   "cell_type": "code",
   "execution_count": null,
   "id": "3af43989",
   "metadata": {},
   "outputs": [],
   "source": []
  }
 ],
 "metadata": {
  "kernelspec": {
   "display_name": "Python 3 (ipykernel)",
   "language": "python",
   "name": "python3"
  },
  "language_info": {
   "codemirror_mode": {
    "name": "ipython",
    "version": 3
   },
   "file_extension": ".py",
   "mimetype": "text/x-python",
   "name": "python",
   "nbconvert_exporter": "python",
   "pygments_lexer": "ipython3",
   "version": "3.10.9"
  }
 },
 "nbformat": 4,
 "nbformat_minor": 5
}
