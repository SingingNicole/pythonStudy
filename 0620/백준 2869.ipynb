{
 "cells": [
  {
   "cell_type": "markdown",
   "id": "cee5a550",
   "metadata": {},
   "source": [
    "땅 위에 달팽이가 있다. 이 달팽이는 높이가 V미터인 나무 막대를 올라갈 것이다.\n",
    "\n",
    "달팽이는 낮에 A미터 올라갈 수 있다. 하지만, 밤에 잠을 자는 동안 B미터 미끄러진다. 또, 정상에 올라간 후에는 미끄러지지 않는다.\n",
    "\n",
    "달팽이가 나무 막대를 모두 올라가려면, 며칠이 걸리는지 구하는 프로그램을 작성하시오.\n",
    "\n",
    "첫째 줄에 세 정수 A, B, V가 공백으로 구분되어서 주어진다. (1 ≤ B < A ≤ V ≤ 1,000,000,000)\n",
    "\n",
    "첫째 줄에 달팽이가 나무 막대를 모두 올라가는데 며칠이 걸리는지 출력한다."
   ]
  },
  {
   "cell_type": "code",
   "execution_count": 28,
   "id": "e9cad667",
   "metadata": {},
   "outputs": [],
   "source": [
    "import math"
   ]
  },
  {
   "cell_type": "code",
   "execution_count": 29,
   "id": "10120d85",
   "metadata": {},
   "outputs": [
    {
     "name": "stdout",
     "output_type": "stream",
     "text": [
      "100 99 1000000000\n"
     ]
    }
   ],
   "source": [
    "# 각 값 가져오기\n",
    "target_str = input()\n",
    "target_str_split = target_str.split()\n",
    "\n",
    "# print(target_str_split)"
   ]
  },
  {
   "cell_type": "code",
   "execution_count": 30,
   "id": "5b756837",
   "metadata": {},
   "outputs": [],
   "source": [
    "# 형변환해서 변수 저장\n",
    "A = int(target_str_split[0])\n",
    "B = int(target_str_split[1])\n",
    "V = int(target_str_split[2])\n",
    "# print(A)\n",
    "# print(B)\n",
    "# print(V)"
   ]
  },
  {
   "cell_type": "markdown",
   "id": "3c7aebd5",
   "metadata": {},
   "source": [
    "수식 생각해보기\n",
    "\n",
    "1일차 = A * 1\n",
    "\n",
    "2일차 = (A * 1) - (B * 1) + (A * 1) => A - B + A => 2A - B\n",
    "\n",
    "    => 일차가 x일 때\n",
    "        Ax - (x - 1)B = V\n",
    "        Ax - Bx + B = V\n",
    "        x(A - B) + B = V\n",
    "        x(A - B) = V - B\n",
    "        x = (V - B) / (A - B)"
   ]
  },
  {
   "cell_type": "code",
   "execution_count": 31,
   "id": "4325ebfc",
   "metadata": {},
   "outputs": [
    {
     "name": "stdout",
     "output_type": "stream",
     "text": [
      "999999901\n"
     ]
    }
   ],
   "source": [
    "answer = (V - B) / (A - B)\n",
    "print(math.ceil(answer))"
   ]
  }
 ],
 "metadata": {
  "kernelspec": {
   "display_name": "Python 3 (ipykernel)",
   "language": "python",
   "name": "python3"
  },
  "language_info": {
   "codemirror_mode": {
    "name": "ipython",
    "version": 3
   },
   "file_extension": ".py",
   "mimetype": "text/x-python",
   "name": "python",
   "nbconvert_exporter": "python",
   "pygments_lexer": "ipython3",
   "version": "3.10.9"
  }
 },
 "nbformat": 4,
 "nbformat_minor": 5
}
