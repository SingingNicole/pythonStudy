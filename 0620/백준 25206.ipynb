{
 "cells": [
  {
   "cell_type": "markdown",
   "id": "5e65a459",
   "metadata": {},
   "source": [
    "인하대학교 컴퓨터공학과를 졸업하기 위해서는, 전공평점이 3.3 이상이거나 졸업고사를 통과해야 한다. 그런데 아뿔싸, 치훈이는 깜빡하고 졸업고사를 응시하지 않았다는 사실을 깨달았다!\n",
    "\n",
    "치훈이의 전공평점을 계산해주는 프로그램을 작성해보자.\n",
    "\n",
    "전공평점은 전공과목별 (학점 × 과목평점)의 합을 학점의 총합으로 나눈 값이다.\n",
    "\n",
    "인하대학교 컴퓨터공학과의 등급에 따른 과목평점은 다음 표와 같다.\n",
    "\n",
    "A+\t4.5\n",
    "\n",
    "A0\t4.0\n",
    "\n",
    "B+\t3.5\n",
    "\n",
    "B0\t3.0\n",
    "\n",
    "C+\t2.5\n",
    "\n",
    "C0\t2.0\n",
    "\n",
    "D+\t1.5\n",
    "\n",
    "D0\t1.0\n",
    "\n",
    "F\t0.0\n",
    "\n",
    "P/F 과목의 경우 등급이 P또는 F로 표시되는데, 등급이 P인 과목은 계산에서 제외해야 한다.\n",
    "\n",
    "과연 치훈이는 무사히 졸업할 수 있을까?"
   ]
  },
  {
   "cell_type": "code",
   "execution_count": 50,
   "id": "311a741b",
   "metadata": {},
   "outputs": [],
   "source": [
    "import pandas as pd"
   ]
  },
  {
   "cell_type": "code",
   "execution_count": 51,
   "id": "1f02799c",
   "metadata": {},
   "outputs": [
    {
     "name": "stdout",
     "output_type": "stream",
     "text": [
      "ObjectOrientedProgramming1 3.0 A+\n",
      "IntroductiontoComputerEngineering 3.0 A+\n",
      "ObjectOrientedProgramming2 3.0 A0\n",
      "CreativeComputerEngineeringDesign 3.0 A+\n",
      "AssemblyLanguage 3.0 A+\n",
      "InternetProgramming 3.0 B0\n",
      "ApplicationProgramminginJava 3.0 A0\n",
      "SystemProgramming 3.0 B0\n",
      "OperatingSystem 3.0 B0\n",
      "WirelessCommunicationsandNetworking 3.0 C+\n",
      "LogicCircuits 3.0 B0\n",
      "DataStructure 4.0 A+\n",
      "MicroprocessorApplication 3.0 B+\n",
      "EmbeddedSoftware 3.0 C0\n",
      "ComputerSecurity 3.0 D+\n",
      "Database 3.0 C+\n",
      "Algorithm 3.0 B0\n",
      "CapstoneDesigninCSE 3.0 B+\n",
      "CompilerDesign 3.0 D0\n",
      "ProblemSolving 4.0 P\n"
     ]
    }
   ],
   "source": [
    "# 데이터 저장\n",
    "score_data = []\n",
    "for i in range (20):\n",
    "    score_data.append(input().split()) "
   ]
  },
  {
   "cell_type": "code",
   "execution_count": 52,
   "id": "e33d76b7",
   "metadata": {},
   "outputs": [
    {
     "name": "stdout",
     "output_type": "stream",
     "text": [
      "[['ObjectOrientedProgramming1', '3.0', 'A+'], ['IntroductiontoComputerEngineering', '3.0', 'A+'], ['ObjectOrientedProgramming2', '3.0', 'A0'], ['CreativeComputerEngineeringDesign', '3.0', 'A+'], ['AssemblyLanguage', '3.0', 'A+'], ['InternetProgramming', '3.0', 'B0'], ['ApplicationProgramminginJava', '3.0', 'A0'], ['SystemProgramming', '3.0', 'B0'], ['OperatingSystem', '3.0', 'B0'], ['WirelessCommunicationsandNetworking', '3.0', 'C+'], ['LogicCircuits', '3.0', 'B0'], ['DataStructure', '4.0', 'A+'], ['MicroprocessorApplication', '3.0', 'B+'], ['EmbeddedSoftware', '3.0', 'C0'], ['ComputerSecurity', '3.0', 'D+'], ['Database', '3.0', 'C+'], ['Algorithm', '3.0', 'B0'], ['CapstoneDesigninCSE', '3.0', 'B+'], ['CompilerDesign', '3.0', 'D0'], ['ProblemSolving', '4.0', 'P']]\n"
     ]
    }
   ],
   "source": [
    "print(score_data)"
   ]
  },
  {
   "cell_type": "code",
   "execution_count": 53,
   "id": "8aa069e8",
   "metadata": {},
   "outputs": [],
   "source": [
    "score_grade = {'A+':4.5, 'A0':4.0, 'B+':3.5, 'B0':3.0, 'C+':2.5, 'C0':2.0, 'D+':1.5, 'D0':1.0, 'F':0.0}"
   ]
  },
  {
   "cell_type": "code",
   "execution_count": 54,
   "id": "d7d56a3a",
   "metadata": {},
   "outputs": [],
   "source": [
    "total_score = 0\n",
    "total_hours = 0\n",
    "\n",
    "for i in range(len(score_data)):\n",
    "    if score_data[i][2] == 'P':\n",
    "        del score_data[i]\n",
    "\n",
    "for i in range(len(score_data)):\n",
    "    score_data[i][2] = score_grade[score_data[i][2]]\n",
    "    total_score += float(score_data[i][1]) * score_data[i][2]\n",
    "    total_hours += float(score_data[i][1])"
   ]
  },
  {
   "cell_type": "code",
   "execution_count": 55,
   "id": "6b4a1199",
   "metadata": {},
   "outputs": [
    {
     "name": "stdout",
     "output_type": "stream",
     "text": [
      "3.2844827586206895\n"
     ]
    }
   ],
   "source": [
    "print(total_score / total_hours)"
   ]
  },
  {
   "cell_type": "code",
   "execution_count": null,
   "id": "325fa66f",
   "metadata": {},
   "outputs": [],
   "source": []
  }
 ],
 "metadata": {
  "kernelspec": {
   "display_name": "Python 3 (ipykernel)",
   "language": "python",
   "name": "python3"
  },
  "language_info": {
   "codemirror_mode": {
    "name": "ipython",
    "version": 3
   },
   "file_extension": ".py",
   "mimetype": "text/x-python",
   "name": "python",
   "nbconvert_exporter": "python",
   "pygments_lexer": "ipython3",
   "version": "3.10.9"
  }
 },
 "nbformat": 4,
 "nbformat_minor": 5
}
